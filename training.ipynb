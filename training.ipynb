{
 "cells": [
  {
   "cell_type": "markdown",
   "metadata": {},
   "source": [
    "#### Colab setup"
   ]
  },
  {
   "cell_type": "markdown",
   "metadata": {},
   "source": [
    "Run these commands if you are training the model on Colab. The whole repository needs to be uploaded to a Google Drive folder of your choice."
   ]
  },
  {
   "cell_type": "code",
   "execution_count": null,
   "metadata": {},
   "outputs": [],
   "source": [
    "from google.colab import drive\n",
    "drive.mount('/content/gdrive')"
   ]
  },
  {
   "cell_type": "markdown",
   "metadata": {},
   "source": [
    "Change the following to the location of the uploaded repository:"
   ]
  },
  {
   "cell_type": "code",
   "execution_count": null,
   "metadata": {},
   "outputs": [],
   "source": [
    "%cd \"gdrive/My Drive/Colab Notebooks\""
   ]
  },
  {
   "cell_type": "markdown",
   "metadata": {},
   "source": [
    "#### Imports"
   ]
  },
  {
   "cell_type": "code",
   "execution_count": 1,
   "metadata": {},
   "outputs": [],
   "source": [
    "import matplotlib.pyplot as plt\n",
    "import numpy as np\n",
    "import os\n",
    "import torch\n",
    "import torch.nn as nn\n",
    "import torch.nn.functional as F\n",
    "import torchvision\n",
    "import torchvision.transforms as transforms\n",
    "import torch.optim as optim\n",
    "from ipywidgets import IntSlider, interact, fixed"
   ]
  },
  {
   "cell_type": "code",
   "execution_count": 2,
   "metadata": {},
   "outputs": [],
   "source": [
    "import common\n",
    "import helpers\n",
    "import processing.prune as prune\n",
    "import processing.statistics as statistics\n",
    "from architecture.models import LeNet_300_100, Conv4\n",
    "from processing.snapshots import Snapshots\n",
    "from data import get_mnist, get_cifar\n",
    "from experiment import Experiment"
   ]
  },
  {
   "cell_type": "code",
   "execution_count": 3,
   "metadata": {},
   "outputs": [],
   "source": [
    "def save_results(output_dir, layers):\n",
    "    s = Snapshots(output_dir)\n",
    "    fp_paths = {}\n",
    "    ip_paths = {}\n",
    "    norms_paths = {}\n",
    "    graph_specs = {}\n",
    "    for layer in layers:\n",
    "        fp_path, ip_path, norms_path = s.save_computed_metrics(layer)\n",
    "        fp_paths[layer] = fp_path\n",
    "        ip_paths[layer] = ip_path\n",
    "        norms_paths[layer] = norms_path\n",
    "        graph_specs[layer] = s.create_adjacency(layer)\n",
    "        \n",
    "    return fp_paths, ip_paths, norms_paths, graph_specs"
   ]
  },
  {
   "cell_type": "markdown",
   "metadata": {},
   "source": [
    "## Model selection"
   ]
  },
  {
   "cell_type": "markdown",
   "metadata": {},
   "source": [
    "Two datasets can be used for training:\n",
    "- MNIST\n",
    "- CIFAR-10\n",
    "\n",
    "A couple models are provided in `architecture.models`, but you are free to define you own model (see examples below). The only requirement is that you add it to `architecture.models` and import it in the notebook. Note that your model **must** inherit from `PruningModule`, and use only `MaskedLinear` and `MaskedConv2d` layers. You can also run one of the two provided setups, that load a dataset and a provided model."
   ]
  },
  {
   "cell_type": "markdown",
   "metadata": {},
   "source": [
    "### MNIST / Lenet 300-100-10"
   ]
  },
  {
   "cell_type": "markdown",
   "metadata": {},
   "source": [
    "#### Loading the data"
   ]
  },
  {
   "cell_type": "code",
   "execution_count": 4,
   "metadata": {},
   "outputs": [],
   "source": [
    "train_batch_size = 16\n",
    "test_batch_size = 1000"
   ]
  },
  {
   "cell_type": "code",
   "execution_count": 5,
   "metadata": {},
   "outputs": [],
   "source": [
    "trainloader, testloader, classes = get_mnist(train_batch_size, test_batch_size)"
   ]
  },
  {
   "cell_type": "markdown",
   "metadata": {},
   "source": [
    "#### Specifying the model"
   ]
  },
  {
   "cell_type": "code",
   "execution_count": 6,
   "metadata": {},
   "outputs": [],
   "source": [
    "from architecture.models import LeNet_300_100"
   ]
  },
  {
   "cell_type": "code",
   "execution_count": 7,
   "metadata": {},
   "outputs": [],
   "source": [
    "model_class = LeNet_300_100\n",
    "layers = [\"fc1\", \"fc2\", \"fc3\"]"
   ]
  },
  {
   "cell_type": "code",
   "execution_count": 8,
   "metadata": {},
   "outputs": [],
   "source": [
    "epochs = 10\n",
    "optim_kwargs = {\"lr\": 0.003, \"momentum\": 0.9}\n",
    "criterion = nn.CrossEntropyLoss()\n",
    "model = model_class()\n",
    "optimizer = optim.SGD(model.parameters(), **optim_kwargs)"
   ]
  },
  {
   "cell_type": "markdown",
   "metadata": {},
   "source": [
    "### CIFAR-10 / Conv-2"
   ]
  },
  {
   "cell_type": "markdown",
   "metadata": {},
   "source": [
    "#### Loading the data"
   ]
  },
  {
   "cell_type": "code",
   "execution_count": 4,
   "metadata": {},
   "outputs": [],
   "source": [
    "train_batch_size = 64\n",
    "test_batch_size = 1000"
   ]
  },
  {
   "cell_type": "code",
   "execution_count": 5,
   "metadata": {},
   "outputs": [
    {
     "name": "stdout",
     "output_type": "stream",
     "text": [
      "Files already downloaded and verified\n",
      "Files already downloaded and verified\n"
     ]
    }
   ],
   "source": [
    "trainloader, testloader, classes = get_cifar(train_batch_size, test_batch_size)"
   ]
  },
  {
   "cell_type": "markdown",
   "metadata": {},
   "source": [
    "#### Specifying the model"
   ]
  },
  {
   "cell_type": "code",
   "execution_count": 4,
   "metadata": {},
   "outputs": [],
   "source": [
    "from architecture.models import Conv2"
   ]
  },
  {
   "cell_type": "code",
   "execution_count": 5,
   "metadata": {},
   "outputs": [],
   "source": [
    "model_class = Conv2\n",
    "layers = [\"conv1\", \"conv2\", \"fc1\", \"fc2\", \"fc3\"]"
   ]
  },
  {
   "cell_type": "code",
   "execution_count": 6,
   "metadata": {},
   "outputs": [],
   "source": [
    "epochs = 10\n",
    "optim_kwargs = {'lr': 0.0002}\n",
    "criterion = nn.CrossEntropyLoss()\n",
    "model = model_class()\n",
    "optimizer = optim.Adam(model.parameters(), **optim_kwargs)"
   ]
  },
  {
   "cell_type": "markdown",
   "metadata": {},
   "source": [
    "### CIFAR-10 / Conv-6"
   ]
  },
  {
   "cell_type": "markdown",
   "metadata": {},
   "source": [
    "#### Loading the data"
   ]
  },
  {
   "cell_type": "code",
   "execution_count": 4,
   "metadata": {},
   "outputs": [],
   "source": [
    "train_batch_size = 64\n",
    "test_batch_size = 1000"
   ]
  },
  {
   "cell_type": "code",
   "execution_count": 5,
   "metadata": {},
   "outputs": [
    {
     "name": "stdout",
     "output_type": "stream",
     "text": [
      "Files already downloaded and verified\n",
      "Files already downloaded and verified\n"
     ]
    }
   ],
   "source": [
    "trainloader, testloader, classes = get_cifar(train_batch_size, test_batch_size)"
   ]
  },
  {
   "cell_type": "markdown",
   "metadata": {},
   "source": [
    "#### Specifying the model"
   ]
  },
  {
   "cell_type": "code",
   "execution_count": 10,
   "metadata": {},
   "outputs": [],
   "source": [
    "from architecture.models import Conv6\n",
    "model_class = Conv6\n",
    "layers = [\"conv1\", \"conv2\", \"conv3\", \"conv4\", \"conv5\", \"conv6\", \"fc1\", \"fc2\", \"fc3\"]"
   ]
  },
  {
   "cell_type": "code",
   "execution_count": 11,
   "metadata": {},
   "outputs": [],
   "source": [
    "epochs = 1\n",
    "optim_kwargs = {'lr': 0.0003}\n",
    "criterion = nn.CrossEntropyLoss()\n",
    "model = model_class()\n",
    "optimizer = optim.Adam(model.parameters(), **optim_kwargs)"
   ]
  },
  {
   "cell_type": "markdown",
   "metadata": {},
   "source": [
    "## Run an experiment"
   ]
  },
  {
   "cell_type": "markdown",
   "metadata": {},
   "source": [
    "Now that you have a dataset and a model (with a training objective and an optimizer), you can start an experiment, which allows you to train your model."
   ]
  },
  {
   "cell_type": "markdown",
   "metadata": {},
   "source": [
    "### Train the model"
   ]
  },
  {
   "cell_type": "code",
   "execution_count": null,
   "metadata": {
    "scrolled": true
   },
   "outputs": [],
   "source": [
    "e = Experiment(model, criterion, optimizer, optim_kwargs)\n",
    "test_accuracies = e.fit(trainloader, testloader, epochs, save_results=True)"
   ]
  },
  {
   "cell_type": "markdown",
   "metadata": {},
   "source": [
    "### Look at the results"
   ]
  },
  {
   "cell_type": "markdown",
   "metadata": {},
   "source": [
    "The second line of the output above should say _'Created model directory: '_. Assign this directory path to `output_dir`:"
   ]
  },
  {
   "cell_type": "code",
   "execution_count": 6,
   "metadata": {},
   "outputs": [],
   "source": [
    "output_dir = \"out/Conv2-02_12_2019-12:26:17\"  # changeme"
   ]
  },
  {
   "cell_type": "markdown",
   "metadata": {},
   "source": [
    "Let's have a look at the training metrics, namely validation accuracy and frame potential (layer-wise):"
   ]
  },
  {
   "cell_type": "code",
   "execution_count": 7,
   "metadata": {},
   "outputs": [
    {
     "data": {
      "image/png": "[encoded data removed]",
      "text/plain": [
       "<Figure size 432x288 with 1 Axes>"
      ]
     },
     "metadata": {
      "needs_background": "light"
     },
     "output_type": "display_data"
    }
   ],
   "source": [
    "helpers.plot_test_acc(output_dir)"
   ]
  },
  {
   "cell_type": "code",
   "execution_count": 8,
   "metadata": {
    "scrolled": true
   },
   "outputs": [
    {
     "name": "stdout",
     "output_type": "stream",
     "text": [
      "Saved frame potentials to: out/Conv2-02_12_2019-12:26:17/metrics/training/frame_potentials-conv1.npy\n",
      "Saved inner products to: out/Conv2-02_12_2019-12:26:17/metrics/training/inner_products-conv1.npy\n",
      "Saved weight vector norms to: out/Conv2-02_12_2019-12:26:17/metrics/training/weight_norms-conv1.npy\n",
      "Saved adjacency matrix to: out/Conv2-02_12_2019-12:26:17/metrics/training/adjacency-conv1.npy\n",
      "Saved frame potentials to: out/Conv2-02_12_2019-12:26:17/metrics/training/frame_potentials-conv2.npy\n",
      "Saved inner products to: out/Conv2-02_12_2019-12:26:17/metrics/training/inner_products-conv2.npy\n",
      "Saved weight vector norms to: out/Conv2-02_12_2019-12:26:17/metrics/training/weight_norms-conv2.npy\n",
      "Saved adjacency matrix to: out/Conv2-02_12_2019-12:26:17/metrics/training/adjacency-conv2.npy\n",
      "Saved frame potentials to: out/Conv2-02_12_2019-12:26:17/metrics/training/frame_potentials-fc1.npy\n",
      "Saved inner products to: out/Conv2-02_12_2019-12:26:17/metrics/training/inner_products-fc1.npy\n",
      "Saved weight vector norms to: out/Conv2-02_12_2019-12:26:17/metrics/training/weight_norms-fc1.npy\n",
      "Saved adjacency matrix to: out/Conv2-02_12_2019-12:26:17/metrics/training/adjacency-fc1.npy\n",
      "Saved frame potentials to: out/Conv2-02_12_2019-12:26:17/metrics/training/frame_potentials-fc2.npy\n",
      "Saved inner products to: out/Conv2-02_12_2019-12:26:17/metrics/training/inner_products-fc2.npy\n",
      "Saved weight vector norms to: out/Conv2-02_12_2019-12:26:17/metrics/training/weight_norms-fc2.npy\n",
      "Saved adjacency matrix to: out/Conv2-02_12_2019-12:26:17/metrics/training/adjacency-fc2.npy\n",
      "Saved frame potentials to: out/Conv2-02_12_2019-12:26:17/metrics/training/frame_potentials-fc3.npy\n",
      "Saved inner products to: out/Conv2-02_12_2019-12:26:17/metrics/training/inner_products-fc3.npy\n",
      "Saved weight vector norms to: out/Conv2-02_12_2019-12:26:17/metrics/training/weight_norms-fc3.npy\n",
      "Saved adjacency matrix to: out/Conv2-02_12_2019-12:26:17/metrics/training/adjacency-fc3.npy\n"
     ]
    }
   ],
   "source": [
    "fp_paths, ip_paths, norms_paths, graph_specs = save_results(output_dir, layers)"
   ]
  },
  {
   "cell_type": "code",
   "execution_count": 84,
   "metadata": {},
   "outputs": [
    {
     "data": {
      "image/png": "[encoded data removed]",
      "text/plain": [
       "<Figure size 1440x360 with 5 Axes>"
      ]
     },
     "metadata": {
      "needs_background": "light"
     },
     "output_type": "display_data"
    }
   ],
   "source": [
    "helpers.plot_train_fps(fp_paths, layers)"
   ]
  },
  {
   "cell_type": "markdown",
   "metadata": {},
   "source": [
    "### Analysis of a layer"
   ]
  },
  {
   "cell_type": "markdown",
   "metadata": {},
   "source": [
    "We will now focus on a single layer. The goal is to examine the evolution of the magnitudes of nodes (filters) and the cosine-distances between nodes (filters) during training."
   ]
  },
  {
   "cell_type": "code",
   "execution_count": 85,
   "metadata": {},
   "outputs": [],
   "source": [
    "layer = \"fc1\"  # e.g. conv1, fc1, fc2, etc.\n",
    "weight_norms = np.load(norms_paths[layer])\n",
    "adjacency, kernel_width = graph_specs[layer]"
   ]
  },
  {
   "cell_type": "markdown",
   "metadata": {},
   "source": [
    "For given layer and epoch, we can compute the inner-product matrix, where the entry in the $i^{th}$ row, $j^{th}$ column corresponds to the inner-product of the normalized weight vectors associated to nodes (filters) $i$ and $j$. We use a gaussian kernel to compute the weights of an adjacency matrix that evolves in time, which will be used to define a graph in time (time being the range of epochs). The entries of this adjacency tensor have the following properties:"
   ]
  },
  {
   "cell_type": "code",
   "execution_count": 38,
   "metadata": {},
   "outputs": [
    {
     "data": {
      "image/png": "[encoded data removed]",
      "text/plain": [
       "<Figure size 1440x504 with 2 Axes>"
      ]
     },
     "metadata": {
      "needs_background": "light"
     },
     "output_type": "display_data"
    }
   ],
   "source": [
    "statistics.weight_dist(adjacency, kernel_width)"
   ]
  },
  {
   "cell_type": "markdown",
   "metadata": {},
   "source": [
    "We choose a reasonable cut-off to sparsify the adjacency tensor."
   ]
  },
  {
   "cell_type": "code",
   "execution_count": 39,
   "metadata": {},
   "outputs": [],
   "source": [
    "min_cut_off = 0.4"
   ]
  },
  {
   "cell_type": "markdown",
   "metadata": {},
   "source": [
    "Once the model is fully trained, we want to see how a cut-off affects the number of connected components:"
   ]
  },
  {
   "cell_type": "code",
   "execution_count": 40,
   "metadata": {
    "scrolled": false
   },
   "outputs": [
    {
     "data": {
      "image/png": "[encoded data removed]",
      "text/plain": [
       "<Figure size 864x504 with 1 Axes>"
      ]
     },
     "metadata": {
      "needs_background": "light"
     },
     "output_type": "display_data"
    }
   ],
   "source": [
    "cut_offs = statistics.plot_connected_components(adjacency, min_cut_off)"
   ]
  },
  {
   "cell_type": "markdown",
   "metadata": {},
   "source": [
    "Finally, we would like to find out how, for a given cut-off, the maximum magnitude of a node (filter) in a connected component relates to the size of the connected component."
   ]
  },
  {
   "cell_type": "code",
   "execution_count": 25,
   "metadata": {},
   "outputs": [
    {
     "data": {
      "application/vnd.jupyter.widget-view+json": {
       "model_id": "34736804c5a042ba8820f78387193300",
       "version_major": 2,
       "version_minor": 0
      },
      "text/plain": [
       "interactive(children=(IntSlider(value=0, description='idx', max=54), Output()), _dom_classes=('widget-interact…"
      ]
     },
     "metadata": {},
     "output_type": "display_data"
    }
   ],
   "source": [
    "plot_data = statistics.cc_max_norm(adjacency, weight_norms, cut_offs)\n",
    "int_slider = IntSlider(value=0, min=0, max=len(plot_data)-1)\n",
    "interact(statistics.cc_specs_plot, plot_data=fixed(plot_data), cut_offs=fixed(cut_offs), idx=int_slider);"
   ]
  },
  {
   "cell_type": "markdown",
   "metadata": {},
   "source": [
    "These plots help us choose a good cut-off, that can be used to visualize the evolution of the graph in time."
   ]
  },
  {
   "cell_type": "markdown",
   "metadata": {},
   "source": [
    "### Web visualization of training dynamics"
   ]
  },
  {
   "cell_type": "markdown",
   "metadata": {},
   "source": [
    "The following code cell will start a webserver which will run indefinitely until you interrupt the Kernel."
   ]
  },
  {
   "cell_type": "code",
   "execution_count": 1,
   "metadata": {
    "scrolled": true
   },
   "outputs": [
    {
     "name": "stdout",
     "output_type": "stream",
     "text": [
      " * Serving Flask app \"viz_main\" (lazy loading)\n",
      " * Environment: production\n",
      "   WARNING: This is a development server. Do not use it in a production deployment.\n",
      "   Use a production WSGI server instead.\n",
      " * Debug mode: off\n"
     ]
    },
    {
     "name": "stderr",
     "output_type": "stream",
     "text": [
      " * Running on http://0.0.0.0:2019/ (Press CTRL+C to quit)\n",
      "127.0.0.1 - - [26/Nov/2019 14:58:36] \"GET / HTTP/1.1\" 200 -\n",
      "127.0.0.1 - - [26/Nov/2019 14:58:41] \"POST / HTTP/1.1\" 302 -\n",
      "127.0.0.1 - - [26/Nov/2019 14:58:41] \"GET /params?base_dir=out%2FLeNet_300_100-unbiased-27_10_2019-11%3A48%3A36 HTTP/1.1\" 200 -\n",
      "127.0.0.1 - - [26/Nov/2019 14:58:45] \"POST /params?base_dir=out%2FLeNet_300_100-unbiased-27_10_2019-11%3A48%3A36 HTTP/1.1\" 302 -\n",
      "127.0.0.1 - - [26/Nov/2019 14:58:50] \"GET /result?base_dir=out%2FLeNet_300_100-unbiased-27_10_2019-11%3A48%3A36&layer=fc1&var_base_dir= HTTP/1.1\" 200 -\n",
      "127.0.0.1 - - [26/Nov/2019 15:00:08] \"POST /params?base_dir=out%2FLeNet_300_100-unbiased-27_10_2019-11%3A48%3A36 HTTP/1.1\" 302 -\n",
      "127.0.0.1 - - [26/Nov/2019 15:00:08] \"GET /result?base_dir=out%2FLeNet_300_100-unbiased-27_10_2019-11%3A48%3A36&layer=fc2&var_base_dir= HTTP/1.1\" 200 -\n",
      "127.0.0.1 - - [26/Nov/2019 15:00:33] \"POST /params?base_dir=out%2FLeNet_300_100-unbiased-27_10_2019-11%3A48%3A36 HTTP/1.1\" 302 -\n",
      "[2019-11-26 15:00:34,342] ERROR in app: Exception on /result [GET]\n",
      "Traceback (most recent call last):\n",
      "  File \"/home/julien/anaconda3/envs/nn-pruning/lib/python3.7/site-packages/flask/app.py\", line 2446, in wsgi_app\n",
      "    response = self.full_dispatch_request()\n",
      "  File \"/home/julien/anaconda3/envs/nn-pruning/lib/python3.7/site-packages/flask/app.py\", line 1951, in full_dispatch_request\n",
      "    rv = self.handle_user_exception(e)\n",
      "  File \"/home/julien/anaconda3/envs/nn-pruning/lib/python3.7/site-packages/flask/app.py\", line 1820, in handle_user_exception\n",
      "    reraise(exc_type, exc_value, tb)\n",
      "  File \"/home/julien/anaconda3/envs/nn-pruning/lib/python3.7/site-packages/flask/_compat.py\", line 39, in reraise\n",
      "    raise value\n",
      "  File \"/home/julien/anaconda3/envs/nn-pruning/lib/python3.7/site-packages/flask/app.py\", line 1949, in full_dispatch_request\n",
      "    rv = self.dispatch_request()\n",
      "  File \"/home/julien/anaconda3/envs/nn-pruning/lib/python3.7/site-packages/flask/app.py\", line 1935, in dispatch_request\n",
      "    return self.view_functions[rule.endpoint](**req.view_args)\n",
      "  File \"/home/julien/Documents/Epfl/Courses/Project/Neural-net-pruning/viz_main.py\", line 56, in result\n",
      "    graph, epochs = s.training_graph(layer, merged=True)\n",
      "  File \"/home/julien/Documents/Epfl/Courses/Project/Neural-net-pruning/processing/snapshots.py\", line 92, in training_graph\n",
      "    adjacency = np.load(adjacency_path)\n",
      "  File \"/home/julien/anaconda3/envs/nn-pruning/lib/python3.7/site-packages/numpy/lib/npyio.py\", line 422, in load\n",
      "    fid = open(os_fspath(file), \"rb\")\n",
      "FileNotFoundError: [Errno 2] No such file or directory: 'out/Conv4-unbiased-26_11_2019-10:21:56/metrics/pruning/adjacency-.npy'\n",
      "127.0.0.1 - - [26/Nov/2019 15:00:34] \"GET /result?base_dir=out%2FLeNet_300_100-unbiased-27_10_2019-11%3A48%3A36&layer=&var_base_dir=out%2FConv4-unbiased-26_11_2019-10%3A21%3A56 HTTP/1.1\" 500 -\n",
      "127.0.0.1 - - [26/Nov/2019 15:00:48] \"POST / HTTP/1.1\" 302 -\n",
      "127.0.0.1 - - [26/Nov/2019 15:00:48] \"GET /params?base_dir=out%2FConv4-unbiased-26_11_2019-10%3A21%3A56 HTTP/1.1\" 200 -\n",
      "127.0.0.1 - - [26/Nov/2019 15:00:52] \"POST /params?base_dir=out%2FConv4-unbiased-26_11_2019-10%3A21%3A56 HTTP/1.1\" 302 -\n",
      "127.0.0.1 - - [26/Nov/2019 15:00:53] \"GET /result?base_dir=out%2FConv4-unbiased-26_11_2019-10%3A21%3A56&layer=conv3&var_base_dir= HTTP/1.1\" 200 -\n",
      "127.0.0.1 - - [26/Nov/2019 15:01:10] \"POST /params?base_dir=out%2FConv4-unbiased-26_11_2019-10%3A21%3A56 HTTP/1.1\" 302 -\n",
      "127.0.0.1 - - [26/Nov/2019 15:01:11] \"GET /result?base_dir=out%2FConv4-unbiased-26_11_2019-10%3A21%3A56&layer=conv4&var_base_dir= HTTP/1.1\" 200 -\n",
      "127.0.0.1 - - [26/Nov/2019 15:01:36] \"POST /params?base_dir=out%2FConv4-unbiased-26_11_2019-10%3A21%3A56 HTTP/1.1\" 302 -\n",
      "127.0.0.1 - - [26/Nov/2019 15:01:39] \"GET /result?base_dir=out%2FConv4-unbiased-26_11_2019-10%3A21%3A56&layer=fc1&var_base_dir= HTTP/1.1\" 200 -\n"
     ]
    }
   ],
   "source": [
    "import viz_main\n",
    "viz_main.start(port=2019, use_reloader=False, debug=False)"
   ]
  },
  {
   "cell_type": "markdown",
   "metadata": {},
   "source": [
    "Visit the website here : [localhost:2019](http://localhost:2019)"
   ]
  },
  {
   "cell_type": "markdown",
   "metadata": {},
   "source": [
    "## Pruning the network"
   ]
  },
  {
   "cell_type": "code",
   "execution_count": null,
   "metadata": {},
   "outputs": [],
   "source": [
    "model_class = LeNet_300_100\n",
    "layers = [\"fc1\", \"fc2\", \"fc3\"]"
   ]
  },
  {
   "cell_type": "code",
   "execution_count": 15,
   "metadata": {},
   "outputs": [],
   "source": [
    "model_class = Conv2\n",
    "layers = [\"conv1\", \"conv2\", \"fc1\", \"fc2\", \"fc3\"]"
   ]
  },
  {
   "cell_type": "code",
   "execution_count": null,
   "metadata": {},
   "outputs": [],
   "source": [
    "output_dir = \"out/LeNet_300_100-unbiased-27_10_2019-11:48:36\"\n",
    "s = Snapshots(output_dir)\n",
    "layer = layers[0]\n",
    "pruned_indices = list(range(30, 300))\n",
    "model = s.sub_network(layer, pruned_indices)"
   ]
  },
  {
   "cell_type": "code",
   "execution_count": 12,
   "metadata": {},
   "outputs": [],
   "source": [
    "output_dir = \"out/Conv2-28_11_2019-10:21:39\"\n",
    "s = Snapshots(output_dir)\n",
    "#layer = layers[2]\n",
    "#pruned_indices = list(range(30, 256))\n",
    "#model = s.sub_network(layer, pruned_indices)"
   ]
  },
  {
   "cell_type": "code",
   "execution_count": 15,
   "metadata": {},
   "outputs": [],
   "source": [
    "epochs = 10\n",
    "optim_kwargs = {\"lr\": 0.003, \"momentum\": 0.9}\n",
    "criterion = nn.CrossEntropyLoss()\n",
    "optimizer = optim.SGD(model.parameters(), **optim_kwargs)"
   ]
  },
  {
   "cell_type": "code",
   "execution_count": 15,
   "metadata": {
    "scrolled": true
   },
   "outputs": [
    {
     "name": "stdout",
     "output_type": "stream",
     "text": [
      "\n",
      "Test set: Average loss: 2.3019, Accuracy:    774/ 10000 (8%)\n",
      "\n",
      "Created model directory: out/LeNet_300_100-unbiased-30_10_2019-09:19:28\n",
      "Train Epoch:   1 [     0/ 60000 (0%)]\tLoss: 2.300704\n",
      "Train Epoch:   1 [  1600/ 60000 (3%)]\tLoss: 2.116026\n",
      "Train Epoch:   1 [  3200/ 60000 (5%)]\tLoss: 0.923930\n",
      "Train Epoch:   1 [  4800/ 60000 (8%)]\tLoss: 0.651915\n",
      "Train Epoch:   1 [  6400/ 60000 (11%)]\tLoss: 0.153223\n",
      "Train Epoch:   1 [  8000/ 60000 (13%)]\tLoss: 0.699804\n",
      "Train Epoch:   1 [  9600/ 60000 (16%)]\tLoss: 0.497563\n",
      "Train Epoch:   1 [ 11200/ 60000 (19%)]\tLoss: 0.779408\n",
      "Train Epoch:   1 [ 12800/ 60000 (21%)]\tLoss: 0.511178\n",
      "Train Epoch:   1 [ 14400/ 60000 (24%)]\tLoss: 0.442918\n",
      "Train Epoch:   1 [ 16000/ 60000 (27%)]\tLoss: 0.279786\n",
      "Train Epoch:   1 [ 17600/ 60000 (29%)]\tLoss: 0.288762\n",
      "Train Epoch:   1 [ 19200/ 60000 (32%)]\tLoss: 0.334047\n",
      "Train Epoch:   1 [ 20800/ 60000 (35%)]\tLoss: 0.064174\n",
      "Train Epoch:   1 [ 22400/ 60000 (37%)]\tLoss: 0.185533\n",
      "Train Epoch:   1 [ 24000/ 60000 (40%)]\tLoss: 0.149022\n",
      "Train Epoch:   1 [ 25600/ 60000 (43%)]\tLoss: 0.106167\n",
      "Train Epoch:   1 [ 27200/ 60000 (45%)]\tLoss: 0.122277\n",
      "Train Epoch:   1 [ 28800/ 60000 (48%)]\tLoss: 0.250748\n",
      "Train Epoch:   1 [ 30400/ 60000 (51%)]\tLoss: 0.056998\n",
      "Train Epoch:   1 [ 32000/ 60000 (53%)]\tLoss: 0.227675\n",
      "Train Epoch:   1 [ 33600/ 60000 (56%)]\tLoss: 0.277907\n",
      "Train Epoch:   1 [ 35200/ 60000 (59%)]\tLoss: 0.323957\n",
      "Train Epoch:   1 [ 36800/ 60000 (61%)]\tLoss: 0.204181\n",
      "Train Epoch:   1 [ 38400/ 60000 (64%)]\tLoss: 0.208657\n",
      "Train Epoch:   1 [ 40000/ 60000 (67%)]\tLoss: 0.083778\n",
      "Train Epoch:   1 [ 41600/ 60000 (69%)]\tLoss: 0.276265\n",
      "Train Epoch:   1 [ 43200/ 60000 (72%)]\tLoss: 0.604888\n",
      "Train Epoch:   1 [ 44800/ 60000 (75%)]\tLoss: 0.105447\n",
      "Train Epoch:   1 [ 46400/ 60000 (77%)]\tLoss: 0.548118\n",
      "Train Epoch:   1 [ 48000/ 60000 (80%)]\tLoss: 0.138744\n",
      "Train Epoch:   1 [ 49600/ 60000 (83%)]\tLoss: 0.461334\n",
      "Train Epoch:   1 [ 51200/ 60000 (85%)]\tLoss: 0.212670\n",
      "Train Epoch:   1 [ 52800/ 60000 (88%)]\tLoss: 0.597121\n",
      "Train Epoch:   1 [ 54400/ 60000 (91%)]\tLoss: 0.428772\n",
      "Train Epoch:   1 [ 56000/ 60000 (93%)]\tLoss: 0.498382\n",
      "Train Epoch:   1 [ 57600/ 60000 (96%)]\tLoss: 0.030666\n",
      "Train Epoch:   1 [ 59200/ 60000 (99%)]\tLoss: 0.151442\n",
      "\n",
      "Test set: Average loss: 0.1935, Accuracy:   9398/ 10000 (94%)\n",
      "\n",
      "Train Epoch:   2 [     0/ 60000 (0%)]\tLoss: 0.008372\n",
      "Train Epoch:   2 [  1600/ 60000 (3%)]\tLoss: 0.465010\n",
      "Train Epoch:   2 [  3200/ 60000 (5%)]\tLoss: 0.334365\n",
      "Train Epoch:   2 [  4800/ 60000 (8%)]\tLoss: 0.187779\n",
      "Train Epoch:   2 [  6400/ 60000 (11%)]\tLoss: 0.075003\n",
      "Train Epoch:   2 [  8000/ 60000 (13%)]\tLoss: 0.199488\n",
      "Train Epoch:   2 [  9600/ 60000 (16%)]\tLoss: 0.128261\n",
      "Train Epoch:   2 [ 11200/ 60000 (19%)]\tLoss: 0.439845\n",
      "Train Epoch:   2 [ 12800/ 60000 (21%)]\tLoss: 0.191237\n",
      "Train Epoch:   2 [ 14400/ 60000 (24%)]\tLoss: 0.227050\n",
      "Train Epoch:   2 [ 16000/ 60000 (27%)]\tLoss: 0.119542\n",
      "Train Epoch:   2 [ 17600/ 60000 (29%)]\tLoss: 0.153239\n",
      "Train Epoch:   2 [ 19200/ 60000 (32%)]\tLoss: 0.065132\n",
      "Train Epoch:   2 [ 20800/ 60000 (35%)]\tLoss: 0.013249\n",
      "Train Epoch:   2 [ 22400/ 60000 (37%)]\tLoss: 0.050947\n",
      "Train Epoch:   2 [ 24000/ 60000 (40%)]\tLoss: 0.035545\n",
      "Train Epoch:   2 [ 25600/ 60000 (43%)]\tLoss: 0.031579\n",
      "Train Epoch:   2 [ 27200/ 60000 (45%)]\tLoss: 0.096562\n",
      "Train Epoch:   2 [ 28800/ 60000 (48%)]\tLoss: 0.040042\n",
      "Train Epoch:   2 [ 30400/ 60000 (51%)]\tLoss: 0.019190\n",
      "Train Epoch:   2 [ 32000/ 60000 (53%)]\tLoss: 0.081774\n",
      "Train Epoch:   2 [ 33600/ 60000 (56%)]\tLoss: 0.094659\n",
      "Train Epoch:   2 [ 35200/ 60000 (59%)]\tLoss: 0.328509\n",
      "Train Epoch:   2 [ 36800/ 60000 (61%)]\tLoss: 0.040048\n",
      "Train Epoch:   2 [ 38400/ 60000 (64%)]\tLoss: 0.276758\n",
      "Train Epoch:   2 [ 40000/ 60000 (67%)]\tLoss: 0.030255\n",
      "Train Epoch:   2 [ 41600/ 60000 (69%)]\tLoss: 0.128074\n",
      "Train Epoch:   2 [ 43200/ 60000 (72%)]\tLoss: 0.274915\n",
      "Train Epoch:   2 [ 44800/ 60000 (75%)]\tLoss: 0.043225\n",
      "Train Epoch:   2 [ 46400/ 60000 (77%)]\tLoss: 0.438539\n",
      "Train Epoch:   2 [ 48000/ 60000 (80%)]\tLoss: 0.132297\n",
      "Train Epoch:   2 [ 49600/ 60000 (83%)]\tLoss: 0.384252\n",
      "Train Epoch:   2 [ 51200/ 60000 (85%)]\tLoss: 0.185155\n",
      "Train Epoch:   2 [ 52800/ 60000 (88%)]\tLoss: 0.507823\n",
      "Train Epoch:   2 [ 54400/ 60000 (91%)]\tLoss: 0.328314\n",
      "Train Epoch:   2 [ 56000/ 60000 (93%)]\tLoss: 0.464265\n",
      "Train Epoch:   2 [ 57600/ 60000 (96%)]\tLoss: 0.011871\n",
      "Train Epoch:   2 [ 59200/ 60000 (99%)]\tLoss: 0.060318\n",
      "\n",
      "Test set: Average loss: 0.1412, Accuracy:   9545/ 10000 (95%)\n",
      "\n",
      "Train Epoch:   3 [     0/ 60000 (0%)]\tLoss: 0.003739\n",
      "Train Epoch:   3 [  1600/ 60000 (3%)]\tLoss: 0.531969\n",
      "Train Epoch:   3 [  3200/ 60000 (5%)]\tLoss: 0.159130\n",
      "Train Epoch:   3 [  4800/ 60000 (8%)]\tLoss: 0.050793\n",
      "Train Epoch:   3 [  6400/ 60000 (11%)]\tLoss: 0.046200\n",
      "Train Epoch:   3 [  8000/ 60000 (13%)]\tLoss: 0.055161\n",
      "Train Epoch:   3 [  9600/ 60000 (16%)]\tLoss: 0.056298\n",
      "Train Epoch:   3 [ 11200/ 60000 (19%)]\tLoss: 0.323853\n",
      "Train Epoch:   3 [ 12800/ 60000 (21%)]\tLoss: 0.198826\n",
      "Train Epoch:   3 [ 14400/ 60000 (24%)]\tLoss: 0.154118\n",
      "Train Epoch:   3 [ 16000/ 60000 (27%)]\tLoss: 0.076697\n",
      "Train Epoch:   3 [ 17600/ 60000 (29%)]\tLoss: 0.156564\n",
      "Train Epoch:   3 [ 19200/ 60000 (32%)]\tLoss: 0.062356\n",
      "Train Epoch:   3 [ 20800/ 60000 (35%)]\tLoss: 0.011416\n",
      "Train Epoch:   3 [ 22400/ 60000 (37%)]\tLoss: 0.031235\n",
      "Train Epoch:   3 [ 24000/ 60000 (40%)]\tLoss: 0.017268\n",
      "Train Epoch:   3 [ 25600/ 60000 (43%)]\tLoss: 0.022442\n",
      "Train Epoch:   3 [ 27200/ 60000 (45%)]\tLoss: 0.045681\n",
      "Train Epoch:   3 [ 28800/ 60000 (48%)]\tLoss: 0.031781\n",
      "Train Epoch:   3 [ 30400/ 60000 (51%)]\tLoss: 0.014779\n",
      "Train Epoch:   3 [ 32000/ 60000 (53%)]\tLoss: 0.051308\n",
      "Train Epoch:   3 [ 33600/ 60000 (56%)]\tLoss: 0.069067\n",
      "Train Epoch:   3 [ 35200/ 60000 (59%)]\tLoss: 0.345517\n",
      "Train Epoch:   3 [ 36800/ 60000 (61%)]\tLoss: 0.008095\n",
      "Train Epoch:   3 [ 38400/ 60000 (64%)]\tLoss: 0.303009\n",
      "Train Epoch:   3 [ 40000/ 60000 (67%)]\tLoss: 0.022320\n",
      "Train Epoch:   3 [ 41600/ 60000 (69%)]\tLoss: 0.104581\n",
      "Train Epoch:   3 [ 43200/ 60000 (72%)]\tLoss: 0.137060\n",
      "Train Epoch:   3 [ 44800/ 60000 (75%)]\tLoss: 0.015005\n",
      "Train Epoch:   3 [ 46400/ 60000 (77%)]\tLoss: 0.440420\n",
      "Train Epoch:   3 [ 48000/ 60000 (80%)]\tLoss: 0.100274\n",
      "Train Epoch:   3 [ 49600/ 60000 (83%)]\tLoss: 0.294829\n",
      "Train Epoch:   3 [ 51200/ 60000 (85%)]\tLoss: 0.133024\n",
      "Train Epoch:   3 [ 52800/ 60000 (88%)]\tLoss: 0.480990\n",
      "Train Epoch:   3 [ 54400/ 60000 (91%)]\tLoss: 0.190885\n",
      "Train Epoch:   3 [ 56000/ 60000 (93%)]\tLoss: 0.523628\n",
      "Train Epoch:   3 [ 57600/ 60000 (96%)]\tLoss: 0.006933\n",
      "Train Epoch:   3 [ 59200/ 60000 (99%)]\tLoss: 0.021834\n",
      "\n",
      "Test set: Average loss: 0.1255, Accuracy:   9611/ 10000 (96%)\n",
      "\n",
      "Train Epoch:   4 [     0/ 60000 (0%)]\tLoss: 0.002140\n",
      "Train Epoch:   4 [  1600/ 60000 (3%)]\tLoss: 0.570197\n",
      "Train Epoch:   4 [  3200/ 60000 (5%)]\tLoss: 0.095346\n",
      "Train Epoch:   4 [  4800/ 60000 (8%)]\tLoss: 0.036615\n",
      "Train Epoch:   4 [  6400/ 60000 (11%)]\tLoss: 0.006567\n",
      "Train Epoch:   4 [  8000/ 60000 (13%)]\tLoss: 0.044057\n",
      "Train Epoch:   4 [  9600/ 60000 (16%)]\tLoss: 0.026097\n",
      "Train Epoch:   4 [ 11200/ 60000 (19%)]\tLoss: 0.255658\n",
      "Train Epoch:   4 [ 12800/ 60000 (21%)]\tLoss: 0.141607\n",
      "Train Epoch:   4 [ 14400/ 60000 (24%)]\tLoss: 0.189605\n",
      "Train Epoch:   4 [ 16000/ 60000 (27%)]\tLoss: 0.034002\n",
      "Train Epoch:   4 [ 17600/ 60000 (29%)]\tLoss: 0.113359\n",
      "Train Epoch:   4 [ 19200/ 60000 (32%)]\tLoss: 0.064398\n",
      "Train Epoch:   4 [ 20800/ 60000 (35%)]\tLoss: 0.010035\n",
      "Train Epoch:   4 [ 22400/ 60000 (37%)]\tLoss: 0.029183\n",
      "Train Epoch:   4 [ 24000/ 60000 (40%)]\tLoss: 0.011963\n",
      "Train Epoch:   4 [ 25600/ 60000 (43%)]\tLoss: 0.018321\n",
      "Train Epoch:   4 [ 27200/ 60000 (45%)]\tLoss: 0.027745\n",
      "Train Epoch:   4 [ 28800/ 60000 (48%)]\tLoss: 0.034885\n",
      "Train Epoch:   4 [ 30400/ 60000 (51%)]\tLoss: 0.013299\n",
      "Train Epoch:   4 [ 32000/ 60000 (53%)]\tLoss: 0.028534\n",
      "Train Epoch:   4 [ 33600/ 60000 (56%)]\tLoss: 0.080071\n",
      "Train Epoch:   4 [ 35200/ 60000 (59%)]\tLoss: 0.365506\n",
      "Train Epoch:   4 [ 36800/ 60000 (61%)]\tLoss: 0.005489\n",
      "Train Epoch:   4 [ 38400/ 60000 (64%)]\tLoss: 0.236657\n",
      "Train Epoch:   4 [ 40000/ 60000 (67%)]\tLoss: 0.025708\n",
      "Train Epoch:   4 [ 41600/ 60000 (69%)]\tLoss: 0.051712\n",
      "Train Epoch:   4 [ 43200/ 60000 (72%)]\tLoss: 0.152638\n",
      "Train Epoch:   4 [ 44800/ 60000 (75%)]\tLoss: 0.005363\n",
      "Train Epoch:   4 [ 46400/ 60000 (77%)]\tLoss: 0.376146\n",
      "Train Epoch:   4 [ 48000/ 60000 (80%)]\tLoss: 0.082338\n",
      "Train Epoch:   4 [ 49600/ 60000 (83%)]\tLoss: 0.325296\n"
     ]
    },
    {
     "name": "stdout",
     "output_type": "stream",
     "text": [
      "Train Epoch:   4 [ 51200/ 60000 (85%)]\tLoss: 0.192434\n",
      "Train Epoch:   4 [ 52800/ 60000 (88%)]\tLoss: 0.521111\n",
      "Train Epoch:   4 [ 54400/ 60000 (91%)]\tLoss: 0.127447\n",
      "Train Epoch:   4 [ 56000/ 60000 (93%)]\tLoss: 0.432171\n",
      "Train Epoch:   4 [ 57600/ 60000 (96%)]\tLoss: 0.005173\n",
      "Train Epoch:   4 [ 59200/ 60000 (99%)]\tLoss: 0.013704\n",
      "\n",
      "Test set: Average loss: 0.1275, Accuracy:   9607/ 10000 (96%)\n",
      "\n",
      "Train Epoch:   5 [     0/ 60000 (0%)]\tLoss: 0.001281\n",
      "Train Epoch:   5 [  1600/ 60000 (3%)]\tLoss: 0.535413\n",
      "Train Epoch:   5 [  3200/ 60000 (5%)]\tLoss: 0.091953\n",
      "Train Epoch:   5 [  4800/ 60000 (8%)]\tLoss: 0.024004\n",
      "Train Epoch:   5 [  6400/ 60000 (11%)]\tLoss: 0.002776\n",
      "Train Epoch:   5 [  8000/ 60000 (13%)]\tLoss: 0.024763\n",
      "Train Epoch:   5 [  9600/ 60000 (16%)]\tLoss: 0.019614\n",
      "Train Epoch:   5 [ 11200/ 60000 (19%)]\tLoss: 0.184228\n",
      "Train Epoch:   5 [ 12800/ 60000 (21%)]\tLoss: 0.125717\n",
      "Train Epoch:   5 [ 14400/ 60000 (24%)]\tLoss: 0.123982\n",
      "Train Epoch:   5 [ 16000/ 60000 (27%)]\tLoss: 0.029388\n",
      "Train Epoch:   5 [ 17600/ 60000 (29%)]\tLoss: 0.104585\n",
      "Train Epoch:   5 [ 19200/ 60000 (32%)]\tLoss: 0.028464\n",
      "Train Epoch:   5 [ 20800/ 60000 (35%)]\tLoss: 0.009029\n",
      "Train Epoch:   5 [ 22400/ 60000 (37%)]\tLoss: 0.045823\n",
      "Train Epoch:   5 [ 24000/ 60000 (40%)]\tLoss: 0.008314\n",
      "Train Epoch:   5 [ 25600/ 60000 (43%)]\tLoss: 0.018864\n",
      "Train Epoch:   5 [ 27200/ 60000 (45%)]\tLoss: 0.030410\n",
      "Train Epoch:   5 [ 28800/ 60000 (48%)]\tLoss: 0.027623\n",
      "Train Epoch:   5 [ 30400/ 60000 (51%)]\tLoss: 0.017922\n",
      "Train Epoch:   5 [ 32000/ 60000 (53%)]\tLoss: 0.024887\n",
      "Train Epoch:   5 [ 33600/ 60000 (56%)]\tLoss: 0.056149\n",
      "Train Epoch:   5 [ 35200/ 60000 (59%)]\tLoss: 0.348369\n",
      "Train Epoch:   5 [ 36800/ 60000 (61%)]\tLoss: 0.004411\n",
      "Train Epoch:   5 [ 38400/ 60000 (64%)]\tLoss: 0.214785\n",
      "Train Epoch:   5 [ 40000/ 60000 (67%)]\tLoss: 0.021540\n",
      "Train Epoch:   5 [ 41600/ 60000 (69%)]\tLoss: 0.029151\n",
      "Train Epoch:   5 [ 43200/ 60000 (72%)]\tLoss: 0.167879\n",
      "Train Epoch:   5 [ 44800/ 60000 (75%)]\tLoss: 0.001888\n",
      "Train Epoch:   5 [ 46400/ 60000 (77%)]\tLoss: 0.330247\n",
      "Train Epoch:   5 [ 48000/ 60000 (80%)]\tLoss: 0.041994\n",
      "Train Epoch:   5 [ 49600/ 60000 (83%)]\tLoss: 0.294770\n",
      "Train Epoch:   5 [ 51200/ 60000 (85%)]\tLoss: 0.200577\n",
      "Train Epoch:   5 [ 52800/ 60000 (88%)]\tLoss: 0.474842\n",
      "Train Epoch:   5 [ 54400/ 60000 (91%)]\tLoss: 0.139475\n",
      "Train Epoch:   5 [ 56000/ 60000 (93%)]\tLoss: 0.421662\n",
      "Train Epoch:   5 [ 57600/ 60000 (96%)]\tLoss: 0.002324\n",
      "Train Epoch:   5 [ 59200/ 60000 (99%)]\tLoss: 0.019927\n",
      "\n",
      "Test set: Average loss: 0.1281, Accuracy:   9608/ 10000 (96%)\n",
      "\n",
      "Train Epoch:   6 [     0/ 60000 (0%)]\tLoss: 0.001653\n",
      "Train Epoch:   6 [  1600/ 60000 (3%)]\tLoss: 0.590211\n",
      "Train Epoch:   6 [  3200/ 60000 (5%)]\tLoss: 0.101238\n",
      "Train Epoch:   6 [  4800/ 60000 (8%)]\tLoss: 0.012724\n",
      "Train Epoch:   6 [  6400/ 60000 (11%)]\tLoss: 0.003128\n",
      "Train Epoch:   6 [  8000/ 60000 (13%)]\tLoss: 0.025149\n",
      "Train Epoch:   6 [  9600/ 60000 (16%)]\tLoss: 0.017030\n",
      "Train Epoch:   6 [ 11200/ 60000 (19%)]\tLoss: 0.163617\n",
      "Train Epoch:   6 [ 12800/ 60000 (21%)]\tLoss: 0.103117\n",
      "Train Epoch:   6 [ 14400/ 60000 (24%)]\tLoss: 0.105902\n",
      "Train Epoch:   6 [ 16000/ 60000 (27%)]\tLoss: 0.023668\n",
      "Train Epoch:   6 [ 17600/ 60000 (29%)]\tLoss: 0.093762\n",
      "Train Epoch:   6 [ 19200/ 60000 (32%)]\tLoss: 0.029789\n",
      "Train Epoch:   6 [ 20800/ 60000 (35%)]\tLoss: 0.011085\n",
      "Train Epoch:   6 [ 22400/ 60000 (37%)]\tLoss: 0.023747\n",
      "Train Epoch:   6 [ 24000/ 60000 (40%)]\tLoss: 0.008696\n",
      "Train Epoch:   6 [ 25600/ 60000 (43%)]\tLoss: 0.015839\n",
      "Train Epoch:   6 [ 27200/ 60000 (45%)]\tLoss: 0.026366\n",
      "Train Epoch:   6 [ 28800/ 60000 (48%)]\tLoss: 0.016259\n",
      "Train Epoch:   6 [ 30400/ 60000 (51%)]\tLoss: 0.010352\n",
      "Train Epoch:   6 [ 32000/ 60000 (53%)]\tLoss: 0.040610\n",
      "Train Epoch:   6 [ 33600/ 60000 (56%)]\tLoss: 0.043704\n",
      "Train Epoch:   6 [ 35200/ 60000 (59%)]\tLoss: 0.284826\n",
      "Train Epoch:   6 [ 36800/ 60000 (61%)]\tLoss: 0.002555\n",
      "Train Epoch:   6 [ 38400/ 60000 (64%)]\tLoss: 0.200424\n",
      "Train Epoch:   6 [ 40000/ 60000 (67%)]\tLoss: 0.018996\n",
      "Train Epoch:   6 [ 41600/ 60000 (69%)]\tLoss: 0.003984\n",
      "Train Epoch:   6 [ 43200/ 60000 (72%)]\tLoss: 0.154191\n",
      "Train Epoch:   6 [ 44800/ 60000 (75%)]\tLoss: 0.001495\n",
      "Train Epoch:   6 [ 46400/ 60000 (77%)]\tLoss: 0.288492\n",
      "Train Epoch:   6 [ 48000/ 60000 (80%)]\tLoss: 0.025042\n",
      "Train Epoch:   6 [ 49600/ 60000 (83%)]\tLoss: 0.349440\n",
      "Train Epoch:   6 [ 51200/ 60000 (85%)]\tLoss: 0.199241\n",
      "Train Epoch:   6 [ 52800/ 60000 (88%)]\tLoss: 0.509918\n",
      "Train Epoch:   6 [ 54400/ 60000 (91%)]\tLoss: 0.103566\n",
      "Train Epoch:   6 [ 56000/ 60000 (93%)]\tLoss: 0.378691\n",
      "Train Epoch:   6 [ 57600/ 60000 (96%)]\tLoss: 0.001917\n",
      "Train Epoch:   6 [ 59200/ 60000 (99%)]\tLoss: 0.018091\n",
      "\n",
      "Test set: Average loss: 0.1333, Accuracy:   9609/ 10000 (96%)\n",
      "\n",
      "Train Epoch:   7 [     0/ 60000 (0%)]\tLoss: 0.003082\n",
      "Train Epoch:   7 [  1600/ 60000 (3%)]\tLoss: 0.646058\n",
      "Train Epoch:   7 [  3200/ 60000 (5%)]\tLoss: 0.073277\n",
      "Train Epoch:   7 [  4800/ 60000 (8%)]\tLoss: 0.007477\n",
      "Train Epoch:   7 [  6400/ 60000 (11%)]\tLoss: 0.003724\n",
      "Train Epoch:   7 [  8000/ 60000 (13%)]\tLoss: 0.020994\n",
      "Train Epoch:   7 [  9600/ 60000 (16%)]\tLoss: 0.019993\n",
      "Train Epoch:   7 [ 11200/ 60000 (19%)]\tLoss: 0.233441\n",
      "Train Epoch:   7 [ 12800/ 60000 (21%)]\tLoss: 0.097584\n",
      "Train Epoch:   7 [ 14400/ 60000 (24%)]\tLoss: 0.068932\n",
      "Train Epoch:   7 [ 16000/ 60000 (27%)]\tLoss: 0.010212\n",
      "Train Epoch:   7 [ 17600/ 60000 (29%)]\tLoss: 0.088102\n",
      "Train Epoch:   7 [ 19200/ 60000 (32%)]\tLoss: 0.011653\n",
      "Train Epoch:   7 [ 20800/ 60000 (35%)]\tLoss: 0.011569\n",
      "Train Epoch:   7 [ 22400/ 60000 (37%)]\tLoss: 0.010315\n",
      "Train Epoch:   7 [ 24000/ 60000 (40%)]\tLoss: 0.013953\n",
      "Train Epoch:   7 [ 25600/ 60000 (43%)]\tLoss: 0.018968\n",
      "Train Epoch:   7 [ 27200/ 60000 (45%)]\tLoss: 0.031941\n",
      "Train Epoch:   7 [ 28800/ 60000 (48%)]\tLoss: 0.019243\n",
      "Train Epoch:   7 [ 30400/ 60000 (51%)]\tLoss: 0.003473\n",
      "Train Epoch:   7 [ 32000/ 60000 (53%)]\tLoss: 0.030664\n",
      "Train Epoch:   7 [ 33600/ 60000 (56%)]\tLoss: 0.053283\n",
      "Train Epoch:   7 [ 35200/ 60000 (59%)]\tLoss: 0.249925\n",
      "Train Epoch:   7 [ 36800/ 60000 (61%)]\tLoss: 0.001614\n",
      "Train Epoch:   7 [ 38400/ 60000 (64%)]\tLoss: 0.183689\n",
      "Train Epoch:   7 [ 40000/ 60000 (67%)]\tLoss: 0.016441\n",
      "Train Epoch:   7 [ 41600/ 60000 (69%)]\tLoss: 0.002781\n",
      "Train Epoch:   7 [ 43200/ 60000 (72%)]\tLoss: 0.174985\n",
      "Train Epoch:   7 [ 44800/ 60000 (75%)]\tLoss: 0.000820\n",
      "Train Epoch:   7 [ 46400/ 60000 (77%)]\tLoss: 0.204408\n",
      "Train Epoch:   7 [ 48000/ 60000 (80%)]\tLoss: 0.023005\n",
      "Train Epoch:   7 [ 49600/ 60000 (83%)]\tLoss: 0.328150\n",
      "Train Epoch:   7 [ 51200/ 60000 (85%)]\tLoss: 0.257685\n",
      "Train Epoch:   7 [ 52800/ 60000 (88%)]\tLoss: 0.541150\n",
      "Train Epoch:   7 [ 54400/ 60000 (91%)]\tLoss: 0.167539\n",
      "Train Epoch:   7 [ 56000/ 60000 (93%)]\tLoss: 0.351306\n",
      "Train Epoch:   7 [ 57600/ 60000 (96%)]\tLoss: 0.002530\n",
      "Train Epoch:   7 [ 59200/ 60000 (99%)]\tLoss: 0.043758\n",
      "\n",
      "Test set: Average loss: 0.1293, Accuracy:   9623/ 10000 (96%)\n",
      "\n",
      "Train Epoch:   8 [     0/ 60000 (0%)]\tLoss: 0.002255\n",
      "Train Epoch:   8 [  1600/ 60000 (3%)]\tLoss: 0.654769\n",
      "Train Epoch:   8 [  3200/ 60000 (5%)]\tLoss: 0.078841\n",
      "Train Epoch:   8 [  4800/ 60000 (8%)]\tLoss: 0.006964\n",
      "Train Epoch:   8 [  6400/ 60000 (11%)]\tLoss: 0.001605\n",
      "Train Epoch:   8 [  8000/ 60000 (13%)]\tLoss: 0.009224\n",
      "Train Epoch:   8 [  9600/ 60000 (16%)]\tLoss: 0.009364\n",
      "Train Epoch:   8 [ 11200/ 60000 (19%)]\tLoss: 0.133208\n",
      "Train Epoch:   8 [ 12800/ 60000 (21%)]\tLoss: 0.086956\n",
      "Train Epoch:   8 [ 14400/ 60000 (24%)]\tLoss: 0.060426\n",
      "Train Epoch:   8 [ 16000/ 60000 (27%)]\tLoss: 0.006694\n",
      "Train Epoch:   8 [ 17600/ 60000 (29%)]\tLoss: 0.058467\n",
      "Train Epoch:   8 [ 19200/ 60000 (32%)]\tLoss: 0.009680\n",
      "Train Epoch:   8 [ 20800/ 60000 (35%)]\tLoss: 0.004129\n",
      "Train Epoch:   8 [ 22400/ 60000 (37%)]\tLoss: 0.016662\n",
      "Train Epoch:   8 [ 24000/ 60000 (40%)]\tLoss: 0.013366\n",
      "Train Epoch:   8 [ 25600/ 60000 (43%)]\tLoss: 0.022480\n",
      "Train Epoch:   8 [ 27200/ 60000 (45%)]\tLoss: 0.026021\n",
      "Train Epoch:   8 [ 28800/ 60000 (48%)]\tLoss: 0.028090\n",
      "Train Epoch:   8 [ 30400/ 60000 (51%)]\tLoss: 0.002201\n",
      "Train Epoch:   8 [ 32000/ 60000 (53%)]\tLoss: 0.030885\n",
      "Train Epoch:   8 [ 33600/ 60000 (56%)]\tLoss: 0.059910\n",
      "Train Epoch:   8 [ 35200/ 60000 (59%)]\tLoss: 0.137350\n",
      "Train Epoch:   8 [ 36800/ 60000 (61%)]\tLoss: 0.001389\n",
      "Train Epoch:   8 [ 38400/ 60000 (64%)]\tLoss: 0.175309\n",
      "Train Epoch:   8 [ 40000/ 60000 (67%)]\tLoss: 0.008858\n",
      "Train Epoch:   8 [ 41600/ 60000 (69%)]\tLoss: 0.001692\n",
      "Train Epoch:   8 [ 43200/ 60000 (72%)]\tLoss: 0.183539\n"
     ]
    },
    {
     "name": "stdout",
     "output_type": "stream",
     "text": [
      "Train Epoch:   8 [ 44800/ 60000 (75%)]\tLoss: 0.000553\n",
      "Train Epoch:   8 [ 46400/ 60000 (77%)]\tLoss: 0.150647\n",
      "Train Epoch:   8 [ 48000/ 60000 (80%)]\tLoss: 0.042252\n",
      "Train Epoch:   8 [ 49600/ 60000 (83%)]\tLoss: 0.285213\n",
      "Train Epoch:   8 [ 51200/ 60000 (85%)]\tLoss: 0.215957\n",
      "Train Epoch:   8 [ 52800/ 60000 (88%)]\tLoss: 0.496851\n",
      "Train Epoch:   8 [ 54400/ 60000 (91%)]\tLoss: 0.052163\n",
      "Train Epoch:   8 [ 56000/ 60000 (93%)]\tLoss: 0.242618\n",
      "Train Epoch:   8 [ 57600/ 60000 (96%)]\tLoss: 0.001778\n",
      "Train Epoch:   8 [ 59200/ 60000 (99%)]\tLoss: 0.070589\n",
      "\n",
      "Test set: Average loss: 0.1299, Accuracy:   9655/ 10000 (97%)\n",
      "\n",
      "Train Epoch:   9 [     0/ 60000 (0%)]\tLoss: 0.000589\n",
      "Train Epoch:   9 [  1600/ 60000 (3%)]\tLoss: 0.649204\n",
      "Train Epoch:   9 [  3200/ 60000 (5%)]\tLoss: 0.057962\n",
      "Train Epoch:   9 [  4800/ 60000 (8%)]\tLoss: 0.009136\n",
      "Train Epoch:   9 [  6400/ 60000 (11%)]\tLoss: 0.001118\n",
      "Train Epoch:   9 [  8000/ 60000 (13%)]\tLoss: 0.003871\n",
      "Train Epoch:   9 [  9600/ 60000 (16%)]\tLoss: 0.008223\n",
      "Train Epoch:   9 [ 11200/ 60000 (19%)]\tLoss: 0.095674\n",
      "Train Epoch:   9 [ 12800/ 60000 (21%)]\tLoss: 0.077566\n",
      "Train Epoch:   9 [ 14400/ 60000 (24%)]\tLoss: 0.044435\n",
      "Train Epoch:   9 [ 16000/ 60000 (27%)]\tLoss: 0.002070\n",
      "Train Epoch:   9 [ 17600/ 60000 (29%)]\tLoss: 0.052262\n",
      "Train Epoch:   9 [ 19200/ 60000 (32%)]\tLoss: 0.010294\n",
      "Train Epoch:   9 [ 20800/ 60000 (35%)]\tLoss: 0.002856\n",
      "Train Epoch:   9 [ 22400/ 60000 (37%)]\tLoss: 0.019350\n",
      "Train Epoch:   9 [ 24000/ 60000 (40%)]\tLoss: 0.012819\n",
      "Train Epoch:   9 [ 25600/ 60000 (43%)]\tLoss: 0.016474\n",
      "Train Epoch:   9 [ 27200/ 60000 (45%)]\tLoss: 0.013712\n",
      "Train Epoch:   9 [ 28800/ 60000 (48%)]\tLoss: 0.017518\n",
      "Train Epoch:   9 [ 30400/ 60000 (51%)]\tLoss: 0.001331\n",
      "Train Epoch:   9 [ 32000/ 60000 (53%)]\tLoss: 0.042556\n",
      "Train Epoch:   9 [ 33600/ 60000 (56%)]\tLoss: 0.057489\n",
      "Train Epoch:   9 [ 35200/ 60000 (59%)]\tLoss: 0.135922\n",
      "Train Epoch:   9 [ 36800/ 60000 (61%)]\tLoss: 0.000943\n",
      "Train Epoch:   9 [ 38400/ 60000 (64%)]\tLoss: 0.168378\n",
      "Train Epoch:   9 [ 40000/ 60000 (67%)]\tLoss: 0.005510\n",
      "Train Epoch:   9 [ 41600/ 60000 (69%)]\tLoss: 0.002454\n",
      "Train Epoch:   9 [ 43200/ 60000 (72%)]\tLoss: 0.093770\n",
      "Train Epoch:   9 [ 44800/ 60000 (75%)]\tLoss: 0.000354\n",
      "Train Epoch:   9 [ 46400/ 60000 (77%)]\tLoss: 0.110629\n",
      "Train Epoch:   9 [ 48000/ 60000 (80%)]\tLoss: 0.037833\n",
      "Train Epoch:   9 [ 49600/ 60000 (83%)]\tLoss: 0.125790\n",
      "Train Epoch:   9 [ 51200/ 60000 (85%)]\tLoss: 0.108810\n",
      "Train Epoch:   9 [ 52800/ 60000 (88%)]\tLoss: 0.462040\n",
      "Train Epoch:   9 [ 54400/ 60000 (91%)]\tLoss: 0.021545\n",
      "Train Epoch:   9 [ 56000/ 60000 (93%)]\tLoss: 0.175144\n",
      "Train Epoch:   9 [ 57600/ 60000 (96%)]\tLoss: 0.001534\n",
      "Train Epoch:   9 [ 59200/ 60000 (99%)]\tLoss: 0.060210\n",
      "\n",
      "Test set: Average loss: 0.1344, Accuracy:   9660/ 10000 (97%)\n",
      "\n",
      "Train Epoch:  10 [     0/ 60000 (0%)]\tLoss: 0.000796\n",
      "Train Epoch:  10 [  1600/ 60000 (3%)]\tLoss: 0.636784\n",
      "Train Epoch:  10 [  3200/ 60000 (5%)]\tLoss: 0.040280\n",
      "Train Epoch:  10 [  4800/ 60000 (8%)]\tLoss: 0.005005\n",
      "Train Epoch:  10 [  6400/ 60000 (11%)]\tLoss: 0.000785\n",
      "Train Epoch:  10 [  8000/ 60000 (13%)]\tLoss: 0.004251\n",
      "Train Epoch:  10 [  9600/ 60000 (16%)]\tLoss: 0.005735\n",
      "Train Epoch:  10 [ 11200/ 60000 (19%)]\tLoss: 0.068732\n",
      "Train Epoch:  10 [ 12800/ 60000 (21%)]\tLoss: 0.104599\n",
      "Train Epoch:  10 [ 14400/ 60000 (24%)]\tLoss: 0.072538\n",
      "Train Epoch:  10 [ 16000/ 60000 (27%)]\tLoss: 0.000889\n",
      "Train Epoch:  10 [ 17600/ 60000 (29%)]\tLoss: 0.040292\n",
      "Train Epoch:  10 [ 19200/ 60000 (32%)]\tLoss: 0.011512\n",
      "Train Epoch:  10 [ 20800/ 60000 (35%)]\tLoss: 0.004312\n",
      "Train Epoch:  10 [ 22400/ 60000 (37%)]\tLoss: 0.017572\n",
      "Train Epoch:  10 [ 24000/ 60000 (40%)]\tLoss: 0.005472\n",
      "Train Epoch:  10 [ 25600/ 60000 (43%)]\tLoss: 0.018464\n",
      "Train Epoch:  10 [ 27200/ 60000 (45%)]\tLoss: 0.010271\n",
      "Train Epoch:  10 [ 28800/ 60000 (48%)]\tLoss: 0.008934\n",
      "Train Epoch:  10 [ 30400/ 60000 (51%)]\tLoss: 0.001653\n",
      "Train Epoch:  10 [ 32000/ 60000 (53%)]\tLoss: 0.017480\n",
      "Train Epoch:  10 [ 33600/ 60000 (56%)]\tLoss: 0.020265\n",
      "Train Epoch:  10 [ 35200/ 60000 (59%)]\tLoss: 0.213887\n",
      "Train Epoch:  10 [ 36800/ 60000 (61%)]\tLoss: 0.000463\n",
      "Train Epoch:  10 [ 38400/ 60000 (64%)]\tLoss: 0.152219\n",
      "Train Epoch:  10 [ 40000/ 60000 (67%)]\tLoss: 0.008022\n",
      "Train Epoch:  10 [ 41600/ 60000 (69%)]\tLoss: 0.002431\n",
      "Train Epoch:  10 [ 43200/ 60000 (72%)]\tLoss: 0.079415\n",
      "Train Epoch:  10 [ 44800/ 60000 (75%)]\tLoss: 0.000330\n",
      "Train Epoch:  10 [ 46400/ 60000 (77%)]\tLoss: 0.137949\n",
      "Train Epoch:  10 [ 48000/ 60000 (80%)]\tLoss: 0.054886\n",
      "Train Epoch:  10 [ 49600/ 60000 (83%)]\tLoss: 0.079022\n",
      "Train Epoch:  10 [ 51200/ 60000 (85%)]\tLoss: 0.094656\n",
      "Train Epoch:  10 [ 52800/ 60000 (88%)]\tLoss: 0.416224\n",
      "Train Epoch:  10 [ 54400/ 60000 (91%)]\tLoss: 0.060144\n",
      "Train Epoch:  10 [ 56000/ 60000 (93%)]\tLoss: 0.148879\n",
      "Train Epoch:  10 [ 57600/ 60000 (96%)]\tLoss: 0.001023\n",
      "Train Epoch:  10 [ 59200/ 60000 (99%)]\tLoss: 0.027848\n",
      "\n",
      "Test set: Average loss: 0.1374, Accuracy:   9658/ 10000 (97%)\n",
      "\n",
      "Saved final model to: out/LeNet_300_100-unbiased-30_10_2019-09:19:28/snapshots/10\n",
      "Saved validation accuracies to: out/LeNet_300_100-unbiased-30_10_2019-09:19:28/metrics/training/accuracies.npy\n"
     ]
    }
   ],
   "source": [
    "e = Experiment(model, criterion, optimizer, optim_kwargs)\n",
    "test_accuracies = e.fit(trainloader, testloader, epochs, save_results=True)"
   ]
  },
  {
   "cell_type": "code",
   "execution_count": 13,
   "metadata": {},
   "outputs": [],
   "source": [
    "new_output_dir = \"out/Conv2-02_12_2019-12:41:45\"\n",
    "s_new = Snapshots(new_output_dir)"
   ]
  },
  {
   "cell_type": "code",
   "execution_count": 14,
   "metadata": {},
   "outputs": [
    {
     "name": "stdout",
     "output_type": "stream",
     "text": [
      "Saved combined inner products to: out/Conv2-02_12_2019-12:41:45/metrics/pruning/inner_products-conv1.npy\n",
      "Saved combined weight norms to: out/Conv2-02_12_2019-12:41:45/metrics/pruning/weight_norms-conv1.npy\n",
      "Saved combined inner products to: out/Conv2-02_12_2019-12:41:45/metrics/pruning/inner_products-conv2.npy\n",
      "Saved combined weight norms to: out/Conv2-02_12_2019-12:41:45/metrics/pruning/weight_norms-conv2.npy\n",
      "Saved combined inner products to: out/Conv2-02_12_2019-12:41:45/metrics/pruning/inner_products-fc1.npy\n",
      "Saved combined weight norms to: out/Conv2-02_12_2019-12:41:45/metrics/pruning/weight_norms-fc1.npy\n",
      "Saved combined inner products to: out/Conv2-02_12_2019-12:41:45/metrics/pruning/inner_products-fc2.npy\n",
      "Saved combined weight norms to: out/Conv2-02_12_2019-12:41:45/metrics/pruning/weight_norms-fc2.npy\n",
      "Saved combined inner products to: out/Conv2-02_12_2019-12:41:45/metrics/pruning/inner_products-fc3.npy\n",
      "Saved combined weight norms to: out/Conv2-02_12_2019-12:41:45/metrics/pruning/weight_norms-fc3.npy\n"
     ]
    }
   ],
   "source": [
    "for layer in layers:\n",
    "    ips_merged, norms_merged = s_new.compare_with(s, layer)"
   ]
  },
  {
   "cell_type": "code",
   "execution_count": 19,
   "metadata": {},
   "outputs": [
    {
     "data": {
      "text/plain": [
       "(11, 512, 512)"
      ]
     },
     "execution_count": 19,
     "metadata": {},
     "output_type": "execute_result"
    }
   ],
   "source": [
    "ips_merged.shape"
   ]
  },
  {
   "cell_type": "code",
   "execution_count": 20,
   "metadata": {},
   "outputs": [
    {
     "data": {
      "text/plain": [
       "(11, 512)"
      ]
     },
     "execution_count": 20,
     "metadata": {},
     "output_type": "execute_result"
    }
   ],
   "source": [
    "norms_merged.shape"
   ]
  },
  {
   "cell_type": "code",
   "execution_count": 21,
   "metadata": {},
   "outputs": [
    {
     "name": "stdout",
     "output_type": "stream",
     "text": [
      "Saved adjacency matrix to: out/Conv2-unbiased-03_11_2019-10:13:43/metrics/pruning/adjacency-fc1.npy\n"
     ]
    }
   ],
   "source": [
    "adjacency, kernel_width = s_new.create_adjacency(layer, merged=True)"
   ]
  },
  {
   "cell_type": "code",
   "execution_count": 22,
   "metadata": {},
   "outputs": [
    {
     "data": {
      "text/plain": [
       "(11, 512, 512)"
      ]
     },
     "execution_count": 22,
     "metadata": {},
     "output_type": "execute_result"
    }
   ],
   "source": [
    "adjacency.shape"
   ]
  },
  {
   "cell_type": "code",
   "execution_count": 16,
   "metadata": {},
   "outputs": [
    {
     "data": {
      "image/png": "[encoded data removed]",
      "text/plain": [
       "<Figure size 1440x504 with 2 Axes>"
      ]
     },
     "metadata": {
      "needs_background": "light"
     },
     "output_type": "display_data"
    }
   ],
   "source": [
    "statistics.weight_dist(adjacency, kernel_width)"
   ]
  },
  {
   "cell_type": "markdown",
   "metadata": {},
   "source": [
    "We choose a reasonable cut-off to sparsify the adjacency tensor."
   ]
  },
  {
   "cell_type": "code",
   "execution_count": 17,
   "metadata": {},
   "outputs": [],
   "source": [
    "min_cut_off = 0.4"
   ]
  },
  {
   "cell_type": "markdown",
   "metadata": {},
   "source": [
    "Once the model is fully trained, we want to see how a cut-off affects the number of connected components:"
   ]
  },
  {
   "cell_type": "code",
   "execution_count": 18,
   "metadata": {},
   "outputs": [
    {
     "data": {
      "image/png": "[encoded data removed]",
      "text/plain": [
       "<Figure size 864x504 with 1 Axes>"
      ]
     },
     "metadata": {
      "needs_background": "light"
     },
     "output_type": "display_data"
    }
   ],
   "source": [
    "cut_offs = statistics.plot_connected_components(adjacency, min_cut_off)"
   ]
  },
  {
   "cell_type": "markdown",
   "metadata": {},
   "source": [
    "Finally, we would like to find out how, for a given cut-off, the maximum magnitude of a node (filter) in a connected component relates to the size of the connected component."
   ]
  },
  {
   "cell_type": "code",
   "execution_count": 19,
   "metadata": {},
   "outputs": [
    {
     "ename": "NameError",
     "evalue": "name 'weight_norms' is not defined",
     "output_type": "error",
     "traceback": [
      "\u001b[0;31m---------------------------------------------------------------------------\u001b[0m",
      "\u001b[0;31mNameError\u001b[0m                                 Traceback (most recent call last)",
      "\u001b[0;32m<ipython-input-19-6648ee325953>\u001b[0m in \u001b[0;36m<module>\u001b[0;34m\u001b[0m\n\u001b[0;32m----> 1\u001b[0;31m \u001b[0mplot_data\u001b[0m \u001b[0;34m=\u001b[0m \u001b[0mstatistics\u001b[0m\u001b[0;34m.\u001b[0m\u001b[0mcc_max_norm\u001b[0m\u001b[0;34m(\u001b[0m\u001b[0madjacency\u001b[0m\u001b[0;34m,\u001b[0m \u001b[0mweight_norms\u001b[0m\u001b[0;34m,\u001b[0m \u001b[0mcut_offs\u001b[0m\u001b[0;34m)\u001b[0m\u001b[0;34m\u001b[0m\u001b[0;34m\u001b[0m\u001b[0m\n\u001b[0m\u001b[1;32m      2\u001b[0m \u001b[0mint_slider\u001b[0m \u001b[0;34m=\u001b[0m \u001b[0mIntSlider\u001b[0m\u001b[0;34m(\u001b[0m\u001b[0mvalue\u001b[0m\u001b[0;34m=\u001b[0m\u001b[0;36m0\u001b[0m\u001b[0;34m,\u001b[0m \u001b[0mmin\u001b[0m\u001b[0;34m=\u001b[0m\u001b[0;36m0\u001b[0m\u001b[0;34m,\u001b[0m \u001b[0mmax\u001b[0m\u001b[0;34m=\u001b[0m\u001b[0mlen\u001b[0m\u001b[0;34m(\u001b[0m\u001b[0mplot_data\u001b[0m\u001b[0;34m)\u001b[0m\u001b[0;34m-\u001b[0m\u001b[0;36m1\u001b[0m\u001b[0;34m)\u001b[0m\u001b[0;34m\u001b[0m\u001b[0;34m\u001b[0m\u001b[0m\n\u001b[1;32m      3\u001b[0m \u001b[0minteract\u001b[0m\u001b[0;34m(\u001b[0m\u001b[0mstatistics\u001b[0m\u001b[0;34m.\u001b[0m\u001b[0mcc_specs_plot\u001b[0m\u001b[0;34m,\u001b[0m \u001b[0mplot_data\u001b[0m\u001b[0;34m=\u001b[0m\u001b[0mfixed\u001b[0m\u001b[0;34m(\u001b[0m\u001b[0mplot_data\u001b[0m\u001b[0;34m)\u001b[0m\u001b[0;34m,\u001b[0m \u001b[0mcut_offs\u001b[0m\u001b[0;34m=\u001b[0m\u001b[0mfixed\u001b[0m\u001b[0;34m(\u001b[0m\u001b[0mcut_offs\u001b[0m\u001b[0;34m)\u001b[0m\u001b[0;34m,\u001b[0m \u001b[0midx\u001b[0m\u001b[0;34m=\u001b[0m\u001b[0mint_slider\u001b[0m\u001b[0;34m)\u001b[0m\u001b[0;34m;\u001b[0m\u001b[0;34m\u001b[0m\u001b[0;34m\u001b[0m\u001b[0m\n",
      "\u001b[0;31mNameError\u001b[0m: name 'weight_norms' is not defined"
     ]
    }
   ],
   "source": [
    "plot_data = statistics.cc_max_norm(adjacency, weight_norms, cut_offs)\n",
    "int_slider = IntSlider(value=0, min=0, max=len(plot_data)-1)\n",
    "interact(statistics.cc_specs_plot, plot_data=fixed(plot_data), cut_offs=fixed(cut_offs), idx=int_slider);"
   ]
  },
  {
   "cell_type": "markdown",
   "metadata": {},
   "source": [
    "## Iterative pruning"
   ]
  },
  {
   "cell_type": "code",
   "execution_count": 9,
   "metadata": {},
   "outputs": [
    {
     "name": "stdout",
     "output_type": "stream",
     "text": [
      "Evaluating model accuracy [  0/ 75]\n",
      "\n",
      "Test set: Average loss: 2.3078, Accuracy:   1224/ 10000 (12%)\n",
      "\n",
      "Evaluating model accuracy [  1/ 75]\n",
      "\n",
      "Test set: Average loss: 0.9626, Accuracy:   7725/ 10000 (77%)\n",
      "\n",
      "Pruning layer fc1\n",
      "Evaluating model accuracy [  2/ 75]\n",
      "\n",
      "Test set: Average loss: 0.5310, Accuracy:   8470/ 10000 (85%)\n",
      "\n",
      "Evaluating model accuracy [  3/ 75]\n",
      "\n",
      "Test set: Average loss: 0.4489, Accuracy:   8670/ 10000 (87%)\n",
      "\n",
      "Evaluating model accuracy [  4/ 75]\n",
      "\n",
      "Test set: Average loss: 0.4469, Accuracy:   8610/ 10000 (86%)\n",
      "\n",
      "Evaluating model accuracy [  5/ 75]\n",
      "\n",
      "Test set: Average loss: 0.3972, Accuracy:   8679/ 10000 (87%)\n",
      "\n",
      "Pruning layer fc1\n",
      "Evaluating model accuracy [  6/ 75]\n",
      "\n",
      "Test set: Average loss: 0.3631, Accuracy:   8941/ 10000 (89%)\n",
      "\n",
      "Evaluating model accuracy [  7/ 75]\n",
      "\n",
      "Test set: Average loss: 0.3075, Accuracy:   9057/ 10000 (91%)\n",
      "\n",
      "Evaluating model accuracy [  8/ 75]\n",
      "\n",
      "Test set: Average loss: 0.3025, Accuracy:   9111/ 10000 (91%)\n",
      "\n",
      "Evaluating model accuracy [  9/ 75]\n",
      "\n",
      "Test set: Average loss: 0.2683, Accuracy:   9182/ 10000 (92%)\n",
      "\n",
      "Pruning layer fc1\n",
      "Evaluating model accuracy [ 10/ 75]\n",
      "\n",
      "Test set: Average loss: 0.2705, Accuracy:   9181/ 10000 (92%)\n",
      "\n",
      "Evaluating model accuracy [ 11/ 75]\n",
      "\n",
      "Test set: Average loss: 0.2455, Accuracy:   9239/ 10000 (92%)\n",
      "\n",
      "Evaluating model accuracy [ 12/ 75]\n",
      "\n",
      "Test set: Average loss: 0.2423, Accuracy:   9262/ 10000 (93%)\n",
      "\n",
      "Evaluating model accuracy [ 13/ 75]\n",
      "\n",
      "Test set: Average loss: 0.2713, Accuracy:   9143/ 10000 (91%)\n",
      "\n",
      "Pruning layer fc1\n",
      "Evaluating model accuracy [ 14/ 75]\n",
      "\n",
      "Test set: Average loss: 0.2615, Accuracy:   9201/ 10000 (92%)\n",
      "\n",
      "Evaluating model accuracy [ 15/ 75]\n",
      "\n",
      "Test set: Average loss: 0.2326, Accuracy:   9291/ 10000 (93%)\n",
      "\n",
      "Evaluating model accuracy [ 16/ 75]\n",
      "\n",
      "Test set: Average loss: 0.1925, Accuracy:   9427/ 10000 (94%)\n",
      "\n",
      "Evaluating model accuracy [ 17/ 75]\n",
      "\n",
      "Test set: Average loss: 0.1979, Accuracy:   9413/ 10000 (94%)\n",
      "\n",
      "Pruning layer fc1\n",
      "Evaluating model accuracy [ 18/ 75]\n",
      "\n",
      "Test set: Average loss: 0.2160, Accuracy:   9355/ 10000 (94%)\n",
      "\n",
      "Evaluating model accuracy [ 19/ 75]\n",
      "\n",
      "Test set: Average loss: 0.2012, Accuracy:   9384/ 10000 (94%)\n",
      "\n",
      "Evaluating model accuracy [ 20/ 75]\n",
      "\n",
      "Test set: Average loss: 0.2015, Accuracy:   9357/ 10000 (94%)\n",
      "\n",
      "Evaluating model accuracy [ 21/ 75]\n",
      "\n",
      "Test set: Average loss: 0.1847, Accuracy:   9395/ 10000 (94%)\n",
      "\n",
      "Pruning layer fc1\n",
      "Evaluating model accuracy [ 22/ 75]\n",
      "\n",
      "Test set: Average loss: 0.1891, Accuracy:   9434/ 10000 (94%)\n",
      "\n",
      "Evaluating model accuracy [ 23/ 75]\n",
      "\n",
      "Test set: Average loss: 0.1974, Accuracy:   9392/ 10000 (94%)\n",
      "\n",
      "Evaluating model accuracy [ 24/ 75]\n",
      "\n",
      "Test set: Average loss: 0.1692, Accuracy:   9466/ 10000 (95%)\n",
      "\n",
      "Evaluating model accuracy [ 25/ 75]\n",
      "\n",
      "Test set: Average loss: 0.1653, Accuracy:   9486/ 10000 (95%)\n",
      "\n",
      "Pruning layer fc1\n",
      "Evaluating model accuracy [ 26/ 75]\n",
      "\n",
      "Test set: Average loss: 0.1855, Accuracy:   9393/ 10000 (94%)\n",
      "\n",
      "Evaluating model accuracy [ 27/ 75]\n",
      "\n",
      "Test set: Average loss: 0.2422, Accuracy:   9234/ 10000 (92%)\n",
      "\n",
      "Evaluating model accuracy [ 28/ 75]\n",
      "\n",
      "Test set: Average loss: 0.1634, Accuracy:   9500/ 10000 (95%)\n",
      "\n",
      "Evaluating model accuracy [ 29/ 75]\n",
      "\n",
      "Test set: Average loss: 0.1692, Accuracy:   9463/ 10000 (95%)\n",
      "\n",
      "Pruning layer fc1\n",
      "Evaluating model accuracy [ 30/ 75]\n",
      "\n",
      "Test set: Average loss: 0.1550, Accuracy:   9547/ 10000 (95%)\n",
      "\n",
      "Evaluating model accuracy [ 31/ 75]\n",
      "\n",
      "Test set: Average loss: 0.1532, Accuracy:   9521/ 10000 (95%)\n",
      "\n",
      "Evaluating model accuracy [ 32/ 75]\n",
      "\n",
      "Test set: Average loss: 0.1364, Accuracy:   9576/ 10000 (96%)\n",
      "\n",
      "Evaluating model accuracy [ 33/ 75]\n",
      "\n",
      "Test set: Average loss: 0.1277, Accuracy:   9601/ 10000 (96%)\n",
      "\n",
      "Pruning layer fc1\n",
      "Evaluating model accuracy [ 34/ 75]\n",
      "\n",
      "Test set: Average loss: 0.1567, Accuracy:   9517/ 10000 (95%)\n",
      "\n",
      "Evaluating model accuracy [ 35/ 75]\n",
      "\n",
      "Test set: Average loss: 0.1490, Accuracy:   9520/ 10000 (95%)\n",
      "\n",
      "Evaluating model accuracy [ 36/ 75]\n",
      "\n",
      "Test set: Average loss: 0.1356, Accuracy:   9591/ 10000 (96%)\n",
      "\n",
      "Evaluating model accuracy [ 37/ 75]\n",
      "\n",
      "Test set: Average loss: 0.1637, Accuracy:   9475/ 10000 (95%)\n",
      "\n",
      "Pruning layer fc1\n",
      "Evaluating model accuracy [ 38/ 75]\n",
      "\n",
      "Test set: Average loss: 0.1678, Accuracy:   9467/ 10000 (95%)\n",
      "\n",
      "Evaluating model accuracy [ 39/ 75]\n",
      "\n",
      "Test set: Average loss: 0.1395, Accuracy:   9571/ 10000 (96%)\n",
      "\n",
      "Evaluating model accuracy [ 40/ 75]\n",
      "\n",
      "Test set: Average loss: 0.1294, Accuracy:   9598/ 10000 (96%)\n",
      "\n",
      "Evaluating model accuracy [ 41/ 75]\n",
      "\n",
      "Test set: Average loss: 0.1277, Accuracy:   9594/ 10000 (96%)\n",
      "\n",
      "Pruning layer fc1\n",
      "Evaluating model accuracy [ 42/ 75]\n",
      "\n",
      "Test set: Average loss: 0.1465, Accuracy:   9542/ 10000 (95%)\n",
      "\n",
      "Evaluating model accuracy [ 43/ 75]\n",
      "\n",
      "Test set: Average loss: 0.1283, Accuracy:   9597/ 10000 (96%)\n",
      "\n",
      "Evaluating model accuracy [ 44/ 75]\n",
      "\n",
      "Test set: Average loss: 0.1399, Accuracy:   9567/ 10000 (96%)\n",
      "\n",
      "Evaluating model accuracy [ 45/ 75]\n",
      "\n",
      "Test set: Average loss: 0.1350, Accuracy:   9582/ 10000 (96%)\n",
      "\n",
      "Pruning layer fc1\n",
      "Evaluating model accuracy [ 46/ 75]\n",
      "\n",
      "Test set: Average loss: 0.1667, Accuracy:   9468/ 10000 (95%)\n",
      "\n",
      "Evaluating model accuracy [ 47/ 75]\n",
      "\n",
      "Test set: Average loss: 0.1162, Accuracy:   9668/ 10000 (97%)\n",
      "\n",
      "Evaluating model accuracy [ 48/ 75]\n",
      "\n",
      "Test set: Average loss: 0.1283, Accuracy:   9606/ 10000 (96%)\n",
      "\n",
      "Evaluating model accuracy [ 49/ 75]\n",
      "\n",
      "Test set: Average loss: 0.1197, Accuracy:   9611/ 10000 (96%)\n",
      "\n",
      "Pruning layer fc1\n",
      "Evaluating model accuracy [ 50/ 75]\n",
      "\n",
      "Test set: Average loss: 0.1383, Accuracy:   9573/ 10000 (96%)\n",
      "\n",
      "Evaluating model accuracy [ 51/ 75]\n",
      "\n",
      "Test set: Average loss: 0.1242, Accuracy:   9618/ 10000 (96%)\n",
      "\n",
      "Evaluating model accuracy [ 52/ 75]\n",
      "\n",
      "Test set: Average loss: 0.1387, Accuracy:   9572/ 10000 (96%)\n",
      "\n",
      "Evaluating model accuracy [ 53/ 75]\n",
      "\n",
      "Test set: Average loss: 0.1198, Accuracy:   9628/ 10000 (96%)\n",
      "\n",
      "Pruning layer fc1\n",
      "Evaluating model accuracy [ 54/ 75]\n",
      "\n",
      "Test set: Average loss: 0.1283, Accuracy:   9603/ 10000 (96%)\n",
      "\n",
      "Evaluating model accuracy [ 55/ 75]\n",
      "\n",
      "Test set: Average loss: 0.1291, Accuracy:   9600/ 10000 (96%)\n",
      "\n",
      "Evaluating model accuracy [ 56/ 75]\n",
      "\n",
      "Test set: Average loss: 0.1226, Accuracy:   9628/ 10000 (96%)\n",
      "\n",
      "Evaluating model accuracy [ 57/ 75]\n",
      "\n",
      "Test set: Average loss: 0.1206, Accuracy:   9636/ 10000 (96%)\n",
      "\n",
      "Pruning layer fc1\n",
      "Evaluating model accuracy [ 58/ 75]\n",
      "\n",
      "Test set: Average loss: 0.1354, Accuracy:   9549/ 10000 (95%)\n",
      "\n",
      "Evaluating model accuracy [ 59/ 75]\n",
      "\n",
      "Test set: Average loss: 0.1259, Accuracy:   9584/ 10000 (96%)\n",
      "\n",
      "Evaluating model accuracy [ 60/ 75]\n",
      "\n",
      "Test set: Average loss: 0.1143, Accuracy:   9651/ 10000 (97%)\n",
      "\n",
      "Evaluating model accuracy [ 61/ 75]\n",
      "\n",
      "Test set: Average loss: 0.1491, Accuracy:   9516/ 10000 (95%)\n",
      "\n",
      "Pruning layer fc1\n",
      "Evaluating model accuracy [ 62/ 75]\n",
      "\n",
      "Test set: Average loss: 0.1185, Accuracy:   9654/ 10000 (97%)\n",
      "\n",
      "Evaluating model accuracy [ 63/ 75]\n",
      "\n",
      "Test set: Average loss: 0.1200, Accuracy:   9633/ 10000 (96%)\n",
      "\n",
      "Evaluating model accuracy [ 64/ 75]\n",
      "\n",
      "Test set: Average loss: 0.1270, Accuracy:   9595/ 10000 (96%)\n",
      "\n",
      "Evaluating model accuracy [ 65/ 75]\n",
      "\n",
      "Test set: Average loss: 0.1994, Accuracy:   9360/ 10000 (94%)\n",
      "\n",
      "Evaluating model accuracy [ 66/ 75]\n",
      "\n",
      "Test set: Average loss: 0.1058, Accuracy:   9686/ 10000 (97%)\n",
      "\n",
      "Evaluating model accuracy [ 67/ 75]\n",
      "\n",
      "Test set: Average loss: 0.1210, Accuracy:   9624/ 10000 (96%)\n",
      "\n",
      "Evaluating model accuracy [ 68/ 75]\n",
      "\n",
      "Test set: Average loss: 0.1148, Accuracy:   9636/ 10000 (96%)\n",
      "\n",
      "Evaluating model accuracy [ 69/ 75]\n",
      "\n",
      "Test set: Average loss: 0.1138, Accuracy:   9652/ 10000 (97%)\n",
      "\n",
      "Evaluating model accuracy [ 70/ 75]\n",
      "\n",
      "Test set: Average loss: 0.1036, Accuracy:   9681/ 10000 (97%)\n",
      "\n",
      "Evaluating model accuracy [ 71/ 75]\n",
      "\n",
      "Test set: Average loss: 0.1048, Accuracy:   9671/ 10000 (97%)\n",
      "\n",
      "Evaluating model accuracy [ 72/ 75]\n",
      "\n",
      "Test set: Average loss: 0.1125, Accuracy:   9640/ 10000 (96%)\n",
      "\n",
      "Evaluating model accuracy [ 73/ 75]\n",
      "\n",
      "Test set: Average loss: 0.1050, Accuracy:   9648/ 10000 (96%)\n",
      "\n",
      "Evaluating model accuracy [ 74/ 75]\n",
      "\n",
      "Test set: Average loss: 0.0987, Accuracy:   9689/ 10000 (97%)\n",
      "\n",
      "Evaluating model accuracy [ 75/ 75]\n",
      "\n",
      "Test set: Average loss: 0.1140, Accuracy:   9623/ 10000 (96%)\n",
      "\n"
     ]
    }
   ],
   "source": [
    "e = Experiment(model, criterion, optimizer, optim_kwargs)\n",
    "pruning_args = {\n",
    "    \"start\": {\"fc1\": 2},\n",
    "    \"end\": {\"fc1\": 65},\n",
    "    \"inter_pruning\" : {\"fc1\": 4},\n",
    "    \"ratio\": {\"fc1\": 0.4}\n",
    "}\n",
    "accuracies = prune.iterative_pruning(e, trainloader, testloader, 2, 100, prune.min_mag_pruning, pruning_args)"
   ]
  },
  {
   "cell_type": "code",
   "execution_count": 10,
   "metadata": {},
   "outputs": [
    {
     "data": {
      "text/plain": [
       "186"
      ]
     },
     "execution_count": 10,
     "metadata": {},
     "output_type": "execute_result"
    }
   ],
   "source": [
    "len(model.fc1.unpruned_parameters())"
   ]
  }
 ],
 "metadata": {
  "kernelspec": {
   "display_name": "Python 3",
   "language": "python",
   "name": "python3"
  },
  "language_info": {
   "codemirror_mode": {
    "name": "ipython",
    "version": 3
   },
   "file_extension": ".py",
   "mimetype": "text/x-python",
   "name": "python",
   "nbconvert_exporter": "python",
   "pygments_lexer": "ipython3",
   "version": "3.7.4"
  }
 },
 "nbformat": 4,
 "nbformat_minor": 2
}
