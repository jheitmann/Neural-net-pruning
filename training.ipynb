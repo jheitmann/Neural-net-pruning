{
 "cells": [
  {
   "cell_type": "markdown",
   "metadata": {},
   "source": [
    "#### Colab setup"
   ]
  },
  {
   "cell_type": "code",
   "execution_count": null,
   "metadata": {},
   "outputs": [],
   "source": [
    "from google.colab import drive\n",
    "drive.mount('/content/gdrive')"
   ]
  },
  {
   "cell_type": "code",
   "execution_count": null,
   "metadata": {},
   "outputs": [],
   "source": [
    "%cd \"gdrive/My Drive/Colab Notebooks\""
   ]
  },
  {
   "cell_type": "markdown",
   "metadata": {},
   "source": [
    "#### Imports"
   ]
  },
  {
   "cell_type": "code",
   "execution_count": 1,
   "metadata": {},
   "outputs": [],
   "source": [
    "import matplotlib.pyplot as plt\n",
    "import numpy as np\n",
    "import os\n",
    "import pandas as pd\n",
    "import torch\n",
    "import torch.nn as nn\n",
    "import torch.nn.functional as F\n",
    "import torchvision\n",
    "import torchvision.transforms as transforms\n",
    "import torch.optim as optim\n",
    "from ipywidgets import IntSlider, interact, fixed"
   ]
  },
  {
   "cell_type": "code",
   "execution_count": 2,
   "metadata": {},
   "outputs": [],
   "source": [
    "import common\n",
    "import helpers\n",
    "import prune\n",
    "import statistics\n",
    "from data import get_mnist, get_cifar\n",
    "from experiment import Experiment\n",
    "from layers import MaskedLinear, MaskedConv2d\n",
    "from models import PruningModule, LeNet_20_100, LeNet_300_10, Conv2_30\n",
    "from snapshots import Snapshots"
   ]
  },
  {
   "cell_type": "markdown",
   "metadata": {},
   "source": [
    "## MNIST / Lenet 300-100-10"
   ]
  },
  {
   "cell_type": "markdown",
   "metadata": {},
   "source": [
    "### Loading the data"
   ]
  },
  {
   "cell_type": "code",
   "execution_count": 3,
   "metadata": {},
   "outputs": [],
   "source": [
    "train_batch_size = 16\n",
    "test_batch_size = 1000"
   ]
  },
  {
   "cell_type": "code",
   "execution_count": 4,
   "metadata": {},
   "outputs": [],
   "source": [
    "trainloader, testloader, classes = get_mnist(train_batch_size, test_batch_size)"
   ]
  },
  {
   "cell_type": "markdown",
   "metadata": {},
   "source": [
    "### Defining the model"
   ]
  },
  {
   "cell_type": "code",
   "execution_count": 3,
   "metadata": {},
   "outputs": [],
   "source": [
    "# Only requirement is to inherit PruningModule and to use MaskedLinear and MaskedConv2d\n",
    "class LeNet_300_100(PruningModule):\n",
    "    def __init__(self, bias=True):\n",
    "        super(LeNet_300_100, self).__init__(bias)\n",
    "        self.fc1 = MaskedLinear(28 * 28, 300, bias=bias)\n",
    "        self.fc2 = MaskedLinear(300, 100, bias=bias)\n",
    "        self.fc3 = MaskedLinear(100, 10, bias=bias)\n",
    "\n",
    "    def forward(self, x):\n",
    "        x = x.view(-1, 28 * 28)\n",
    "        x = F.relu(self.fc1(x))\n",
    "        x = F.relu(self.fc2(x))\n",
    "        x = self.fc3(x)\n",
    "        return x"
   ]
  },
  {
   "cell_type": "code",
   "execution_count": 4,
   "metadata": {},
   "outputs": [],
   "source": [
    "model_class = LeNet_300_100\n",
    "layers = ['fc1', 'fc2', 'fc3']"
   ]
  },
  {
   "cell_type": "markdown",
   "metadata": {},
   "source": [
    "### Training the model"
   ]
  },
  {
   "cell_type": "code",
   "execution_count": 7,
   "metadata": {},
   "outputs": [],
   "source": [
    "epochs = 10\n",
    "optim_kwargs = {'lr': 0.003, 'momentum': 0.9}\n",
    "criterion = nn.CrossEntropyLoss()\n",
    "model = model_class(bias=False)\n",
    "optimizer = optim.SGD(model.parameters(), **optim_kwargs)"
   ]
  },
  {
   "cell_type": "code",
   "execution_count": 7,
   "metadata": {
    "scrolled": true
   },
   "outputs": [
    {
     "name": "stdout",
     "output_type": "stream",
     "text": [
      "\n",
      "Test set: Average loss: 2.3078, Accuracy:   1224/ 10000 (12%)\n",
      "\n",
      "Created model directory: out/LeNet_300_100-unbiased-24_10_2019-19:17:44\n",
      "Train Epoch:   1 [     0/ 60000 (0%)]\tLoss: 2.297339\n",
      "Train Epoch:   1 [  1600/ 60000 (3%)]\tLoss: 0.981066\n",
      "Train Epoch:   1 [  3200/ 60000 (5%)]\tLoss: 0.464690\n",
      "Train Epoch:   1 [  4800/ 60000 (8%)]\tLoss: 0.543019\n",
      "Train Epoch:   1 [  6400/ 60000 (11%)]\tLoss: 0.118098\n",
      "Train Epoch:   1 [  8000/ 60000 (13%)]\tLoss: 0.626859\n",
      "Train Epoch:   1 [  9600/ 60000 (16%)]\tLoss: 0.292227\n",
      "Train Epoch:   1 [ 11200/ 60000 (19%)]\tLoss: 0.844086\n",
      "Train Epoch:   1 [ 12800/ 60000 (21%)]\tLoss: 0.408728\n",
      "Train Epoch:   1 [ 14400/ 60000 (24%)]\tLoss: 0.418998\n",
      "Train Epoch:   1 [ 16000/ 60000 (27%)]\tLoss: 0.150357\n",
      "Train Epoch:   1 [ 17600/ 60000 (29%)]\tLoss: 0.135643\n",
      "Train Epoch:   1 [ 19200/ 60000 (32%)]\tLoss: 0.188149\n",
      "Train Epoch:   1 [ 20800/ 60000 (35%)]\tLoss: 0.062210\n",
      "Train Epoch:   1 [ 22400/ 60000 (37%)]\tLoss: 0.164477\n",
      "Train Epoch:   1 [ 24000/ 60000 (40%)]\tLoss: 0.078838\n",
      "Train Epoch:   1 [ 25600/ 60000 (43%)]\tLoss: 0.080388\n",
      "Train Epoch:   1 [ 27200/ 60000 (45%)]\tLoss: 0.123013\n",
      "Train Epoch:   1 [ 28800/ 60000 (48%)]\tLoss: 0.197519\n",
      "Train Epoch:   1 [ 30400/ 60000 (51%)]\tLoss: 0.034871\n",
      "Train Epoch:   1 [ 32000/ 60000 (53%)]\tLoss: 0.102532\n",
      "Train Epoch:   1 [ 33600/ 60000 (56%)]\tLoss: 0.130424\n",
      "Train Epoch:   1 [ 35200/ 60000 (59%)]\tLoss: 0.209359\n",
      "Train Epoch:   1 [ 36800/ 60000 (61%)]\tLoss: 0.055456\n",
      "Train Epoch:   1 [ 38400/ 60000 (64%)]\tLoss: 0.207605\n",
      "Train Epoch:   1 [ 40000/ 60000 (67%)]\tLoss: 0.073849\n",
      "Train Epoch:   1 [ 41600/ 60000 (69%)]\tLoss: 0.099870\n",
      "Train Epoch:   1 [ 43200/ 60000 (72%)]\tLoss: 0.245959\n",
      "Train Epoch:   1 [ 44800/ 60000 (75%)]\tLoss: 0.064323\n",
      "Train Epoch:   1 [ 46400/ 60000 (77%)]\tLoss: 0.270425\n",
      "Train Epoch:   1 [ 48000/ 60000 (80%)]\tLoss: 0.081138\n",
      "Train Epoch:   1 [ 49600/ 60000 (83%)]\tLoss: 0.221091\n",
      "Train Epoch:   1 [ 51200/ 60000 (85%)]\tLoss: 0.153252\n",
      "Train Epoch:   1 [ 52800/ 60000 (88%)]\tLoss: 0.591156\n",
      "Train Epoch:   1 [ 54400/ 60000 (91%)]\tLoss: 0.142661\n",
      "Train Epoch:   1 [ 56000/ 60000 (93%)]\tLoss: 0.378453\n",
      "Train Epoch:   1 [ 57600/ 60000 (96%)]\tLoss: 0.011573\n",
      "Train Epoch:   1 [ 59200/ 60000 (99%)]\tLoss: 0.038281\n",
      "\n",
      "Test set: Average loss: 0.1430, Accuracy:   9543/ 10000 (95%)\n",
      "\n",
      "Train Epoch:   2 [     0/ 60000 (0%)]\tLoss: 0.006100\n",
      "Train Epoch:   2 [  1600/ 60000 (3%)]\tLoss: 0.400891\n",
      "Train Epoch:   2 [  3200/ 60000 (5%)]\tLoss: 0.231660\n",
      "Train Epoch:   2 [  4800/ 60000 (8%)]\tLoss: 0.027796\n",
      "Train Epoch:   2 [  6400/ 60000 (11%)]\tLoss: 0.012413\n",
      "Train Epoch:   2 [  8000/ 60000 (13%)]\tLoss: 0.100825\n",
      "Train Epoch:   2 [  9600/ 60000 (16%)]\tLoss: 0.055538\n",
      "Train Epoch:   2 [ 11200/ 60000 (19%)]\tLoss: 0.315860\n",
      "Train Epoch:   2 [ 12800/ 60000 (21%)]\tLoss: 0.175262\n",
      "Train Epoch:   2 [ 14400/ 60000 (24%)]\tLoss: 0.160029\n",
      "Train Epoch:   2 [ 16000/ 60000 (27%)]\tLoss: 0.086883\n",
      "Train Epoch:   2 [ 17600/ 60000 (29%)]\tLoss: 0.046295\n",
      "Train Epoch:   2 [ 19200/ 60000 (32%)]\tLoss: 0.137761\n",
      "Train Epoch:   2 [ 20800/ 60000 (35%)]\tLoss: 0.008118\n",
      "Train Epoch:   2 [ 22400/ 60000 (37%)]\tLoss: 0.076134\n",
      "Train Epoch:   2 [ 24000/ 60000 (40%)]\tLoss: 0.018855\n",
      "Train Epoch:   2 [ 25600/ 60000 (43%)]\tLoss: 0.070028\n",
      "Train Epoch:   2 [ 27200/ 60000 (45%)]\tLoss: 0.063027\n",
      "Train Epoch:   2 [ 28800/ 60000 (48%)]\tLoss: 0.053021\n",
      "Train Epoch:   2 [ 30400/ 60000 (51%)]\tLoss: 0.021879\n",
      "Train Epoch:   2 [ 32000/ 60000 (53%)]\tLoss: 0.056553\n",
      "Train Epoch:   2 [ 33600/ 60000 (56%)]\tLoss: 0.121750\n",
      "Train Epoch:   2 [ 35200/ 60000 (59%)]\tLoss: 0.191230\n",
      "Train Epoch:   2 [ 36800/ 60000 (61%)]\tLoss: 0.013550\n",
      "Train Epoch:   2 [ 38400/ 60000 (64%)]\tLoss: 0.195899\n",
      "Train Epoch:   2 [ 40000/ 60000 (67%)]\tLoss: 0.021929\n",
      "Train Epoch:   2 [ 41600/ 60000 (69%)]\tLoss: 0.017645\n",
      "Train Epoch:   2 [ 43200/ 60000 (72%)]\tLoss: 0.043011\n",
      "Train Epoch:   2 [ 44800/ 60000 (75%)]\tLoss: 0.036574\n",
      "Train Epoch:   2 [ 46400/ 60000 (77%)]\tLoss: 0.198065\n",
      "Train Epoch:   2 [ 48000/ 60000 (80%)]\tLoss: 0.106620\n",
      "Train Epoch:   2 [ 49600/ 60000 (83%)]\tLoss: 0.092577\n",
      "Train Epoch:   2 [ 51200/ 60000 (85%)]\tLoss: 0.074500\n",
      "Train Epoch:   2 [ 52800/ 60000 (88%)]\tLoss: 0.365457\n",
      "Train Epoch:   2 [ 54400/ 60000 (91%)]\tLoss: 0.025040\n",
      "Train Epoch:   2 [ 56000/ 60000 (93%)]\tLoss: 0.272769\n",
      "Train Epoch:   2 [ 57600/ 60000 (96%)]\tLoss: 0.006458\n",
      "Train Epoch:   2 [ 59200/ 60000 (99%)]\tLoss: 0.021388\n",
      "\n",
      "Test set: Average loss: 0.1019, Accuracy:   9675/ 10000 (97%)\n",
      "\n",
      "Train Epoch:   3 [     0/ 60000 (0%)]\tLoss: 0.002005\n",
      "Train Epoch:   3 [  1600/ 60000 (3%)]\tLoss: 0.491328\n",
      "Train Epoch:   3 [  3200/ 60000 (5%)]\tLoss: 0.101986\n",
      "Train Epoch:   3 [  4800/ 60000 (8%)]\tLoss: 0.009833\n",
      "Train Epoch:   3 [  6400/ 60000 (11%)]\tLoss: 0.004519\n",
      "Train Epoch:   3 [  8000/ 60000 (13%)]\tLoss: 0.029030\n",
      "Train Epoch:   3 [  9600/ 60000 (16%)]\tLoss: 0.091916\n",
      "Train Epoch:   3 [ 11200/ 60000 (19%)]\tLoss: 0.210101\n",
      "Train Epoch:   3 [ 12800/ 60000 (21%)]\tLoss: 0.090693\n",
      "Train Epoch:   3 [ 14400/ 60000 (24%)]\tLoss: 0.064465\n",
      "Train Epoch:   3 [ 16000/ 60000 (27%)]\tLoss: 0.016637\n",
      "Train Epoch:   3 [ 17600/ 60000 (29%)]\tLoss: 0.046512\n",
      "Train Epoch:   3 [ 19200/ 60000 (32%)]\tLoss: 0.108427\n",
      "Train Epoch:   3 [ 20800/ 60000 (35%)]\tLoss: 0.002570\n",
      "Train Epoch:   3 [ 22400/ 60000 (37%)]\tLoss: 0.043141\n",
      "Train Epoch:   3 [ 24000/ 60000 (40%)]\tLoss: 0.025231\n",
      "Train Epoch:   3 [ 25600/ 60000 (43%)]\tLoss: 0.045005\n",
      "Train Epoch:   3 [ 27200/ 60000 (45%)]\tLoss: 0.041983\n",
      "Train Epoch:   3 [ 28800/ 60000 (48%)]\tLoss: 0.013627\n",
      "Train Epoch:   3 [ 30400/ 60000 (51%)]\tLoss: 0.010440\n",
      "Train Epoch:   3 [ 32000/ 60000 (53%)]\tLoss: 0.049513\n",
      "Train Epoch:   3 [ 33600/ 60000 (56%)]\tLoss: 0.104559\n",
      "Train Epoch:   3 [ 35200/ 60000 (59%)]\tLoss: 0.076331\n",
      "Train Epoch:   3 [ 36800/ 60000 (61%)]\tLoss: 0.004153\n",
      "Train Epoch:   3 [ 38400/ 60000 (64%)]\tLoss: 0.138952\n",
      "Train Epoch:   3 [ 40000/ 60000 (67%)]\tLoss: 0.014162\n",
      "Train Epoch:   3 [ 41600/ 60000 (69%)]\tLoss: 0.012338\n",
      "Train Epoch:   3 [ 43200/ 60000 (72%)]\tLoss: 0.039044\n",
      "Train Epoch:   3 [ 44800/ 60000 (75%)]\tLoss: 0.013866\n",
      "Train Epoch:   3 [ 46400/ 60000 (77%)]\tLoss: 0.139976\n",
      "Train Epoch:   3 [ 48000/ 60000 (80%)]\tLoss: 0.066113\n",
      "Train Epoch:   3 [ 49600/ 60000 (83%)]\tLoss: 0.029813\n",
      "Train Epoch:   3 [ 51200/ 60000 (85%)]\tLoss: 0.050681\n",
      "Train Epoch:   3 [ 52800/ 60000 (88%)]\tLoss: 0.252202\n",
      "Train Epoch:   3 [ 54400/ 60000 (91%)]\tLoss: 0.012373\n",
      "Train Epoch:   3 [ 56000/ 60000 (93%)]\tLoss: 0.148907\n",
      "Train Epoch:   3 [ 57600/ 60000 (96%)]\tLoss: 0.002902\n",
      "Train Epoch:   3 [ 59200/ 60000 (99%)]\tLoss: 0.011924\n",
      "\n",
      "Test set: Average loss: 0.0962, Accuracy:   9696/ 10000 (97%)\n",
      "\n",
      "Train Epoch:   4 [     0/ 60000 (0%)]\tLoss: 0.001960\n",
      "Train Epoch:   4 [  1600/ 60000 (3%)]\tLoss: 0.548326\n",
      "Train Epoch:   4 [  3200/ 60000 (5%)]\tLoss: 0.056186\n",
      "Train Epoch:   4 [  4800/ 60000 (8%)]\tLoss: 0.009425\n",
      "Train Epoch:   4 [  6400/ 60000 (11%)]\tLoss: 0.003170\n",
      "Train Epoch:   4 [  8000/ 60000 (13%)]\tLoss: 0.013045\n",
      "Train Epoch:   4 [  9600/ 60000 (16%)]\tLoss: 0.022796\n",
      "Train Epoch:   4 [ 11200/ 60000 (19%)]\tLoss: 0.220784\n",
      "Train Epoch:   4 [ 12800/ 60000 (21%)]\tLoss: 0.034745\n",
      "Train Epoch:   4 [ 14400/ 60000 (24%)]\tLoss: 0.015440\n",
      "Train Epoch:   4 [ 16000/ 60000 (27%)]\tLoss: 0.003859\n",
      "Train Epoch:   4 [ 17600/ 60000 (29%)]\tLoss: 0.022196\n",
      "Train Epoch:   4 [ 19200/ 60000 (32%)]\tLoss: 0.066161\n",
      "Train Epoch:   4 [ 20800/ 60000 (35%)]\tLoss: 0.001101\n",
      "Train Epoch:   4 [ 22400/ 60000 (37%)]\tLoss: 0.013408\n",
      "Train Epoch:   4 [ 24000/ 60000 (40%)]\tLoss: 0.032994\n",
      "Train Epoch:   4 [ 25600/ 60000 (43%)]\tLoss: 0.039613\n",
      "Train Epoch:   4 [ 27200/ 60000 (45%)]\tLoss: 0.013018\n",
      "Train Epoch:   4 [ 28800/ 60000 (48%)]\tLoss: 0.006349\n",
      "Train Epoch:   4 [ 30400/ 60000 (51%)]\tLoss: 0.001446\n",
      "Train Epoch:   4 [ 32000/ 60000 (53%)]\tLoss: 0.019731\n",
      "Train Epoch:   4 [ 33600/ 60000 (56%)]\tLoss: 0.035560\n",
      "Train Epoch:   4 [ 35200/ 60000 (59%)]\tLoss: 0.020026\n",
      "Train Epoch:   4 [ 36800/ 60000 (61%)]\tLoss: 0.000587\n",
      "Train Epoch:   4 [ 38400/ 60000 (64%)]\tLoss: 0.068591\n",
      "Train Epoch:   4 [ 40000/ 60000 (67%)]\tLoss: 0.011160\n",
      "Train Epoch:   4 [ 41600/ 60000 (69%)]\tLoss: 0.005485\n",
      "Train Epoch:   4 [ 43200/ 60000 (72%)]\tLoss: 0.051752\n",
      "Train Epoch:   4 [ 44800/ 60000 (75%)]\tLoss: 0.002174\n",
      "Train Epoch:   4 [ 46400/ 60000 (77%)]\tLoss: 0.078919\n",
      "Train Epoch:   4 [ 48000/ 60000 (80%)]\tLoss: 0.037836\n",
      "Train Epoch:   4 [ 49600/ 60000 (83%)]\tLoss: 0.003622\n"
     ]
    },
    {
     "name": "stdout",
     "output_type": "stream",
     "text": [
      "Train Epoch:   4 [ 51200/ 60000 (85%)]\tLoss: 0.023423\n",
      "Train Epoch:   4 [ 52800/ 60000 (88%)]\tLoss: 0.181666\n",
      "Train Epoch:   4 [ 54400/ 60000 (91%)]\tLoss: 0.010917\n",
      "Train Epoch:   4 [ 56000/ 60000 (93%)]\tLoss: 0.038075\n",
      "Train Epoch:   4 [ 57600/ 60000 (96%)]\tLoss: 0.001806\n",
      "Train Epoch:   4 [ 59200/ 60000 (99%)]\tLoss: 0.006408\n",
      "\n",
      "Test set: Average loss: 0.0844, Accuracy:   9734/ 10000 (97%)\n",
      "\n",
      "Train Epoch:   5 [     0/ 60000 (0%)]\tLoss: 0.002814\n",
      "Train Epoch:   5 [  1600/ 60000 (3%)]\tLoss: 0.512003\n",
      "Train Epoch:   5 [  3200/ 60000 (5%)]\tLoss: 0.026520\n",
      "Train Epoch:   5 [  4800/ 60000 (8%)]\tLoss: 0.014745\n",
      "Train Epoch:   5 [  6400/ 60000 (11%)]\tLoss: 0.001310\n",
      "Train Epoch:   5 [  8000/ 60000 (13%)]\tLoss: 0.010484\n",
      "Train Epoch:   5 [  9600/ 60000 (16%)]\tLoss: 0.008093\n",
      "Train Epoch:   5 [ 11200/ 60000 (19%)]\tLoss: 0.122102\n",
      "Train Epoch:   5 [ 12800/ 60000 (21%)]\tLoss: 0.013142\n",
      "Train Epoch:   5 [ 14400/ 60000 (24%)]\tLoss: 0.007799\n",
      "Train Epoch:   5 [ 16000/ 60000 (27%)]\tLoss: 0.000806\n",
      "Train Epoch:   5 [ 17600/ 60000 (29%)]\tLoss: 0.012897\n",
      "Train Epoch:   5 [ 19200/ 60000 (32%)]\tLoss: 0.022328\n",
      "Train Epoch:   5 [ 20800/ 60000 (35%)]\tLoss: 0.000418\n",
      "Train Epoch:   5 [ 22400/ 60000 (37%)]\tLoss: 0.007143\n",
      "Train Epoch:   5 [ 24000/ 60000 (40%)]\tLoss: 0.010517\n",
      "Train Epoch:   5 [ 25600/ 60000 (43%)]\tLoss: 0.032396\n",
      "Train Epoch:   5 [ 27200/ 60000 (45%)]\tLoss: 0.006996\n",
      "Train Epoch:   5 [ 28800/ 60000 (48%)]\tLoss: 0.002124\n",
      "Train Epoch:   5 [ 30400/ 60000 (51%)]\tLoss: 0.000855\n",
      "Train Epoch:   5 [ 32000/ 60000 (53%)]\tLoss: 0.013766\n",
      "Train Epoch:   5 [ 33600/ 60000 (56%)]\tLoss: 0.012135\n",
      "Train Epoch:   5 [ 35200/ 60000 (59%)]\tLoss: 0.004605\n",
      "Train Epoch:   5 [ 36800/ 60000 (61%)]\tLoss: 0.000302\n",
      "Train Epoch:   5 [ 38400/ 60000 (64%)]\tLoss: 0.038021\n",
      "Train Epoch:   5 [ 40000/ 60000 (67%)]\tLoss: 0.003659\n",
      "Train Epoch:   5 [ 41600/ 60000 (69%)]\tLoss: 0.003614\n",
      "Train Epoch:   5 [ 43200/ 60000 (72%)]\tLoss: 0.080007\n",
      "Train Epoch:   5 [ 44800/ 60000 (75%)]\tLoss: 0.000974\n",
      "Train Epoch:   5 [ 46400/ 60000 (77%)]\tLoss: 0.043035\n",
      "Train Epoch:   5 [ 48000/ 60000 (80%)]\tLoss: 0.007572\n",
      "Train Epoch:   5 [ 49600/ 60000 (83%)]\tLoss: 0.003868\n",
      "Train Epoch:   5 [ 51200/ 60000 (85%)]\tLoss: 0.004054\n",
      "Train Epoch:   5 [ 52800/ 60000 (88%)]\tLoss: 0.114385\n",
      "Train Epoch:   5 [ 54400/ 60000 (91%)]\tLoss: 0.004748\n",
      "Train Epoch:   5 [ 56000/ 60000 (93%)]\tLoss: 0.030538\n",
      "Train Epoch:   5 [ 57600/ 60000 (96%)]\tLoss: 0.001804\n",
      "Train Epoch:   5 [ 59200/ 60000 (99%)]\tLoss: 0.003878\n",
      "\n",
      "Test set: Average loss: 0.0778, Accuracy:   9783/ 10000 (98%)\n",
      "\n",
      "Train Epoch:   6 [     0/ 60000 (0%)]\tLoss: 0.003619\n",
      "Train Epoch:   6 [  1600/ 60000 (3%)]\tLoss: 0.526902\n",
      "Train Epoch:   6 [  3200/ 60000 (5%)]\tLoss: 0.003170\n",
      "Train Epoch:   6 [  4800/ 60000 (8%)]\tLoss: 0.007675\n",
      "Train Epoch:   6 [  6400/ 60000 (11%)]\tLoss: 0.000273\n",
      "Train Epoch:   6 [  8000/ 60000 (13%)]\tLoss: 0.012134\n",
      "Train Epoch:   6 [  9600/ 60000 (16%)]\tLoss: 0.003598\n",
      "Train Epoch:   6 [ 11200/ 60000 (19%)]\tLoss: 0.083288\n",
      "Train Epoch:   6 [ 12800/ 60000 (21%)]\tLoss: 0.015411\n",
      "Train Epoch:   6 [ 14400/ 60000 (24%)]\tLoss: 0.004539\n",
      "Train Epoch:   6 [ 16000/ 60000 (27%)]\tLoss: 0.000671\n",
      "Train Epoch:   6 [ 17600/ 60000 (29%)]\tLoss: 0.006066\n",
      "Train Epoch:   6 [ 19200/ 60000 (32%)]\tLoss: 0.063423\n",
      "Train Epoch:   6 [ 20800/ 60000 (35%)]\tLoss: 0.000146\n",
      "Train Epoch:   6 [ 22400/ 60000 (37%)]\tLoss: 0.008402\n",
      "Train Epoch:   6 [ 24000/ 60000 (40%)]\tLoss: 0.024737\n",
      "Train Epoch:   6 [ 25600/ 60000 (43%)]\tLoss: 0.060081\n",
      "Train Epoch:   6 [ 27200/ 60000 (45%)]\tLoss: 0.006325\n",
      "Train Epoch:   6 [ 28800/ 60000 (48%)]\tLoss: 0.004491\n",
      "Train Epoch:   6 [ 30400/ 60000 (51%)]\tLoss: 0.000749\n",
      "Train Epoch:   6 [ 32000/ 60000 (53%)]\tLoss: 0.005555\n",
      "Train Epoch:   6 [ 33600/ 60000 (56%)]\tLoss: 0.005876\n",
      "Train Epoch:   6 [ 35200/ 60000 (59%)]\tLoss: 0.002083\n",
      "Train Epoch:   6 [ 36800/ 60000 (61%)]\tLoss: 0.000214\n",
      "Train Epoch:   6 [ 38400/ 60000 (64%)]\tLoss: 0.060526\n",
      "Train Epoch:   6 [ 40000/ 60000 (67%)]\tLoss: 0.001981\n",
      "Train Epoch:   6 [ 41600/ 60000 (69%)]\tLoss: 0.002409\n",
      "Train Epoch:   6 [ 43200/ 60000 (72%)]\tLoss: 0.143626\n",
      "Train Epoch:   6 [ 44800/ 60000 (75%)]\tLoss: 0.000412\n",
      "Train Epoch:   6 [ 46400/ 60000 (77%)]\tLoss: 0.017533\n",
      "Train Epoch:   6 [ 48000/ 60000 (80%)]\tLoss: 0.005418\n",
      "Train Epoch:   6 [ 49600/ 60000 (83%)]\tLoss: 0.000827\n",
      "Train Epoch:   6 [ 51200/ 60000 (85%)]\tLoss: 0.001100\n",
      "Train Epoch:   6 [ 52800/ 60000 (88%)]\tLoss: 0.051388\n",
      "Train Epoch:   6 [ 54400/ 60000 (91%)]\tLoss: 0.001435\n",
      "Train Epoch:   6 [ 56000/ 60000 (93%)]\tLoss: 0.048184\n",
      "Train Epoch:   6 [ 57600/ 60000 (96%)]\tLoss: 0.000272\n",
      "Train Epoch:   6 [ 59200/ 60000 (99%)]\tLoss: 0.006999\n",
      "\n",
      "Test set: Average loss: 0.0768, Accuracy:   9783/ 10000 (98%)\n",
      "\n",
      "Train Epoch:   7 [     0/ 60000 (0%)]\tLoss: 0.002397\n",
      "Train Epoch:   7 [  1600/ 60000 (3%)]\tLoss: 0.314711\n",
      "Train Epoch:   7 [  3200/ 60000 (5%)]\tLoss: 0.001668\n",
      "Train Epoch:   7 [  4800/ 60000 (8%)]\tLoss: 0.007937\n",
      "Train Epoch:   7 [  6400/ 60000 (11%)]\tLoss: 0.000143\n",
      "Train Epoch:   7 [  8000/ 60000 (13%)]\tLoss: 0.024422\n",
      "Train Epoch:   7 [  9600/ 60000 (16%)]\tLoss: 0.003855\n",
      "Train Epoch:   7 [ 11200/ 60000 (19%)]\tLoss: 0.062364\n",
      "Train Epoch:   7 [ 12800/ 60000 (21%)]\tLoss: 0.005639\n",
      "Train Epoch:   7 [ 14400/ 60000 (24%)]\tLoss: 0.002559\n",
      "Train Epoch:   7 [ 16000/ 60000 (27%)]\tLoss: 0.000198\n",
      "Train Epoch:   7 [ 17600/ 60000 (29%)]\tLoss: 0.004215\n",
      "Train Epoch:   7 [ 19200/ 60000 (32%)]\tLoss: 0.009448\n",
      "Train Epoch:   7 [ 20800/ 60000 (35%)]\tLoss: 0.000064\n",
      "Train Epoch:   7 [ 22400/ 60000 (37%)]\tLoss: 0.008190\n",
      "Train Epoch:   7 [ 24000/ 60000 (40%)]\tLoss: 0.004259\n",
      "Train Epoch:   7 [ 25600/ 60000 (43%)]\tLoss: 0.013830\n",
      "Train Epoch:   7 [ 27200/ 60000 (45%)]\tLoss: 0.008121\n",
      "Train Epoch:   7 [ 28800/ 60000 (48%)]\tLoss: 0.003212\n",
      "Train Epoch:   7 [ 30400/ 60000 (51%)]\tLoss: 0.000132\n",
      "Train Epoch:   7 [ 32000/ 60000 (53%)]\tLoss: 0.004001\n",
      "Train Epoch:   7 [ 33600/ 60000 (56%)]\tLoss: 0.001961\n",
      "Train Epoch:   7 [ 35200/ 60000 (59%)]\tLoss: 0.000985\n",
      "Train Epoch:   7 [ 36800/ 60000 (61%)]\tLoss: 0.000191\n",
      "Train Epoch:   7 [ 38400/ 60000 (64%)]\tLoss: 0.006395\n",
      "Train Epoch:   7 [ 40000/ 60000 (67%)]\tLoss: 0.000351\n",
      "Train Epoch:   7 [ 41600/ 60000 (69%)]\tLoss: 0.003968\n",
      "Train Epoch:   7 [ 43200/ 60000 (72%)]\tLoss: 0.086716\n",
      "Train Epoch:   7 [ 44800/ 60000 (75%)]\tLoss: 0.000500\n",
      "Train Epoch:   7 [ 46400/ 60000 (77%)]\tLoss: 0.034570\n",
      "Train Epoch:   7 [ 48000/ 60000 (80%)]\tLoss: 0.005041\n",
      "Train Epoch:   7 [ 49600/ 60000 (83%)]\tLoss: 0.001785\n",
      "Train Epoch:   7 [ 51200/ 60000 (85%)]\tLoss: 0.000638\n",
      "Train Epoch:   7 [ 52800/ 60000 (88%)]\tLoss: 0.018463\n",
      "Train Epoch:   7 [ 54400/ 60000 (91%)]\tLoss: 0.000271\n",
      "Train Epoch:   7 [ 56000/ 60000 (93%)]\tLoss: 0.011451\n",
      "Train Epoch:   7 [ 57600/ 60000 (96%)]\tLoss: 0.000470\n",
      "Train Epoch:   7 [ 59200/ 60000 (99%)]\tLoss: 0.003112\n",
      "\n",
      "Test set: Average loss: 0.0827, Accuracy:   9775/ 10000 (98%)\n",
      "\n",
      "Train Epoch:   8 [     0/ 60000 (0%)]\tLoss: 0.001259\n",
      "Train Epoch:   8 [  1600/ 60000 (3%)]\tLoss: 0.262393\n",
      "Train Epoch:   8 [  3200/ 60000 (5%)]\tLoss: 0.000937\n",
      "Train Epoch:   8 [  4800/ 60000 (8%)]\tLoss: 0.005972\n",
      "Train Epoch:   8 [  6400/ 60000 (11%)]\tLoss: 0.000166\n",
      "Train Epoch:   8 [  8000/ 60000 (13%)]\tLoss: 0.016059\n",
      "Train Epoch:   8 [  9600/ 60000 (16%)]\tLoss: 0.002125\n",
      "Train Epoch:   8 [ 11200/ 60000 (19%)]\tLoss: 0.016140\n",
      "Train Epoch:   8 [ 12800/ 60000 (21%)]\tLoss: 0.006435\n",
      "Train Epoch:   8 [ 14400/ 60000 (24%)]\tLoss: 0.001479\n",
      "Train Epoch:   8 [ 16000/ 60000 (27%)]\tLoss: 0.000096\n",
      "Train Epoch:   8 [ 17600/ 60000 (29%)]\tLoss: 0.004538\n",
      "Train Epoch:   8 [ 19200/ 60000 (32%)]\tLoss: 0.022172\n",
      "Train Epoch:   8 [ 20800/ 60000 (35%)]\tLoss: 0.000064\n",
      "Train Epoch:   8 [ 22400/ 60000 (37%)]\tLoss: 0.000045\n",
      "Train Epoch:   8 [ 24000/ 60000 (40%)]\tLoss: 0.002783\n",
      "Train Epoch:   8 [ 25600/ 60000 (43%)]\tLoss: 0.005793\n",
      "Train Epoch:   8 [ 27200/ 60000 (45%)]\tLoss: 0.003763\n",
      "Train Epoch:   8 [ 28800/ 60000 (48%)]\tLoss: 0.001878\n",
      "Train Epoch:   8 [ 30400/ 60000 (51%)]\tLoss: 0.000124\n",
      "Train Epoch:   8 [ 32000/ 60000 (53%)]\tLoss: 0.002652\n",
      "Train Epoch:   8 [ 33600/ 60000 (56%)]\tLoss: 0.005592\n",
      "Train Epoch:   8 [ 35200/ 60000 (59%)]\tLoss: 0.003699\n",
      "Train Epoch:   8 [ 36800/ 60000 (61%)]\tLoss: 0.000083\n",
      "Train Epoch:   8 [ 38400/ 60000 (64%)]\tLoss: 0.008376\n",
      "Train Epoch:   8 [ 40000/ 60000 (67%)]\tLoss: 0.000385\n",
      "Train Epoch:   8 [ 41600/ 60000 (69%)]\tLoss: 0.000438\n",
      "Train Epoch:   8 [ 43200/ 60000 (72%)]\tLoss: 0.098978\n"
     ]
    },
    {
     "name": "stdout",
     "output_type": "stream",
     "text": [
      "Train Epoch:   8 [ 44800/ 60000 (75%)]\tLoss: 0.000124\n",
      "Train Epoch:   8 [ 46400/ 60000 (77%)]\tLoss: 0.007737\n",
      "Train Epoch:   8 [ 48000/ 60000 (80%)]\tLoss: 0.006459\n",
      "Train Epoch:   8 [ 49600/ 60000 (83%)]\tLoss: 0.000280\n",
      "Train Epoch:   8 [ 51200/ 60000 (85%)]\tLoss: 0.000520\n",
      "Train Epoch:   8 [ 52800/ 60000 (88%)]\tLoss: 0.013046\n",
      "Train Epoch:   8 [ 54400/ 60000 (91%)]\tLoss: 0.000862\n",
      "Train Epoch:   8 [ 56000/ 60000 (93%)]\tLoss: 0.012621\n",
      "Train Epoch:   8 [ 57600/ 60000 (96%)]\tLoss: 0.000270\n",
      "Train Epoch:   8 [ 59200/ 60000 (99%)]\tLoss: 0.010056\n",
      "\n",
      "Test set: Average loss: 0.0832, Accuracy:   9791/ 10000 (98%)\n",
      "\n",
      "Train Epoch:   9 [     0/ 60000 (0%)]\tLoss: 0.000614\n",
      "Train Epoch:   9 [  1600/ 60000 (3%)]\tLoss: 0.231478\n",
      "Train Epoch:   9 [  3200/ 60000 (5%)]\tLoss: 0.001956\n",
      "Train Epoch:   9 [  4800/ 60000 (8%)]\tLoss: 0.003655\n",
      "Train Epoch:   9 [  6400/ 60000 (11%)]\tLoss: 0.000067\n",
      "Train Epoch:   9 [  8000/ 60000 (13%)]\tLoss: 0.002336\n",
      "Train Epoch:   9 [  9600/ 60000 (16%)]\tLoss: 0.000362\n",
      "Train Epoch:   9 [ 11200/ 60000 (19%)]\tLoss: 0.004543\n",
      "Train Epoch:   9 [ 12800/ 60000 (21%)]\tLoss: 0.012023\n",
      "Train Epoch:   9 [ 14400/ 60000 (24%)]\tLoss: 0.003091\n",
      "Train Epoch:   9 [ 16000/ 60000 (27%)]\tLoss: 0.000109\n",
      "Train Epoch:   9 [ 17600/ 60000 (29%)]\tLoss: 0.001954\n",
      "Train Epoch:   9 [ 19200/ 60000 (32%)]\tLoss: 0.000900\n",
      "Train Epoch:   9 [ 20800/ 60000 (35%)]\tLoss: 0.000087\n",
      "Train Epoch:   9 [ 22400/ 60000 (37%)]\tLoss: 0.000071\n",
      "Train Epoch:   9 [ 24000/ 60000 (40%)]\tLoss: 0.001935\n",
      "Train Epoch:   9 [ 25600/ 60000 (43%)]\tLoss: 0.001578\n",
      "Train Epoch:   9 [ 27200/ 60000 (45%)]\tLoss: 0.006156\n",
      "Train Epoch:   9 [ 28800/ 60000 (48%)]\tLoss: 0.000166\n",
      "Train Epoch:   9 [ 30400/ 60000 (51%)]\tLoss: 0.000121\n",
      "Train Epoch:   9 [ 32000/ 60000 (53%)]\tLoss: 0.002381\n",
      "Train Epoch:   9 [ 33600/ 60000 (56%)]\tLoss: 0.001303\n",
      "Train Epoch:   9 [ 35200/ 60000 (59%)]\tLoss: 0.007768\n",
      "Train Epoch:   9 [ 36800/ 60000 (61%)]\tLoss: 0.000056\n",
      "Train Epoch:   9 [ 38400/ 60000 (64%)]\tLoss: 0.002878\n",
      "Train Epoch:   9 [ 40000/ 60000 (67%)]\tLoss: 0.000172\n",
      "Train Epoch:   9 [ 41600/ 60000 (69%)]\tLoss: 0.000146\n",
      "Train Epoch:   9 [ 43200/ 60000 (72%)]\tLoss: 0.010599\n",
      "Train Epoch:   9 [ 44800/ 60000 (75%)]\tLoss: 0.000175\n",
      "Train Epoch:   9 [ 46400/ 60000 (77%)]\tLoss: 0.000754\n",
      "Train Epoch:   9 [ 48000/ 60000 (80%)]\tLoss: 0.009841\n",
      "Train Epoch:   9 [ 49600/ 60000 (83%)]\tLoss: 0.011104\n",
      "Train Epoch:   9 [ 51200/ 60000 (85%)]\tLoss: 0.000078\n",
      "Train Epoch:   9 [ 52800/ 60000 (88%)]\tLoss: 0.004427\n",
      "Train Epoch:   9 [ 54400/ 60000 (91%)]\tLoss: 0.000347\n",
      "Train Epoch:   9 [ 56000/ 60000 (93%)]\tLoss: 0.009132\n",
      "Train Epoch:   9 [ 57600/ 60000 (96%)]\tLoss: 0.000204\n",
      "Train Epoch:   9 [ 59200/ 60000 (99%)]\tLoss: 0.000559\n",
      "\n",
      "Test set: Average loss: 0.0828, Accuracy:   9780/ 10000 (98%)\n",
      "\n",
      "Train Epoch:  10 [     0/ 60000 (0%)]\tLoss: 0.100904\n",
      "Train Epoch:  10 [  1600/ 60000 (3%)]\tLoss: 0.036009\n",
      "Train Epoch:  10 [  3200/ 60000 (5%)]\tLoss: 0.000463\n",
      "Train Epoch:  10 [  4800/ 60000 (8%)]\tLoss: 0.003763\n",
      "Train Epoch:  10 [  6400/ 60000 (11%)]\tLoss: 0.000027\n",
      "Train Epoch:  10 [  8000/ 60000 (13%)]\tLoss: 0.006278\n",
      "Train Epoch:  10 [  9600/ 60000 (16%)]\tLoss: 0.015149\n",
      "Train Epoch:  10 [ 11200/ 60000 (19%)]\tLoss: 0.004484\n",
      "Train Epoch:  10 [ 12800/ 60000 (21%)]\tLoss: 0.008697\n",
      "Train Epoch:  10 [ 14400/ 60000 (24%)]\tLoss: 0.002102\n",
      "Train Epoch:  10 [ 16000/ 60000 (27%)]\tLoss: 0.000066\n",
      "Train Epoch:  10 [ 17600/ 60000 (29%)]\tLoss: 0.003818\n",
      "Train Epoch:  10 [ 19200/ 60000 (32%)]\tLoss: 0.006219\n",
      "Train Epoch:  10 [ 20800/ 60000 (35%)]\tLoss: 0.000020\n",
      "Train Epoch:  10 [ 22400/ 60000 (37%)]\tLoss: 0.000092\n",
      "Train Epoch:  10 [ 24000/ 60000 (40%)]\tLoss: 0.006958\n",
      "Train Epoch:  10 [ 25600/ 60000 (43%)]\tLoss: 0.003062\n",
      "Train Epoch:  10 [ 27200/ 60000 (45%)]\tLoss: 0.002542\n",
      "Train Epoch:  10 [ 28800/ 60000 (48%)]\tLoss: 0.000226\n",
      "Train Epoch:  10 [ 30400/ 60000 (51%)]\tLoss: 0.000187\n",
      "Train Epoch:  10 [ 32000/ 60000 (53%)]\tLoss: 0.005608\n",
      "Train Epoch:  10 [ 33600/ 60000 (56%)]\tLoss: 0.000871\n",
      "Train Epoch:  10 [ 35200/ 60000 (59%)]\tLoss: 0.003245\n",
      "Train Epoch:  10 [ 36800/ 60000 (61%)]\tLoss: 0.000047\n",
      "Train Epoch:  10 [ 38400/ 60000 (64%)]\tLoss: 0.001844\n",
      "Train Epoch:  10 [ 40000/ 60000 (67%)]\tLoss: 0.000297\n",
      "Train Epoch:  10 [ 41600/ 60000 (69%)]\tLoss: 0.000306\n",
      "Train Epoch:  10 [ 43200/ 60000 (72%)]\tLoss: 0.017966\n",
      "Train Epoch:  10 [ 44800/ 60000 (75%)]\tLoss: 0.000200\n",
      "Train Epoch:  10 [ 46400/ 60000 (77%)]\tLoss: 0.028826\n",
      "Train Epoch:  10 [ 48000/ 60000 (80%)]\tLoss: 0.000828\n",
      "Train Epoch:  10 [ 49600/ 60000 (83%)]\tLoss: 0.001151\n",
      "Train Epoch:  10 [ 51200/ 60000 (85%)]\tLoss: 0.000157\n",
      "Train Epoch:  10 [ 52800/ 60000 (88%)]\tLoss: 0.005618\n",
      "Train Epoch:  10 [ 54400/ 60000 (91%)]\tLoss: 0.000143\n",
      "Train Epoch:  10 [ 56000/ 60000 (93%)]\tLoss: 0.029538\n",
      "Train Epoch:  10 [ 57600/ 60000 (96%)]\tLoss: 0.002266\n",
      "Train Epoch:  10 [ 59200/ 60000 (99%)]\tLoss: 0.000458\n",
      "\n",
      "Test set: Average loss: 0.0863, Accuracy:   9797/ 10000 (98%)\n",
      "\n",
      "Saved final model to: out/LeNet_300_100-unbiased-24_10_2019-19:17:44/snapshots/10\n",
      "Saved validation accuracies to: out/LeNet_300_100-unbiased-24_10_2019-19:17:44/metrics/training/accuracies.npy\n"
     ]
    }
   ],
   "source": [
    "e = Experiment(model, criterion, optimizer, optim_kwargs)\n",
    "test_accuracies = e.fit(trainloader, testloader, epochs, save_results=True)"
   ]
  },
  {
   "cell_type": "markdown",
   "metadata": {},
   "source": [
    "### Look at the results"
   ]
  },
  {
   "cell_type": "code",
   "execution_count": 8,
   "metadata": {},
   "outputs": [
    {
     "data": {
      "image/png": "[encoded data removed]",
      "text/plain": [
       "<Figure size 432x288 with 1 Axes>"
      ]
     },
     "metadata": {
      "needs_background": "light"
     },
     "output_type": "display_data"
    }
   ],
   "source": [
    "plt.plot(test_accuracies)\n",
    "plt.title('Testset accuracy')\n",
    "plt.xlabel('Epoch')\n",
    "plt.ylabel('Accuracy (%)')\n",
    "plt.show()"
   ]
  },
  {
   "cell_type": "code",
   "execution_count": 5,
   "metadata": {
    "scrolled": true
   },
   "outputs": [
    {
     "name": "stdout",
     "output_type": "stream",
     "text": [
      "Saved frame potentials to: out/LeNet_300_100-unbiased-24_10_2019-19:17:44/metrics/training/frame_potentials-fc1.npy\n",
      "Saved inner products to: out/LeNet_300_100-unbiased-24_10_2019-19:17:44/metrics/training/inner_products-fc1.npy\n",
      "Saved weight vector norms to: out/LeNet_300_100-unbiased-24_10_2019-19:17:44/metrics/training/weight_norms-fc1.npy\n",
      "Saved frame potentials to: out/LeNet_300_100-unbiased-24_10_2019-19:17:44/metrics/training/frame_potentials-fc2.npy\n",
      "Saved inner products to: out/LeNet_300_100-unbiased-24_10_2019-19:17:44/metrics/training/inner_products-fc2.npy\n",
      "Saved weight vector norms to: out/LeNet_300_100-unbiased-24_10_2019-19:17:44/metrics/training/weight_norms-fc2.npy\n",
      "Saved frame potentials to: out/LeNet_300_100-unbiased-24_10_2019-19:17:44/metrics/training/frame_potentials-fc3.npy\n",
      "Saved inner products to: out/LeNet_300_100-unbiased-24_10_2019-19:17:44/metrics/training/inner_products-fc3.npy\n",
      "Saved weight vector norms to: out/LeNet_300_100-unbiased-24_10_2019-19:17:44/metrics/training/weight_norms-fc3.npy\n"
     ]
    }
   ],
   "source": [
    "output_dir = \"out/LeNet_300_100-unbiased-24_10_2019-19:17:44\"\n",
    "s = Snapshots(output_dir, model_class)\n",
    "\n",
    "fp_paths = {}\n",
    "ip_paths = {}\n",
    "norms_paths = {}\n",
    "for layer in layers:\n",
    "    fp_path, ip_path, norms_path = s.save_computed_metrics(layer)\n",
    "    fp_paths[layer] = fp_path\n",
    "    ip_paths[layer] = ip_path\n",
    "    norms_paths[layer] = norms_path"
   ]
  },
  {
   "cell_type": "code",
   "execution_count": 6,
   "metadata": {},
   "outputs": [
    {
     "data": {
      "image/png": "[encoded data removed]",
      "text/plain": [
       "<Figure size 1440x360 with 3 Axes>"
      ]
     },
     "metadata": {
      "needs_background": "light"
     },
     "output_type": "display_data"
    }
   ],
   "source": [
    "helpers.plot_train_fps(fp_paths, layers)"
   ]
  },
  {
   "cell_type": "markdown",
   "metadata": {},
   "source": [
    "### Analysis of a layer"
   ]
  },
  {
   "cell_type": "code",
   "execution_count": 7,
   "metadata": {},
   "outputs": [],
   "source": [
    "layer = layers[0]"
   ]
  },
  {
   "cell_type": "code",
   "execution_count": 8,
   "metadata": {},
   "outputs": [
    {
     "data": {
      "image/png": "[encoded data removed]",
      "text/plain": [
       "<Figure size 1440x504 with 2 Axes>"
      ]
     },
     "metadata": {
      "needs_background": "light"
     },
     "output_type": "display_data"
    }
   ],
   "source": [
    "inner_products = np.load(ip_paths[layer])\n",
    "adjacency, kernel_width = statistics.weight_dist(inner_products)"
   ]
  },
  {
   "cell_type": "code",
   "execution_count": 9,
   "metadata": {},
   "outputs": [],
   "source": [
    "weight_norms = np.load(norms_paths[layer])"
   ]
  },
  {
   "cell_type": "markdown",
   "metadata": {},
   "source": [
    "## CIFAR-10 / Conv-2"
   ]
  },
  {
   "cell_type": "markdown",
   "metadata": {},
   "source": [
    "### Loading the data"
   ]
  },
  {
   "cell_type": "code",
   "execution_count": null,
   "metadata": {},
   "outputs": [],
   "source": [
    "train_batch_size = 64\n",
    "test_batch_size = 1000"
   ]
  },
  {
   "cell_type": "code",
   "execution_count": null,
   "metadata": {},
   "outputs": [],
   "source": [
    "trainloader, testloader, classes = get_cifar(train_batch_size, test_batch_size)"
   ]
  },
  {
   "cell_type": "markdown",
   "metadata": {},
   "source": [
    "### Defining the model"
   ]
  },
  {
   "cell_type": "code",
   "execution_count": null,
   "metadata": {},
   "outputs": [],
   "source": [
    "class Conv2(PruningModule):\n",
    "    def __init__(self, bias=True):\n",
    "        super(Conv2, self).__init__(bias)\n",
    "        self.conv1 = MaskedConv2d(3, 64, 3, bias=bias)\n",
    "        self.conv2 = MaskedConv2d(64, 64, 3, bias=bias)\n",
    "        self.pool = nn.MaxPool2d(2, 2)\n",
    "\n",
    "        self.fc1 = MaskedLinear(64 * 14 * 14, 256, bias=bias)\n",
    "        self.fc2 = MaskedLinear(256, 256, bias=bias)\n",
    "        self.fc3 = MaskedLinear(256, 10, bias=bias)"
   ]
  }
 ],
 "metadata": {
  "kernelspec": {
   "display_name": "Python 3",
   "language": "python",
   "name": "python3"
  },
  "language_info": {
   "codemirror_mode": {
    "name": "ipython",
    "version": 3
   },
   "file_extension": ".py",
   "mimetype": "text/x-python",
   "name": "python",
   "nbconvert_exporter": "python",
   "pygments_lexer": "ipython3",
   "version": "3.7.4"
  }
 },
 "nbformat": 4,
 "nbformat_minor": 2
}
