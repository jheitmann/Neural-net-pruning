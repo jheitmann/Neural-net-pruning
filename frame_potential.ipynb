{
 "cells": [
  {
   "cell_type": "code",
   "execution_count": 1,
   "metadata": {
    "colab": {},
    "colab_type": "code",
    "id": "0RD6_n-QNE1H"
   },
   "outputs": [],
   "source": [
    "%matplotlib inline"
   ]
  },
  {
   "cell_type": "code",
   "execution_count": 2,
   "metadata": {
    "colab": {},
    "colab_type": "code",
    "id": "13-6rCuFNTxE"
   },
   "outputs": [],
   "source": [
    "import matplotlib.pyplot as plt\n",
    "import numpy as np\n",
    "import os\n",
    "import torch\n",
    "import torch.nn as nn\n",
    "import torchvision\n",
    "import torchvision.transforms as transforms\n",
    "import torch.optim as optim"
   ]
  },
  {
   "cell_type": "code",
   "execution_count": 3,
   "metadata": {},
   "outputs": [],
   "source": [
    "import common\n",
    "from models import LeNet_300_100, LeNet_300_100_Pruned\n",
    "from experiment import Experiment"
   ]
  },
  {
   "cell_type": "code",
   "execution_count": 4,
   "metadata": {},
   "outputs": [
    {
     "data": {
      "text/plain": [
       "<torch._C.Generator at 0x7fa4a65695d0>"
      ]
     },
     "execution_count": 4,
     "metadata": {},
     "output_type": "execute_result"
    }
   ],
   "source": [
    "np.random.seed(common.SEED)\n",
    "torch.manual_seed(common.SEED)"
   ]
  },
  {
   "cell_type": "code",
   "execution_count": 5,
   "metadata": {},
   "outputs": [],
   "source": [
    "def save_results(filenames, results):\n",
    "    pass"
   ]
  },
  {
   "cell_type": "markdown",
   "metadata": {
    "colab_type": "text",
    "id": "9jgispLCfQqo"
   },
   "source": [
    "## MNIST / Lenet 300-100-10"
   ]
  },
  {
   "cell_type": "code",
   "execution_count": 6,
   "metadata": {},
   "outputs": [],
   "source": [
    "train_batch_size = 64\n",
    "test_batch_size = 1000"
   ]
  },
  {
   "cell_type": "code",
   "execution_count": 7,
   "metadata": {
    "colab": {},
    "colab_type": "code",
    "id": "kSyjXtn_NYgk"
   },
   "outputs": [],
   "source": [
    "\"\"\"\n",
    "transform = transforms.Compose(\n",
    "    [transforms.ToTensor(),\n",
    "     transforms.Normalize((0.5,), (0.5,))])\n",
    "\n",
    "trainset = torchvision.datasets.MNIST(root='./data', train=True,\n",
    "                                        download=True, transform=transform)\n",
    "trainloader = torch.utils.data.DataLoader(trainset, batch_size=64,\n",
    "                                          shuffle=True, num_workers=2)\n",
    "\n",
    "testset = torchvision.datasets.MNIST(root='./data', train=False,\n",
    "                                       download=True, transform=transform)\n",
    "testloader = torch.utils.data.DataLoader(testset, batch_size=64,\n",
    "                                         shuffle=False, num_workers=2)\n",
    "\"\"\"\n",
    "\n",
    "transform = transforms.Compose(\n",
    "    [transforms.ToTensor(),\n",
    "     transforms.Normalize((0.1307,), (0.3081,))])\n",
    "\n",
    "trainset = torchvision.datasets.MNIST(root='./data', train=True, \n",
    "                          download=True, transform=transform)\n",
    "\n",
    "testset = torchvision.datasets.MNIST(root='./data', train=False, \n",
    "                         download=True, transform=transform)\n",
    "\n",
    "kwargs = {'num_workers': 1, 'pin_memory': True} if torch.cuda.is_available() else {}\n",
    "\n",
    "trainloader = torch.utils.data.DataLoader(trainset, batch_size=train_batch_size,\n",
    "                                           shuffle=True, **kwargs)\n",
    "testloader = torch.utils.data.DataLoader(testset, batch_size=test_batch_size,\n",
    "                                          shuffle=True, **kwargs)\n",
    "\n",
    "\n",
    "classes = ('0', '1', '2', '3', '4', '5', '6', '7', '8', '9')"
   ]
  },
  {
   "cell_type": "code",
   "execution_count": 8,
   "metadata": {},
   "outputs": [],
   "source": [
    "epochs = 30\n",
    "lr = 0.003\n",
    "momentum = 0.9"
   ]
  },
  {
   "cell_type": "code",
   "execution_count": 10,
   "metadata": {},
   "outputs": [],
   "source": [
    "model = LeNet_300_100()\n",
    "e = Experiment(trainloader, testloader, model)\n",
    "\n",
    "criterion = nn.CrossEntropyLoss()\n",
    "optimizer = optim.SGD(model.parameters(), lr=lr, momentum=momentum)\n",
    "monitored = ['fc1.weight', 'fc2.weight', 'fc3.weight']"
   ]
  },
  {
   "cell_type": "code",
   "execution_count": 8,
   "metadata": {},
   "outputs": [],
   "source": [
    "model = LeNet_300_100_Pruned()\n",
    "e = Experiment(trainloader, testloader, model)\n",
    "\n",
    "criterion = nn.CrossEntropyLoss()\n",
    "optimizer = optim.SGD(model.parameters(), lr=lr, momentum=momentum)\n",
    "monitored = ['fc1.weight', 'fc2.weight', 'fc3.weight']"
   ]
  },
  {
   "cell_type": "code",
   "execution_count": 9,
   "metadata": {
    "scrolled": true
   },
   "outputs": [
    {
     "data": {
      "text/plain": [
       "tensor([[1., 1., 1., 1., 1., 1., 1., 1., 1., 1., 1., 1., 1., 1., 1., 1., 1., 1.,\n",
       "         1., 1., 1., 1., 1., 1., 1., 1., 1., 1., 1., 1., 1., 1., 1., 1., 1., 1.,\n",
       "         1., 1., 1., 1., 1., 1., 1., 1., 1., 1., 1., 1., 1., 1., 1., 1., 1., 1.,\n",
       "         1., 1., 1., 1., 1., 1., 1., 1., 1., 1., 1., 1., 1., 1., 1., 1., 1., 1.,\n",
       "         1., 1., 1., 1., 1., 1., 1., 1., 1., 1., 1., 1., 1., 1., 1., 1., 1., 1.,\n",
       "         1., 1., 1., 1., 1., 1., 1., 1., 1., 1.],\n",
       "        [1., 1., 1., 1., 1., 1., 1., 1., 1., 1., 1., 1., 1., 1., 1., 1., 1., 1.,\n",
       "         1., 1., 1., 1., 1., 1., 1., 1., 1., 1., 1., 1., 1., 1., 1., 1., 1., 1.,\n",
       "         1., 1., 1., 1., 1., 1., 1., 1., 1., 1., 1., 1., 1., 1., 1., 1., 1., 1.,\n",
       "         1., 1., 1., 1., 1., 1., 1., 1., 1., 1., 1., 1., 1., 1., 1., 1., 1., 1.,\n",
       "         1., 1., 1., 1., 1., 1., 1., 1., 1., 1., 1., 1., 1., 1., 1., 1., 1., 1.,\n",
       "         1., 1., 1., 1., 1., 1., 1., 1., 1., 1.],\n",
       "        [1., 1., 1., 1., 1., 1., 1., 1., 1., 1., 1., 1., 1., 1., 1., 1., 1., 1.,\n",
       "         1., 1., 1., 1., 1., 1., 1., 1., 1., 1., 1., 1., 1., 1., 1., 1., 1., 1.,\n",
       "         1., 1., 1., 1., 1., 1., 1., 1., 1., 1., 1., 1., 1., 1., 1., 1., 1., 1.,\n",
       "         1., 1., 1., 1., 1., 1., 1., 1., 1., 1., 1., 1., 1., 1., 1., 1., 1., 1.,\n",
       "         1., 1., 1., 1., 1., 1., 1., 1., 1., 1., 1., 1., 1., 1., 1., 1., 1., 1.,\n",
       "         1., 1., 1., 1., 1., 1., 1., 1., 1., 1.],\n",
       "        [1., 1., 1., 1., 1., 1., 1., 1., 1., 1., 1., 1., 1., 1., 1., 1., 1., 1.,\n",
       "         1., 1., 1., 1., 1., 1., 1., 1., 1., 1., 1., 1., 1., 1., 1., 1., 1., 1.,\n",
       "         1., 1., 1., 1., 1., 1., 1., 1., 1., 1., 1., 1., 1., 1., 1., 1., 1., 1.,\n",
       "         1., 1., 1., 1., 1., 1., 1., 1., 1., 1., 1., 1., 1., 1., 1., 1., 1., 1.,\n",
       "         1., 1., 1., 1., 1., 1., 1., 1., 1., 1., 1., 1., 1., 1., 1., 1., 1., 1.,\n",
       "         1., 1., 1., 1., 1., 1., 1., 1., 1., 1.],\n",
       "        [1., 1., 1., 1., 1., 1., 1., 1., 1., 1., 1., 1., 1., 1., 1., 1., 1., 1.,\n",
       "         1., 1., 1., 1., 1., 1., 1., 1., 1., 1., 1., 1., 1., 1., 1., 1., 1., 1.,\n",
       "         1., 1., 1., 1., 1., 1., 1., 1., 1., 1., 1., 1., 1., 1., 1., 1., 1., 1.,\n",
       "         1., 1., 1., 1., 1., 1., 1., 1., 1., 1., 1., 1., 1., 1., 1., 1., 1., 1.,\n",
       "         1., 1., 1., 1., 1., 1., 1., 1., 1., 1., 1., 1., 1., 1., 1., 1., 1., 1.,\n",
       "         1., 1., 1., 1., 1., 1., 1., 1., 1., 1.],\n",
       "        [1., 1., 1., 1., 1., 1., 1., 1., 1., 1., 1., 1., 1., 1., 1., 1., 1., 1.,\n",
       "         1., 1., 1., 1., 1., 1., 1., 1., 1., 1., 1., 1., 1., 1., 1., 1., 1., 1.,\n",
       "         1., 1., 1., 1., 1., 1., 1., 1., 1., 1., 1., 1., 1., 1., 1., 1., 1., 1.,\n",
       "         1., 1., 1., 1., 1., 1., 1., 1., 1., 1., 1., 1., 1., 1., 1., 1., 1., 1.,\n",
       "         1., 1., 1., 1., 1., 1., 1., 1., 1., 1., 1., 1., 1., 1., 1., 1., 1., 1.,\n",
       "         1., 1., 1., 1., 1., 1., 1., 1., 1., 1.],\n",
       "        [1., 1., 1., 1., 1., 1., 1., 1., 1., 1., 1., 1., 1., 1., 1., 1., 1., 1.,\n",
       "         1., 1., 1., 1., 1., 1., 1., 1., 1., 1., 1., 1., 1., 1., 1., 1., 1., 1.,\n",
       "         1., 1., 1., 1., 1., 1., 1., 1., 1., 1., 1., 1., 1., 1., 1., 1., 1., 1.,\n",
       "         1., 1., 1., 1., 1., 1., 1., 1., 1., 1., 1., 1., 1., 1., 1., 1., 1., 1.,\n",
       "         1., 1., 1., 1., 1., 1., 1., 1., 1., 1., 1., 1., 1., 1., 1., 1., 1., 1.,\n",
       "         1., 1., 1., 1., 1., 1., 1., 1., 1., 1.],\n",
       "        [1., 1., 1., 1., 1., 1., 1., 1., 1., 1., 1., 1., 1., 1., 1., 1., 1., 1.,\n",
       "         1., 1., 1., 1., 1., 1., 1., 1., 1., 1., 1., 1., 1., 1., 1., 1., 1., 1.,\n",
       "         1., 1., 1., 1., 1., 1., 1., 1., 1., 1., 1., 1., 1., 1., 1., 1., 1., 1.,\n",
       "         1., 1., 1., 1., 1., 1., 1., 1., 1., 1., 1., 1., 1., 1., 1., 1., 1., 1.,\n",
       "         1., 1., 1., 1., 1., 1., 1., 1., 1., 1., 1., 1., 1., 1., 1., 1., 1., 1.,\n",
       "         1., 1., 1., 1., 1., 1., 1., 1., 1., 1.],\n",
       "        [1., 1., 1., 1., 1., 1., 1., 1., 1., 1., 1., 1., 1., 1., 1., 1., 1., 1.,\n",
       "         1., 1., 1., 1., 1., 1., 1., 1., 1., 1., 1., 1., 1., 1., 1., 1., 1., 1.,\n",
       "         1., 1., 1., 1., 1., 1., 1., 1., 1., 1., 1., 1., 1., 1., 1., 1., 1., 1.,\n",
       "         1., 1., 1., 1., 1., 1., 1., 1., 1., 1., 1., 1., 1., 1., 1., 1., 1., 1.,\n",
       "         1., 1., 1., 1., 1., 1., 1., 1., 1., 1., 1., 1., 1., 1., 1., 1., 1., 1.,\n",
       "         1., 1., 1., 1., 1., 1., 1., 1., 1., 1.],\n",
       "        [1., 1., 1., 1., 1., 1., 1., 1., 1., 1., 1., 1., 1., 1., 1., 1., 1., 1.,\n",
       "         1., 1., 1., 1., 1., 1., 1., 1., 1., 1., 1., 1., 1., 1., 1., 1., 1., 1.,\n",
       "         1., 1., 1., 1., 1., 1., 1., 1., 1., 1., 1., 1., 1., 1., 1., 1., 1., 1.,\n",
       "         1., 1., 1., 1., 1., 1., 1., 1., 1., 1., 1., 1., 1., 1., 1., 1., 1., 1.,\n",
       "         1., 1., 1., 1., 1., 1., 1., 1., 1., 1., 1., 1., 1., 1., 1., 1., 1., 1.,\n",
       "         1., 1., 1., 1., 1., 1., 1., 1., 1., 1.]])"
      ]
     },
     "execution_count": 9,
     "metadata": {},
     "output_type": "execute_result"
    }
   ],
   "source": [
    "mask = model.fc3.weight.new_full(model.fc3.weight.shape, 1.0)\n",
    "device = torch.device(\"cuda\") if torch.cuda.is_available() else torch.device(\"cpu\")\n",
    "mask.to(device)"
   ]
  },
  {
   "cell_type": "code",
   "execution_count": 10,
   "metadata": {},
   "outputs": [],
   "source": [
    "model.fc3.set_mask(mask)"
   ]
  },
  {
   "cell_type": "code",
   "execution_count": 9,
   "metadata": {
    "scrolled": true
   },
   "outputs": [
    {
     "name": "stdout",
     "output_type": "stream",
     "text": [
      "\n",
      "Test set: Average loss: 2.3126, Accuracy:    981/ 10000 (10%)\n",
      "\n",
      "Train Epoch:   1 [     0/ 60000 (0%)]\tLoss: 2.297517\n",
      "Train Epoch:   1 [  6400/ 60000 (11%)]\tLoss: 0.776636\n",
      "Train Epoch:   1 [ 12800/ 60000 (21%)]\tLoss: 0.371301\n",
      "Train Epoch:   1 [ 19200/ 60000 (32%)]\tLoss: 0.302402\n",
      "Train Epoch:   1 [ 25600/ 60000 (43%)]\tLoss: 0.183424\n",
      "Train Epoch:   1 [ 32000/ 60000 (53%)]\tLoss: 0.268265\n",
      "Train Epoch:   1 [ 38400/ 60000 (64%)]\tLoss: 0.229609\n",
      "Train Epoch:   1 [ 44800/ 60000 (75%)]\tLoss: 0.292853\n",
      "Train Epoch:   1 [ 51200/ 60000 (85%)]\tLoss: 0.223220\n",
      "Train Epoch:   1 [ 57600/ 60000 (96%)]\tLoss: 0.225943\n",
      "\n",
      "Test set: Average loss: 0.2305, Accuracy:   9294/ 10000 (93%)\n",
      "\n",
      "Train Epoch:   2 [     0/ 60000 (0%)]\tLoss: 0.248529\n",
      "Train Epoch:   2 [  6400/ 60000 (11%)]\tLoss: 0.100980\n",
      "Train Epoch:   2 [ 12800/ 60000 (21%)]\tLoss: 0.518315\n",
      "Train Epoch:   2 [ 19200/ 60000 (32%)]\tLoss: 0.162574\n",
      "Train Epoch:   2 [ 25600/ 60000 (43%)]\tLoss: 0.204296\n",
      "Train Epoch:   2 [ 32000/ 60000 (53%)]\tLoss: 0.182096\n",
      "Train Epoch:   2 [ 38400/ 60000 (64%)]\tLoss: 0.220783\n",
      "Train Epoch:   2 [ 44800/ 60000 (75%)]\tLoss: 0.236116\n",
      "Train Epoch:   2 [ 51200/ 60000 (85%)]\tLoss: 0.204444\n",
      "Train Epoch:   2 [ 57600/ 60000 (96%)]\tLoss: 0.075721\n",
      "\n",
      "Test set: Average loss: 0.1598, Accuracy:   9524/ 10000 (95%)\n",
      "\n",
      "Train Epoch:   3 [     0/ 60000 (0%)]\tLoss: 0.133685\n",
      "Train Epoch:   3 [  6400/ 60000 (11%)]\tLoss: 0.117933\n",
      "Train Epoch:   3 [ 12800/ 60000 (21%)]\tLoss: 0.205945\n",
      "Train Epoch:   3 [ 19200/ 60000 (32%)]\tLoss: 0.110897\n",
      "Train Epoch:   3 [ 25600/ 60000 (43%)]\tLoss: 0.099384\n",
      "Train Epoch:   3 [ 32000/ 60000 (53%)]\tLoss: 0.165027\n",
      "Train Epoch:   3 [ 38400/ 60000 (64%)]\tLoss: 0.071742\n",
      "Train Epoch:   3 [ 44800/ 60000 (75%)]\tLoss: 0.301002\n",
      "Train Epoch:   3 [ 51200/ 60000 (85%)]\tLoss: 0.134993\n",
      "Train Epoch:   3 [ 57600/ 60000 (96%)]\tLoss: 0.182419\n",
      "\n",
      "Test set: Average loss: 0.1226, Accuracy:   9629/ 10000 (96%)\n",
      "\n",
      "Train Epoch:   4 [     0/ 60000 (0%)]\tLoss: 0.058255\n",
      "Train Epoch:   4 [  6400/ 60000 (11%)]\tLoss: 0.072018\n",
      "Train Epoch:   4 [ 12800/ 60000 (21%)]\tLoss: 0.157992\n",
      "Train Epoch:   4 [ 19200/ 60000 (32%)]\tLoss: 0.099634\n",
      "Train Epoch:   4 [ 25600/ 60000 (43%)]\tLoss: 0.182883\n",
      "Train Epoch:   4 [ 32000/ 60000 (53%)]\tLoss: 0.058250\n",
      "Train Epoch:   4 [ 38400/ 60000 (64%)]\tLoss: 0.225136\n",
      "Train Epoch:   4 [ 44800/ 60000 (75%)]\tLoss: 0.086951\n",
      "Train Epoch:   4 [ 51200/ 60000 (85%)]\tLoss: 0.038023\n",
      "Train Epoch:   4 [ 57600/ 60000 (96%)]\tLoss: 0.095580\n",
      "\n",
      "Test set: Average loss: 0.1011, Accuracy:   9682/ 10000 (97%)\n",
      "\n",
      "Train Epoch:   5 [     0/ 60000 (0%)]\tLoss: 0.090679\n",
      "Train Epoch:   5 [  6400/ 60000 (11%)]\tLoss: 0.117525\n",
      "Train Epoch:   5 [ 12800/ 60000 (21%)]\tLoss: 0.091799\n",
      "Train Epoch:   5 [ 19200/ 60000 (32%)]\tLoss: 0.096260\n",
      "Train Epoch:   5 [ 25600/ 60000 (43%)]\tLoss: 0.080885\n",
      "Train Epoch:   5 [ 32000/ 60000 (53%)]\tLoss: 0.135621\n",
      "Train Epoch:   5 [ 38400/ 60000 (64%)]\tLoss: 0.046385\n",
      "Train Epoch:   5 [ 44800/ 60000 (75%)]\tLoss: 0.020819\n",
      "Train Epoch:   5 [ 51200/ 60000 (85%)]\tLoss: 0.018663\n",
      "Train Epoch:   5 [ 57600/ 60000 (96%)]\tLoss: 0.227891\n",
      "\n",
      "Test set: Average loss: 0.0941, Accuracy:   9696/ 10000 (97%)\n",
      "\n",
      "Train Epoch:   6 [     0/ 60000 (0%)]\tLoss: 0.117185\n",
      "Train Epoch:   6 [  6400/ 60000 (11%)]\tLoss: 0.023974\n",
      "Train Epoch:   6 [ 12800/ 60000 (21%)]\tLoss: 0.058138\n",
      "Train Epoch:   6 [ 19200/ 60000 (32%)]\tLoss: 0.025038\n",
      "Train Epoch:   6 [ 25600/ 60000 (43%)]\tLoss: 0.047015\n",
      "Train Epoch:   6 [ 32000/ 60000 (53%)]\tLoss: 0.070701\n",
      "Train Epoch:   6 [ 38400/ 60000 (64%)]\tLoss: 0.167572\n",
      "Train Epoch:   6 [ 44800/ 60000 (75%)]\tLoss: 0.020416\n",
      "Train Epoch:   6 [ 51200/ 60000 (85%)]\tLoss: 0.064154\n",
      "Train Epoch:   6 [ 57600/ 60000 (96%)]\tLoss: 0.082186\n",
      "\n",
      "Test set: Average loss: 0.0838, Accuracy:   9739/ 10000 (97%)\n",
      "\n",
      "Train Epoch:   7 [     0/ 60000 (0%)]\tLoss: 0.046956\n",
      "Train Epoch:   7 [  6400/ 60000 (11%)]\tLoss: 0.090279\n",
      "Train Epoch:   7 [ 12800/ 60000 (21%)]\tLoss: 0.056504\n",
      "Train Epoch:   7 [ 19200/ 60000 (32%)]\tLoss: 0.087542\n",
      "Train Epoch:   7 [ 25600/ 60000 (43%)]\tLoss: 0.049987\n",
      "Train Epoch:   7 [ 32000/ 60000 (53%)]\tLoss: 0.098456\n",
      "Train Epoch:   7 [ 38400/ 60000 (64%)]\tLoss: 0.061483\n",
      "Train Epoch:   7 [ 44800/ 60000 (75%)]\tLoss: 0.064943\n",
      "Train Epoch:   7 [ 51200/ 60000 (85%)]\tLoss: 0.025912\n",
      "Train Epoch:   7 [ 57600/ 60000 (96%)]\tLoss: 0.060401\n",
      "\n",
      "Test set: Average loss: 0.0752, Accuracy:   9758/ 10000 (98%)\n",
      "\n",
      "Train Epoch:   8 [     0/ 60000 (0%)]\tLoss: 0.035278\n",
      "Train Epoch:   8 [  6400/ 60000 (11%)]\tLoss: 0.102741\n",
      "Train Epoch:   8 [ 12800/ 60000 (21%)]\tLoss: 0.030352\n",
      "Train Epoch:   8 [ 19200/ 60000 (32%)]\tLoss: 0.012519\n",
      "Train Epoch:   8 [ 25600/ 60000 (43%)]\tLoss: 0.060014\n",
      "Train Epoch:   8 [ 32000/ 60000 (53%)]\tLoss: 0.069033\n",
      "Train Epoch:   8 [ 38400/ 60000 (64%)]\tLoss: 0.017031\n",
      "Train Epoch:   8 [ 44800/ 60000 (75%)]\tLoss: 0.044610\n",
      "Train Epoch:   8 [ 51200/ 60000 (85%)]\tLoss: 0.015674\n",
      "Train Epoch:   8 [ 57600/ 60000 (96%)]\tLoss: 0.077613\n",
      "\n",
      "Test set: Average loss: 0.0751, Accuracy:   9765/ 10000 (98%)\n",
      "\n",
      "Train Epoch:   9 [     0/ 60000 (0%)]\tLoss: 0.031014\n",
      "Train Epoch:   9 [  6400/ 60000 (11%)]\tLoss: 0.129808\n",
      "Train Epoch:   9 [ 12800/ 60000 (21%)]\tLoss: 0.011971\n",
      "Train Epoch:   9 [ 19200/ 60000 (32%)]\tLoss: 0.004058\n",
      "Train Epoch:   9 [ 25600/ 60000 (43%)]\tLoss: 0.035223\n",
      "Train Epoch:   9 [ 32000/ 60000 (53%)]\tLoss: 0.015716\n",
      "Train Epoch:   9 [ 38400/ 60000 (64%)]\tLoss: 0.031390\n",
      "Train Epoch:   9 [ 44800/ 60000 (75%)]\tLoss: 0.052422\n",
      "Train Epoch:   9 [ 51200/ 60000 (85%)]\tLoss: 0.016603\n",
      "Train Epoch:   9 [ 57600/ 60000 (96%)]\tLoss: 0.050601\n",
      "\n",
      "Test set: Average loss: 0.0725, Accuracy:   9760/ 10000 (98%)\n",
      "\n",
      "Train Epoch:  10 [     0/ 60000 (0%)]\tLoss: 0.016807\n",
      "Train Epoch:  10 [  6400/ 60000 (11%)]\tLoss: 0.023979\n",
      "Train Epoch:  10 [ 12800/ 60000 (21%)]\tLoss: 0.023977\n",
      "Train Epoch:  10 [ 19200/ 60000 (32%)]\tLoss: 0.016992\n",
      "Train Epoch:  10 [ 25600/ 60000 (43%)]\tLoss: 0.027189\n",
      "Train Epoch:  10 [ 32000/ 60000 (53%)]\tLoss: 0.018327\n",
      "Train Epoch:  10 [ 38400/ 60000 (64%)]\tLoss: 0.019152\n",
      "Train Epoch:  10 [ 44800/ 60000 (75%)]\tLoss: 0.036719\n",
      "Train Epoch:  10 [ 51200/ 60000 (85%)]\tLoss: 0.021869\n",
      "Train Epoch:  10 [ 57600/ 60000 (96%)]\tLoss: 0.049642\n",
      "\n",
      "Test set: Average loss: 0.0640, Accuracy:   9784/ 10000 (98%)\n",
      "\n",
      "Train Epoch:  11 [     0/ 60000 (0%)]\tLoss: 0.008097\n",
      "Train Epoch:  11 [  6400/ 60000 (11%)]\tLoss: 0.010738\n",
      "Train Epoch:  11 [ 12800/ 60000 (21%)]\tLoss: 0.036053\n",
      "Train Epoch:  11 [ 19200/ 60000 (32%)]\tLoss: 0.011665\n",
      "Train Epoch:  11 [ 25600/ 60000 (43%)]\tLoss: 0.014147\n",
      "Train Epoch:  11 [ 32000/ 60000 (53%)]\tLoss: 0.079790\n",
      "Train Epoch:  11 [ 38400/ 60000 (64%)]\tLoss: 0.009154\n",
      "Train Epoch:  11 [ 44800/ 60000 (75%)]\tLoss: 0.005440\n",
      "Train Epoch:  11 [ 51200/ 60000 (85%)]\tLoss: 0.013166\n",
      "Train Epoch:  11 [ 57600/ 60000 (96%)]\tLoss: 0.029668\n",
      "\n",
      "Test set: Average loss: 0.0665, Accuracy:   9773/ 10000 (98%)\n",
      "\n",
      "Train Epoch:  12 [     0/ 60000 (0%)]\tLoss: 0.029042\n",
      "Train Epoch:  12 [  6400/ 60000 (11%)]\tLoss: 0.015960\n",
      "Train Epoch:  12 [ 12800/ 60000 (21%)]\tLoss: 0.016468\n",
      "Train Epoch:  12 [ 19200/ 60000 (32%)]\tLoss: 0.007284\n",
      "Train Epoch:  12 [ 25600/ 60000 (43%)]\tLoss: 0.049333\n",
      "Train Epoch:  12 [ 32000/ 60000 (53%)]\tLoss: 0.033328\n",
      "Train Epoch:  12 [ 38400/ 60000 (64%)]\tLoss: 0.006754\n",
      "Train Epoch:  12 [ 44800/ 60000 (75%)]\tLoss: 0.027031\n",
      "Train Epoch:  12 [ 51200/ 60000 (85%)]\tLoss: 0.019817\n",
      "Train Epoch:  12 [ 57600/ 60000 (96%)]\tLoss: 0.005694\n",
      "\n",
      "Test set: Average loss: 0.0634, Accuracy:   9794/ 10000 (98%)\n",
      "\n",
      "Train Epoch:  13 [     0/ 60000 (0%)]\tLoss: 0.008793\n",
      "Train Epoch:  13 [  6400/ 60000 (11%)]\tLoss: 0.010618\n",
      "Train Epoch:  13 [ 12800/ 60000 (21%)]\tLoss: 0.003172\n",
      "Train Epoch:  13 [ 19200/ 60000 (32%)]\tLoss: 0.019167\n",
      "Train Epoch:  13 [ 25600/ 60000 (43%)]\tLoss: 0.096290\n",
      "Train Epoch:  13 [ 32000/ 60000 (53%)]\tLoss: 0.011762\n",
      "Train Epoch:  13 [ 38400/ 60000 (64%)]\tLoss: 0.002317\n",
      "Train Epoch:  13 [ 44800/ 60000 (75%)]\tLoss: 0.033012\n",
      "Train Epoch:  13 [ 51200/ 60000 (85%)]\tLoss: 0.013408\n",
      "Train Epoch:  13 [ 57600/ 60000 (96%)]\tLoss: 0.007323\n",
      "\n",
      "Test set: Average loss: 0.0636, Accuracy:   9792/ 10000 (98%)\n",
      "\n",
      "Train Epoch:  14 [     0/ 60000 (0%)]\tLoss: 0.013205\n",
      "Train Epoch:  14 [  6400/ 60000 (11%)]\tLoss: 0.016480\n",
      "Train Epoch:  14 [ 12800/ 60000 (21%)]\tLoss: 0.011967\n",
      "Train Epoch:  14 [ 19200/ 60000 (32%)]\tLoss: 0.016440\n",
      "Train Epoch:  14 [ 25600/ 60000 (43%)]\tLoss: 0.010739\n",
      "Train Epoch:  14 [ 32000/ 60000 (53%)]\tLoss: 0.014516\n"
     ]
    },
    {
     "name": "stdout",
     "output_type": "stream",
     "text": [
      "Train Epoch:  14 [ 38400/ 60000 (64%)]\tLoss: 0.011307\n",
      "Train Epoch:  14 [ 44800/ 60000 (75%)]\tLoss: 0.014324\n",
      "Train Epoch:  14 [ 51200/ 60000 (85%)]\tLoss: 0.002269\n",
      "Train Epoch:  14 [ 57600/ 60000 (96%)]\tLoss: 0.009235\n",
      "\n",
      "Test set: Average loss: 0.0676, Accuracy:   9796/ 10000 (98%)\n",
      "\n",
      "Train Epoch:  15 [     0/ 60000 (0%)]\tLoss: 0.012217\n",
      "Train Epoch:  15 [  6400/ 60000 (11%)]\tLoss: 0.009298\n",
      "Train Epoch:  15 [ 12800/ 60000 (21%)]\tLoss: 0.003351\n",
      "Train Epoch:  15 [ 19200/ 60000 (32%)]\tLoss: 0.016323\n",
      "Train Epoch:  15 [ 25600/ 60000 (43%)]\tLoss: 0.012470\n",
      "Train Epoch:  15 [ 32000/ 60000 (53%)]\tLoss: 0.008508\n",
      "Train Epoch:  15 [ 38400/ 60000 (64%)]\tLoss: 0.002910\n",
      "Train Epoch:  15 [ 44800/ 60000 (75%)]\tLoss: 0.004058\n",
      "Train Epoch:  15 [ 51200/ 60000 (85%)]\tLoss: 0.026527\n",
      "Train Epoch:  15 [ 57600/ 60000 (96%)]\tLoss: 0.009602\n",
      "\n",
      "Test set: Average loss: 0.0665, Accuracy:   9796/ 10000 (98%)\n",
      "\n",
      "Train Epoch:  16 [     0/ 60000 (0%)]\tLoss: 0.006045\n",
      "Train Epoch:  16 [  6400/ 60000 (11%)]\tLoss: 0.014475\n",
      "Train Epoch:  16 [ 12800/ 60000 (21%)]\tLoss: 0.006917\n",
      "Train Epoch:  16 [ 19200/ 60000 (32%)]\tLoss: 0.008358\n",
      "Train Epoch:  16 [ 25600/ 60000 (43%)]\tLoss: 0.010148\n",
      "Train Epoch:  16 [ 32000/ 60000 (53%)]\tLoss: 0.007940\n",
      "Train Epoch:  16 [ 38400/ 60000 (64%)]\tLoss: 0.018258\n",
      "Train Epoch:  16 [ 44800/ 60000 (75%)]\tLoss: 0.002510\n",
      "Train Epoch:  16 [ 51200/ 60000 (85%)]\tLoss: 0.015544\n",
      "Train Epoch:  16 [ 57600/ 60000 (96%)]\tLoss: 0.011651\n",
      "\n",
      "Test set: Average loss: 0.0680, Accuracy:   9786/ 10000 (98%)\n",
      "\n",
      "Train Epoch:  17 [     0/ 60000 (0%)]\tLoss: 0.002301\n",
      "Train Epoch:  17 [  6400/ 60000 (11%)]\tLoss: 0.042520\n",
      "Train Epoch:  17 [ 12800/ 60000 (21%)]\tLoss: 0.011912\n",
      "Train Epoch:  17 [ 19200/ 60000 (32%)]\tLoss: 0.005892\n",
      "Train Epoch:  17 [ 25600/ 60000 (43%)]\tLoss: 0.003337\n",
      "Train Epoch:  17 [ 32000/ 60000 (53%)]\tLoss: 0.014582\n",
      "Train Epoch:  17 [ 38400/ 60000 (64%)]\tLoss: 0.001187\n",
      "Train Epoch:  17 [ 44800/ 60000 (75%)]\tLoss: 0.011584\n",
      "Train Epoch:  17 [ 51200/ 60000 (85%)]\tLoss: 0.006071\n",
      "Train Epoch:  17 [ 57600/ 60000 (96%)]\tLoss: 0.003109\n",
      "\n",
      "Test set: Average loss: 0.0615, Accuracy:   9814/ 10000 (98%)\n",
      "\n",
      "Train Epoch:  18 [     0/ 60000 (0%)]\tLoss: 0.012325\n",
      "Train Epoch:  18 [  6400/ 60000 (11%)]\tLoss: 0.010859\n",
      "Train Epoch:  18 [ 12800/ 60000 (21%)]\tLoss: 0.005452\n",
      "Train Epoch:  18 [ 19200/ 60000 (32%)]\tLoss: 0.004126\n",
      "Train Epoch:  18 [ 25600/ 60000 (43%)]\tLoss: 0.007066\n",
      "Train Epoch:  18 [ 32000/ 60000 (53%)]\tLoss: 0.003625\n",
      "Train Epoch:  18 [ 38400/ 60000 (64%)]\tLoss: 0.018054\n",
      "Train Epoch:  18 [ 44800/ 60000 (75%)]\tLoss: 0.006261\n",
      "Train Epoch:  18 [ 51200/ 60000 (85%)]\tLoss: 0.001979\n",
      "Train Epoch:  18 [ 57600/ 60000 (96%)]\tLoss: 0.003561\n",
      "\n",
      "Test set: Average loss: 0.0645, Accuracy:   9810/ 10000 (98%)\n",
      "\n",
      "Train Epoch:  19 [     0/ 60000 (0%)]\tLoss: 0.006120\n",
      "Train Epoch:  19 [  6400/ 60000 (11%)]\tLoss: 0.002382\n",
      "Train Epoch:  19 [ 12800/ 60000 (21%)]\tLoss: 0.010554\n",
      "Train Epoch:  19 [ 19200/ 60000 (32%)]\tLoss: 0.005364\n",
      "Train Epoch:  19 [ 25600/ 60000 (43%)]\tLoss: 0.006831\n",
      "Train Epoch:  19 [ 32000/ 60000 (53%)]\tLoss: 0.003785\n",
      "Train Epoch:  19 [ 38400/ 60000 (64%)]\tLoss: 0.002393\n",
      "Train Epoch:  19 [ 44800/ 60000 (75%)]\tLoss: 0.011575\n",
      "Train Epoch:  19 [ 51200/ 60000 (85%)]\tLoss: 0.006996\n",
      "Train Epoch:  19 [ 57600/ 60000 (96%)]\tLoss: 0.013918\n",
      "\n",
      "Test set: Average loss: 0.0635, Accuracy:   9805/ 10000 (98%)\n",
      "\n",
      "Train Epoch:  20 [     0/ 60000 (0%)]\tLoss: 0.011468\n",
      "Train Epoch:  20 [  6400/ 60000 (11%)]\tLoss: 0.004874\n",
      "Train Epoch:  20 [ 12800/ 60000 (21%)]\tLoss: 0.006737\n",
      "Train Epoch:  20 [ 19200/ 60000 (32%)]\tLoss: 0.002961\n",
      "Train Epoch:  20 [ 25600/ 60000 (43%)]\tLoss: 0.006934\n",
      "Train Epoch:  20 [ 32000/ 60000 (53%)]\tLoss: 0.011971\n",
      "Train Epoch:  20 [ 38400/ 60000 (64%)]\tLoss: 0.001497\n",
      "Train Epoch:  20 [ 44800/ 60000 (75%)]\tLoss: 0.012295\n",
      "Train Epoch:  20 [ 51200/ 60000 (85%)]\tLoss: 0.005763\n",
      "Train Epoch:  20 [ 57600/ 60000 (96%)]\tLoss: 0.007862\n",
      "\n",
      "Test set: Average loss: 0.0642, Accuracy:   9808/ 10000 (98%)\n",
      "\n",
      "Train Epoch:  21 [     0/ 60000 (0%)]\tLoss: 0.004537\n",
      "Train Epoch:  21 [  6400/ 60000 (11%)]\tLoss: 0.002169\n",
      "Train Epoch:  21 [ 12800/ 60000 (21%)]\tLoss: 0.003909\n",
      "Train Epoch:  21 [ 19200/ 60000 (32%)]\tLoss: 0.001245\n",
      "Train Epoch:  21 [ 25600/ 60000 (43%)]\tLoss: 0.006798\n",
      "Train Epoch:  21 [ 32000/ 60000 (53%)]\tLoss: 0.014723\n",
      "Train Epoch:  21 [ 38400/ 60000 (64%)]\tLoss: 0.006399\n",
      "Train Epoch:  21 [ 44800/ 60000 (75%)]\tLoss: 0.022308\n",
      "Train Epoch:  21 [ 51200/ 60000 (85%)]\tLoss: 0.022087\n",
      "Train Epoch:  21 [ 57600/ 60000 (96%)]\tLoss: 0.005136\n",
      "\n",
      "Test set: Average loss: 0.0650, Accuracy:   9804/ 10000 (98%)\n",
      "\n",
      "Train Epoch:  22 [     0/ 60000 (0%)]\tLoss: 0.004233\n",
      "Train Epoch:  22 [  6400/ 60000 (11%)]\tLoss: 0.001991\n",
      "Train Epoch:  22 [ 12800/ 60000 (21%)]\tLoss: 0.008281\n",
      "Train Epoch:  22 [ 19200/ 60000 (32%)]\tLoss: 0.004254\n",
      "Train Epoch:  22 [ 25600/ 60000 (43%)]\tLoss: 0.000747\n",
      "Train Epoch:  22 [ 32000/ 60000 (53%)]\tLoss: 0.002202\n",
      "Train Epoch:  22 [ 38400/ 60000 (64%)]\tLoss: 0.005459\n",
      "Train Epoch:  22 [ 44800/ 60000 (75%)]\tLoss: 0.024326\n",
      "Train Epoch:  22 [ 51200/ 60000 (85%)]\tLoss: 0.002780\n",
      "Train Epoch:  22 [ 57600/ 60000 (96%)]\tLoss: 0.005988\n",
      "\n",
      "Test set: Average loss: 0.0663, Accuracy:   9805/ 10000 (98%)\n",
      "\n",
      "Train Epoch:  23 [     0/ 60000 (0%)]\tLoss: 0.001062\n",
      "Train Epoch:  23 [  6400/ 60000 (11%)]\tLoss: 0.001511\n",
      "Train Epoch:  23 [ 12800/ 60000 (21%)]\tLoss: 0.000663\n",
      "Train Epoch:  23 [ 19200/ 60000 (32%)]\tLoss: 0.012608\n",
      "Train Epoch:  23 [ 25600/ 60000 (43%)]\tLoss: 0.005075\n",
      "Train Epoch:  23 [ 32000/ 60000 (53%)]\tLoss: 0.002197\n",
      "Train Epoch:  23 [ 38400/ 60000 (64%)]\tLoss: 0.002921\n",
      "Train Epoch:  23 [ 44800/ 60000 (75%)]\tLoss: 0.003837\n",
      "Train Epoch:  23 [ 51200/ 60000 (85%)]\tLoss: 0.003663\n",
      "Train Epoch:  23 [ 57600/ 60000 (96%)]\tLoss: 0.001568\n",
      "\n",
      "Test set: Average loss: 0.0655, Accuracy:   9814/ 10000 (98%)\n",
      "\n",
      "Train Epoch:  24 [     0/ 60000 (0%)]\tLoss: 0.001865\n",
      "Train Epoch:  24 [  6400/ 60000 (11%)]\tLoss: 0.005521\n",
      "Train Epoch:  24 [ 12800/ 60000 (21%)]\tLoss: 0.002692\n",
      "Train Epoch:  24 [ 19200/ 60000 (32%)]\tLoss: 0.001658\n",
      "Train Epoch:  24 [ 25600/ 60000 (43%)]\tLoss: 0.000576\n",
      "Train Epoch:  24 [ 32000/ 60000 (53%)]\tLoss: 0.000424\n",
      "Train Epoch:  24 [ 38400/ 60000 (64%)]\tLoss: 0.009375\n",
      "Train Epoch:  24 [ 44800/ 60000 (75%)]\tLoss: 0.003214\n",
      "Train Epoch:  24 [ 51200/ 60000 (85%)]\tLoss: 0.002447\n",
      "Train Epoch:  24 [ 57600/ 60000 (96%)]\tLoss: 0.002787\n",
      "\n",
      "Test set: Average loss: 0.0669, Accuracy:   9815/ 10000 (98%)\n",
      "\n",
      "Train Epoch:  25 [     0/ 60000 (0%)]\tLoss: 0.004830\n",
      "Train Epoch:  25 [  6400/ 60000 (11%)]\tLoss: 0.001499\n",
      "Train Epoch:  25 [ 12800/ 60000 (21%)]\tLoss: 0.008503\n",
      "Train Epoch:  25 [ 19200/ 60000 (32%)]\tLoss: 0.003234\n",
      "Train Epoch:  25 [ 25600/ 60000 (43%)]\tLoss: 0.002359\n",
      "Train Epoch:  25 [ 32000/ 60000 (53%)]\tLoss: 0.001538\n",
      "Train Epoch:  25 [ 38400/ 60000 (64%)]\tLoss: 0.001594\n",
      "Train Epoch:  25 [ 44800/ 60000 (75%)]\tLoss: 0.002058\n",
      "Train Epoch:  25 [ 51200/ 60000 (85%)]\tLoss: 0.012644\n",
      "Train Epoch:  25 [ 57600/ 60000 (96%)]\tLoss: 0.002734\n",
      "\n",
      "Test set: Average loss: 0.0664, Accuracy:   9817/ 10000 (98%)\n",
      "\n",
      "Train Epoch:  26 [     0/ 60000 (0%)]\tLoss: 0.001510\n",
      "Train Epoch:  26 [  6400/ 60000 (11%)]\tLoss: 0.002466\n",
      "Train Epoch:  26 [ 12800/ 60000 (21%)]\tLoss: 0.002956\n",
      "Train Epoch:  26 [ 19200/ 60000 (32%)]\tLoss: 0.002962\n",
      "Train Epoch:  26 [ 25600/ 60000 (43%)]\tLoss: 0.002754\n",
      "Train Epoch:  26 [ 32000/ 60000 (53%)]\tLoss: 0.001521\n",
      "Train Epoch:  26 [ 38400/ 60000 (64%)]\tLoss: 0.005375\n",
      "Train Epoch:  26 [ 44800/ 60000 (75%)]\tLoss: 0.000837\n",
      "Train Epoch:  26 [ 51200/ 60000 (85%)]\tLoss: 0.003374\n",
      "Train Epoch:  26 [ 57600/ 60000 (96%)]\tLoss: 0.005149\n",
      "\n",
      "Test set: Average loss: 0.0656, Accuracy:   9814/ 10000 (98%)\n",
      "\n",
      "Train Epoch:  27 [     0/ 60000 (0%)]\tLoss: 0.002862\n",
      "Train Epoch:  27 [  6400/ 60000 (11%)]\tLoss: 0.002979\n",
      "Train Epoch:  27 [ 12800/ 60000 (21%)]\tLoss: 0.000615\n",
      "Train Epoch:  27 [ 19200/ 60000 (32%)]\tLoss: 0.002624\n",
      "Train Epoch:  27 [ 25600/ 60000 (43%)]\tLoss: 0.000986\n",
      "Train Epoch:  27 [ 32000/ 60000 (53%)]\tLoss: 0.002148\n",
      "Train Epoch:  27 [ 38400/ 60000 (64%)]\tLoss: 0.002782\n",
      "Train Epoch:  27 [ 44800/ 60000 (75%)]\tLoss: 0.003297\n",
      "Train Epoch:  27 [ 51200/ 60000 (85%)]\tLoss: 0.002717\n",
      "Train Epoch:  27 [ 57600/ 60000 (96%)]\tLoss: 0.006989\n",
      "\n",
      "Test set: Average loss: 0.0677, Accuracy:   9813/ 10000 (98%)\n",
      "\n",
      "Train Epoch:  28 [     0/ 60000 (0%)]\tLoss: 0.000851\n",
      "Train Epoch:  28 [  6400/ 60000 (11%)]\tLoss: 0.000871\n"
     ]
    },
    {
     "name": "stdout",
     "output_type": "stream",
     "text": [
      "Train Epoch:  28 [ 12800/ 60000 (21%)]\tLoss: 0.001710\n",
      "Train Epoch:  28 [ 19200/ 60000 (32%)]\tLoss: 0.005970\n",
      "Train Epoch:  28 [ 25600/ 60000 (43%)]\tLoss: 0.001615\n",
      "Train Epoch:  28 [ 32000/ 60000 (53%)]\tLoss: 0.004596\n",
      "Train Epoch:  28 [ 38400/ 60000 (64%)]\tLoss: 0.001083\n",
      "Train Epoch:  28 [ 44800/ 60000 (75%)]\tLoss: 0.003696\n",
      "Train Epoch:  28 [ 51200/ 60000 (85%)]\tLoss: 0.000999\n",
      "Train Epoch:  28 [ 57600/ 60000 (96%)]\tLoss: 0.001077\n",
      "\n",
      "Test set: Average loss: 0.0674, Accuracy:   9814/ 10000 (98%)\n",
      "\n",
      "Train Epoch:  29 [     0/ 60000 (0%)]\tLoss: 0.001880\n",
      "Train Epoch:  29 [  6400/ 60000 (11%)]\tLoss: 0.001712\n",
      "Train Epoch:  29 [ 12800/ 60000 (21%)]\tLoss: 0.003225\n",
      "Train Epoch:  29 [ 19200/ 60000 (32%)]\tLoss: 0.001009\n",
      "Train Epoch:  29 [ 25600/ 60000 (43%)]\tLoss: 0.001965\n",
      "Train Epoch:  29 [ 32000/ 60000 (53%)]\tLoss: 0.001297\n",
      "Train Epoch:  29 [ 38400/ 60000 (64%)]\tLoss: 0.001730\n",
      "Train Epoch:  29 [ 44800/ 60000 (75%)]\tLoss: 0.003127\n",
      "Train Epoch:  29 [ 51200/ 60000 (85%)]\tLoss: 0.005316\n",
      "Train Epoch:  29 [ 57600/ 60000 (96%)]\tLoss: 0.007285\n",
      "\n",
      "Test set: Average loss: 0.0680, Accuracy:   9816/ 10000 (98%)\n",
      "\n",
      "Train Epoch:  30 [     0/ 60000 (0%)]\tLoss: 0.004652\n",
      "Train Epoch:  30 [  6400/ 60000 (11%)]\tLoss: 0.004566\n",
      "Train Epoch:  30 [ 12800/ 60000 (21%)]\tLoss: 0.003128\n",
      "Train Epoch:  30 [ 19200/ 60000 (32%)]\tLoss: 0.001458\n",
      "Train Epoch:  30 [ 25600/ 60000 (43%)]\tLoss: 0.004966\n",
      "Train Epoch:  30 [ 32000/ 60000 (53%)]\tLoss: 0.003047\n",
      "Train Epoch:  30 [ 38400/ 60000 (64%)]\tLoss: 0.001371\n",
      "Train Epoch:  30 [ 44800/ 60000 (75%)]\tLoss: 0.002766\n",
      "Train Epoch:  30 [ 51200/ 60000 (85%)]\tLoss: 0.002920\n",
      "Train Epoch:  30 [ 57600/ 60000 (96%)]\tLoss: 0.000846\n",
      "\n",
      "Test set: Average loss: 0.0686, Accuracy:   9822/ 10000 (98%)\n",
      "\n"
     ]
    }
   ],
   "source": [
    "test_accuracies, frame_potentials = e.fit(epochs, criterion, optimizer, monitored=monitored, save_model=True)"
   ]
  },
  {
   "cell_type": "code",
   "execution_count": 10,
   "metadata": {},
   "outputs": [
    {
     "data": {
      "image/png": "[encoded data removed]",
      "text/plain": [
       "<Figure size 432x288 with 1 Axes>"
      ]
     },
     "metadata": {
      "needs_background": "light"
     },
     "output_type": "display_data"
    }
   ],
   "source": [
    "plt.plot(test_accuracies)\n",
    "plt.title('Testset accuracy')\n",
    "plt.xlabel('Epoch')\n",
    "plt.ylabel('Accuracy (%)')\n",
    "plt.show()"
   ]
  },
  {
   "cell_type": "code",
   "execution_count": 12,
   "metadata": {},
   "outputs": [
    {
     "data": {
      "image/png": "[encoded data removed]",
      "text/plain": [
       "<Figure size 432x288 with 1 Axes>"
      ]
     },
     "metadata": {
      "needs_background": "light"
     },
     "output_type": "display_data"
    }
   ],
   "source": [
    "# New model architecture\n",
    "\n",
    "plt.plot(test_accuracies)\n",
    "plt.title('Testset accuracy')\n",
    "plt.xlabel('Epoch')\n",
    "plt.ylabel('Accuracy (%)')\n",
    "plt.show()"
   ]
  },
  {
   "cell_type": "code",
   "execution_count": 16,
   "metadata": {},
   "outputs": [
    {
     "name": "stderr",
     "output_type": "stream",
     "text": [
      "/home/julien/anaconda3/envs/nn-pruning/lib/python3.7/site-packages/ipykernel_launcher.py:13: UserWarning: Matplotlib is currently using module://ipykernel.pylab.backend_inline, which is a non-GUI backend, so cannot show the figure.\n",
      "  del sys.path[0]\n"
     ]
    },
    {
     "data": {
      "image/png": "[encoded data removed]",
      "text/plain": [
       "<Figure size 1440x360 with 3 Axes>"
      ]
     },
     "metadata": {
      "needs_background": "light"
     },
     "output_type": "display_data"
    }
   ],
   "source": [
    "fig, ((ax1, ax2, ax3)) = plt.subplots(1, 3, sharex=True, figsize=(20,5))\n",
    "ax1.plot(frame_potentials['fc1.weight'])\n",
    "ax1.set_title('Frame potential of first layer')\n",
    "ax1.set(xlabel='epoch', ylabel='FP')\n",
    "ax2.plot(frame_potentials['fc2.weight'])\n",
    "ax2.set_title('Frame potential of second layer')\n",
    "ax2.set(xlabel='epoch', ylabel='FP')\n",
    "ax3.plot(frame_potentials['fc3.weight'])\n",
    "ax3.set_title('Frame potential of third layer')\n",
    "ax3.set(xlabel='epoch', ylabel='FP')\n",
    "\n",
    "\n",
    "fig.show()"
   ]
  },
  {
   "cell_type": "code",
   "execution_count": 11,
   "metadata": {},
   "outputs": [
    {
     "name": "stderr",
     "output_type": "stream",
     "text": [
      "/home/julien/anaconda3/envs/nn-pruning/lib/python3.7/site-packages/ipykernel_launcher.py:15: UserWarning: Matplotlib is currently using module://ipykernel.pylab.backend_inline, which is a non-GUI backend, so cannot show the figure.\n",
      "  from ipykernel import kernelapp as app\n"
     ]
    },
    {
     "data": {
      "image/png": "[encoded data removed]",
      "text/plain": [
       "<Figure size 1440x360 with 3 Axes>"
      ]
     },
     "metadata": {
      "needs_background": "light"
     },
     "output_type": "display_data"
    }
   ],
   "source": [
    "# New model architecture\n",
    "\n",
    "fig, ((ax1, ax2, ax3)) = plt.subplots(1, 3, sharex=True, figsize=(20,5))\n",
    "ax1.plot(frame_potentials['fc1.weight'])\n",
    "ax1.set_title('Frame potential of first layer')\n",
    "ax1.set(xlabel='epoch', ylabel='FP')\n",
    "ax2.plot(frame_potentials['fc2.weight'])\n",
    "ax2.set_title('Frame potential of second layer')\n",
    "ax2.set(xlabel='epoch', ylabel='FP')\n",
    "ax3.plot(frame_potentials['fc3.weight'])\n",
    "ax3.set_title('Frame potential of third layer')\n",
    "ax3.set(xlabel='epoch', ylabel='FP')\n",
    "\n",
    "\n",
    "fig.show()"
   ]
  },
  {
   "cell_type": "code",
   "execution_count": 21,
   "metadata": {},
   "outputs": [],
   "source": [
    "model = LeNet_300_100_Pruned()\n",
    "model_name = \"LeNet_300_100_Pruned_24-09-2019_17:46:38\"\n",
    "model.load_state_dict(torch.load(os.path.join(common.MODEL_PATH, model_name)))\n",
    "\n",
    "e = Experiment(trainloader, testloader, model)\n",
    "\n",
    "criterion = nn.CrossEntropyLoss()\n",
    "monitored = ['fc1.weight', 'fc2.weight', 'fc3.weight']"
   ]
  },
  {
   "cell_type": "code",
   "execution_count": 22,
   "metadata": {},
   "outputs": [
    {
     "name": "stdout",
     "output_type": "stream",
     "text": [
      "\n",
      "Test set: Average loss: 0.0686, Accuracy:   9822/ 10000 (98%)\n",
      "\n"
     ]
    }
   ],
   "source": [
    "accuracy, layer_fp = e.test(criterion, monitored=['fc1.weight'])"
   ]
  },
  {
   "cell_type": "code",
   "execution_count": 23,
   "metadata": {},
   "outputs": [],
   "source": [
    "e.prune([model.fc1], increase_fp=True)"
   ]
  },
  {
   "cell_type": "code",
   "execution_count": 24,
   "metadata": {},
   "outputs": [
    {
     "name": "stdout",
     "output_type": "stream",
     "text": [
      "\n",
      "Test set: Average loss: 0.0686, Accuracy:   9822/ 10000 (98%)\n",
      "\n"
     ]
    }
   ],
   "source": [
    "accuracy, layer_fp = e.test(criterion, monitored=['fc1.weight'])"
   ]
  },
  {
   "cell_type": "code",
   "execution_count": 17,
   "metadata": {},
   "outputs": [
    {
     "name": "stdout",
     "output_type": "stream",
     "text": [
      "Frame potential: 0.00737 - Reduced min: 0.00735 - Reduced max: 0.00740\n"
     ]
    }
   ],
   "source": [
    "#reduced_fps = np.array(layer_reduced_fps['fc1'])\n",
    "#print(\"Frame potential: {:.5f} - Reduced min: {:.5f} - Reduced max: {:.5f}\"\n",
    "#          .format(layer_fp['fc1'], np.min(reduced_fps), np.max(reduced_fps)))"
   ]
  },
  {
   "cell_type": "code",
   "execution_count": 13,
   "metadata": {},
   "outputs": [
    {
     "data": {
      "text/plain": [
       "[0.007369346028532958,\n",
       " 0.007387787451342826,\n",
       " 0.007375129283849943,\n",
       " 0.007397447146712914,\n",
       " 0.007366049211164794,\n",
       " 0.007372801917851171,\n",
       " 0.007381121449109909,\n",
       " 0.007369333057000551,\n",
       " 0.007389650573023861,\n",
       " 0.007383349821835046,\n",
       " 0.007385101661422272,\n",
       " 0.007380623751892806,\n",
       " 0.007402492390107144,\n",
       " 0.007394395423036026,\n",
       " 0.007388472211711488,\n",
       " 0.00736863122882609,\n",
       " 0.007382960675862826,\n",
       " 0.007377122803567284,\n",
       " 0.007367968997961083,\n",
       " 0.00737564200073615,\n",
       " 0.007390017189492427,\n",
       " 0.00738538566971077,\n",
       " 0.0073994795810274775,\n",
       " 0.007399539659703891,\n",
       " 0.007381569991046311,\n",
       " 0.007373108455643323,\n",
       " 0.00737579151471495,\n",
       " 0.0074007999464841,\n",
       " 0.007375088321116025,\n",
       " 0.007396950814920275,\n",
       " 0.007364740451816115,\n",
       " 0.007383456324943233,\n",
       " 0.007387465211169338,\n",
       " 0.007370195322549524,\n",
       " 0.007373832130609208,\n",
       " 0.007392664747527992,\n",
       " 0.007393596649724625,\n",
       " 0.00738714638455701,\n",
       " 0.007377084571682293,\n",
       " 0.00738537542902729,\n",
       " 0.007399211957832547,\n",
       " 0.007391360084452705,\n",
       " 0.0073690586066833,\n",
       " 0.007391099971092325,\n",
       " 0.007393703152832812,\n",
       " 0.007394734048303081,\n",
       " 0.007375844083556811,\n",
       " 0.007395958151334996,\n",
       " 0.007391162780617667,\n",
       " 0.007391769711791884,\n",
       " 0.007402930008647834,\n",
       " 0.00737848959345568,\n",
       " 0.007394883562281881,\n",
       " 0.007393073009442708,\n",
       " 0.007372397069497614,\n",
       " 0.007373444350061451,\n",
       " 0.007376257807169383,\n",
       " 0.007387990899587952,\n",
       " 0.0073887726050935534,\n",
       " 0.007386409738058718,\n",
       " 0.007363720479741558,\n",
       " 0.007388498154776303,\n",
       " 0.007382276598206396,\n",
       " 0.007380705677360642,\n",
       " 0.007386576319843318,\n",
       " 0.007380556163381841,\n",
       " 0.0073886804389422375,\n",
       " 0.007403068599230923,\n",
       " 0.007383719851864772,\n",
       " 0.007371441272372862,\n",
       " 0.007393758452523601,\n",
       " 0.007386820730822362,\n",
       " 0.00736616936851762,\n",
       " 0.0073811651426927555,\n",
       " 0.007385589117955896,\n",
       " 0.007379429005486865,\n",
       " 0.0073812743766498694,\n",
       " 0.007395206485167602,\n",
       " 0.00737695485635822,\n",
       " 0.0073900322091615305,\n",
       " 0.007383349821835046,\n",
       " 0.007390490991781412,\n",
       " 0.0073890613923676745,\n",
       " 0.0073834849988569755,\n",
       " 0.00737397208661676,\n",
       " 0.0073829552141649706,\n",
       " 0.007395954055061604,\n",
       " 0.0073840550635706674,\n",
       " 0.00738649371166325,\n",
       " 0.007380147901467126,\n",
       " 0.007389598004182,\n",
       " 0.0073817823145504525,\n",
       " 0.007391670035806017,\n",
       " 0.007384061890692987,\n",
       " 0.007393728413185395,\n",
       " 0.0073916331693454915,\n",
       " 0.0073834529113820735,\n",
       " 0.007382841883934464,\n",
       " 0.00738127779021103,\n",
       " 0.007390892426573808,\n",
       " 0.007382391976573598,\n",
       " 0.007392337045656648,\n",
       " 0.007379829757567029,\n",
       " 0.007391754692122781,\n",
       " 0.007396446973293084,\n",
       " 0.0073969951912153525,\n",
       " 0.007370505956615069,\n",
       " 0.007394365383697819,\n",
       " 0.00739203187328896,\n",
       " 0.007388248282099403,\n",
       " 0.0073834952395404555,\n",
       " 0.00738312520951073,\n",
       " 0.007377371993531952,\n",
       " 0.007361539896872658,\n",
       " 0.007374959288504184,\n",
       " 0.00737911837142132,\n",
       " 0.0073928204059168804,\n",
       " 0.007385742045495856,\n",
       " 0.007379500690271222,\n",
       " 0.007389533829232195,\n",
       " 0.007389066854065531,\n",
       " 0.0073867463151890776,\n",
       " 0.007387095863851845,\n",
       " 0.0073833259269069276,\n",
       " 0.007391132058567228,\n",
       " 0.007389598686894232,\n",
       " 0.007375784004880399,\n",
       " 0.007378106591893547,\n",
       " 0.007372582084512478,\n",
       " 0.007365520791897252,\n",
       " 0.007375972433456421,\n",
       " 0.007395426318506294,\n",
       " 0.0073728080622612584,\n",
       " 0.007376525430364314,\n",
       " 0.00734720635356253,\n",
       " 0.007378347589311431,\n",
       " 0.007384081689347714,\n",
       " 0.007386542866943952,\n",
       " 0.007376844939688874,\n",
       " 0.007399520543761395,\n",
       " 0.007391801799266786,\n",
       " 0.007379956059329943,\n",
       " 0.007375803120822894,\n",
       " 0.007393618496516048,\n",
       " 0.007393117385737786,\n",
       " 0.007383807239030464,\n",
       " 0.007398484869305503,\n",
       " 0.0073914092397334066,\n",
       " 0.007370641133636998,\n",
       " 0.0073855065097758275,\n",
       " 0.007370944940580223,\n",
       " 0.007379156603306311,\n",
       " 0.007374727849057547,\n",
       " 0.007376558200551448,\n",
       " 0.007392642900736569,\n",
       " 0.007388494741215143,\n",
       " 0.0073965295814731515,\n",
       " 0.007393155617622775,\n",
       " 0.007383727361699324,\n",
       " 0.007404422417586912,\n",
       " 0.007391515060129361,\n",
       " 0.007381926366831397,\n",
       " 0.007369427954000795,\n",
       " 0.007373657356277824,\n",
       " 0.007368973950366536,\n",
       " 0.007382635022128178,\n",
       " 0.007393014978902991,\n",
       " 0.007391769711791884,\n",
       " 0.007390516252133995,\n",
       " 0.007375870026621626,\n",
       " 0.00738726108021198,\n",
       " 0.0073797635344805285,\n",
       " 0.007379357320702509,\n",
       " 0.007394842599547964,\n",
       " 0.007390230195708801,\n",
       " 0.007389694266606708,\n",
       " 0.007381415015369655,\n",
       " 0.007379689801559477,\n",
       " 0.00739726486254698,\n",
       " 0.0073980083361675905,\n",
       " 0.007379827026718102,\n",
       " 0.007387641350925185,\n",
       " 0.00738705968010355,\n",
       " 0.0073919390244254115,\n",
       " 0.007377533796330928,\n",
       " 0.007389545435340139,\n",
       " 0.0073815358554347125,\n",
       " 0.00737999292579047,\n",
       " 0.00737966317578243,\n",
       " 0.007387839337472456,\n",
       " 0.007370434954542944,\n",
       " 0.007398404991974363,\n",
       " 0.007377109149322644,\n",
       " 0.007385283945588206,\n",
       " 0.007380131516373558,\n",
       " 0.007394043143524332,\n",
       " 0.007383517086331878,\n",
       " 0.007396427857350589,\n",
       " 0.007391978621734866,\n",
       " 0.007382333263321649,\n",
       " 0.0073860417561656885,\n",
       " 0.007376372502824353,\n",
       " 0.007389605514016552,\n",
       " 0.007398520370341565,\n",
       " 0.007394407711856201,\n",
       " 0.007394269803985344,\n",
       " 0.007381743399953231,\n",
       " 0.007389119422907392,\n",
       " 0.00738697980277241,\n",
       " 0.007394026075718532,\n",
       " 0.007392665430240224,\n",
       " 0.007373215641463742,\n",
       " 0.007382385149451279,\n",
       " 0.007395268611980711,\n",
       " 0.007391638631043347,\n",
       " 0.0073896089275777115,\n",
       " 0.007391392171927607,\n",
       " 0.007393406855724139,\n",
       " 0.007361365122541275,\n",
       " 0.007378205585167182,\n",
       " 0.007381504450672042,\n",
       " 0.007398131224369344,\n",
       " 0.007390466414141061,\n",
       " 0.007401700443918063,\n",
       " 0.007381983714658882,\n",
       " 0.007388513174445406,\n",
       " 0.007389064805928835,\n",
       " 0.007378899220794859,\n",
       " 0.0073802912710358385,\n",
       " 0.007384521356025101,\n",
       " 0.00738354917380678,\n",
       " 0.0073642147633975015,\n",
       " 0.007399176456796485,\n",
       " 0.007390249994363528,\n",
       " 0.007396222360968767,\n",
       " 0.007371151119674277,\n",
       " 0.007367236447736183,\n",
       " 0.00738456641503241,\n",
       " 0.007399638652977525,\n",
       " 0.0073783646571172305,\n",
       " 0.00737499274140355,\n",
       " 0.007392722778067709,\n",
       " 0.007391675497503873,\n",
       " 0.0073870924502906846,\n",
       " 0.007381405457398407,\n",
       " 0.007397751636368371,\n",
       " 0.007400768541721429,\n",
       " 0.0073853795253006815,\n",
       " 0.007369449118079985,\n",
       " 0.007380735033986617,\n",
       " 0.007376230498680104,\n",
       " 0.0073909436299912055,\n",
       " 0.007378142092929609,\n",
       " 0.007394534696331347,\n",
       " 0.007384711150025587,\n",
       " 0.007382912203294356,\n",
       " 0.0073848442789108204,\n",
       " 0.007381182210498554,\n",
       " 0.007396608093379828,\n",
       " 0.007384526135010725,\n",
       " 0.00738634419768445,\n",
       " 0.007391656381561378,\n",
       " 0.007378941548953241,\n",
       " 0.007384642196090158,\n",
       " 0.007379993608502701,\n",
       " 0.007389331063699302,\n",
       " 0.0074002414878783515,\n",
       " 0.007396436732609604,\n",
       " 0.0073966715856174006,\n",
       " 0.007383339581151567,\n",
       " 0.007382057447579935,\n",
       " 0.007384422362751465,\n",
       " 0.007380369782942515,\n",
       " 0.007389874502635946,\n",
       " 0.007390357862896178,\n",
       " 0.007392856589665174,\n",
       " 0.007398194033894685,\n",
       " 0.0073764551110044214,\n",
       " 0.007378828901434967,\n",
       " 0.007402626884416841,\n",
       " 0.007384702957478804,\n",
       " 0.0073830296297982545,\n",
       " 0.007394884927706346,\n",
       " 0.007388377997423477,\n",
       " 0.007361746075966712,\n",
       " 0.007398349692283574,\n",
       " 0.007385601406776071,\n",
       " 0.007388149971538,\n",
       " 0.007388728911510707,\n",
       " 0.007380176575380868,\n",
       " 0.007393770741343777,\n",
       " 0.007376743215566311,\n",
       " 0.007358314081576618,\n",
       " 0.007385930474071879,\n",
       " 0.00739097298661718,\n",
       " 0.007369744049764195,\n",
       " 0.007380302877143782,\n",
       " 0.00739375435625021,\n",
       " 0.00738537201546613,\n",
       " 0.007379794256530967]"
      ]
     },
     "execution_count": 13,
     "metadata": {},
     "output_type": "execute_result"
    }
   ],
   "source": [
    "layer_reduced_fps['fc1']"
   ]
  },
  {
   "cell_type": "code",
   "execution_count": 6,
   "metadata": {
    "colab": {
     "base_uri": "https://localhost:8080/",
     "height": 174
    },
    "colab_type": "code",
    "id": "I8bBvx6fNb_B",
    "outputId": "e3f16b2e-6184-4ad0-9a02-2a283fd3725d"
   },
   "outputs": [
    {
     "name": "stderr",
     "output_type": "stream",
     "text": [
      "Clipping input data to the valid range for imshow with RGB data ([0..1] for floats or [0..255] for integers).\n"
     ]
    },
    {
     "name": "stdout",
     "output_type": "stream",
     "text": [
      "        8         7         6         0\n"
     ]
    },
    {
     "data": {
      "image/png": "[encoded data removed]",
      "text/plain": [
       "<Figure size 432x288 with 1 Axes>"
      ]
     },
     "metadata": {
      "needs_background": "light"
     },
     "output_type": "display_data"
    }
   ],
   "source": [
    "def imshow(img):\n",
    "    #img = img / 2 + 0.5     # unnormalize\n",
    "    npimg = img.numpy()\n",
    "    plt.imshow(np.transpose(npimg, (1, 2, 0)))\n",
    "\n",
    "\n",
    "# get some random training images\n",
    "dataiter = iter(trainloader)\n",
    "images, labels = dataiter.next()\n",
    "\n",
    "# show images\n",
    "imshow(torchvision.utils.make_grid(images))\n",
    "# print labels\n",
    "print(' '.join('%9s' % classes[labels[j]] for j in range(4)))"
   ]
  },
  {
   "cell_type": "code",
   "execution_count": 7,
   "metadata": {
    "colab": {
     "base_uri": "https://localhost:8080/",
     "height": 52
    },
    "colab_type": "code",
    "id": "Dm4vzV_aSupO",
    "outputId": "40b52e4a-9ab1-4fed-dbe2-f6ed6b18b025"
   },
   "outputs": [
    {
     "name": "stdout",
     "output_type": "stream",
     "text": [
      "torch.Size([4, 1, 28, 28])\n",
      "torch.Size([4])\n"
     ]
    }
   ],
   "source": [
    "print(images.shape)\n",
    "print(labels.shape)"
   ]
  },
  {
   "cell_type": "code",
   "execution_count": 11,
   "metadata": {
    "colab": {},
    "colab_type": "code",
    "id": "3EbchcH10u6A"
   },
   "outputs": [],
   "source": [
    "def frame_potential(w):\n",
    "    rows, cols = w.shape\n",
    "    if rows < cols:\n",
    "        T_mod = w @ w.T\n",
    "    else:\n",
    "        T_mod = w.T @ w\n",
    "    \n",
    "    squared_T_mod = T_mod @ T_mod\n",
    "    return squared_T_mod.trace()"
   ]
  },
  {
   "cell_type": "code",
   "execution_count": 15,
   "metadata": {
    "colab": {
     "base_uri": "https://localhost:8080/",
     "height": 1000
    },
    "colab_type": "code",
    "id": "tQbfVYGhUXGz",
    "outputId": "0b039be9-2bce-4a3e-d09d-da769d7a6a72",
    "scrolled": true
   },
   "outputs": [
    {
     "name": "stdout",
     "output_type": "stream",
     "text": [
      "[1,   125] loss: 2.311\n",
      "[1,   250] loss: 2.313\n",
      "[1,   375] loss: 2.309\n",
      "[1,   500] loss: 2.311\n",
      "[1,   625] loss: 2.309\n",
      "[1,   750] loss: 2.310\n",
      "[1,   875] loss: 2.310\n",
      "[2,   125] loss: 2.313\n",
      "[2,   250] loss: 2.311\n",
      "[2,   375] loss: 2.310\n",
      "[2,   500] loss: 2.309\n",
      "[2,   625] loss: 2.309\n",
      "[2,   750] loss: 2.312\n",
      "[2,   875] loss: 2.311\n",
      "[3,   125] loss: 2.311\n",
      "[3,   250] loss: 2.311\n",
      "[3,   375] loss: 2.310\n",
      "[3,   500] loss: 2.310\n",
      "[3,   625] loss: 2.312\n",
      "[3,   750] loss: 2.311\n",
      "[3,   875] loss: 2.311\n",
      "[4,   125] loss: 2.311\n",
      "[4,   250] loss: 2.310\n",
      "[4,   375] loss: 2.311\n",
      "[4,   500] loss: 2.310\n",
      "[4,   625] loss: 2.310\n",
      "[4,   750] loss: 2.311\n",
      "[4,   875] loss: 2.310\n",
      "[5,   125] loss: 2.310\n",
      "[5,   250] loss: 2.311\n",
      "[5,   375] loss: 2.311\n",
      "[5,   500] loss: 2.311\n",
      "[5,   625] loss: 2.309\n",
      "[5,   750] loss: 2.310\n",
      "[5,   875] loss: 2.313\n",
      "[6,   125] loss: 2.312\n",
      "[6,   250] loss: 2.309\n",
      "[6,   375] loss: 2.312\n",
      "[6,   500] loss: 2.312\n",
      "[6,   625] loss: 2.308\n",
      "[6,   750] loss: 2.311\n",
      "[6,   875] loss: 2.310\n",
      "[7,   125] loss: 2.311\n",
      "[7,   250] loss: 2.312\n",
      "[7,   375] loss: 2.311\n",
      "[7,   500] loss: 2.310\n",
      "[7,   625] loss: 2.311\n",
      "[7,   750] loss: 2.310\n",
      "[7,   875] loss: 2.309\n",
      "[8,   125] loss: 2.312\n",
      "[8,   250] loss: 2.310\n",
      "[8,   375] loss: 2.312\n",
      "[8,   500] loss: 2.309\n",
      "[8,   625] loss: 2.310\n",
      "[8,   750] loss: 2.309\n",
      "[8,   875] loss: 2.311\n",
      "[9,   125] loss: 2.312\n",
      "[9,   250] loss: 2.313\n",
      "[9,   375] loss: 2.308\n",
      "[9,   500] loss: 2.310\n",
      "[9,   625] loss: 2.311\n",
      "[9,   750] loss: 2.311\n",
      "[9,   875] loss: 2.310\n",
      "[10,   125] loss: 2.309\n",
      "[10,   250] loss: 2.310\n",
      "[10,   375] loss: 2.311\n",
      "[10,   500] loss: 2.311\n",
      "[10,   625] loss: 2.311\n",
      "[10,   750] loss: 2.311\n",
      "[10,   875] loss: 2.311\n",
      "Finished Training\n"
     ]
    }
   ],
   "source": [
    "epochs = 10\n",
    "\n",
    "training_loss = []\n",
    "frame_potentials = {'fc1': [], 'fc2': [], 'fc3': []}\n",
    "\n",
    "for epoch in range(epochs):  # loop over the dataset multiple times\n",
    "\n",
    "    running_loss = 0.0\n",
    "    for i, data in enumerate(trainloader, 0):\n",
    "        # get the inputs\n",
    "        #inputs, labels = data\n",
    "        inputs, labels = data[0].to(device), data[1].to(device)\n",
    "\n",
    "        # zero the parameter gradients\n",
    "        optimizer.zero_grad()\n",
    "\n",
    "        # forward + backward + optimize\n",
    "        outputs = net(inputs)\n",
    "        loss = criterion(outputs, labels)\n",
    "        loss.backward()\n",
    "        optimizer.step()\n",
    "        \n",
    "        # compute frame potentials\n",
    "        fc1_weights = net.fc1.weight.cpu().detach().numpy()\n",
    "        fc2_weights = net.fc2.weight.cpu().detach().numpy()\n",
    "        fc3_weights = net.fc3.weight.cpu().detach().numpy()\n",
    "        frame_potentials['fc1'].append(frame_potential(fc1_weights))\n",
    "        frame_potentials['fc2'].append(frame_potential(fc2_weights))\n",
    "        frame_potentials['fc3'].append(frame_potential(fc3_weights))\n",
    "\n",
    "        # print statistics\n",
    "        running_loss += loss.item()\n",
    "        if i % 125 == 124:    # print every 2000 mini-batches -- 2000 / 1999\n",
    "            print('[%d, %5d] loss: %.3f' %\n",
    "                  (epoch + 1, i + 1, running_loss / 125))  # 2000\n",
    "            training_loss.append(running_loss / 125)  # 2000\n",
    "            running_loss = 0.0\n",
    "\n",
    "print('Finished Training')"
   ]
  },
  {
   "cell_type": "code",
   "execution_count": 0,
   "metadata": {
    "colab": {
     "base_uri": "https://localhost:8080/",
     "height": 34
    },
    "colab_type": "code",
    "id": "cLHQ6c0tcJRp",
    "outputId": "ee8994c2-9d76-4d85-e5dc-ebbb759b9e91"
   },
   "outputs": [
    {
     "data": {
      "text/plain": [
       "9380"
      ]
     },
     "execution_count": 37,
     "metadata": {
      "tags": []
     },
     "output_type": "execute_result"
    }
   ],
   "source": [
    "len(frame_potentials['fc3'])"
   ]
  },
  {
   "cell_type": "code",
   "execution_count": 0,
   "metadata": {
    "colab": {
     "base_uri": "https://localhost:8080/",
     "height": 350
    },
    "colab_type": "code",
    "id": "JHlKSs9r2jG1",
    "outputId": "3ced9989-9724-4f0d-d87c-385136836687"
   },
   "outputs": [
    {
     "data": {
      "image/png": "[encoded data removed]",
      "text/plain": [
       "<Figure size 1440x360 with 3 Axes>"
      ]
     },
     "metadata": {
      "tags": []
     },
     "output_type": "display_data"
    }
   ],
   "source": [
    "fig, ((ax1, ax2, ax3)) = plt.subplots(1, 3, sharex=True, figsize=(20,5))\n",
    "ax1.plot(frame_potentials['fc1'])\n",
    "ax1.set_title('Frame potential of first layer')\n",
    "ax1.set(xlabel='epoch', ylabel='FP')\n",
    "ax2.plot(frame_potentials['fc2'])\n",
    "ax2.set_title('Frame potential of second layer')\n",
    "ax2.set(xlabel='epoch', ylabel='FP')\n",
    "ax3.plot(frame_potentials['fc3'])\n",
    "ax3.set_title('Frame potential of third layer')\n",
    "ax3.set(xlabel='epoch', ylabel='FP')\n",
    "\n",
    "\n",
    "fig.show()"
   ]
  },
  {
   "cell_type": "code",
   "execution_count": 0,
   "metadata": {
    "colab": {
     "base_uri": "https://localhost:8080/",
     "height": 191
    },
    "colab_type": "code",
    "id": "kHyTjOciUcrG",
    "outputId": "41748a2b-5940-4b79-e80c-01cdb4eb8aec"
   },
   "outputs": [
    {
     "name": "stderr",
     "output_type": "stream",
     "text": [
      "Clipping input data to the valid range for imshow with RGB data ([0..1] for floats or [0..255] for integers).\n"
     ]
    },
    {
     "name": "stdout",
     "output_type": "stream",
     "text": [
      "GroundTruth: \n",
      "         7         2         1         0\n"
     ]
    },
    {
     "data": {
      "image/png": "[encoded data removed]",
      "text/plain": [
       "<Figure size 432x288 with 1 Axes>"
      ]
     },
     "metadata": {
      "tags": []
     },
     "output_type": "display_data"
    }
   ],
   "source": [
    "dataiter = iter(testloader)\n",
    "images, labels = dataiter.next()\n",
    "\n",
    "# print images\n",
    "imshow(torchvision.utils.make_grid(images))\n",
    "print('GroundTruth: \\n', ' '.join('%9s' % classes[labels[j]] for j in range(4)))"
   ]
  },
  {
   "cell_type": "code",
   "execution_count": 0,
   "metadata": {
    "colab": {
     "base_uri": "https://localhost:8080/",
     "height": 52
    },
    "colab_type": "code",
    "id": "fgFtKpSMVFfY",
    "outputId": "8877399e-af19-4e44-c319-f5fb1eabbe1c"
   },
   "outputs": [
    {
     "name": "stdout",
     "output_type": "stream",
     "text": [
      "Predicted: \n",
      "         7         2         1         0\n"
     ]
    }
   ],
   "source": [
    "outputs = net(images.to(device))\n",
    "_, predicted = torch.max(outputs, 1)\n",
    "\n",
    "print('Predicted: \\n', ' '.join('%9s' % classes[predicted[j]]\n",
    "                              for j in range(4)))"
   ]
  },
  {
   "cell_type": "code",
   "execution_count": 0,
   "metadata": {
    "colab": {
     "base_uri": "https://localhost:8080/",
     "height": 34
    },
    "colab_type": "code",
    "id": "JCHBLuoZVZQY",
    "outputId": "5d9c4340-c0af-4a16-d8c0-b5ea1a696603"
   },
   "outputs": [
    {
     "name": "stdout",
     "output_type": "stream",
     "text": [
      "Accuracy of the network on the 10000 test images: 97 %\n"
     ]
    }
   ],
   "source": [
    "correct = 0\n",
    "total = 0\n",
    "with torch.no_grad():\n",
    "    for data in testloader:\n",
    "        images, labels = data[0].to(device), data[1].to(device)\n",
    "        outputs = net(images)\n",
    "        _, predicted = torch.max(outputs.data, 1)\n",
    "        total += labels.size(0)\n",
    "        correct += (predicted == labels).sum().item()\n",
    "\n",
    "print('Accuracy of the network on the 10000 test images: %d %%' % (\n",
    "    100 * correct / total))"
   ]
  },
  {
   "cell_type": "code",
   "execution_count": 0,
   "metadata": {
    "colab": {
     "base_uri": "https://localhost:8080/",
     "height": 191
    },
    "colab_type": "code",
    "id": "NEKHhTfFVzY9",
    "outputId": "60b77c43-f2e2-4088-d648-fcb517803739"
   },
   "outputs": [
    {
     "name": "stdout",
     "output_type": "stream",
     "text": [
      "Accuracy of 0 : 98 %\n",
      "Accuracy of 1 : 97 %\n",
      "Accuracy of 2 : 89 %\n",
      "Accuracy of 3 : 96 %\n",
      "Accuracy of 4 : 100 %\n",
      "Accuracy of 5 : 92 %\n",
      "Accuracy of 6 : 94 %\n",
      "Accuracy of 7 : 96 %\n",
      "Accuracy of 8 : 98 %\n",
      "Accuracy of 9 : 97 %\n"
     ]
    }
   ],
   "source": [
    "class_correct = list(0. for i in range(10))\n",
    "class_total = list(0. for i in range(10))\n",
    "with torch.no_grad():\n",
    "    for data in testloader:\n",
    "        images, labels = data[0].to(device), data[1].to(device)\n",
    "        outputs = net(images)\n",
    "        _, predicted = torch.max(outputs, 1)\n",
    "        c = (predicted == labels).squeeze()\n",
    "        for i in range(4):\n",
    "            label = labels[i]\n",
    "            class_correct[label] += c[i].item()\n",
    "            class_total[label] += 1\n",
    "\n",
    "\n",
    "for i in range(10):\n",
    "    print('Accuracy of %s : %2d %%' % (\n",
    "        classes[i], 100 * class_correct[i] / class_total[i]))"
   ]
  },
  {
   "cell_type": "markdown",
   "metadata": {
    "colab_type": "text",
    "id": "5xj4WASNfp0M"
   },
   "source": [
    "## CIFAR10 / Conv-2"
   ]
  },
  {
   "cell_type": "code",
   "execution_count": 0,
   "metadata": {
    "colab": {
     "base_uri": "https://localhost:8080/",
     "height": 52
    },
    "colab_type": "code",
    "id": "1Xykgg6ngQ-C",
    "outputId": "dc4364ba-a023-45d0-dbdd-fae5bd5e50c6"
   },
   "outputs": [
    {
     "name": "stdout",
     "output_type": "stream",
     "text": [
      "Files already downloaded and verified\n",
      "Files already downloaded and verified\n"
     ]
    }
   ],
   "source": [
    "transform = transforms.Compose(\n",
    "    [transforms.ToTensor(),\n",
    "     transforms.Normalize((0.5, 0.5, 0.5), (0.5, 0.5, 0.5))])\n",
    "\n",
    "trainset = torchvision.datasets.CIFAR10(root='./data', train=True,\n",
    "                                        download=True, transform=transform)\n",
    "trainloader = torch.utils.data.DataLoader(trainset, batch_size=4,\n",
    "                                          shuffle=True, num_workers=2)\n",
    "\n",
    "testset = torchvision.datasets.CIFAR10(root='./data', train=False,\n",
    "                                       download=True, transform=transform)\n",
    "testloader = torch.utils.data.DataLoader(testset, batch_size=4,\n",
    "                                         shuffle=False, num_workers=2)\n",
    "\n",
    "classes = ('plane', 'car', 'bird', 'cat',\n",
    "           'deer', 'dog', 'frog', 'horse', 'ship', 'truck')"
   ]
  },
  {
   "cell_type": "code",
   "execution_count": 0,
   "metadata": {
    "colab": {
     "base_uri": "https://localhost:8080/",
     "height": 156
    },
    "colab_type": "code",
    "id": "M52AskNuga6J",
    "outputId": "d90b8157-0f01-4411-c949-275fa56c7acd"
   },
   "outputs": [
    {
     "data": {
      "image/png": "[encoded data removed]",
      "text/plain": [
       "<Figure size 432x288 with 1 Axes>"
      ]
     },
     "metadata": {
      "tags": []
     },
     "output_type": "display_data"
    },
    {
     "name": "stdout",
     "output_type": "stream",
     "text": [
      " bird   cat truck  bird\n"
     ]
    }
   ],
   "source": [
    "def imshow(img):\n",
    "    img = img / 2 + 0.5     # unnormalize\n",
    "    npimg = img.numpy()\n",
    "    plt.imshow(np.transpose(npimg, (1, 2, 0)))\n",
    "    plt.show()\n",
    "\n",
    "\n",
    "# get some random training images\n",
    "dataiter = iter(trainloader)\n",
    "images, labels = dataiter.next()\n",
    "\n",
    "# show images\n",
    "imshow(torchvision.utils.make_grid(images))\n",
    "# print labels\n",
    "print(' '.join('%5s' % classes[labels[j]] for j in range(4)))"
   ]
  },
  {
   "cell_type": "code",
   "execution_count": 0,
   "metadata": {
    "colab": {
     "base_uri": "https://localhost:8080/",
     "height": 34
    },
    "colab_type": "code",
    "id": "9mM3T3nX6zLm",
    "outputId": "ea96951a-107f-49bb-841c-00a8ceb2c46d"
   },
   "outputs": [
    {
     "name": "stdout",
     "output_type": "stream",
     "text": [
      "torch.Size([4, 3, 32, 32])\n"
     ]
    }
   ],
   "source": [
    "print(images.shape)"
   ]
  },
  {
   "cell_type": "code",
   "execution_count": 0,
   "metadata": {
    "colab": {
     "base_uri": "https://localhost:8080/",
     "height": 156
    },
    "colab_type": "code",
    "id": "IYdyQlMlfjJ2",
    "outputId": "a771564f-c1cc-40bb-87ba-edfeb34392ae"
   },
   "outputs": [
    {
     "data": {
      "text/plain": [
       "Conv2(\n",
       "  (conv1): Conv2d(3, 64, kernel_size=(3, 3), stride=(1, 1))\n",
       "  (conv2): Conv2d(64, 64, kernel_size=(3, 3), stride=(1, 1))\n",
       "  (pool): MaxPool2d(kernel_size=2, stride=2, padding=0, dilation=1, ceil_mode=False)\n",
       "  (fc1): Linear(in_features=12544, out_features=256, bias=True)\n",
       "  (fc2): Linear(in_features=256, out_features=256, bias=True)\n",
       "  (fc3): Linear(in_features=256, out_features=10, bias=True)\n",
       ")"
      ]
     },
     "execution_count": 104,
     "metadata": {
      "tags": []
     },
     "output_type": "execute_result"
    }
   ],
   "source": [
    "class Conv2(nn.Module):\n",
    "    \n",
    "    def __init__(self):\n",
    "        super(Conv2, self).__init__()\n",
    "        self.conv1 = nn.Conv2d(3, 64, 3)\n",
    "        self.conv2 = nn.Conv2d(64, 64, 3)\n",
    "        self.pool = nn.MaxPool2d(2, 2)\n",
    "        \n",
    "        self.fc1 = nn.Linear(64 * 14 * 14, 256)\n",
    "        self.fc2 = nn.Linear(256, 256)\n",
    "        self.fc3 = nn.Linear(256, 10)\n",
    "\n",
    "    def forward(self, x):\n",
    "        x = F.relu(self.conv1(x))\n",
    "        x = self.pool(F.relu(self.conv2(x)))\n",
    "        x = x.view(-1, 64 * 14 * 14)\n",
    "        x = F.relu(self.fc1(x))\n",
    "        x = F.relu(self.fc2(x))\n",
    "        x = self.fc3(x)\n",
    "        return x\n",
    "  \n",
    "    \"\"\"\n",
    "    def __init__(self):\n",
    "        super(Conv2, self).__init__()\n",
    "        self.conv1 = nn.Conv2d(3, 6, 5)\n",
    "        self.pool = nn.MaxPool2d(2, 2)\n",
    "        self.conv2 = nn.Conv2d(6, 16, 5)\n",
    "        self.fc1 = nn.Linear(16 * 5 * 5, 120)\n",
    "        self.fc2 = nn.Linear(120, 84)\n",
    "        self.fc3 = nn.Linear(84, 10)\n",
    "\n",
    "    def forward(self, x):\n",
    "        x = self.pool(F.relu(self.conv1(x)))\n",
    "        x = self.pool(F.relu(self.conv2(x)))\n",
    "        x = x.view(-1, self.num_flat_features(x))\n",
    "        x = F.relu(self.fc1(x))\n",
    "        x = F.relu(self.fc2(x))\n",
    "        x = self.fc3(x)\n",
    "        return x\n",
    "    \"\"\"\n",
    "      \n",
    "    def num_flat_features(self, x):\n",
    "        size = x.size()[1:]  # all dimensions except the batch dimension\n",
    "        num_features = 1\n",
    "        for s in size:\n",
    "            num_features *= s\n",
    "        return num_features\n",
    "    \n",
    "\n",
    "net = Conv2()\n",
    "net.to(device)"
   ]
  },
  {
   "cell_type": "code",
   "execution_count": 0,
   "metadata": {
    "colab": {
     "base_uri": "https://localhost:8080/",
     "height": 34
    },
    "colab_type": "code",
    "id": "5rIogoGL0x93",
    "outputId": "51362d7b-aa4b-46d4-8561-3ae145e83e9f"
   },
   "outputs": [
    {
     "data": {
      "text/plain": [
       "torch.Size([256, 12544])"
      ]
     },
     "execution_count": 101,
     "metadata": {
      "tags": []
     },
     "output_type": "execute_result"
    }
   ],
   "source": [
    "net.fc1.weight.shape"
   ]
  },
  {
   "cell_type": "code",
   "execution_count": 0,
   "metadata": {
    "colab": {},
    "colab_type": "code",
    "id": "Rk3ahST69iVp"
   },
   "outputs": [],
   "source": [
    "criterion = nn.CrossEntropyLoss()\n",
    "optimizer = optim.SGD(net.parameters(), lr=0.001, momentum=0.9)"
   ]
  },
  {
   "cell_type": "code",
   "execution_count": 0,
   "metadata": {
    "colab": {},
    "colab_type": "code",
    "id": "1t82xwHagxUK"
   },
   "outputs": [],
   "source": [
    "criterion = nn.CrossEntropyLoss()\n",
    "optimizer = optim.Adam(net.parameters(), lr=0.0002)"
   ]
  },
  {
   "cell_type": "code",
   "execution_count": 0,
   "metadata": {
    "colab": {
     "base_uri": "https://localhost:8080/",
     "height": 243
    },
    "colab_type": "code",
    "id": "CmaFSCvRkODo",
    "outputId": "7193dbdb-0e5b-4364-fa8b-df4d6124642b"
   },
   "outputs": [
    {
     "name": "stdout",
     "output_type": "stream",
     "text": [
      "[1,  2000] loss: 1.725\n",
      "[1,  4000] loss: 1.395\n",
      "[1,  6000] loss: 1.253\n",
      "[1,  8000] loss: 1.196\n",
      "[1, 10000] loss: 1.105\n",
      "[1, 12000] loss: 1.062\n",
      "[2,  2000] loss: 0.904\n",
      "[2,  4000] loss: 0.887\n",
      "[2,  6000] loss: 0.892\n",
      "[2,  8000] loss: 0.881\n",
      "[2, 10000] loss: 0.856\n",
      "[2, 12000] loss: 0.840\n",
      "Finished Training\n"
     ]
    }
   ],
   "source": [
    "epochs = 2\n",
    "\n",
    "training_loss = []\n",
    "frame_potentials = {'conv1': [], 'conv2': []}\n",
    "\n",
    "for epoch in range(epochs):  # loop over the dataset multiple times\n",
    "\n",
    "    running_loss = 0.0\n",
    "    for i, data in enumerate(trainloader, 0):\n",
    "        # get the inputs; data is a list of [inputs, labels]\n",
    "        inputs, labels = data[0].to(device), data[1].to(device)\n",
    "\n",
    "        # zero the parameter gradients\n",
    "        optimizer.zero_grad()\n",
    "\n",
    "        # forward + backward + optimize\n",
    "        outputs = net(inputs)\n",
    "        loss = criterion(outputs, labels)\n",
    "        loss.backward()\n",
    "        optimizer.step()\n",
    "        \n",
    "        # compute frame potentials\n",
    "        conv1_weights = net.conv1.weight.view(6, -1).cpu().detach().numpy()\n",
    "        conv2_weights = net.conv2.weight.view(16, -1).cpu().detach().numpy()\n",
    "        frame_potentials['conv1'].append(frame_potential(conv1_weights))\n",
    "        frame_potentials['conv2'].append(frame_potential(conv2_weights))\n",
    "\n",
    "        # print statistics\n",
    "        running_loss += loss.item()\n",
    "        if i % 2000 == 1999:    # print every 2000 mini-batches\n",
    "            print('[%d, %5d] loss: %.3f' %\n",
    "                  (epoch + 1, i + 1, running_loss / 2000))\n",
    "            training_loss.append(running_loss / 2000)\n",
    "            running_loss = 0.0\n",
    "\n",
    "print('Finished Training')"
   ]
  },
  {
   "cell_type": "code",
   "execution_count": 0,
   "metadata": {
    "colab": {
     "base_uri": "https://localhost:8080/",
     "height": 367
    },
    "colab_type": "code",
    "id": "d9q8vZ8Pj4ig",
    "outputId": "614b1809-776c-4a59-8adf-7d098b1dcd90"
   },
   "outputs": [
    {
     "data": {
      "text/plain": [
       "[Text(0, 0.5, 'FP'), Text(0.5, 0, 'epoch')]"
      ]
     },
     "execution_count": 107,
     "metadata": {
      "tags": []
     },
     "output_type": "execute_result"
    },
    {
     "data": {
      "image/png": "[encoded data removed]",
      "text/plain": [
       "<Figure size 864x360 with 2 Axes>"
      ]
     },
     "metadata": {
      "tags": []
     },
     "output_type": "display_data"
    }
   ],
   "source": [
    "fig, ((ax1, ax2)) = plt.subplots(1, 2, sharex=True, figsize=(12,5))\n",
    "ax1.plot(frame_potentials['conv1'])\n",
    "ax1.set_title('Frame potential of first convolutional layer')\n",
    "ax1.set(xlabel='epoch', ylabel='FP')\n",
    "ax2.plot(frame_potentials['conv2'])\n",
    "ax2.set_title('Frame potential of second convolutional layer')\n",
    "ax2.set(xlabel='epoch', ylabel='FP')"
   ]
  },
  {
   "cell_type": "code",
   "execution_count": 0,
   "metadata": {
    "colab": {
     "base_uri": "https://localhost:8080/",
     "height": 34
    },
    "colab_type": "code",
    "id": "TGzk2yAZm1Y8",
    "outputId": "ea40b94f-8e45-4491-9abf-53e7afb6a02e"
   },
   "outputs": [
    {
     "name": "stdout",
     "output_type": "stream",
     "text": [
      "Accuracy of the network on the 10000 test images: 69 %\n"
     ]
    }
   ],
   "source": [
    "correct = 0\n",
    "total = 0\n",
    "with torch.no_grad():\n",
    "    for data in testloader:\n",
    "        images, labels = data[0].to(device), data[1].to(device)\n",
    "        outputs = net(images)\n",
    "        _, predicted = torch.max(outputs.data, 1)\n",
    "        total += labels.size(0)\n",
    "        correct += (predicted == labels).sum().item()\n",
    "\n",
    "print('Accuracy of the network on the 10000 test images: %d %%' % (\n",
    "    100 * correct / total))\n"
   ]
  },
  {
   "cell_type": "code",
   "execution_count": 0,
   "metadata": {
    "colab": {
     "base_uri": "https://localhost:8080/",
     "height": 191
    },
    "colab_type": "code",
    "id": "ptmBv61vwxt2",
    "outputId": "b39d8d08-a5e3-40a5-e039-4984afdd154a"
   },
   "outputs": [
    {
     "name": "stdout",
     "output_type": "stream",
     "text": [
      "Accuracy of plane : 52 %\n",
      "Accuracy of   car : 65 %\n",
      "Accuracy of  bird : 51 %\n",
      "Accuracy of   cat : 46 %\n",
      "Accuracy of  deer : 53 %\n",
      "Accuracy of   dog : 20 %\n",
      "Accuracy of  frog : 49 %\n",
      "Accuracy of horse : 59 %\n",
      "Accuracy of  ship : 79 %\n",
      "Accuracy of truck : 57 %\n"
     ]
    }
   ],
   "source": [
    "class_correct = list(0. for i in range(10))\n",
    "class_total = list(0. for i in range(10))\n",
    "with torch.no_grad():\n",
    "    for data in testloader:\n",
    "        images, labels = data[0].to(device), data[1].to(device)\n",
    "        outputs = net(images)\n",
    "        _, predicted = torch.max(outputs, 1)\n",
    "        c = (predicted == labels).squeeze()\n",
    "        for i in range(4):\n",
    "            label = labels[i]\n",
    "            class_correct[label] += c[i].item()\n",
    "            class_total[label] += 1\n",
    "\n",
    "\n",
    "for i in range(10):\n",
    "    print('Accuracy of %5s : %2d %%' % (\n",
    "        classes[i], 100 * class_correct[i] / class_total[i]))"
   ]
  },
  {
   "cell_type": "code",
   "execution_count": 0,
   "metadata": {
    "colab": {},
    "colab_type": "code",
    "id": "0K7p1kRYw5LN"
   },
   "outputs": [],
   "source": []
  }
 ],
 "metadata": {
  "accelerator": "GPU",
  "colab": {
   "collapsed_sections": [],
   "name": "frame-potential.ipynb",
   "provenance": []
  },
  "kernelspec": {
   "display_name": "Python 3",
   "language": "python",
   "name": "python3"
  },
  "language_info": {
   "codemirror_mode": {
    "name": "ipython",
    "version": 3
   },
   "file_extension": ".py",
   "mimetype": "text/x-python",
   "name": "python",
   "nbconvert_exporter": "python",
   "pygments_lexer": "ipython3",
   "version": "3.7.4"
  }
 },
 "nbformat": 4,
 "nbformat_minor": 1
}
