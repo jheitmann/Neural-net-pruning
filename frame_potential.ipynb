{
 "cells": [
  {
   "cell_type": "code",
   "execution_count": 1,
   "metadata": {
    "colab": {},
    "colab_type": "code",
    "id": "0RD6_n-QNE1H"
   },
   "outputs": [],
   "source": [
    "%matplotlib inline"
   ]
  },
  {
   "cell_type": "code",
   "execution_count": 2,
   "metadata": {
    "colab": {},
    "colab_type": "code",
    "id": "13-6rCuFNTxE"
   },
   "outputs": [],
   "source": [
    "import matplotlib.pyplot as plt\n",
    "import numpy as np\n",
    "import torch\n",
    "import torch.nn as nn\n",
    "import torchvision\n",
    "import torchvision.transforms as transforms\n",
    "import torch.optim as optim"
   ]
  },
  {
   "cell_type": "code",
   "execution_count": 3,
   "metadata": {},
   "outputs": [],
   "source": [
    "import common\n",
    "from models import LeNet_300_100\n",
    "from experiment import Experiment"
   ]
  },
  {
   "cell_type": "code",
   "execution_count": 4,
   "metadata": {},
   "outputs": [
    {
     "data": {
      "text/plain": [
       "<torch._C.Generator at 0x7f8a8e7c95d0>"
      ]
     },
     "execution_count": 4,
     "metadata": {},
     "output_type": "execute_result"
    }
   ],
   "source": [
    "np.random.seed(common.SEED)\n",
    "torch.manual_seed(common.SEED)"
   ]
  },
  {
   "cell_type": "markdown",
   "metadata": {
    "colab_type": "text",
    "id": "9jgispLCfQqo"
   },
   "source": [
    "## MNIST / Lenet 300-100-10"
   ]
  },
  {
   "cell_type": "code",
   "execution_count": 5,
   "metadata": {},
   "outputs": [],
   "source": [
    "train_batch_size = 64\n",
    "test_batch_size = 1000"
   ]
  },
  {
   "cell_type": "code",
   "execution_count": 6,
   "metadata": {
    "colab": {},
    "colab_type": "code",
    "id": "kSyjXtn_NYgk"
   },
   "outputs": [],
   "source": [
    "\"\"\"\n",
    "transform = transforms.Compose(\n",
    "    [transforms.ToTensor(),\n",
    "     transforms.Normalize((0.5,), (0.5,))])\n",
    "\n",
    "trainset = torchvision.datasets.MNIST(root='./data', train=True,\n",
    "                                        download=True, transform=transform)\n",
    "trainloader = torch.utils.data.DataLoader(trainset, batch_size=64,\n",
    "                                          shuffle=True, num_workers=2)\n",
    "\n",
    "testset = torchvision.datasets.MNIST(root='./data', train=False,\n",
    "                                       download=True, transform=transform)\n",
    "testloader = torch.utils.data.DataLoader(testset, batch_size=64,\n",
    "                                         shuffle=False, num_workers=2)\n",
    "\"\"\"\n",
    "\n",
    "transform = transforms.Compose(\n",
    "    [transforms.ToTensor(),\n",
    "     transforms.Normalize((0.1307,), (0.3081,))])\n",
    "\n",
    "trainset = torchvision.datasets.MNIST(root='./data', train=True, \n",
    "                          download=True, transform=transform)\n",
    "\n",
    "testset = torchvision.datasets.MNIST(root='./data', train=False, \n",
    "                         download=True, transform=transform)\n",
    "\n",
    "kwargs = {'num_workers': 1, 'pin_memory': True} if torch.cuda.is_available() else {}\n",
    "\n",
    "trainloader = torch.utils.data.DataLoader(trainset, batch_size=train_batch_size,\n",
    "                                           shuffle=True, **kwargs)\n",
    "testloader = torch.utils.data.DataLoader(testset, batch_size=test_batch_size,\n",
    "                                          shuffle=True, **kwargs)\n",
    "\n",
    "\n",
    "classes = ('0', '1', '2', '3', '4', '5', '6', '7', '8', '9')"
   ]
  },
  {
   "cell_type": "code",
   "execution_count": 12,
   "metadata": {},
   "outputs": [],
   "source": [
    "epochs = 20\n",
    "lr = 0.003\n",
    "momentum = 0.9"
   ]
  },
  {
   "cell_type": "code",
   "execution_count": 13,
   "metadata": {},
   "outputs": [],
   "source": [
    "model = LeNet_300_100()\n",
    "e = Experiment(trainloader, testloader, model)\n",
    "\n",
    "criterion = nn.CrossEntropyLoss()  # sum up batch loss\n",
    "optimizer = optim.SGD(model.parameters(), lr=lr, momentum=momentum)\n",
    "monitored = ['fc1.weight', 'fc2.weight', 'fc3.weight']"
   ]
  },
  {
   "cell_type": "code",
   "execution_count": 14,
   "metadata": {
    "scrolled": true
   },
   "outputs": [
    {
     "name": "stdout",
     "output_type": "stream",
     "text": [
      "\n",
      "Test set: Average loss: 2.3061, Accuracy:    744/ 10000 (7%)\n",
      "\n",
      "Train Epoch:   1 [     0/ 60000 (0%)]\tLoss: 2.314510\n",
      "Train Epoch:   1 [  6400/ 60000 (11%)]\tLoss: 1.036229\n",
      "Train Epoch:   1 [ 12800/ 60000 (21%)]\tLoss: 0.686505\n",
      "Train Epoch:   1 [ 19200/ 60000 (32%)]\tLoss: 0.347699\n",
      "Train Epoch:   1 [ 25600/ 60000 (43%)]\tLoss: 0.226271\n",
      "Train Epoch:   1 [ 32000/ 60000 (53%)]\tLoss: 0.328453\n",
      "Train Epoch:   1 [ 38400/ 60000 (64%)]\tLoss: 0.196347\n",
      "Train Epoch:   1 [ 44800/ 60000 (75%)]\tLoss: 0.289024\n",
      "Train Epoch:   1 [ 51200/ 60000 (85%)]\tLoss: 0.153734\n",
      "Train Epoch:   1 [ 57600/ 60000 (96%)]\tLoss: 0.507460\n",
      "\n",
      "Test set: Average loss: 0.2327, Accuracy:   9333/ 10000 (93%)\n",
      "\n",
      "Train Epoch:   2 [     0/ 60000 (0%)]\tLoss: 0.111132\n",
      "Train Epoch:   2 [  6400/ 60000 (11%)]\tLoss: 0.219730\n",
      "Train Epoch:   2 [ 12800/ 60000 (21%)]\tLoss: 0.206198\n",
      "Train Epoch:   2 [ 19200/ 60000 (32%)]\tLoss: 0.260556\n",
      "Train Epoch:   2 [ 25600/ 60000 (43%)]\tLoss: 0.173720\n",
      "Train Epoch:   2 [ 32000/ 60000 (53%)]\tLoss: 0.165935\n",
      "Train Epoch:   2 [ 38400/ 60000 (64%)]\tLoss: 0.210839\n",
      "Train Epoch:   2 [ 44800/ 60000 (75%)]\tLoss: 0.108444\n",
      "Train Epoch:   2 [ 51200/ 60000 (85%)]\tLoss: 0.225229\n",
      "Train Epoch:   2 [ 57600/ 60000 (96%)]\tLoss: 0.248872\n",
      "\n",
      "Test set: Average loss: 0.1574, Accuracy:   9533/ 10000 (95%)\n",
      "\n",
      "Train Epoch:   3 [     0/ 60000 (0%)]\tLoss: 0.126274\n",
      "Train Epoch:   3 [  6400/ 60000 (11%)]\tLoss: 0.076708\n",
      "Train Epoch:   3 [ 12800/ 60000 (21%)]\tLoss: 0.121117\n",
      "Train Epoch:   3 [ 19200/ 60000 (32%)]\tLoss: 0.072126\n",
      "Train Epoch:   3 [ 25600/ 60000 (43%)]\tLoss: 0.071218\n",
      "Train Epoch:   3 [ 32000/ 60000 (53%)]\tLoss: 0.087901\n",
      "Train Epoch:   3 [ 38400/ 60000 (64%)]\tLoss: 0.145896\n",
      "Train Epoch:   3 [ 44800/ 60000 (75%)]\tLoss: 0.072578\n",
      "Train Epoch:   3 [ 51200/ 60000 (85%)]\tLoss: 0.117264\n",
      "Train Epoch:   3 [ 57600/ 60000 (96%)]\tLoss: 0.138512\n",
      "\n",
      "Test set: Average loss: 0.1275, Accuracy:   9602/ 10000 (96%)\n",
      "\n",
      "Train Epoch:   4 [     0/ 60000 (0%)]\tLoss: 0.166629\n",
      "Train Epoch:   4 [  6400/ 60000 (11%)]\tLoss: 0.090600\n",
      "Train Epoch:   4 [ 12800/ 60000 (21%)]\tLoss: 0.112393\n",
      "Train Epoch:   4 [ 19200/ 60000 (32%)]\tLoss: 0.117496\n",
      "Train Epoch:   4 [ 25600/ 60000 (43%)]\tLoss: 0.167353\n",
      "Train Epoch:   4 [ 32000/ 60000 (53%)]\tLoss: 0.071394\n",
      "Train Epoch:   4 [ 38400/ 60000 (64%)]\tLoss: 0.053294\n",
      "Train Epoch:   4 [ 44800/ 60000 (75%)]\tLoss: 0.191740\n",
      "Train Epoch:   4 [ 51200/ 60000 (85%)]\tLoss: 0.036310\n",
      "Train Epoch:   4 [ 57600/ 60000 (96%)]\tLoss: 0.042988\n",
      "\n",
      "Test set: Average loss: 0.1054, Accuracy:   9673/ 10000 (97%)\n",
      "\n",
      "Train Epoch:   5 [     0/ 60000 (0%)]\tLoss: 0.028326\n",
      "Train Epoch:   5 [  6400/ 60000 (11%)]\tLoss: 0.152171\n",
      "Train Epoch:   5 [ 12800/ 60000 (21%)]\tLoss: 0.126608\n",
      "Train Epoch:   5 [ 19200/ 60000 (32%)]\tLoss: 0.050735\n",
      "Train Epoch:   5 [ 25600/ 60000 (43%)]\tLoss: 0.032486\n",
      "Train Epoch:   5 [ 32000/ 60000 (53%)]\tLoss: 0.087705\n",
      "Train Epoch:   5 [ 38400/ 60000 (64%)]\tLoss: 0.058561\n",
      "Train Epoch:   5 [ 44800/ 60000 (75%)]\tLoss: 0.032768\n",
      "Train Epoch:   5 [ 51200/ 60000 (85%)]\tLoss: 0.050884\n",
      "Train Epoch:   5 [ 57600/ 60000 (96%)]\tLoss: 0.094867\n",
      "\n",
      "Test set: Average loss: 0.0931, Accuracy:   9723/ 10000 (97%)\n",
      "\n",
      "Train Epoch:   6 [     0/ 60000 (0%)]\tLoss: 0.090818\n",
      "Train Epoch:   6 [  6400/ 60000 (11%)]\tLoss: 0.132590\n",
      "Train Epoch:   6 [ 12800/ 60000 (21%)]\tLoss: 0.041012\n",
      "Train Epoch:   6 [ 19200/ 60000 (32%)]\tLoss: 0.026263\n",
      "Train Epoch:   6 [ 25600/ 60000 (43%)]\tLoss: 0.182283\n",
      "Train Epoch:   6 [ 32000/ 60000 (53%)]\tLoss: 0.015642\n",
      "Train Epoch:   6 [ 38400/ 60000 (64%)]\tLoss: 0.055404\n",
      "Train Epoch:   6 [ 44800/ 60000 (75%)]\tLoss: 0.036460\n",
      "Train Epoch:   6 [ 51200/ 60000 (85%)]\tLoss: 0.137178\n",
      "Train Epoch:   6 [ 57600/ 60000 (96%)]\tLoss: 0.026471\n",
      "\n",
      "Test set: Average loss: 0.0850, Accuracy:   9735/ 10000 (97%)\n",
      "\n",
      "Train Epoch:   7 [     0/ 60000 (0%)]\tLoss: 0.033127\n",
      "Train Epoch:   7 [  6400/ 60000 (11%)]\tLoss: 0.082760\n",
      "Train Epoch:   7 [ 12800/ 60000 (21%)]\tLoss: 0.041727\n",
      "Train Epoch:   7 [ 19200/ 60000 (32%)]\tLoss: 0.224577\n",
      "Train Epoch:   7 [ 25600/ 60000 (43%)]\tLoss: 0.042286\n",
      "Train Epoch:   7 [ 32000/ 60000 (53%)]\tLoss: 0.013917\n",
      "Train Epoch:   7 [ 38400/ 60000 (64%)]\tLoss: 0.023351\n",
      "Train Epoch:   7 [ 44800/ 60000 (75%)]\tLoss: 0.051629\n",
      "Train Epoch:   7 [ 51200/ 60000 (85%)]\tLoss: 0.035800\n",
      "Train Epoch:   7 [ 57600/ 60000 (96%)]\tLoss: 0.016902\n",
      "\n",
      "Test set: Average loss: 0.0816, Accuracy:   9741/ 10000 (97%)\n",
      "\n",
      "Train Epoch:   8 [     0/ 60000 (0%)]\tLoss: 0.039418\n",
      "Train Epoch:   8 [  6400/ 60000 (11%)]\tLoss: 0.028119\n",
      "Train Epoch:   8 [ 12800/ 60000 (21%)]\tLoss: 0.213686\n",
      "Train Epoch:   8 [ 19200/ 60000 (32%)]\tLoss: 0.061074\n",
      "Train Epoch:   8 [ 25600/ 60000 (43%)]\tLoss: 0.021659\n",
      "Train Epoch:   8 [ 32000/ 60000 (53%)]\tLoss: 0.090300\n",
      "Train Epoch:   8 [ 38400/ 60000 (64%)]\tLoss: 0.029284\n",
      "Train Epoch:   8 [ 44800/ 60000 (75%)]\tLoss: 0.054881\n",
      "Train Epoch:   8 [ 51200/ 60000 (85%)]\tLoss: 0.088903\n",
      "Train Epoch:   8 [ 57600/ 60000 (96%)]\tLoss: 0.081782\n",
      "\n",
      "Test set: Average loss: 0.0723, Accuracy:   9773/ 10000 (98%)\n",
      "\n",
      "Train Epoch:   9 [     0/ 60000 (0%)]\tLoss: 0.015105\n",
      "Train Epoch:   9 [  6400/ 60000 (11%)]\tLoss: 0.031120\n",
      "Train Epoch:   9 [ 12800/ 60000 (21%)]\tLoss: 0.014588\n",
      "Train Epoch:   9 [ 19200/ 60000 (32%)]\tLoss: 0.029409\n",
      "Train Epoch:   9 [ 25600/ 60000 (43%)]\tLoss: 0.070774\n",
      "Train Epoch:   9 [ 32000/ 60000 (53%)]\tLoss: 0.079001\n",
      "Train Epoch:   9 [ 38400/ 60000 (64%)]\tLoss: 0.091919\n",
      "Train Epoch:   9 [ 44800/ 60000 (75%)]\tLoss: 0.025561\n",
      "Train Epoch:   9 [ 51200/ 60000 (85%)]\tLoss: 0.034488\n",
      "Train Epoch:   9 [ 57600/ 60000 (96%)]\tLoss: 0.011598\n",
      "\n",
      "Test set: Average loss: 0.0697, Accuracy:   9776/ 10000 (98%)\n",
      "\n",
      "Train Epoch:  10 [     0/ 60000 (0%)]\tLoss: 0.008387\n",
      "Train Epoch:  10 [  6400/ 60000 (11%)]\tLoss: 0.116962\n",
      "Train Epoch:  10 [ 12800/ 60000 (21%)]\tLoss: 0.071471\n",
      "Train Epoch:  10 [ 19200/ 60000 (32%)]\tLoss: 0.104745\n",
      "Train Epoch:  10 [ 25600/ 60000 (43%)]\tLoss: 0.043406\n",
      "Train Epoch:  10 [ 32000/ 60000 (53%)]\tLoss: 0.051750\n",
      "Train Epoch:  10 [ 38400/ 60000 (64%)]\tLoss: 0.019826\n",
      "Train Epoch:  10 [ 44800/ 60000 (75%)]\tLoss: 0.018501\n",
      "Train Epoch:  10 [ 51200/ 60000 (85%)]\tLoss: 0.058575\n",
      "Train Epoch:  10 [ 57600/ 60000 (96%)]\tLoss: 0.094732\n",
      "\n",
      "Test set: Average loss: 0.0683, Accuracy:   9784/ 10000 (98%)\n",
      "\n",
      "Train Epoch:  11 [     0/ 60000 (0%)]\tLoss: 0.026864\n",
      "Train Epoch:  11 [  6400/ 60000 (11%)]\tLoss: 0.010628\n",
      "Train Epoch:  11 [ 12800/ 60000 (21%)]\tLoss: 0.034258\n",
      "Train Epoch:  11 [ 19200/ 60000 (32%)]\tLoss: 0.061202\n",
      "Train Epoch:  11 [ 25600/ 60000 (43%)]\tLoss: 0.076221\n",
      "Train Epoch:  11 [ 32000/ 60000 (53%)]\tLoss: 0.018394\n",
      "Train Epoch:  11 [ 38400/ 60000 (64%)]\tLoss: 0.011031\n",
      "Train Epoch:  11 [ 44800/ 60000 (75%)]\tLoss: 0.015804\n",
      "Train Epoch:  11 [ 51200/ 60000 (85%)]\tLoss: 0.015139\n",
      "Train Epoch:  11 [ 57600/ 60000 (96%)]\tLoss: 0.060004\n",
      "\n",
      "Test set: Average loss: 0.0655, Accuracy:   9787/ 10000 (98%)\n",
      "\n",
      "Train Epoch:  12 [     0/ 60000 (0%)]\tLoss: 0.014128\n",
      "Train Epoch:  12 [  6400/ 60000 (11%)]\tLoss: 0.053351\n",
      "Train Epoch:  12 [ 12800/ 60000 (21%)]\tLoss: 0.017929\n",
      "Train Epoch:  12 [ 19200/ 60000 (32%)]\tLoss: 0.009038\n",
      "Train Epoch:  12 [ 25600/ 60000 (43%)]\tLoss: 0.017601\n",
      "Train Epoch:  12 [ 32000/ 60000 (53%)]\tLoss: 0.017890\n",
      "Train Epoch:  12 [ 38400/ 60000 (64%)]\tLoss: 0.030056\n",
      "Train Epoch:  12 [ 44800/ 60000 (75%)]\tLoss: 0.022259\n",
      "Train Epoch:  12 [ 51200/ 60000 (85%)]\tLoss: 0.035232\n",
      "Train Epoch:  12 [ 57600/ 60000 (96%)]\tLoss: 0.008852\n",
      "\n",
      "Test set: Average loss: 0.0639, Accuracy:   9799/ 10000 (98%)\n",
      "\n",
      "Train Epoch:  13 [     0/ 60000 (0%)]\tLoss: 0.007243\n",
      "Train Epoch:  13 [  6400/ 60000 (11%)]\tLoss: 0.028961\n",
      "Train Epoch:  13 [ 12800/ 60000 (21%)]\tLoss: 0.004962\n",
      "Train Epoch:  13 [ 19200/ 60000 (32%)]\tLoss: 0.015486\n",
      "Train Epoch:  13 [ 25600/ 60000 (43%)]\tLoss: 0.003048\n",
      "Train Epoch:  13 [ 32000/ 60000 (53%)]\tLoss: 0.013122\n",
      "Train Epoch:  13 [ 38400/ 60000 (64%)]\tLoss: 0.024372\n",
      "Train Epoch:  13 [ 44800/ 60000 (75%)]\tLoss: 0.009350\n",
      "Train Epoch:  13 [ 51200/ 60000 (85%)]\tLoss: 0.016498\n",
      "Train Epoch:  13 [ 57600/ 60000 (96%)]\tLoss: 0.028507\n",
      "\n",
      "Test set: Average loss: 0.0665, Accuracy:   9790/ 10000 (98%)\n",
      "\n",
      "Train Epoch:  14 [     0/ 60000 (0%)]\tLoss: 0.019999\n",
      "Train Epoch:  14 [  6400/ 60000 (11%)]\tLoss: 0.012997\n",
      "Train Epoch:  14 [ 12800/ 60000 (21%)]\tLoss: 0.017977\n",
      "Train Epoch:  14 [ 19200/ 60000 (32%)]\tLoss: 0.015461\n",
      "Train Epoch:  14 [ 25600/ 60000 (43%)]\tLoss: 0.005851\n",
      "Train Epoch:  14 [ 32000/ 60000 (53%)]\tLoss: 0.035131\n"
     ]
    },
    {
     "name": "stdout",
     "output_type": "stream",
     "text": [
      "Train Epoch:  14 [ 38400/ 60000 (64%)]\tLoss: 0.004114\n",
      "Train Epoch:  14 [ 44800/ 60000 (75%)]\tLoss: 0.019002\n",
      "Train Epoch:  14 [ 51200/ 60000 (85%)]\tLoss: 0.025599\n",
      "Train Epoch:  14 [ 57600/ 60000 (96%)]\tLoss: 0.018369\n",
      "\n",
      "Test set: Average loss: 0.0636, Accuracy:   9798/ 10000 (98%)\n",
      "\n",
      "Train Epoch:  15 [     0/ 60000 (0%)]\tLoss: 0.009595\n",
      "Train Epoch:  15 [  6400/ 60000 (11%)]\tLoss: 0.024580\n",
      "Train Epoch:  15 [ 12800/ 60000 (21%)]\tLoss: 0.005434\n",
      "Train Epoch:  15 [ 19200/ 60000 (32%)]\tLoss: 0.008407\n",
      "Train Epoch:  15 [ 25600/ 60000 (43%)]\tLoss: 0.011698\n",
      "Train Epoch:  15 [ 32000/ 60000 (53%)]\tLoss: 0.003597\n",
      "Train Epoch:  15 [ 38400/ 60000 (64%)]\tLoss: 0.010722\n",
      "Train Epoch:  15 [ 44800/ 60000 (75%)]\tLoss: 0.014229\n",
      "Train Epoch:  15 [ 51200/ 60000 (85%)]\tLoss: 0.017660\n",
      "Train Epoch:  15 [ 57600/ 60000 (96%)]\tLoss: 0.015096\n",
      "\n",
      "Test set: Average loss: 0.0628, Accuracy:   9806/ 10000 (98%)\n",
      "\n",
      "Train Epoch:  16 [     0/ 60000 (0%)]\tLoss: 0.007994\n",
      "Train Epoch:  16 [  6400/ 60000 (11%)]\tLoss: 0.013020\n",
      "Train Epoch:  16 [ 12800/ 60000 (21%)]\tLoss: 0.008957\n",
      "Train Epoch:  16 [ 19200/ 60000 (32%)]\tLoss: 0.003542\n",
      "Train Epoch:  16 [ 25600/ 60000 (43%)]\tLoss: 0.033511\n",
      "Train Epoch:  16 [ 32000/ 60000 (53%)]\tLoss: 0.012205\n",
      "Train Epoch:  16 [ 38400/ 60000 (64%)]\tLoss: 0.029087\n",
      "Train Epoch:  16 [ 44800/ 60000 (75%)]\tLoss: 0.063145\n",
      "Train Epoch:  16 [ 51200/ 60000 (85%)]\tLoss: 0.020531\n",
      "Train Epoch:  16 [ 57600/ 60000 (96%)]\tLoss: 0.004819\n",
      "\n",
      "Test set: Average loss: 0.0620, Accuracy:   9807/ 10000 (98%)\n",
      "\n",
      "Train Epoch:  17 [     0/ 60000 (0%)]\tLoss: 0.005283\n",
      "Train Epoch:  17 [  6400/ 60000 (11%)]\tLoss: 0.004384\n",
      "Train Epoch:  17 [ 12800/ 60000 (21%)]\tLoss: 0.021047\n",
      "Train Epoch:  17 [ 19200/ 60000 (32%)]\tLoss: 0.007355\n",
      "Train Epoch:  17 [ 25600/ 60000 (43%)]\tLoss: 0.026292\n",
      "Train Epoch:  17 [ 32000/ 60000 (53%)]\tLoss: 0.007397\n",
      "Train Epoch:  17 [ 38400/ 60000 (64%)]\tLoss: 0.001714\n",
      "Train Epoch:  17 [ 44800/ 60000 (75%)]\tLoss: 0.014716\n",
      "Train Epoch:  17 [ 51200/ 60000 (85%)]\tLoss: 0.038493\n",
      "Train Epoch:  17 [ 57600/ 60000 (96%)]\tLoss: 0.017457\n",
      "\n",
      "Test set: Average loss: 0.0626, Accuracy:   9811/ 10000 (98%)\n",
      "\n",
      "Train Epoch:  18 [     0/ 60000 (0%)]\tLoss: 0.002639\n",
      "Train Epoch:  18 [  6400/ 60000 (11%)]\tLoss: 0.006442\n",
      "Train Epoch:  18 [ 12800/ 60000 (21%)]\tLoss: 0.001041\n",
      "Train Epoch:  18 [ 19200/ 60000 (32%)]\tLoss: 0.013627\n",
      "Train Epoch:  18 [ 25600/ 60000 (43%)]\tLoss: 0.006095\n",
      "Train Epoch:  18 [ 32000/ 60000 (53%)]\tLoss: 0.008688\n",
      "Train Epoch:  18 [ 38400/ 60000 (64%)]\tLoss: 0.001765\n",
      "Train Epoch:  18 [ 44800/ 60000 (75%)]\tLoss: 0.001985\n",
      "Train Epoch:  18 [ 51200/ 60000 (85%)]\tLoss: 0.015357\n",
      "Train Epoch:  18 [ 57600/ 60000 (96%)]\tLoss: 0.007708\n",
      "\n",
      "Test set: Average loss: 0.0632, Accuracy:   9816/ 10000 (98%)\n",
      "\n",
      "Train Epoch:  19 [     0/ 60000 (0%)]\tLoss: 0.006970\n",
      "Train Epoch:  19 [  6400/ 60000 (11%)]\tLoss: 0.018825\n",
      "Train Epoch:  19 [ 12800/ 60000 (21%)]\tLoss: 0.002227\n",
      "Train Epoch:  19 [ 19200/ 60000 (32%)]\tLoss: 0.005714\n",
      "Train Epoch:  19 [ 25600/ 60000 (43%)]\tLoss: 0.006058\n",
      "Train Epoch:  19 [ 32000/ 60000 (53%)]\tLoss: 0.004977\n",
      "Train Epoch:  19 [ 38400/ 60000 (64%)]\tLoss: 0.008449\n",
      "Train Epoch:  19 [ 44800/ 60000 (75%)]\tLoss: 0.004201\n",
      "Train Epoch:  19 [ 51200/ 60000 (85%)]\tLoss: 0.013769\n",
      "Train Epoch:  19 [ 57600/ 60000 (96%)]\tLoss: 0.038930\n",
      "\n",
      "Test set: Average loss: 0.0627, Accuracy:   9815/ 10000 (98%)\n",
      "\n",
      "Train Epoch:  20 [     0/ 60000 (0%)]\tLoss: 0.001974\n",
      "Train Epoch:  20 [  6400/ 60000 (11%)]\tLoss: 0.002791\n",
      "Train Epoch:  20 [ 12800/ 60000 (21%)]\tLoss: 0.011421\n",
      "Train Epoch:  20 [ 19200/ 60000 (32%)]\tLoss: 0.012569\n",
      "Train Epoch:  20 [ 25600/ 60000 (43%)]\tLoss: 0.001249\n",
      "Train Epoch:  20 [ 32000/ 60000 (53%)]\tLoss: 0.001620\n",
      "Train Epoch:  20 [ 38400/ 60000 (64%)]\tLoss: 0.000907\n",
      "Train Epoch:  20 [ 44800/ 60000 (75%)]\tLoss: 0.002485\n",
      "Train Epoch:  20 [ 51200/ 60000 (85%)]\tLoss: 0.000977\n",
      "Train Epoch:  20 [ 57600/ 60000 (96%)]\tLoss: 0.003240\n",
      "\n",
      "Test set: Average loss: 0.0639, Accuracy:   9805/ 10000 (98%)\n",
      "\n"
     ]
    }
   ],
   "source": [
    "test_accuracies, frame_potentials = e.fit(epochs, criterion, optimizer, monitored=monitored)"
   ]
  },
  {
   "cell_type": "code",
   "execution_count": 15,
   "metadata": {},
   "outputs": [
    {
     "data": {
      "image/png": "[encoded data removed]",
      "text/plain": [
       "<Figure size 432x288 with 1 Axes>"
      ]
     },
     "metadata": {
      "needs_background": "light"
     },
     "output_type": "display_data"
    }
   ],
   "source": [
    "plt.plot(test_accuracies)\n",
    "plt.title('Testset accuracy')\n",
    "plt.xlabel('Epoch')\n",
    "plt.ylabel('Accuracy (%)')\n",
    "plt.show()"
   ]
  },
  {
   "cell_type": "code",
   "execution_count": 10,
   "metadata": {},
   "outputs": [
    {
     "data": {
      "image/png": "[encoded data removed]",
      "text/plain": [
       "<Figure size 432x288 with 1 Axes>"
      ]
     },
     "metadata": {
      "needs_background": "light"
     },
     "output_type": "display_data"
    }
   ],
   "source": [
    "# SELU\n",
    "\n",
    "plt.plot(test_accuracies)\n",
    "plt.title('Testset accuracy')\n",
    "plt.xlabel('Epoch')\n",
    "plt.ylabel('Accuracy (%)')\n",
    "plt.show()"
   ]
  },
  {
   "cell_type": "code",
   "execution_count": 16,
   "metadata": {},
   "outputs": [
    {
     "name": "stderr",
     "output_type": "stream",
     "text": [
      "/home/julien/anaconda3/envs/nn-pruning/lib/python3.7/site-packages/ipykernel_launcher.py:13: UserWarning: Matplotlib is currently using module://ipykernel.pylab.backend_inline, which is a non-GUI backend, so cannot show the figure.\n",
      "  del sys.path[0]\n"
     ]
    },
    {
     "data": {
      "image/png": "[encoded data removed]",
      "text/plain": [
       "<Figure size 1440x360 with 3 Axes>"
      ]
     },
     "metadata": {
      "needs_background": "light"
     },
     "output_type": "display_data"
    }
   ],
   "source": [
    "fig, ((ax1, ax2, ax3)) = plt.subplots(1, 3, sharex=True, figsize=(20,5))\n",
    "ax1.plot(frame_potentials['fc1.weight'])\n",
    "ax1.set_title('Frame potential of first layer')\n",
    "ax1.set(xlabel='epoch', ylabel='FP')\n",
    "ax2.plot(frame_potentials['fc2.weight'])\n",
    "ax2.set_title('Frame potential of second layer')\n",
    "ax2.set(xlabel='epoch', ylabel='FP')\n",
    "ax3.plot(frame_potentials['fc3.weight'])\n",
    "ax3.set_title('Frame potential of third layer')\n",
    "ax3.set(xlabel='epoch', ylabel='FP')\n",
    "\n",
    "\n",
    "fig.show()"
   ]
  },
  {
   "cell_type": "code",
   "execution_count": 11,
   "metadata": {},
   "outputs": [
    {
     "name": "stderr",
     "output_type": "stream",
     "text": [
      "/home/julien/anaconda3/envs/nn-pruning/lib/python3.7/site-packages/ipykernel_launcher.py:13: UserWarning: Matplotlib is currently using module://ipykernel.pylab.backend_inline, which is a non-GUI backend, so cannot show the figure.\n",
      "  del sys.path[0]\n"
     ]
    },
    {
     "data": {
      "image/png": "[encoded data removed]",
      "text/plain": [
       "<Figure size 1440x360 with 3 Axes>"
      ]
     },
     "metadata": {
      "needs_background": "light"
     },
     "output_type": "display_data"
    }
   ],
   "source": [
    "# SELU\n",
    "\n",
    "fig, ((ax1, ax2, ax3)) = plt.subplots(1, 3, sharex=True, figsize=(20,5))\n",
    "ax1.plot(frame_potentials['fc1.weight'])\n",
    "ax1.set_title('Frame potential of first layer')\n",
    "ax1.set(xlabel='epoch', ylabel='FP')\n",
    "ax2.plot(frame_potentials['fc2.weight'])\n",
    "ax2.set_title('Frame potential of second layer')\n",
    "ax2.set(xlabel='epoch', ylabel='FP')\n",
    "ax3.plot(frame_potentials['fc3.weight'])\n",
    "ax3.set_title('Frame potential of third layer')\n",
    "ax3.set(xlabel='epoch', ylabel='FP')\n",
    "\n",
    "\n",
    "fig.show()"
   ]
  },
  {
   "cell_type": "code",
   "execution_count": 6,
   "metadata": {
    "colab": {
     "base_uri": "https://localhost:8080/",
     "height": 174
    },
    "colab_type": "code",
    "id": "I8bBvx6fNb_B",
    "outputId": "e3f16b2e-6184-4ad0-9a02-2a283fd3725d"
   },
   "outputs": [
    {
     "name": "stderr",
     "output_type": "stream",
     "text": [
      "Clipping input data to the valid range for imshow with RGB data ([0..1] for floats or [0..255] for integers).\n"
     ]
    },
    {
     "name": "stdout",
     "output_type": "stream",
     "text": [
      "        8         7         6         0\n"
     ]
    },
    {
     "data": {
      "image/png": "[encoded data removed]",
      "text/plain": [
       "<Figure size 432x288 with 1 Axes>"
      ]
     },
     "metadata": {
      "needs_background": "light"
     },
     "output_type": "display_data"
    }
   ],
   "source": [
    "def imshow(img):\n",
    "    #img = img / 2 + 0.5     # unnormalize\n",
    "    npimg = img.numpy()\n",
    "    plt.imshow(np.transpose(npimg, (1, 2, 0)))\n",
    "\n",
    "\n",
    "# get some random training images\n",
    "dataiter = iter(trainloader)\n",
    "images, labels = dataiter.next()\n",
    "\n",
    "# show images\n",
    "imshow(torchvision.utils.make_grid(images))\n",
    "# print labels\n",
    "print(' '.join('%9s' % classes[labels[j]] for j in range(4)))"
   ]
  },
  {
   "cell_type": "code",
   "execution_count": 7,
   "metadata": {
    "colab": {
     "base_uri": "https://localhost:8080/",
     "height": 52
    },
    "colab_type": "code",
    "id": "Dm4vzV_aSupO",
    "outputId": "40b52e4a-9ab1-4fed-dbe2-f6ed6b18b025"
   },
   "outputs": [
    {
     "name": "stdout",
     "output_type": "stream",
     "text": [
      "torch.Size([4, 1, 28, 28])\n",
      "torch.Size([4])\n"
     ]
    }
   ],
   "source": [
    "print(images.shape)\n",
    "print(labels.shape)"
   ]
  },
  {
   "cell_type": "code",
   "execution_count": 11,
   "metadata": {
    "colab": {},
    "colab_type": "code",
    "id": "3EbchcH10u6A"
   },
   "outputs": [],
   "source": [
    "def frame_potential(w):\n",
    "    rows, cols = w.shape\n",
    "    if rows < cols:\n",
    "        T_mod = w @ w.T\n",
    "    else:\n",
    "        T_mod = w.T @ w\n",
    "    \n",
    "    squared_T_mod = T_mod @ T_mod\n",
    "    return squared_T_mod.trace()"
   ]
  },
  {
   "cell_type": "code",
   "execution_count": 15,
   "metadata": {
    "colab": {
     "base_uri": "https://localhost:8080/",
     "height": 1000
    },
    "colab_type": "code",
    "id": "tQbfVYGhUXGz",
    "outputId": "0b039be9-2bce-4a3e-d09d-da769d7a6a72",
    "scrolled": true
   },
   "outputs": [
    {
     "name": "stdout",
     "output_type": "stream",
     "text": [
      "[1,   125] loss: 2.311\n",
      "[1,   250] loss: 2.313\n",
      "[1,   375] loss: 2.309\n",
      "[1,   500] loss: 2.311\n",
      "[1,   625] loss: 2.309\n",
      "[1,   750] loss: 2.310\n",
      "[1,   875] loss: 2.310\n",
      "[2,   125] loss: 2.313\n",
      "[2,   250] loss: 2.311\n",
      "[2,   375] loss: 2.310\n",
      "[2,   500] loss: 2.309\n",
      "[2,   625] loss: 2.309\n",
      "[2,   750] loss: 2.312\n",
      "[2,   875] loss: 2.311\n",
      "[3,   125] loss: 2.311\n",
      "[3,   250] loss: 2.311\n",
      "[3,   375] loss: 2.310\n",
      "[3,   500] loss: 2.310\n",
      "[3,   625] loss: 2.312\n",
      "[3,   750] loss: 2.311\n",
      "[3,   875] loss: 2.311\n",
      "[4,   125] loss: 2.311\n",
      "[4,   250] loss: 2.310\n",
      "[4,   375] loss: 2.311\n",
      "[4,   500] loss: 2.310\n",
      "[4,   625] loss: 2.310\n",
      "[4,   750] loss: 2.311\n",
      "[4,   875] loss: 2.310\n",
      "[5,   125] loss: 2.310\n",
      "[5,   250] loss: 2.311\n",
      "[5,   375] loss: 2.311\n",
      "[5,   500] loss: 2.311\n",
      "[5,   625] loss: 2.309\n",
      "[5,   750] loss: 2.310\n",
      "[5,   875] loss: 2.313\n",
      "[6,   125] loss: 2.312\n",
      "[6,   250] loss: 2.309\n",
      "[6,   375] loss: 2.312\n",
      "[6,   500] loss: 2.312\n",
      "[6,   625] loss: 2.308\n",
      "[6,   750] loss: 2.311\n",
      "[6,   875] loss: 2.310\n",
      "[7,   125] loss: 2.311\n",
      "[7,   250] loss: 2.312\n",
      "[7,   375] loss: 2.311\n",
      "[7,   500] loss: 2.310\n",
      "[7,   625] loss: 2.311\n",
      "[7,   750] loss: 2.310\n",
      "[7,   875] loss: 2.309\n",
      "[8,   125] loss: 2.312\n",
      "[8,   250] loss: 2.310\n",
      "[8,   375] loss: 2.312\n",
      "[8,   500] loss: 2.309\n",
      "[8,   625] loss: 2.310\n",
      "[8,   750] loss: 2.309\n",
      "[8,   875] loss: 2.311\n",
      "[9,   125] loss: 2.312\n",
      "[9,   250] loss: 2.313\n",
      "[9,   375] loss: 2.308\n",
      "[9,   500] loss: 2.310\n",
      "[9,   625] loss: 2.311\n",
      "[9,   750] loss: 2.311\n",
      "[9,   875] loss: 2.310\n",
      "[10,   125] loss: 2.309\n",
      "[10,   250] loss: 2.310\n",
      "[10,   375] loss: 2.311\n",
      "[10,   500] loss: 2.311\n",
      "[10,   625] loss: 2.311\n",
      "[10,   750] loss: 2.311\n",
      "[10,   875] loss: 2.311\n",
      "Finished Training\n"
     ]
    }
   ],
   "source": [
    "epochs = 10\n",
    "\n",
    "training_loss = []\n",
    "frame_potentials = {'fc1': [], 'fc2': [], 'fc3': []}\n",
    "\n",
    "for epoch in range(epochs):  # loop over the dataset multiple times\n",
    "\n",
    "    running_loss = 0.0\n",
    "    for i, data in enumerate(trainloader, 0):\n",
    "        # get the inputs\n",
    "        #inputs, labels = data\n",
    "        inputs, labels = data[0].to(device), data[1].to(device)\n",
    "\n",
    "        # zero the parameter gradients\n",
    "        optimizer.zero_grad()\n",
    "\n",
    "        # forward + backward + optimize\n",
    "        outputs = net(inputs)\n",
    "        loss = criterion(outputs, labels)\n",
    "        loss.backward()\n",
    "        optimizer.step()\n",
    "        \n",
    "        # compute frame potentials\n",
    "        fc1_weights = net.fc1.weight.cpu().detach().numpy()\n",
    "        fc2_weights = net.fc2.weight.cpu().detach().numpy()\n",
    "        fc3_weights = net.fc3.weight.cpu().detach().numpy()\n",
    "        frame_potentials['fc1'].append(frame_potential(fc1_weights))\n",
    "        frame_potentials['fc2'].append(frame_potential(fc2_weights))\n",
    "        frame_potentials['fc3'].append(frame_potential(fc3_weights))\n",
    "\n",
    "        # print statistics\n",
    "        running_loss += loss.item()\n",
    "        if i % 125 == 124:    # print every 2000 mini-batches -- 2000 / 1999\n",
    "            print('[%d, %5d] loss: %.3f' %\n",
    "                  (epoch + 1, i + 1, running_loss / 125))  # 2000\n",
    "            training_loss.append(running_loss / 125)  # 2000\n",
    "            running_loss = 0.0\n",
    "\n",
    "print('Finished Training')"
   ]
  },
  {
   "cell_type": "code",
   "execution_count": 0,
   "metadata": {
    "colab": {
     "base_uri": "https://localhost:8080/",
     "height": 34
    },
    "colab_type": "code",
    "id": "cLHQ6c0tcJRp",
    "outputId": "ee8994c2-9d76-4d85-e5dc-ebbb759b9e91"
   },
   "outputs": [
    {
     "data": {
      "text/plain": [
       "9380"
      ]
     },
     "execution_count": 37,
     "metadata": {
      "tags": []
     },
     "output_type": "execute_result"
    }
   ],
   "source": [
    "len(frame_potentials['fc3'])"
   ]
  },
  {
   "cell_type": "code",
   "execution_count": 0,
   "metadata": {
    "colab": {
     "base_uri": "https://localhost:8080/",
     "height": 350
    },
    "colab_type": "code",
    "id": "JHlKSs9r2jG1",
    "outputId": "3ced9989-9724-4f0d-d87c-385136836687"
   },
   "outputs": [
    {
     "data": {
      "image/png": "[encoded data removed]",
      "text/plain": [
       "<Figure size 1440x360 with 3 Axes>"
      ]
     },
     "metadata": {
      "tags": []
     },
     "output_type": "display_data"
    }
   ],
   "source": [
    "fig, ((ax1, ax2, ax3)) = plt.subplots(1, 3, sharex=True, figsize=(20,5))\n",
    "ax1.plot(frame_potentials['fc1'])\n",
    "ax1.set_title('Frame potential of first layer')\n",
    "ax1.set(xlabel='epoch', ylabel='FP')\n",
    "ax2.plot(frame_potentials['fc2'])\n",
    "ax2.set_title('Frame potential of second layer')\n",
    "ax2.set(xlabel='epoch', ylabel='FP')\n",
    "ax3.plot(frame_potentials['fc3'])\n",
    "ax3.set_title('Frame potential of third layer')\n",
    "ax3.set(xlabel='epoch', ylabel='FP')\n",
    "\n",
    "\n",
    "fig.show()"
   ]
  },
  {
   "cell_type": "code",
   "execution_count": 0,
   "metadata": {
    "colab": {
     "base_uri": "https://localhost:8080/",
     "height": 191
    },
    "colab_type": "code",
    "id": "kHyTjOciUcrG",
    "outputId": "41748a2b-5940-4b79-e80c-01cdb4eb8aec"
   },
   "outputs": [
    {
     "name": "stderr",
     "output_type": "stream",
     "text": [
      "Clipping input data to the valid range for imshow with RGB data ([0..1] for floats or [0..255] for integers).\n"
     ]
    },
    {
     "name": "stdout",
     "output_type": "stream",
     "text": [
      "GroundTruth: \n",
      "         7         2         1         0\n"
     ]
    },
    {
     "data": {
      "image/png": "[encoded data removed]",
      "text/plain": [
       "<Figure size 432x288 with 1 Axes>"
      ]
     },
     "metadata": {
      "tags": []
     },
     "output_type": "display_data"
    }
   ],
   "source": [
    "dataiter = iter(testloader)\n",
    "images, labels = dataiter.next()\n",
    "\n",
    "# print images\n",
    "imshow(torchvision.utils.make_grid(images))\n",
    "print('GroundTruth: \\n', ' '.join('%9s' % classes[labels[j]] for j in range(4)))"
   ]
  },
  {
   "cell_type": "code",
   "execution_count": 0,
   "metadata": {
    "colab": {
     "base_uri": "https://localhost:8080/",
     "height": 52
    },
    "colab_type": "code",
    "id": "fgFtKpSMVFfY",
    "outputId": "8877399e-af19-4e44-c319-f5fb1eabbe1c"
   },
   "outputs": [
    {
     "name": "stdout",
     "output_type": "stream",
     "text": [
      "Predicted: \n",
      "         7         2         1         0\n"
     ]
    }
   ],
   "source": [
    "outputs = net(images.to(device))\n",
    "_, predicted = torch.max(outputs, 1)\n",
    "\n",
    "print('Predicted: \\n', ' '.join('%9s' % classes[predicted[j]]\n",
    "                              for j in range(4)))"
   ]
  },
  {
   "cell_type": "code",
   "execution_count": 0,
   "metadata": {
    "colab": {
     "base_uri": "https://localhost:8080/",
     "height": 34
    },
    "colab_type": "code",
    "id": "JCHBLuoZVZQY",
    "outputId": "5d9c4340-c0af-4a16-d8c0-b5ea1a696603"
   },
   "outputs": [
    {
     "name": "stdout",
     "output_type": "stream",
     "text": [
      "Accuracy of the network on the 10000 test images: 97 %\n"
     ]
    }
   ],
   "source": [
    "correct = 0\n",
    "total = 0\n",
    "with torch.no_grad():\n",
    "    for data in testloader:\n",
    "        images, labels = data[0].to(device), data[1].to(device)\n",
    "        outputs = net(images)\n",
    "        _, predicted = torch.max(outputs.data, 1)\n",
    "        total += labels.size(0)\n",
    "        correct += (predicted == labels).sum().item()\n",
    "\n",
    "print('Accuracy of the network on the 10000 test images: %d %%' % (\n",
    "    100 * correct / total))"
   ]
  },
  {
   "cell_type": "code",
   "execution_count": 0,
   "metadata": {
    "colab": {
     "base_uri": "https://localhost:8080/",
     "height": 191
    },
    "colab_type": "code",
    "id": "NEKHhTfFVzY9",
    "outputId": "60b77c43-f2e2-4088-d648-fcb517803739"
   },
   "outputs": [
    {
     "name": "stdout",
     "output_type": "stream",
     "text": [
      "Accuracy of 0 : 98 %\n",
      "Accuracy of 1 : 97 %\n",
      "Accuracy of 2 : 89 %\n",
      "Accuracy of 3 : 96 %\n",
      "Accuracy of 4 : 100 %\n",
      "Accuracy of 5 : 92 %\n",
      "Accuracy of 6 : 94 %\n",
      "Accuracy of 7 : 96 %\n",
      "Accuracy of 8 : 98 %\n",
      "Accuracy of 9 : 97 %\n"
     ]
    }
   ],
   "source": [
    "class_correct = list(0. for i in range(10))\n",
    "class_total = list(0. for i in range(10))\n",
    "with torch.no_grad():\n",
    "    for data in testloader:\n",
    "        images, labels = data[0].to(device), data[1].to(device)\n",
    "        outputs = net(images)\n",
    "        _, predicted = torch.max(outputs, 1)\n",
    "        c = (predicted == labels).squeeze()\n",
    "        for i in range(4):\n",
    "            label = labels[i]\n",
    "            class_correct[label] += c[i].item()\n",
    "            class_total[label] += 1\n",
    "\n",
    "\n",
    "for i in range(10):\n",
    "    print('Accuracy of %s : %2d %%' % (\n",
    "        classes[i], 100 * class_correct[i] / class_total[i]))"
   ]
  },
  {
   "cell_type": "markdown",
   "metadata": {
    "colab_type": "text",
    "id": "5xj4WASNfp0M"
   },
   "source": [
    "## CIFAR10 / Conv-2"
   ]
  },
  {
   "cell_type": "code",
   "execution_count": 0,
   "metadata": {
    "colab": {
     "base_uri": "https://localhost:8080/",
     "height": 52
    },
    "colab_type": "code",
    "id": "1Xykgg6ngQ-C",
    "outputId": "dc4364ba-a023-45d0-dbdd-fae5bd5e50c6"
   },
   "outputs": [
    {
     "name": "stdout",
     "output_type": "stream",
     "text": [
      "Files already downloaded and verified\n",
      "Files already downloaded and verified\n"
     ]
    }
   ],
   "source": [
    "transform = transforms.Compose(\n",
    "    [transforms.ToTensor(),\n",
    "     transforms.Normalize((0.5, 0.5, 0.5), (0.5, 0.5, 0.5))])\n",
    "\n",
    "trainset = torchvision.datasets.CIFAR10(root='./data', train=True,\n",
    "                                        download=True, transform=transform)\n",
    "trainloader = torch.utils.data.DataLoader(trainset, batch_size=4,\n",
    "                                          shuffle=True, num_workers=2)\n",
    "\n",
    "testset = torchvision.datasets.CIFAR10(root='./data', train=False,\n",
    "                                       download=True, transform=transform)\n",
    "testloader = torch.utils.data.DataLoader(testset, batch_size=4,\n",
    "                                         shuffle=False, num_workers=2)\n",
    "\n",
    "classes = ('plane', 'car', 'bird', 'cat',\n",
    "           'deer', 'dog', 'frog', 'horse', 'ship', 'truck')"
   ]
  },
  {
   "cell_type": "code",
   "execution_count": 0,
   "metadata": {
    "colab": {
     "base_uri": "https://localhost:8080/",
     "height": 156
    },
    "colab_type": "code",
    "id": "M52AskNuga6J",
    "outputId": "d90b8157-0f01-4411-c949-275fa56c7acd"
   },
   "outputs": [
    {
     "data": {
      "image/png": "[encoded data removed]",
      "text/plain": [
       "<Figure size 432x288 with 1 Axes>"
      ]
     },
     "metadata": {
      "tags": []
     },
     "output_type": "display_data"
    },
    {
     "name": "stdout",
     "output_type": "stream",
     "text": [
      " bird   cat truck  bird\n"
     ]
    }
   ],
   "source": [
    "def imshow(img):\n",
    "    img = img / 2 + 0.5     # unnormalize\n",
    "    npimg = img.numpy()\n",
    "    plt.imshow(np.transpose(npimg, (1, 2, 0)))\n",
    "    plt.show()\n",
    "\n",
    "\n",
    "# get some random training images\n",
    "dataiter = iter(trainloader)\n",
    "images, labels = dataiter.next()\n",
    "\n",
    "# show images\n",
    "imshow(torchvision.utils.make_grid(images))\n",
    "# print labels\n",
    "print(' '.join('%5s' % classes[labels[j]] for j in range(4)))"
   ]
  },
  {
   "cell_type": "code",
   "execution_count": 0,
   "metadata": {
    "colab": {
     "base_uri": "https://localhost:8080/",
     "height": 34
    },
    "colab_type": "code",
    "id": "9mM3T3nX6zLm",
    "outputId": "ea96951a-107f-49bb-841c-00a8ceb2c46d"
   },
   "outputs": [
    {
     "name": "stdout",
     "output_type": "stream",
     "text": [
      "torch.Size([4, 3, 32, 32])\n"
     ]
    }
   ],
   "source": [
    "print(images.shape)"
   ]
  },
  {
   "cell_type": "code",
   "execution_count": 0,
   "metadata": {
    "colab": {
     "base_uri": "https://localhost:8080/",
     "height": 156
    },
    "colab_type": "code",
    "id": "IYdyQlMlfjJ2",
    "outputId": "a771564f-c1cc-40bb-87ba-edfeb34392ae"
   },
   "outputs": [
    {
     "data": {
      "text/plain": [
       "Conv2(\n",
       "  (conv1): Conv2d(3, 64, kernel_size=(3, 3), stride=(1, 1))\n",
       "  (conv2): Conv2d(64, 64, kernel_size=(3, 3), stride=(1, 1))\n",
       "  (pool): MaxPool2d(kernel_size=2, stride=2, padding=0, dilation=1, ceil_mode=False)\n",
       "  (fc1): Linear(in_features=12544, out_features=256, bias=True)\n",
       "  (fc2): Linear(in_features=256, out_features=256, bias=True)\n",
       "  (fc3): Linear(in_features=256, out_features=10, bias=True)\n",
       ")"
      ]
     },
     "execution_count": 104,
     "metadata": {
      "tags": []
     },
     "output_type": "execute_result"
    }
   ],
   "source": [
    "class Conv2(nn.Module):\n",
    "    \n",
    "    def __init__(self):\n",
    "        super(Conv2, self).__init__()\n",
    "        self.conv1 = nn.Conv2d(3, 64, 3)\n",
    "        self.conv2 = nn.Conv2d(64, 64, 3)\n",
    "        self.pool = nn.MaxPool2d(2, 2)\n",
    "        \n",
    "        self.fc1 = nn.Linear(64 * 14 * 14, 256)\n",
    "        self.fc2 = nn.Linear(256, 256)\n",
    "        self.fc3 = nn.Linear(256, 10)\n",
    "\n",
    "    def forward(self, x):\n",
    "        x = F.relu(self.conv1(x))\n",
    "        x = self.pool(F.relu(self.conv2(x)))\n",
    "        x = x.view(-1, 64 * 14 * 14)\n",
    "        x = F.relu(self.fc1(x))\n",
    "        x = F.relu(self.fc2(x))\n",
    "        x = self.fc3(x)\n",
    "        return x\n",
    "  \n",
    "    \"\"\"\n",
    "    def __init__(self):\n",
    "        super(Conv2, self).__init__()\n",
    "        self.conv1 = nn.Conv2d(3, 6, 5)\n",
    "        self.pool = nn.MaxPool2d(2, 2)\n",
    "        self.conv2 = nn.Conv2d(6, 16, 5)\n",
    "        self.fc1 = nn.Linear(16 * 5 * 5, 120)\n",
    "        self.fc2 = nn.Linear(120, 84)\n",
    "        self.fc3 = nn.Linear(84, 10)\n",
    "\n",
    "    def forward(self, x):\n",
    "        x = self.pool(F.relu(self.conv1(x)))\n",
    "        x = self.pool(F.relu(self.conv2(x)))\n",
    "        x = x.view(-1, self.num_flat_features(x))\n",
    "        x = F.relu(self.fc1(x))\n",
    "        x = F.relu(self.fc2(x))\n",
    "        x = self.fc3(x)\n",
    "        return x\n",
    "    \"\"\"\n",
    "      \n",
    "    def num_flat_features(self, x):\n",
    "        size = x.size()[1:]  # all dimensions except the batch dimension\n",
    "        num_features = 1\n",
    "        for s in size:\n",
    "            num_features *= s\n",
    "        return num_features\n",
    "    \n",
    "\n",
    "net = Conv2()\n",
    "net.to(device)"
   ]
  },
  {
   "cell_type": "code",
   "execution_count": 0,
   "metadata": {
    "colab": {
     "base_uri": "https://localhost:8080/",
     "height": 34
    },
    "colab_type": "code",
    "id": "5rIogoGL0x93",
    "outputId": "51362d7b-aa4b-46d4-8561-3ae145e83e9f"
   },
   "outputs": [
    {
     "data": {
      "text/plain": [
       "torch.Size([256, 12544])"
      ]
     },
     "execution_count": 101,
     "metadata": {
      "tags": []
     },
     "output_type": "execute_result"
    }
   ],
   "source": [
    "net.fc1.weight.shape"
   ]
  },
  {
   "cell_type": "code",
   "execution_count": 0,
   "metadata": {
    "colab": {},
    "colab_type": "code",
    "id": "Rk3ahST69iVp"
   },
   "outputs": [],
   "source": [
    "criterion = nn.CrossEntropyLoss()\n",
    "optimizer = optim.SGD(net.parameters(), lr=0.001, momentum=0.9)"
   ]
  },
  {
   "cell_type": "code",
   "execution_count": 0,
   "metadata": {
    "colab": {},
    "colab_type": "code",
    "id": "1t82xwHagxUK"
   },
   "outputs": [],
   "source": [
    "criterion = nn.CrossEntropyLoss()\n",
    "optimizer = optim.Adam(net.parameters(), lr=0.0002)"
   ]
  },
  {
   "cell_type": "code",
   "execution_count": 0,
   "metadata": {
    "colab": {
     "base_uri": "https://localhost:8080/",
     "height": 243
    },
    "colab_type": "code",
    "id": "CmaFSCvRkODo",
    "outputId": "7193dbdb-0e5b-4364-fa8b-df4d6124642b"
   },
   "outputs": [
    {
     "name": "stdout",
     "output_type": "stream",
     "text": [
      "[1,  2000] loss: 1.725\n",
      "[1,  4000] loss: 1.395\n",
      "[1,  6000] loss: 1.253\n",
      "[1,  8000] loss: 1.196\n",
      "[1, 10000] loss: 1.105\n",
      "[1, 12000] loss: 1.062\n",
      "[2,  2000] loss: 0.904\n",
      "[2,  4000] loss: 0.887\n",
      "[2,  6000] loss: 0.892\n",
      "[2,  8000] loss: 0.881\n",
      "[2, 10000] loss: 0.856\n",
      "[2, 12000] loss: 0.840\n",
      "Finished Training\n"
     ]
    }
   ],
   "source": [
    "epochs = 2\n",
    "\n",
    "training_loss = []\n",
    "frame_potentials = {'conv1': [], 'conv2': []}\n",
    "\n",
    "for epoch in range(epochs):  # loop over the dataset multiple times\n",
    "\n",
    "    running_loss = 0.0\n",
    "    for i, data in enumerate(trainloader, 0):\n",
    "        # get the inputs; data is a list of [inputs, labels]\n",
    "        inputs, labels = data[0].to(device), data[1].to(device)\n",
    "\n",
    "        # zero the parameter gradients\n",
    "        optimizer.zero_grad()\n",
    "\n",
    "        # forward + backward + optimize\n",
    "        outputs = net(inputs)\n",
    "        loss = criterion(outputs, labels)\n",
    "        loss.backward()\n",
    "        optimizer.step()\n",
    "        \n",
    "        # compute frame potentials\n",
    "        conv1_weights = net.conv1.weight.view(6, -1).cpu().detach().numpy()\n",
    "        conv2_weights = net.conv2.weight.view(16, -1).cpu().detach().numpy()\n",
    "        frame_potentials['conv1'].append(frame_potential(conv1_weights))\n",
    "        frame_potentials['conv2'].append(frame_potential(conv2_weights))\n",
    "\n",
    "        # print statistics\n",
    "        running_loss += loss.item()\n",
    "        if i % 2000 == 1999:    # print every 2000 mini-batches\n",
    "            print('[%d, %5d] loss: %.3f' %\n",
    "                  (epoch + 1, i + 1, running_loss / 2000))\n",
    "            training_loss.append(running_loss / 2000)\n",
    "            running_loss = 0.0\n",
    "\n",
    "print('Finished Training')"
   ]
  },
  {
   "cell_type": "code",
   "execution_count": 0,
   "metadata": {
    "colab": {
     "base_uri": "https://localhost:8080/",
     "height": 367
    },
    "colab_type": "code",
    "id": "d9q8vZ8Pj4ig",
    "outputId": "614b1809-776c-4a59-8adf-7d098b1dcd90"
   },
   "outputs": [
    {
     "data": {
      "text/plain": [
       "[Text(0, 0.5, 'FP'), Text(0.5, 0, 'epoch')]"
      ]
     },
     "execution_count": 107,
     "metadata": {
      "tags": []
     },
     "output_type": "execute_result"
    },
    {
     "data": {
      "image/png": "[encoded data removed]",
      "text/plain": [
       "<Figure size 864x360 with 2 Axes>"
      ]
     },
     "metadata": {
      "tags": []
     },
     "output_type": "display_data"
    }
   ],
   "source": [
    "fig, ((ax1, ax2)) = plt.subplots(1, 2, sharex=True, figsize=(12,5))\n",
    "ax1.plot(frame_potentials['conv1'])\n",
    "ax1.set_title('Frame potential of first convolutional layer')\n",
    "ax1.set(xlabel='epoch', ylabel='FP')\n",
    "ax2.plot(frame_potentials['conv2'])\n",
    "ax2.set_title('Frame potential of second convolutional layer')\n",
    "ax2.set(xlabel='epoch', ylabel='FP')"
   ]
  },
  {
   "cell_type": "code",
   "execution_count": 0,
   "metadata": {
    "colab": {
     "base_uri": "https://localhost:8080/",
     "height": 34
    },
    "colab_type": "code",
    "id": "TGzk2yAZm1Y8",
    "outputId": "ea40b94f-8e45-4491-9abf-53e7afb6a02e"
   },
   "outputs": [
    {
     "name": "stdout",
     "output_type": "stream",
     "text": [
      "Accuracy of the network on the 10000 test images: 69 %\n"
     ]
    }
   ],
   "source": [
    "correct = 0\n",
    "total = 0\n",
    "with torch.no_grad():\n",
    "    for data in testloader:\n",
    "        images, labels = data[0].to(device), data[1].to(device)\n",
    "        outputs = net(images)\n",
    "        _, predicted = torch.max(outputs.data, 1)\n",
    "        total += labels.size(0)\n",
    "        correct += (predicted == labels).sum().item()\n",
    "\n",
    "print('Accuracy of the network on the 10000 test images: %d %%' % (\n",
    "    100 * correct / total))\n"
   ]
  },
  {
   "cell_type": "code",
   "execution_count": 0,
   "metadata": {
    "colab": {
     "base_uri": "https://localhost:8080/",
     "height": 191
    },
    "colab_type": "code",
    "id": "ptmBv61vwxt2",
    "outputId": "b39d8d08-a5e3-40a5-e039-4984afdd154a"
   },
   "outputs": [
    {
     "name": "stdout",
     "output_type": "stream",
     "text": [
      "Accuracy of plane : 52 %\n",
      "Accuracy of   car : 65 %\n",
      "Accuracy of  bird : 51 %\n",
      "Accuracy of   cat : 46 %\n",
      "Accuracy of  deer : 53 %\n",
      "Accuracy of   dog : 20 %\n",
      "Accuracy of  frog : 49 %\n",
      "Accuracy of horse : 59 %\n",
      "Accuracy of  ship : 79 %\n",
      "Accuracy of truck : 57 %\n"
     ]
    }
   ],
   "source": [
    "class_correct = list(0. for i in range(10))\n",
    "class_total = list(0. for i in range(10))\n",
    "with torch.no_grad():\n",
    "    for data in testloader:\n",
    "        images, labels = data[0].to(device), data[1].to(device)\n",
    "        outputs = net(images)\n",
    "        _, predicted = torch.max(outputs, 1)\n",
    "        c = (predicted == labels).squeeze()\n",
    "        for i in range(4):\n",
    "            label = labels[i]\n",
    "            class_correct[label] += c[i].item()\n",
    "            class_total[label] += 1\n",
    "\n",
    "\n",
    "for i in range(10):\n",
    "    print('Accuracy of %5s : %2d %%' % (\n",
    "        classes[i], 100 * class_correct[i] / class_total[i]))"
   ]
  },
  {
   "cell_type": "code",
   "execution_count": 0,
   "metadata": {
    "colab": {},
    "colab_type": "code",
    "id": "0K7p1kRYw5LN"
   },
   "outputs": [],
   "source": []
  }
 ],
 "metadata": {
  "accelerator": "GPU",
  "colab": {
   "collapsed_sections": [],
   "name": "frame-potential.ipynb",
   "provenance": []
  },
  "kernelspec": {
   "display_name": "Python 3",
   "language": "python",
   "name": "python3"
  },
  "language_info": {
   "codemirror_mode": {
    "name": "ipython",
    "version": 3
   },
   "file_extension": ".py",
   "mimetype": "text/x-python",
   "name": "python",
   "nbconvert_exporter": "python",
   "pygments_lexer": "ipython3",
   "version": "3.7.4"
  }
 },
 "nbformat": 4,
 "nbformat_minor": 1
}
