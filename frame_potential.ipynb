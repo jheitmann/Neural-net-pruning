{
 "cells": [
  {
   "cell_type": "code",
   "execution_count": 1,
   "metadata": {
    "colab": {},
    "colab_type": "code",
    "id": "0RD6_n-QNE1H"
   },
   "outputs": [],
   "source": [
    "%matplotlib inline"
   ]
  },
  {
   "cell_type": "code",
   "execution_count": 2,
   "metadata": {
    "colab": {},
    "colab_type": "code",
    "id": "13-6rCuFNTxE"
   },
   "outputs": [],
   "source": [
    "import torch\n",
    "import torchvision\n",
    "import torchvision.transforms as transforms"
   ]
  },
  {
   "cell_type": "code",
   "execution_count": 3,
   "metadata": {
    "colab": {
     "base_uri": "https://localhost:8080/",
     "height": 34
    },
    "colab_type": "code",
    "id": "Exo0Ocs9PsXl",
    "outputId": "4a924e84-0ee2-43b0-9ec1-cac17a014d21"
   },
   "outputs": [
    {
     "name": "stdout",
     "output_type": "stream",
     "text": [
      "cpu\n"
     ]
    }
   ],
   "source": [
    "device = \"cpu\"\n",
    "if torch.cuda.is_available():\n",
    "    device = torch.device(\"cuda\")          # a CUDA device object\n",
    "    \n",
    "print(device)"
   ]
  },
  {
   "cell_type": "markdown",
   "metadata": {
    "colab_type": "text",
    "id": "9jgispLCfQqo"
   },
   "source": [
    "## MNIST / Lenet 300-100-10"
   ]
  },
  {
   "cell_type": "code",
   "execution_count": 13,
   "metadata": {
    "colab": {},
    "colab_type": "code",
    "id": "kSyjXtn_NYgk"
   },
   "outputs": [],
   "source": [
    "transform = transforms.Compose(\n",
    "    [transforms.ToTensor(),\n",
    "     transforms.Normalize((0.5,), (0.5,))])\n",
    "\n",
    "trainset = torchvision.datasets.MNIST(root='./data', train=True,\n",
    "                                        download=True, transform=transform)\n",
    "trainloader = torch.utils.data.DataLoader(trainset, batch_size=64,\n",
    "                                          shuffle=True, num_workers=2)\n",
    "\n",
    "testset = torchvision.datasets.MNIST(root='./data', train=False,\n",
    "                                       download=True, transform=transform)\n",
    "testloader = torch.utils.data.DataLoader(testset, batch_size=64,\n",
    "                                         shuffle=False, num_workers=2)\n",
    "\n",
    "classes = ('0', '1', '2', '3', '4', '5', '6', '7', '8', '9')"
   ]
  },
  {
   "cell_type": "code",
   "execution_count": 6,
   "metadata": {
    "colab": {
     "base_uri": "https://localhost:8080/",
     "height": 174
    },
    "colab_type": "code",
    "id": "I8bBvx6fNb_B",
    "outputId": "e3f16b2e-6184-4ad0-9a02-2a283fd3725d"
   },
   "outputs": [
    {
     "name": "stderr",
     "output_type": "stream",
     "text": [
      "Clipping input data to the valid range for imshow with RGB data ([0..1] for floats or [0..255] for integers).\n"
     ]
    },
    {
     "name": "stdout",
     "output_type": "stream",
     "text": [
      "        8         7         6         0\n"
     ]
    },
    {
     "data": {
      "image/png": "[encoded data removed]",
      "text/plain": [
       "<Figure size 432x288 with 1 Axes>"
      ]
     },
     "metadata": {
      "needs_background": "light"
     },
     "output_type": "display_data"
    }
   ],
   "source": [
    "import matplotlib.pyplot as plt\n",
    "import numpy as np\n",
    "\n",
    "# functions to show an image\n",
    "\n",
    "\n",
    "def imshow(img):\n",
    "    #img = img / 2 + 0.5     # unnormalize\n",
    "    npimg = img.numpy()\n",
    "    plt.imshow(np.transpose(npimg, (1, 2, 0)))\n",
    "\n",
    "\n",
    "# get some random training images\n",
    "dataiter = iter(trainloader)\n",
    "images, labels = dataiter.next()\n",
    "\n",
    "# show images\n",
    "imshow(torchvision.utils.make_grid(images))\n",
    "# print labels\n",
    "print(' '.join('%9s' % classes[labels[j]] for j in range(4)))"
   ]
  },
  {
   "cell_type": "code",
   "execution_count": 7,
   "metadata": {
    "colab": {
     "base_uri": "https://localhost:8080/",
     "height": 52
    },
    "colab_type": "code",
    "id": "Dm4vzV_aSupO",
    "outputId": "40b52e4a-9ab1-4fed-dbe2-f6ed6b18b025"
   },
   "outputs": [
    {
     "name": "stdout",
     "output_type": "stream",
     "text": [
      "torch.Size([4, 1, 28, 28])\n",
      "torch.Size([4])\n"
     ]
    }
   ],
   "source": [
    "print(images.shape)\n",
    "print(labels.shape)"
   ]
  },
  {
   "cell_type": "code",
   "execution_count": 14,
   "metadata": {
    "colab": {
     "base_uri": "https://localhost:8080/",
     "height": 104
    },
    "colab_type": "code",
    "id": "XProLCFvNfTz",
    "outputId": "bc3df1d4-3b82-4537-a973-d48a78b8e19b"
   },
   "outputs": [
    {
     "data": {
      "text/plain": [
       "LeNet_300_100(\n",
       "  (fc1): Linear(in_features=784, out_features=300, bias=True)\n",
       "  (fc2): Linear(in_features=300, out_features=100, bias=True)\n",
       "  (fc3): Linear(in_features=100, out_features=10, bias=True)\n",
       ")"
      ]
     },
     "execution_count": 14,
     "metadata": {},
     "output_type": "execute_result"
    }
   ],
   "source": [
    "import torch.nn as nn\n",
    "import torch.nn.functional as F\n",
    "\n",
    "\n",
    "class LeNet_300_100(nn.Module):\n",
    "    def __init__(self):\n",
    "      super(LeNet_300_100, self).__init__()\n",
    "      self.fc1 = nn.Linear(28*28, 300)\n",
    "      self.fc2 = nn.Linear(300, 100)\n",
    "      self.fc3 = nn.Linear(100, 10)\n",
    "\n",
    "\n",
    "    def forward(self, x):\n",
    "        x = x.view(-1, 28*28)\n",
    "        x = F.relu(self.fc1(x))\n",
    "        x = F.relu(self.fc2(x))\n",
    "        x = self.fc3(x)\n",
    "        return x\n",
    "\n",
    "net = LeNet_300_100()\n",
    "net.to(device)"
   ]
  },
  {
   "cell_type": "code",
   "execution_count": 10,
   "metadata": {
    "colab": {},
    "colab_type": "code",
    "id": "gNtXMNaAUV6c"
   },
   "outputs": [],
   "source": [
    "import torch.optim as optim\n",
    "\n",
    "criterion = nn.CrossEntropyLoss()\n",
    "optimizer = optim.SGD(net.parameters(), lr=0.003, momentum=0.9)"
   ]
  },
  {
   "cell_type": "code",
   "execution_count": 11,
   "metadata": {
    "colab": {},
    "colab_type": "code",
    "id": "3EbchcH10u6A"
   },
   "outputs": [],
   "source": [
    "def frame_potential(w):\n",
    "  T_mod = w @ w.T\n",
    "  squared_T_mod = T_mod @ T_mod\n",
    "  return squared_T_mod.trace()"
   ]
  },
  {
   "cell_type": "code",
   "execution_count": 15,
   "metadata": {
    "colab": {
     "base_uri": "https://localhost:8080/",
     "height": 1000
    },
    "colab_type": "code",
    "id": "tQbfVYGhUXGz",
    "outputId": "0b039be9-2bce-4a3e-d09d-da769d7a6a72",
    "scrolled": true
   },
   "outputs": [
    {
     "name": "stdout",
     "output_type": "stream",
     "text": [
      "[1,   125] loss: 2.311\n",
      "[1,   250] loss: 2.313\n",
      "[1,   375] loss: 2.309\n",
      "[1,   500] loss: 2.311\n",
      "[1,   625] loss: 2.309\n",
      "[1,   750] loss: 2.310\n",
      "[1,   875] loss: 2.310\n",
      "[2,   125] loss: 2.313\n",
      "[2,   250] loss: 2.311\n",
      "[2,   375] loss: 2.310\n",
      "[2,   500] loss: 2.309\n",
      "[2,   625] loss: 2.309\n",
      "[2,   750] loss: 2.312\n",
      "[2,   875] loss: 2.311\n",
      "[3,   125] loss: 2.311\n",
      "[3,   250] loss: 2.311\n",
      "[3,   375] loss: 2.310\n",
      "[3,   500] loss: 2.310\n",
      "[3,   625] loss: 2.312\n",
      "[3,   750] loss: 2.311\n",
      "[3,   875] loss: 2.311\n",
      "[4,   125] loss: 2.311\n",
      "[4,   250] loss: 2.310\n",
      "[4,   375] loss: 2.311\n",
      "[4,   500] loss: 2.310\n",
      "[4,   625] loss: 2.310\n",
      "[4,   750] loss: 2.311\n",
      "[4,   875] loss: 2.310\n",
      "[5,   125] loss: 2.310\n",
      "[5,   250] loss: 2.311\n",
      "[5,   375] loss: 2.311\n",
      "[5,   500] loss: 2.311\n",
      "[5,   625] loss: 2.309\n",
      "[5,   750] loss: 2.310\n",
      "[5,   875] loss: 2.313\n",
      "[6,   125] loss: 2.312\n",
      "[6,   250] loss: 2.309\n",
      "[6,   375] loss: 2.312\n",
      "[6,   500] loss: 2.312\n",
      "[6,   625] loss: 2.308\n",
      "[6,   750] loss: 2.311\n",
      "[6,   875] loss: 2.310\n",
      "[7,   125] loss: 2.311\n",
      "[7,   250] loss: 2.312\n",
      "[7,   375] loss: 2.311\n",
      "[7,   500] loss: 2.310\n",
      "[7,   625] loss: 2.311\n",
      "[7,   750] loss: 2.310\n",
      "[7,   875] loss: 2.309\n",
      "[8,   125] loss: 2.312\n",
      "[8,   250] loss: 2.310\n",
      "[8,   375] loss: 2.312\n",
      "[8,   500] loss: 2.309\n",
      "[8,   625] loss: 2.310\n",
      "[8,   750] loss: 2.309\n",
      "[8,   875] loss: 2.311\n",
      "[9,   125] loss: 2.312\n",
      "[9,   250] loss: 2.313\n",
      "[9,   375] loss: 2.308\n",
      "[9,   500] loss: 2.310\n",
      "[9,   625] loss: 2.311\n",
      "[9,   750] loss: 2.311\n",
      "[9,   875] loss: 2.310\n",
      "[10,   125] loss: 2.309\n",
      "[10,   250] loss: 2.310\n",
      "[10,   375] loss: 2.311\n",
      "[10,   500] loss: 2.311\n",
      "[10,   625] loss: 2.311\n",
      "[10,   750] loss: 2.311\n",
      "[10,   875] loss: 2.311\n",
      "Finished Training\n"
     ]
    }
   ],
   "source": [
    "epochs = 10\n",
    "\n",
    "training_loss = []\n",
    "frame_potentials = {'fc1': [], 'fc2': [], 'fc3': []}\n",
    "\n",
    "for epoch in range(epochs):  # loop over the dataset multiple times\n",
    "\n",
    "    running_loss = 0.0\n",
    "    for i, data in enumerate(trainloader, 0):\n",
    "        # get the inputs\n",
    "        #inputs, labels = data\n",
    "        inputs, labels = data[0].to(device), data[1].to(device)\n",
    "\n",
    "        # zero the parameter gradients\n",
    "        optimizer.zero_grad()\n",
    "\n",
    "        # forward + backward + optimize\n",
    "        outputs = net(inputs)\n",
    "        loss = criterion(outputs, labels)\n",
    "        loss.backward()\n",
    "        optimizer.step()\n",
    "        \n",
    "        # compute frame potentials\n",
    "        fc1_weights = net.fc1.weight.cpu().detach().numpy()\n",
    "        fc2_weights = net.fc2.weight.cpu().detach().numpy()\n",
    "        fc3_weights = net.fc3.weight.cpu().detach().numpy()\n",
    "        frame_potentials['fc1'].append(frame_potential(fc1_weights))\n",
    "        frame_potentials['fc2'].append(frame_potential(fc2_weights))\n",
    "        frame_potentials['fc3'].append(frame_potential(fc3_weights))\n",
    "\n",
    "        # print statistics\n",
    "        running_loss += loss.item()\n",
    "        if i % 125 == 124:    # print every 2000 mini-batches -- 2000 / 1999\n",
    "            print('[%d, %5d] loss: %.3f' %\n",
    "                  (epoch + 1, i + 1, running_loss / 125))  # 2000\n",
    "            training_loss.append(running_loss / 125)  # 2000\n",
    "            running_loss = 0.0\n",
    "\n",
    "print('Finished Training')"
   ]
  },
  {
   "cell_type": "code",
   "execution_count": 0,
   "metadata": {
    "colab": {
     "base_uri": "https://localhost:8080/",
     "height": 34
    },
    "colab_type": "code",
    "id": "cLHQ6c0tcJRp",
    "outputId": "ee8994c2-9d76-4d85-e5dc-ebbb759b9e91"
   },
   "outputs": [
    {
     "data": {
      "text/plain": [
       "9380"
      ]
     },
     "execution_count": 37,
     "metadata": {
      "tags": []
     },
     "output_type": "execute_result"
    }
   ],
   "source": [
    "len(frame_potentials['fc3'])"
   ]
  },
  {
   "cell_type": "code",
   "execution_count": 0,
   "metadata": {
    "colab": {
     "base_uri": "https://localhost:8080/",
     "height": 350
    },
    "colab_type": "code",
    "id": "JHlKSs9r2jG1",
    "outputId": "3ced9989-9724-4f0d-d87c-385136836687"
   },
   "outputs": [
    {
     "data": {
      "image/png": "[encoded data removed]",
      "text/plain": [
       "<Figure size 1440x360 with 3 Axes>"
      ]
     },
     "metadata": {
      "tags": []
     },
     "output_type": "display_data"
    }
   ],
   "source": [
    "fig, ((ax1, ax2, ax3)) = plt.subplots(1, 3, sharex=True, figsize=(20,5))\n",
    "ax1.plot(frame_potentials['fc1'])\n",
    "ax1.set_title('Frame potential of first layer')\n",
    "ax1.set(xlabel='epoch', ylabel='FP')\n",
    "ax2.plot(frame_potentials['fc2'])\n",
    "ax2.set_title('Frame potential of second layer')\n",
    "ax2.set(xlabel='epoch', ylabel='FP')\n",
    "ax3.plot(frame_potentials['fc3'])\n",
    "ax3.set_title('Frame potential of third layer')\n",
    "ax3.set(xlabel='epoch', ylabel='FP')\n",
    "\n",
    "\n",
    "fig.show()"
   ]
  },
  {
   "cell_type": "code",
   "execution_count": 0,
   "metadata": {
    "colab": {
     "base_uri": "https://localhost:8080/",
     "height": 191
    },
    "colab_type": "code",
    "id": "kHyTjOciUcrG",
    "outputId": "41748a2b-5940-4b79-e80c-01cdb4eb8aec"
   },
   "outputs": [
    {
     "name": "stderr",
     "output_type": "stream",
     "text": [
      "Clipping input data to the valid range for imshow with RGB data ([0..1] for floats or [0..255] for integers).\n"
     ]
    },
    {
     "name": "stdout",
     "output_type": "stream",
     "text": [
      "GroundTruth: \n",
      "         7         2         1         0\n"
     ]
    },
    {
     "data": {
      "image/png": "[encoded data removed]",
      "text/plain": [
       "<Figure size 432x288 with 1 Axes>"
      ]
     },
     "metadata": {
      "tags": []
     },
     "output_type": "display_data"
    }
   ],
   "source": [
    "dataiter = iter(testloader)\n",
    "images, labels = dataiter.next()\n",
    "\n",
    "# print images\n",
    "imshow(torchvision.utils.make_grid(images))\n",
    "print('GroundTruth: \\n', ' '.join('%9s' % classes[labels[j]] for j in range(4)))"
   ]
  },
  {
   "cell_type": "code",
   "execution_count": 0,
   "metadata": {
    "colab": {
     "base_uri": "https://localhost:8080/",
     "height": 52
    },
    "colab_type": "code",
    "id": "fgFtKpSMVFfY",
    "outputId": "8877399e-af19-4e44-c319-f5fb1eabbe1c"
   },
   "outputs": [
    {
     "name": "stdout",
     "output_type": "stream",
     "text": [
      "Predicted: \n",
      "         7         2         1         0\n"
     ]
    }
   ],
   "source": [
    "outputs = net(images.to(device))\n",
    "_, predicted = torch.max(outputs, 1)\n",
    "\n",
    "print('Predicted: \\n', ' '.join('%9s' % classes[predicted[j]]\n",
    "                              for j in range(4)))"
   ]
  },
  {
   "cell_type": "code",
   "execution_count": 0,
   "metadata": {
    "colab": {
     "base_uri": "https://localhost:8080/",
     "height": 34
    },
    "colab_type": "code",
    "id": "JCHBLuoZVZQY",
    "outputId": "5d9c4340-c0af-4a16-d8c0-b5ea1a696603"
   },
   "outputs": [
    {
     "name": "stdout",
     "output_type": "stream",
     "text": [
      "Accuracy of the network on the 10000 test images: 97 %\n"
     ]
    }
   ],
   "source": [
    "correct = 0\n",
    "total = 0\n",
    "with torch.no_grad():\n",
    "    for data in testloader:\n",
    "        images, labels = data[0].to(device), data[1].to(device)\n",
    "        outputs = net(images)\n",
    "        _, predicted = torch.max(outputs.data, 1)\n",
    "        total += labels.size(0)\n",
    "        correct += (predicted == labels).sum().item()\n",
    "\n",
    "print('Accuracy of the network on the 10000 test images: %d %%' % (\n",
    "    100 * correct / total))"
   ]
  },
  {
   "cell_type": "code",
   "execution_count": 0,
   "metadata": {
    "colab": {
     "base_uri": "https://localhost:8080/",
     "height": 191
    },
    "colab_type": "code",
    "id": "NEKHhTfFVzY9",
    "outputId": "60b77c43-f2e2-4088-d648-fcb517803739"
   },
   "outputs": [
    {
     "name": "stdout",
     "output_type": "stream",
     "text": [
      "Accuracy of 0 : 98 %\n",
      "Accuracy of 1 : 97 %\n",
      "Accuracy of 2 : 89 %\n",
      "Accuracy of 3 : 96 %\n",
      "Accuracy of 4 : 100 %\n",
      "Accuracy of 5 : 92 %\n",
      "Accuracy of 6 : 94 %\n",
      "Accuracy of 7 : 96 %\n",
      "Accuracy of 8 : 98 %\n",
      "Accuracy of 9 : 97 %\n"
     ]
    }
   ],
   "source": [
    "class_correct = list(0. for i in range(10))\n",
    "class_total = list(0. for i in range(10))\n",
    "with torch.no_grad():\n",
    "    for data in testloader:\n",
    "        images, labels = data[0].to(device), data[1].to(device)\n",
    "        outputs = net(images)\n",
    "        _, predicted = torch.max(outputs, 1)\n",
    "        c = (predicted == labels).squeeze()\n",
    "        for i in range(4):\n",
    "            label = labels[i]\n",
    "            class_correct[label] += c[i].item()\n",
    "            class_total[label] += 1\n",
    "\n",
    "\n",
    "for i in range(10):\n",
    "    print('Accuracy of %s : %2d %%' % (\n",
    "        classes[i], 100 * class_correct[i] / class_total[i]))"
   ]
  },
  {
   "cell_type": "markdown",
   "metadata": {
    "colab_type": "text",
    "id": "5xj4WASNfp0M"
   },
   "source": [
    "## CIFAR10 / Conv-2"
   ]
  },
  {
   "cell_type": "code",
   "execution_count": 0,
   "metadata": {
    "colab": {
     "base_uri": "https://localhost:8080/",
     "height": 52
    },
    "colab_type": "code",
    "id": "1Xykgg6ngQ-C",
    "outputId": "dc4364ba-a023-45d0-dbdd-fae5bd5e50c6"
   },
   "outputs": [
    {
     "name": "stdout",
     "output_type": "stream",
     "text": [
      "Files already downloaded and verified\n",
      "Files already downloaded and verified\n"
     ]
    }
   ],
   "source": [
    "transform = transforms.Compose(\n",
    "    [transforms.ToTensor(),\n",
    "     transforms.Normalize((0.5, 0.5, 0.5), (0.5, 0.5, 0.5))])\n",
    "\n",
    "trainset = torchvision.datasets.CIFAR10(root='./data', train=True,\n",
    "                                        download=True, transform=transform)\n",
    "trainloader = torch.utils.data.DataLoader(trainset, batch_size=4,\n",
    "                                          shuffle=True, num_workers=2)\n",
    "\n",
    "testset = torchvision.datasets.CIFAR10(root='./data', train=False,\n",
    "                                       download=True, transform=transform)\n",
    "testloader = torch.utils.data.DataLoader(testset, batch_size=4,\n",
    "                                         shuffle=False, num_workers=2)\n",
    "\n",
    "classes = ('plane', 'car', 'bird', 'cat',\n",
    "           'deer', 'dog', 'frog', 'horse', 'ship', 'truck')"
   ]
  },
  {
   "cell_type": "code",
   "execution_count": 0,
   "metadata": {
    "colab": {
     "base_uri": "https://localhost:8080/",
     "height": 156
    },
    "colab_type": "code",
    "id": "M52AskNuga6J",
    "outputId": "d90b8157-0f01-4411-c949-275fa56c7acd"
   },
   "outputs": [
    {
     "data": {
      "image/png": "[encoded data removed]",
      "text/plain": [
       "<Figure size 432x288 with 1 Axes>"
      ]
     },
     "metadata": {
      "tags": []
     },
     "output_type": "display_data"
    },
    {
     "name": "stdout",
     "output_type": "stream",
     "text": [
      " bird   cat truck  bird\n"
     ]
    }
   ],
   "source": [
    "def imshow(img):\n",
    "    img = img / 2 + 0.5     # unnormalize\n",
    "    npimg = img.numpy()\n",
    "    plt.imshow(np.transpose(npimg, (1, 2, 0)))\n",
    "    plt.show()\n",
    "\n",
    "\n",
    "# get some random training images\n",
    "dataiter = iter(trainloader)\n",
    "images, labels = dataiter.next()\n",
    "\n",
    "# show images\n",
    "imshow(torchvision.utils.make_grid(images))\n",
    "# print labels\n",
    "print(' '.join('%5s' % classes[labels[j]] for j in range(4)))"
   ]
  },
  {
   "cell_type": "code",
   "execution_count": 0,
   "metadata": {
    "colab": {
     "base_uri": "https://localhost:8080/",
     "height": 34
    },
    "colab_type": "code",
    "id": "9mM3T3nX6zLm",
    "outputId": "ea96951a-107f-49bb-841c-00a8ceb2c46d"
   },
   "outputs": [
    {
     "name": "stdout",
     "output_type": "stream",
     "text": [
      "torch.Size([4, 3, 32, 32])\n"
     ]
    }
   ],
   "source": [
    "print(images.shape)"
   ]
  },
  {
   "cell_type": "code",
   "execution_count": 0,
   "metadata": {
    "colab": {
     "base_uri": "https://localhost:8080/",
     "height": 156
    },
    "colab_type": "code",
    "id": "IYdyQlMlfjJ2",
    "outputId": "a771564f-c1cc-40bb-87ba-edfeb34392ae"
   },
   "outputs": [
    {
     "data": {
      "text/plain": [
       "Conv2(\n",
       "  (conv1): Conv2d(3, 64, kernel_size=(3, 3), stride=(1, 1))\n",
       "  (conv2): Conv2d(64, 64, kernel_size=(3, 3), stride=(1, 1))\n",
       "  (pool): MaxPool2d(kernel_size=2, stride=2, padding=0, dilation=1, ceil_mode=False)\n",
       "  (fc1): Linear(in_features=12544, out_features=256, bias=True)\n",
       "  (fc2): Linear(in_features=256, out_features=256, bias=True)\n",
       "  (fc3): Linear(in_features=256, out_features=10, bias=True)\n",
       ")"
      ]
     },
     "execution_count": 104,
     "metadata": {
      "tags": []
     },
     "output_type": "execute_result"
    }
   ],
   "source": [
    "class Conv2(nn.Module):\n",
    "    \n",
    "    def __init__(self):\n",
    "        super(Conv2, self).__init__()\n",
    "        self.conv1 = nn.Conv2d(3, 64, 3)\n",
    "        self.conv2 = nn.Conv2d(64, 64, 3)\n",
    "        self.pool = nn.MaxPool2d(2, 2)\n",
    "        \n",
    "        self.fc1 = nn.Linear(64 * 14 * 14, 256)\n",
    "        self.fc2 = nn.Linear(256, 256)\n",
    "        self.fc3 = nn.Linear(256, 10)\n",
    "\n",
    "    def forward(self, x):\n",
    "        x = F.relu(self.conv1(x))\n",
    "        x = self.pool(F.relu(self.conv2(x)))\n",
    "        x = x.view(-1, 64 * 14 * 14)\n",
    "        x = F.relu(self.fc1(x))\n",
    "        x = F.relu(self.fc2(x))\n",
    "        x = self.fc3(x)\n",
    "        return x\n",
    "  \n",
    "    \"\"\"\n",
    "    def __init__(self):\n",
    "        super(Conv2, self).__init__()\n",
    "        self.conv1 = nn.Conv2d(3, 6, 5)\n",
    "        self.pool = nn.MaxPool2d(2, 2)\n",
    "        self.conv2 = nn.Conv2d(6, 16, 5)\n",
    "        self.fc1 = nn.Linear(16 * 5 * 5, 120)\n",
    "        self.fc2 = nn.Linear(120, 84)\n",
    "        self.fc3 = nn.Linear(84, 10)\n",
    "\n",
    "    def forward(self, x):\n",
    "        x = self.pool(F.relu(self.conv1(x)))\n",
    "        x = self.pool(F.relu(self.conv2(x)))\n",
    "        x = x.view(-1, self.num_flat_features(x))\n",
    "        x = F.relu(self.fc1(x))\n",
    "        x = F.relu(self.fc2(x))\n",
    "        x = self.fc3(x)\n",
    "        return x\n",
    "    \"\"\"\n",
    "      \n",
    "    def num_flat_features(self, x):\n",
    "        size = x.size()[1:]  # all dimensions except the batch dimension\n",
    "        num_features = 1\n",
    "        for s in size:\n",
    "            num_features *= s\n",
    "        return num_features\n",
    "    \n",
    "\n",
    "net = Conv2()\n",
    "net.to(device)"
   ]
  },
  {
   "cell_type": "code",
   "execution_count": 0,
   "metadata": {
    "colab": {
     "base_uri": "https://localhost:8080/",
     "height": 34
    },
    "colab_type": "code",
    "id": "5rIogoGL0x93",
    "outputId": "51362d7b-aa4b-46d4-8561-3ae145e83e9f"
   },
   "outputs": [
    {
     "data": {
      "text/plain": [
       "torch.Size([256, 12544])"
      ]
     },
     "execution_count": 101,
     "metadata": {
      "tags": []
     },
     "output_type": "execute_result"
    }
   ],
   "source": [
    "net.fc1.weight.shape"
   ]
  },
  {
   "cell_type": "code",
   "execution_count": 0,
   "metadata": {
    "colab": {},
    "colab_type": "code",
    "id": "Rk3ahST69iVp"
   },
   "outputs": [],
   "source": [
    "criterion = nn.CrossEntropyLoss()\n",
    "optimizer = optim.SGD(net.parameters(), lr=0.001, momentum=0.9)"
   ]
  },
  {
   "cell_type": "code",
   "execution_count": 0,
   "metadata": {
    "colab": {},
    "colab_type": "code",
    "id": "1t82xwHagxUK"
   },
   "outputs": [],
   "source": [
    "criterion = nn.CrossEntropyLoss()\n",
    "optimizer = optim.Adam(net.parameters(), lr=0.0002)"
   ]
  },
  {
   "cell_type": "code",
   "execution_count": 0,
   "metadata": {
    "colab": {
     "base_uri": "https://localhost:8080/",
     "height": 243
    },
    "colab_type": "code",
    "id": "CmaFSCvRkODo",
    "outputId": "7193dbdb-0e5b-4364-fa8b-df4d6124642b"
   },
   "outputs": [
    {
     "name": "stdout",
     "output_type": "stream",
     "text": [
      "[1,  2000] loss: 1.725\n",
      "[1,  4000] loss: 1.395\n",
      "[1,  6000] loss: 1.253\n",
      "[1,  8000] loss: 1.196\n",
      "[1, 10000] loss: 1.105\n",
      "[1, 12000] loss: 1.062\n",
      "[2,  2000] loss: 0.904\n",
      "[2,  4000] loss: 0.887\n",
      "[2,  6000] loss: 0.892\n",
      "[2,  8000] loss: 0.881\n",
      "[2, 10000] loss: 0.856\n",
      "[2, 12000] loss: 0.840\n",
      "Finished Training\n"
     ]
    }
   ],
   "source": [
    "epochs = 2\n",
    "\n",
    "training_loss = []\n",
    "frame_potentials = {'conv1': [], 'conv2': []}\n",
    "\n",
    "for epoch in range(epochs):  # loop over the dataset multiple times\n",
    "\n",
    "    running_loss = 0.0\n",
    "    for i, data in enumerate(trainloader, 0):\n",
    "        # get the inputs; data is a list of [inputs, labels]\n",
    "        inputs, labels = data[0].to(device), data[1].to(device)\n",
    "\n",
    "        # zero the parameter gradients\n",
    "        optimizer.zero_grad()\n",
    "\n",
    "        # forward + backward + optimize\n",
    "        outputs = net(inputs)\n",
    "        loss = criterion(outputs, labels)\n",
    "        loss.backward()\n",
    "        optimizer.step()\n",
    "        \n",
    "        # compute frame potentials\n",
    "        conv1_weights = net.conv1.weight.view(6, -1).cpu().detach().numpy()\n",
    "        conv2_weights = net.conv2.weight.view(16, -1).cpu().detach().numpy()\n",
    "        frame_potentials['conv1'].append(frame_potential(conv1_weights))\n",
    "        frame_potentials['conv2'].append(frame_potential(conv2_weights))\n",
    "\n",
    "        # print statistics\n",
    "        running_loss += loss.item()\n",
    "        if i % 2000 == 1999:    # print every 2000 mini-batches\n",
    "            print('[%d, %5d] loss: %.3f' %\n",
    "                  (epoch + 1, i + 1, running_loss / 2000))\n",
    "            training_loss.append(running_loss / 2000)\n",
    "            running_loss = 0.0\n",
    "\n",
    "print('Finished Training')"
   ]
  },
  {
   "cell_type": "code",
   "execution_count": 0,
   "metadata": {
    "colab": {
     "base_uri": "https://localhost:8080/",
     "height": 367
    },
    "colab_type": "code",
    "id": "d9q8vZ8Pj4ig",
    "outputId": "614b1809-776c-4a59-8adf-7d098b1dcd90"
   },
   "outputs": [
    {
     "data": {
      "text/plain": [
       "[Text(0, 0.5, 'FP'), Text(0.5, 0, 'epoch')]"
      ]
     },
     "execution_count": 107,
     "metadata": {
      "tags": []
     },
     "output_type": "execute_result"
    },
    {
     "data": {
      "image/png": "[encoded data removed]",
      "text/plain": [
       "<Figure size 864x360 with 2 Axes>"
      ]
     },
     "metadata": {
      "tags": []
     },
     "output_type": "display_data"
    }
   ],
   "source": [
    "fig, ((ax1, ax2)) = plt.subplots(1, 2, sharex=True, figsize=(12,5))\n",
    "ax1.plot(frame_potentials['conv1'])\n",
    "ax1.set_title('Frame potential of first convolutional layer')\n",
    "ax1.set(xlabel='epoch', ylabel='FP')\n",
    "ax2.plot(frame_potentials['conv2'])\n",
    "ax2.set_title('Frame potential of second convolutional layer')\n",
    "ax2.set(xlabel='epoch', ylabel='FP')"
   ]
  },
  {
   "cell_type": "code",
   "execution_count": 0,
   "metadata": {
    "colab": {
     "base_uri": "https://localhost:8080/",
     "height": 34
    },
    "colab_type": "code",
    "id": "TGzk2yAZm1Y8",
    "outputId": "ea40b94f-8e45-4491-9abf-53e7afb6a02e"
   },
   "outputs": [
    {
     "name": "stdout",
     "output_type": "stream",
     "text": [
      "Accuracy of the network on the 10000 test images: 69 %\n"
     ]
    }
   ],
   "source": [
    "correct = 0\n",
    "total = 0\n",
    "with torch.no_grad():\n",
    "    for data in testloader:\n",
    "        images, labels = data[0].to(device), data[1].to(device)\n",
    "        outputs = net(images)\n",
    "        _, predicted = torch.max(outputs.data, 1)\n",
    "        total += labels.size(0)\n",
    "        correct += (predicted == labels).sum().item()\n",
    "\n",
    "print('Accuracy of the network on the 10000 test images: %d %%' % (\n",
    "    100 * correct / total))\n"
   ]
  },
  {
   "cell_type": "code",
   "execution_count": 0,
   "metadata": {
    "colab": {
     "base_uri": "https://localhost:8080/",
     "height": 191
    },
    "colab_type": "code",
    "id": "ptmBv61vwxt2",
    "outputId": "b39d8d08-a5e3-40a5-e039-4984afdd154a"
   },
   "outputs": [
    {
     "name": "stdout",
     "output_type": "stream",
     "text": [
      "Accuracy of plane : 52 %\n",
      "Accuracy of   car : 65 %\n",
      "Accuracy of  bird : 51 %\n",
      "Accuracy of   cat : 46 %\n",
      "Accuracy of  deer : 53 %\n",
      "Accuracy of   dog : 20 %\n",
      "Accuracy of  frog : 49 %\n",
      "Accuracy of horse : 59 %\n",
      "Accuracy of  ship : 79 %\n",
      "Accuracy of truck : 57 %\n"
     ]
    }
   ],
   "source": [
    "class_correct = list(0. for i in range(10))\n",
    "class_total = list(0. for i in range(10))\n",
    "with torch.no_grad():\n",
    "    for data in testloader:\n",
    "        images, labels = data[0].to(device), data[1].to(device)\n",
    "        outputs = net(images)\n",
    "        _, predicted = torch.max(outputs, 1)\n",
    "        c = (predicted == labels).squeeze()\n",
    "        for i in range(4):\n",
    "            label = labels[i]\n",
    "            class_correct[label] += c[i].item()\n",
    "            class_total[label] += 1\n",
    "\n",
    "\n",
    "for i in range(10):\n",
    "    print('Accuracy of %5s : %2d %%' % (\n",
    "        classes[i], 100 * class_correct[i] / class_total[i]))"
   ]
  },
  {
   "cell_type": "code",
   "execution_count": 0,
   "metadata": {
    "colab": {},
    "colab_type": "code",
    "id": "0K7p1kRYw5LN"
   },
   "outputs": [],
   "source": []
  }
 ],
 "metadata": {
  "accelerator": "GPU",
  "colab": {
   "collapsed_sections": [],
   "name": "frame-potential.ipynb",
   "provenance": []
  },
  "kernelspec": {
   "display_name": "Python 3",
   "language": "python",
   "name": "python3"
  },
  "language_info": {
   "codemirror_mode": {
    "name": "ipython",
    "version": 3
   },
   "file_extension": ".py",
   "mimetype": "text/x-python",
   "name": "python",
   "nbconvert_exporter": "python",
   "pygments_lexer": "ipython3",
   "version": "3.7.4"
  }
 },
 "nbformat": 4,
 "nbformat_minor": 1
}
