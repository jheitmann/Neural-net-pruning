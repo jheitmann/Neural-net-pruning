{
 "cells": [
  {
   "cell_type": "code",
   "execution_count": 1,
   "metadata": {
    "colab": {},
    "colab_type": "code",
    "id": "0RD6_n-QNE1H"
   },
   "outputs": [],
   "source": [
    "%matplotlib inline"
   ]
  },
  {
   "cell_type": "code",
   "execution_count": 2,
   "metadata": {
    "colab": {},
    "colab_type": "code",
    "id": "13-6rCuFNTxE"
   },
   "outputs": [],
   "source": [
    "import matplotlib.pyplot as plt\n",
    "import numpy as np\n",
    "import os\n",
    "import torch\n",
    "import torch.nn as nn\n",
    "import torchvision\n",
    "import torchvision.transforms as transforms\n",
    "import torch.optim as optim"
   ]
  },
  {
   "cell_type": "code",
   "execution_count": 3,
   "metadata": {},
   "outputs": [],
   "source": [
    "import common\n",
    "from models import LeNet_300_100, Conv2\n",
    "from experiment import Experiment"
   ]
  },
  {
   "cell_type": "code",
   "execution_count": 4,
   "metadata": {},
   "outputs": [
    {
     "data": {
      "text/plain": [
       "<torch._C.Generator at 0x7fe9b59be5d0>"
      ]
     },
     "execution_count": 4,
     "metadata": {},
     "output_type": "execute_result"
    }
   ],
   "source": [
    "np.random.seed(common.SEED)\n",
    "torch.manual_seed(common.SEED)"
   ]
  },
  {
   "cell_type": "code",
   "execution_count": 19,
   "metadata": {},
   "outputs": [],
   "source": [
    "def compare_pruning(e, criterion, layer, n_rounds, pruning_ratio, *, save_results=False):\n",
    "    print(\"Random pruning experiment:\\n\")\n",
    "    exp_acc, _ = e.random_pruning_rounds(criterion, layer, n_rounds, pruning_ratio, save_results=save_results)   \n",
    "    print(\"\\nMaximizing frame potential:\\n\")\n",
    "    e.init_model()\n",
    "    max_fp_acc, _ = e.prune_and_test(criterion, layer, pruning_ratio, prune_on_fp=True, \n",
    "                                                     increase_fp=True, save_results=save_results)\n",
    "    print(\"\\nMinimizing frame potential:\\n\")\n",
    "    e.init_model()\n",
    "    min_fp_acc, _ = e.prune_and_test(criterion, layer, pruning_ratio, prune_on_fp=True, \n",
    "                                                     increase_fp=False, save_results=save_results)\n",
    "    return exp_acc, max_fp_acc, min_fp_acc"
   ]
  },
  {
   "cell_type": "code",
   "execution_count": 30,
   "metadata": {},
   "outputs": [],
   "source": [
    "def draw_plot(layer, exp_acc, max_fp_acc, min_fp_acc, *, figsize=(25,12), fig_name=\"\"):\n",
    "    plt.figure(figsize=figsize)\n",
    "    plt.plot(max_fp_acc, label=\"Max-FP pruning\")\n",
    "    \n",
    "    exp_acc = np.array(exp_acc)\n",
    "    random_accuracies = exp_acc.mean(axis=0)\n",
    "    random_std_devs = exp_acc.std(axis=0)\n",
    "    plt.errorbar(range(len(max_fp_acc)), random_accuracies, random_std_devs, linestyle='None', \n",
    "                 marker='.', label=\"Random pruning\")\n",
    "    \n",
    "    plt.plot(min_fp_acc, label= \"Min-FP pruning\")\n",
    "    \n",
    "    plt.title(\"Accuracy after pruning \" + layer)\n",
    "    elem_type = \"neurons\" if layer[:2] == \"fc\" else \"filters\"\n",
    "    plt.xlabel(\"Pruned \" + elem_type)\n",
    "    plt.ylabel(\"Accuracy (%)\")\n",
    "    plt.legend(loc=\"best\")\n",
    "    \n",
    "    if fig_name:\n",
    "        fig_path = os.path.join(common.FIGURE_PATH, fig_name)\n",
    "        plt.savefig(fig_path)\n",
    "    else:\n",
    "        plt.show()"
   ]
  },
  {
   "cell_type": "markdown",
   "metadata": {
    "colab_type": "text",
    "id": "9jgispLCfQqo"
   },
   "source": [
    "## MNIST / Lenet 300-100-10"
   ]
  },
  {
   "cell_type": "code",
   "execution_count": 5,
   "metadata": {},
   "outputs": [],
   "source": [
    "train_batch_size = 64\n",
    "test_batch_size = 1000"
   ]
  },
  {
   "cell_type": "code",
   "execution_count": 6,
   "metadata": {
    "colab": {},
    "colab_type": "code",
    "id": "kSyjXtn_NYgk"
   },
   "outputs": [],
   "source": [
    "# Move to data.py\n",
    "\n",
    "transform = transforms.Compose(\n",
    "    [transforms.ToTensor(),\n",
    "     transforms.Normalize((0.1307,), (0.3081,))])\n",
    "\n",
    "trainset = torchvision.datasets.MNIST(root='./data', train=True, \n",
    "                          download=True, transform=transform)\n",
    "\n",
    "testset = torchvision.datasets.MNIST(root='./data', train=False, \n",
    "                         download=True, transform=transform)\n",
    "\n",
    "kwargs = {'num_workers': 1, 'pin_memory': True} if torch.cuda.is_available() else {}  # necessary?\n",
    "\n",
    "trainloader = torch.utils.data.DataLoader(trainset, batch_size=train_batch_size,\n",
    "                                           shuffle=True, **kwargs)\n",
    "testloader = torch.utils.data.DataLoader(testset, batch_size=test_batch_size,\n",
    "                                          shuffle=True, **kwargs)\n",
    "\n",
    "\n",
    "classes = ('0', '1', '2', '3', '4', '5', '6', '7', '8', '9')"
   ]
  },
  {
   "cell_type": "code",
   "execution_count": 7,
   "metadata": {},
   "outputs": [],
   "source": [
    "epochs = 50\n",
    "lr = 0.003\n",
    "momentum = 0.9"
   ]
  },
  {
   "cell_type": "code",
   "execution_count": 8,
   "metadata": {},
   "outputs": [],
   "source": [
    "model = LeNet_300_100()\n",
    "e = Experiment(trainloader, testloader, model)\n",
    "\n",
    "criterion = nn.CrossEntropyLoss()\n",
    "optimizer = optim.SGD(model.parameters(), lr=lr, momentum=momentum)\n",
    "monitored = ['fc1', 'fc2', 'fc3']"
   ]
  },
  {
   "cell_type": "code",
   "execution_count": 9,
   "metadata": {
    "scrolled": true
   },
   "outputs": [
    {
     "name": "stdout",
     "output_type": "stream",
     "text": [
      "\n",
      "Test set: Average loss: 2.3126, Accuracy:    981/ 10000 (10%)\n",
      "\n",
      "Train Epoch:   1 [     0/ 60000 (0%)]\tLoss: 2.297517\n",
      "Train Epoch:   1 [  6400/ 60000 (11%)]\tLoss: 0.776636\n",
      "Train Epoch:   1 [ 12800/ 60000 (21%)]\tLoss: 0.371301\n",
      "Train Epoch:   1 [ 19200/ 60000 (32%)]\tLoss: 0.302402\n",
      "Train Epoch:   1 [ 25600/ 60000 (43%)]\tLoss: 0.183424\n",
      "Train Epoch:   1 [ 32000/ 60000 (53%)]\tLoss: 0.268265\n",
      "Train Epoch:   1 [ 38400/ 60000 (64%)]\tLoss: 0.229609\n",
      "Train Epoch:   1 [ 44800/ 60000 (75%)]\tLoss: 0.292853\n",
      "Train Epoch:   1 [ 51200/ 60000 (85%)]\tLoss: 0.223220\n",
      "Train Epoch:   1 [ 57600/ 60000 (96%)]\tLoss: 0.225943\n",
      "\n",
      "Test set: Average loss: 0.2305, Accuracy:   9294/ 10000 (93%)\n",
      "\n",
      "Train Epoch:   2 [     0/ 60000 (0%)]\tLoss: 0.248529\n",
      "Train Epoch:   2 [  6400/ 60000 (11%)]\tLoss: 0.100980\n",
      "Train Epoch:   2 [ 12800/ 60000 (21%)]\tLoss: 0.518315\n",
      "Train Epoch:   2 [ 19200/ 60000 (32%)]\tLoss: 0.162574\n",
      "Train Epoch:   2 [ 25600/ 60000 (43%)]\tLoss: 0.204296\n",
      "Train Epoch:   2 [ 32000/ 60000 (53%)]\tLoss: 0.182096\n",
      "Train Epoch:   2 [ 38400/ 60000 (64%)]\tLoss: 0.220783\n",
      "Train Epoch:   2 [ 44800/ 60000 (75%)]\tLoss: 0.236116\n",
      "Train Epoch:   2 [ 51200/ 60000 (85%)]\tLoss: 0.204444\n",
      "Train Epoch:   2 [ 57600/ 60000 (96%)]\tLoss: 0.075721\n",
      "\n",
      "Test set: Average loss: 0.1598, Accuracy:   9524/ 10000 (95%)\n",
      "\n",
      "Train Epoch:   3 [     0/ 60000 (0%)]\tLoss: 0.133685\n",
      "Train Epoch:   3 [  6400/ 60000 (11%)]\tLoss: 0.117933\n",
      "Train Epoch:   3 [ 12800/ 60000 (21%)]\tLoss: 0.205945\n",
      "Train Epoch:   3 [ 19200/ 60000 (32%)]\tLoss: 0.110897\n",
      "Train Epoch:   3 [ 25600/ 60000 (43%)]\tLoss: 0.099384\n",
      "Train Epoch:   3 [ 32000/ 60000 (53%)]\tLoss: 0.165027\n",
      "Train Epoch:   3 [ 38400/ 60000 (64%)]\tLoss: 0.071742\n",
      "Train Epoch:   3 [ 44800/ 60000 (75%)]\tLoss: 0.301002\n",
      "Train Epoch:   3 [ 51200/ 60000 (85%)]\tLoss: 0.134993\n",
      "Train Epoch:   3 [ 57600/ 60000 (96%)]\tLoss: 0.182419\n",
      "\n",
      "Test set: Average loss: 0.1226, Accuracy:   9629/ 10000 (96%)\n",
      "\n",
      "Train Epoch:   4 [     0/ 60000 (0%)]\tLoss: 0.058255\n",
      "Train Epoch:   4 [  6400/ 60000 (11%)]\tLoss: 0.072018\n",
      "Train Epoch:   4 [ 12800/ 60000 (21%)]\tLoss: 0.157992\n",
      "Train Epoch:   4 [ 19200/ 60000 (32%)]\tLoss: 0.099634\n",
      "Train Epoch:   4 [ 25600/ 60000 (43%)]\tLoss: 0.182883\n",
      "Train Epoch:   4 [ 32000/ 60000 (53%)]\tLoss: 0.058250\n",
      "Train Epoch:   4 [ 38400/ 60000 (64%)]\tLoss: 0.225136\n",
      "Train Epoch:   4 [ 44800/ 60000 (75%)]\tLoss: 0.086951\n",
      "Train Epoch:   4 [ 51200/ 60000 (85%)]\tLoss: 0.038023\n",
      "Train Epoch:   4 [ 57600/ 60000 (96%)]\tLoss: 0.095580\n",
      "\n",
      "Test set: Average loss: 0.1011, Accuracy:   9682/ 10000 (97%)\n",
      "\n",
      "Train Epoch:   5 [     0/ 60000 (0%)]\tLoss: 0.090679\n",
      "Train Epoch:   5 [  6400/ 60000 (11%)]\tLoss: 0.117525\n",
      "Train Epoch:   5 [ 12800/ 60000 (21%)]\tLoss: 0.091799\n",
      "Train Epoch:   5 [ 19200/ 60000 (32%)]\tLoss: 0.096260\n",
      "Train Epoch:   5 [ 25600/ 60000 (43%)]\tLoss: 0.080885\n",
      "Train Epoch:   5 [ 32000/ 60000 (53%)]\tLoss: 0.135621\n",
      "Train Epoch:   5 [ 38400/ 60000 (64%)]\tLoss: 0.046385\n",
      "Train Epoch:   5 [ 44800/ 60000 (75%)]\tLoss: 0.020819\n",
      "Train Epoch:   5 [ 51200/ 60000 (85%)]\tLoss: 0.018663\n",
      "Train Epoch:   5 [ 57600/ 60000 (96%)]\tLoss: 0.227891\n",
      "\n",
      "Test set: Average loss: 0.0941, Accuracy:   9696/ 10000 (97%)\n",
      "\n",
      "Train Epoch:   6 [     0/ 60000 (0%)]\tLoss: 0.117185\n",
      "Train Epoch:   6 [  6400/ 60000 (11%)]\tLoss: 0.023974\n",
      "Train Epoch:   6 [ 12800/ 60000 (21%)]\tLoss: 0.058138\n",
      "Train Epoch:   6 [ 19200/ 60000 (32%)]\tLoss: 0.025038\n",
      "Train Epoch:   6 [ 25600/ 60000 (43%)]\tLoss: 0.047015\n",
      "Train Epoch:   6 [ 32000/ 60000 (53%)]\tLoss: 0.070701\n",
      "Train Epoch:   6 [ 38400/ 60000 (64%)]\tLoss: 0.167572\n",
      "Train Epoch:   6 [ 44800/ 60000 (75%)]\tLoss: 0.020416\n",
      "Train Epoch:   6 [ 51200/ 60000 (85%)]\tLoss: 0.064154\n",
      "Train Epoch:   6 [ 57600/ 60000 (96%)]\tLoss: 0.082186\n",
      "\n",
      "Test set: Average loss: 0.0838, Accuracy:   9739/ 10000 (97%)\n",
      "\n",
      "Train Epoch:   7 [     0/ 60000 (0%)]\tLoss: 0.046956\n",
      "Train Epoch:   7 [  6400/ 60000 (11%)]\tLoss: 0.090279\n",
      "Train Epoch:   7 [ 12800/ 60000 (21%)]\tLoss: 0.056504\n",
      "Train Epoch:   7 [ 19200/ 60000 (32%)]\tLoss: 0.087542\n",
      "Train Epoch:   7 [ 25600/ 60000 (43%)]\tLoss: 0.049987\n",
      "Train Epoch:   7 [ 32000/ 60000 (53%)]\tLoss: 0.098456\n",
      "Train Epoch:   7 [ 38400/ 60000 (64%)]\tLoss: 0.061483\n",
      "Train Epoch:   7 [ 44800/ 60000 (75%)]\tLoss: 0.064943\n",
      "Train Epoch:   7 [ 51200/ 60000 (85%)]\tLoss: 0.025912\n",
      "Train Epoch:   7 [ 57600/ 60000 (96%)]\tLoss: 0.060401\n",
      "\n",
      "Test set: Average loss: 0.0752, Accuracy:   9758/ 10000 (98%)\n",
      "\n",
      "Train Epoch:   8 [     0/ 60000 (0%)]\tLoss: 0.035278\n",
      "Train Epoch:   8 [  6400/ 60000 (11%)]\tLoss: 0.102741\n",
      "Train Epoch:   8 [ 12800/ 60000 (21%)]\tLoss: 0.030352\n",
      "Train Epoch:   8 [ 19200/ 60000 (32%)]\tLoss: 0.012519\n",
      "Train Epoch:   8 [ 25600/ 60000 (43%)]\tLoss: 0.060014\n",
      "Train Epoch:   8 [ 32000/ 60000 (53%)]\tLoss: 0.069033\n",
      "Train Epoch:   8 [ 38400/ 60000 (64%)]\tLoss: 0.017031\n",
      "Train Epoch:   8 [ 44800/ 60000 (75%)]\tLoss: 0.044610\n",
      "Train Epoch:   8 [ 51200/ 60000 (85%)]\tLoss: 0.015674\n",
      "Train Epoch:   8 [ 57600/ 60000 (96%)]\tLoss: 0.077613\n",
      "\n",
      "Test set: Average loss: 0.0751, Accuracy:   9765/ 10000 (98%)\n",
      "\n",
      "Train Epoch:   9 [     0/ 60000 (0%)]\tLoss: 0.031014\n",
      "Train Epoch:   9 [  6400/ 60000 (11%)]\tLoss: 0.129808\n",
      "Train Epoch:   9 [ 12800/ 60000 (21%)]\tLoss: 0.011971\n",
      "Train Epoch:   9 [ 19200/ 60000 (32%)]\tLoss: 0.004058\n",
      "Train Epoch:   9 [ 25600/ 60000 (43%)]\tLoss: 0.035223\n",
      "Train Epoch:   9 [ 32000/ 60000 (53%)]\tLoss: 0.015716\n",
      "Train Epoch:   9 [ 38400/ 60000 (64%)]\tLoss: 0.031390\n",
      "Train Epoch:   9 [ 44800/ 60000 (75%)]\tLoss: 0.052422\n",
      "Train Epoch:   9 [ 51200/ 60000 (85%)]\tLoss: 0.016603\n",
      "Train Epoch:   9 [ 57600/ 60000 (96%)]\tLoss: 0.050601\n",
      "\n",
      "Test set: Average loss: 0.0725, Accuracy:   9760/ 10000 (98%)\n",
      "\n",
      "Train Epoch:  10 [     0/ 60000 (0%)]\tLoss: 0.016807\n",
      "Train Epoch:  10 [  6400/ 60000 (11%)]\tLoss: 0.023979\n",
      "Train Epoch:  10 [ 12800/ 60000 (21%)]\tLoss: 0.023977\n",
      "Train Epoch:  10 [ 19200/ 60000 (32%)]\tLoss: 0.016992\n",
      "Train Epoch:  10 [ 25600/ 60000 (43%)]\tLoss: 0.027189\n",
      "Train Epoch:  10 [ 32000/ 60000 (53%)]\tLoss: 0.018327\n",
      "Train Epoch:  10 [ 38400/ 60000 (64%)]\tLoss: 0.019152\n",
      "Train Epoch:  10 [ 44800/ 60000 (75%)]\tLoss: 0.036719\n",
      "Train Epoch:  10 [ 51200/ 60000 (85%)]\tLoss: 0.021869\n",
      "Train Epoch:  10 [ 57600/ 60000 (96%)]\tLoss: 0.049642\n",
      "\n",
      "Test set: Average loss: 0.0640, Accuracy:   9784/ 10000 (98%)\n",
      "\n",
      "Train Epoch:  11 [     0/ 60000 (0%)]\tLoss: 0.008097\n",
      "Train Epoch:  11 [  6400/ 60000 (11%)]\tLoss: 0.010738\n",
      "Train Epoch:  11 [ 12800/ 60000 (21%)]\tLoss: 0.036053\n",
      "Train Epoch:  11 [ 19200/ 60000 (32%)]\tLoss: 0.011665\n",
      "Train Epoch:  11 [ 25600/ 60000 (43%)]\tLoss: 0.014147\n",
      "Train Epoch:  11 [ 32000/ 60000 (53%)]\tLoss: 0.079790\n",
      "Train Epoch:  11 [ 38400/ 60000 (64%)]\tLoss: 0.009154\n",
      "Train Epoch:  11 [ 44800/ 60000 (75%)]\tLoss: 0.005440\n",
      "Train Epoch:  11 [ 51200/ 60000 (85%)]\tLoss: 0.013166\n",
      "Train Epoch:  11 [ 57600/ 60000 (96%)]\tLoss: 0.029668\n",
      "\n",
      "Test set: Average loss: 0.0665, Accuracy:   9773/ 10000 (98%)\n",
      "\n",
      "Train Epoch:  12 [     0/ 60000 (0%)]\tLoss: 0.029042\n",
      "Train Epoch:  12 [  6400/ 60000 (11%)]\tLoss: 0.015960\n",
      "Train Epoch:  12 [ 12800/ 60000 (21%)]\tLoss: 0.016468\n",
      "Train Epoch:  12 [ 19200/ 60000 (32%)]\tLoss: 0.007284\n",
      "Train Epoch:  12 [ 25600/ 60000 (43%)]\tLoss: 0.049333\n",
      "Train Epoch:  12 [ 32000/ 60000 (53%)]\tLoss: 0.033328\n",
      "Train Epoch:  12 [ 38400/ 60000 (64%)]\tLoss: 0.006754\n",
      "Train Epoch:  12 [ 44800/ 60000 (75%)]\tLoss: 0.027031\n",
      "Train Epoch:  12 [ 51200/ 60000 (85%)]\tLoss: 0.019817\n",
      "Train Epoch:  12 [ 57600/ 60000 (96%)]\tLoss: 0.005694\n",
      "\n",
      "Test set: Average loss: 0.0634, Accuracy:   9794/ 10000 (98%)\n",
      "\n",
      "Train Epoch:  13 [     0/ 60000 (0%)]\tLoss: 0.008793\n",
      "Train Epoch:  13 [  6400/ 60000 (11%)]\tLoss: 0.010618\n",
      "Train Epoch:  13 [ 12800/ 60000 (21%)]\tLoss: 0.003172\n",
      "Train Epoch:  13 [ 19200/ 60000 (32%)]\tLoss: 0.019167\n",
      "Train Epoch:  13 [ 25600/ 60000 (43%)]\tLoss: 0.096290\n",
      "Train Epoch:  13 [ 32000/ 60000 (53%)]\tLoss: 0.011762\n",
      "Train Epoch:  13 [ 38400/ 60000 (64%)]\tLoss: 0.002317\n",
      "Train Epoch:  13 [ 44800/ 60000 (75%)]\tLoss: 0.033012\n",
      "Train Epoch:  13 [ 51200/ 60000 (85%)]\tLoss: 0.013408\n",
      "Train Epoch:  13 [ 57600/ 60000 (96%)]\tLoss: 0.007323\n",
      "\n",
      "Test set: Average loss: 0.0636, Accuracy:   9792/ 10000 (98%)\n",
      "\n",
      "Train Epoch:  14 [     0/ 60000 (0%)]\tLoss: 0.013205\n",
      "Train Epoch:  14 [  6400/ 60000 (11%)]\tLoss: 0.016480\n",
      "Train Epoch:  14 [ 12800/ 60000 (21%)]\tLoss: 0.011967\n",
      "Train Epoch:  14 [ 19200/ 60000 (32%)]\tLoss: 0.016440\n",
      "Train Epoch:  14 [ 25600/ 60000 (43%)]\tLoss: 0.010739\n",
      "Train Epoch:  14 [ 32000/ 60000 (53%)]\tLoss: 0.014516\n"
     ]
    },
    {
     "name": "stdout",
     "output_type": "stream",
     "text": [
      "Train Epoch:  14 [ 38400/ 60000 (64%)]\tLoss: 0.011307\n",
      "Train Epoch:  14 [ 44800/ 60000 (75%)]\tLoss: 0.014324\n",
      "Train Epoch:  14 [ 51200/ 60000 (85%)]\tLoss: 0.002269\n",
      "Train Epoch:  14 [ 57600/ 60000 (96%)]\tLoss: 0.009235\n",
      "\n",
      "Test set: Average loss: 0.0676, Accuracy:   9796/ 10000 (98%)\n",
      "\n",
      "Train Epoch:  15 [     0/ 60000 (0%)]\tLoss: 0.012217\n",
      "Train Epoch:  15 [  6400/ 60000 (11%)]\tLoss: 0.009298\n",
      "Train Epoch:  15 [ 12800/ 60000 (21%)]\tLoss: 0.003351\n",
      "Train Epoch:  15 [ 19200/ 60000 (32%)]\tLoss: 0.016323\n",
      "Train Epoch:  15 [ 25600/ 60000 (43%)]\tLoss: 0.012470\n",
      "Train Epoch:  15 [ 32000/ 60000 (53%)]\tLoss: 0.008508\n",
      "Train Epoch:  15 [ 38400/ 60000 (64%)]\tLoss: 0.002910\n",
      "Train Epoch:  15 [ 44800/ 60000 (75%)]\tLoss: 0.004058\n",
      "Train Epoch:  15 [ 51200/ 60000 (85%)]\tLoss: 0.026527\n",
      "Train Epoch:  15 [ 57600/ 60000 (96%)]\tLoss: 0.009602\n",
      "\n",
      "Test set: Average loss: 0.0665, Accuracy:   9796/ 10000 (98%)\n",
      "\n",
      "Train Epoch:  16 [     0/ 60000 (0%)]\tLoss: 0.006045\n",
      "Train Epoch:  16 [  6400/ 60000 (11%)]\tLoss: 0.014475\n",
      "Train Epoch:  16 [ 12800/ 60000 (21%)]\tLoss: 0.006917\n",
      "Train Epoch:  16 [ 19200/ 60000 (32%)]\tLoss: 0.008358\n",
      "Train Epoch:  16 [ 25600/ 60000 (43%)]\tLoss: 0.010148\n",
      "Train Epoch:  16 [ 32000/ 60000 (53%)]\tLoss: 0.007940\n",
      "Train Epoch:  16 [ 38400/ 60000 (64%)]\tLoss: 0.018258\n",
      "Train Epoch:  16 [ 44800/ 60000 (75%)]\tLoss: 0.002510\n",
      "Train Epoch:  16 [ 51200/ 60000 (85%)]\tLoss: 0.015544\n",
      "Train Epoch:  16 [ 57600/ 60000 (96%)]\tLoss: 0.011651\n",
      "\n",
      "Test set: Average loss: 0.0680, Accuracy:   9786/ 10000 (98%)\n",
      "\n",
      "Train Epoch:  17 [     0/ 60000 (0%)]\tLoss: 0.002301\n",
      "Train Epoch:  17 [  6400/ 60000 (11%)]\tLoss: 0.042520\n",
      "Train Epoch:  17 [ 12800/ 60000 (21%)]\tLoss: 0.011912\n",
      "Train Epoch:  17 [ 19200/ 60000 (32%)]\tLoss: 0.005892\n",
      "Train Epoch:  17 [ 25600/ 60000 (43%)]\tLoss: 0.003337\n",
      "Train Epoch:  17 [ 32000/ 60000 (53%)]\tLoss: 0.014582\n",
      "Train Epoch:  17 [ 38400/ 60000 (64%)]\tLoss: 0.001187\n",
      "Train Epoch:  17 [ 44800/ 60000 (75%)]\tLoss: 0.011584\n",
      "Train Epoch:  17 [ 51200/ 60000 (85%)]\tLoss: 0.006071\n",
      "Train Epoch:  17 [ 57600/ 60000 (96%)]\tLoss: 0.003109\n",
      "\n",
      "Test set: Average loss: 0.0615, Accuracy:   9814/ 10000 (98%)\n",
      "\n",
      "Train Epoch:  18 [     0/ 60000 (0%)]\tLoss: 0.012325\n",
      "Train Epoch:  18 [  6400/ 60000 (11%)]\tLoss: 0.010859\n",
      "Train Epoch:  18 [ 12800/ 60000 (21%)]\tLoss: 0.005452\n",
      "Train Epoch:  18 [ 19200/ 60000 (32%)]\tLoss: 0.004126\n",
      "Train Epoch:  18 [ 25600/ 60000 (43%)]\tLoss: 0.007066\n",
      "Train Epoch:  18 [ 32000/ 60000 (53%)]\tLoss: 0.003625\n",
      "Train Epoch:  18 [ 38400/ 60000 (64%)]\tLoss: 0.018054\n",
      "Train Epoch:  18 [ 44800/ 60000 (75%)]\tLoss: 0.006261\n",
      "Train Epoch:  18 [ 51200/ 60000 (85%)]\tLoss: 0.001979\n",
      "Train Epoch:  18 [ 57600/ 60000 (96%)]\tLoss: 0.003561\n",
      "\n",
      "Test set: Average loss: 0.0645, Accuracy:   9810/ 10000 (98%)\n",
      "\n",
      "Train Epoch:  19 [     0/ 60000 (0%)]\tLoss: 0.006120\n",
      "Train Epoch:  19 [  6400/ 60000 (11%)]\tLoss: 0.002382\n",
      "Train Epoch:  19 [ 12800/ 60000 (21%)]\tLoss: 0.010554\n",
      "Train Epoch:  19 [ 19200/ 60000 (32%)]\tLoss: 0.005364\n",
      "Train Epoch:  19 [ 25600/ 60000 (43%)]\tLoss: 0.006831\n",
      "Train Epoch:  19 [ 32000/ 60000 (53%)]\tLoss: 0.003785\n",
      "Train Epoch:  19 [ 38400/ 60000 (64%)]\tLoss: 0.002393\n",
      "Train Epoch:  19 [ 44800/ 60000 (75%)]\tLoss: 0.011575\n",
      "Train Epoch:  19 [ 51200/ 60000 (85%)]\tLoss: 0.006996\n",
      "Train Epoch:  19 [ 57600/ 60000 (96%)]\tLoss: 0.013918\n",
      "\n",
      "Test set: Average loss: 0.0635, Accuracy:   9805/ 10000 (98%)\n",
      "\n",
      "Train Epoch:  20 [     0/ 60000 (0%)]\tLoss: 0.011468\n",
      "Train Epoch:  20 [  6400/ 60000 (11%)]\tLoss: 0.004874\n",
      "Train Epoch:  20 [ 12800/ 60000 (21%)]\tLoss: 0.006737\n",
      "Train Epoch:  20 [ 19200/ 60000 (32%)]\tLoss: 0.002961\n",
      "Train Epoch:  20 [ 25600/ 60000 (43%)]\tLoss: 0.006934\n",
      "Train Epoch:  20 [ 32000/ 60000 (53%)]\tLoss: 0.011971\n",
      "Train Epoch:  20 [ 38400/ 60000 (64%)]\tLoss: 0.001497\n",
      "Train Epoch:  20 [ 44800/ 60000 (75%)]\tLoss: 0.012295\n",
      "Train Epoch:  20 [ 51200/ 60000 (85%)]\tLoss: 0.005763\n",
      "Train Epoch:  20 [ 57600/ 60000 (96%)]\tLoss: 0.007862\n",
      "\n",
      "Test set: Average loss: 0.0642, Accuracy:   9808/ 10000 (98%)\n",
      "\n",
      "Train Epoch:  21 [     0/ 60000 (0%)]\tLoss: 0.004537\n",
      "Train Epoch:  21 [  6400/ 60000 (11%)]\tLoss: 0.002169\n",
      "Train Epoch:  21 [ 12800/ 60000 (21%)]\tLoss: 0.003909\n",
      "Train Epoch:  21 [ 19200/ 60000 (32%)]\tLoss: 0.001245\n",
      "Train Epoch:  21 [ 25600/ 60000 (43%)]\tLoss: 0.006798\n",
      "Train Epoch:  21 [ 32000/ 60000 (53%)]\tLoss: 0.014723\n",
      "Train Epoch:  21 [ 38400/ 60000 (64%)]\tLoss: 0.006399\n",
      "Train Epoch:  21 [ 44800/ 60000 (75%)]\tLoss: 0.022308\n",
      "Train Epoch:  21 [ 51200/ 60000 (85%)]\tLoss: 0.022087\n",
      "Train Epoch:  21 [ 57600/ 60000 (96%)]\tLoss: 0.005136\n",
      "\n",
      "Test set: Average loss: 0.0650, Accuracy:   9804/ 10000 (98%)\n",
      "\n",
      "Train Epoch:  22 [     0/ 60000 (0%)]\tLoss: 0.004233\n",
      "Train Epoch:  22 [  6400/ 60000 (11%)]\tLoss: 0.001991\n",
      "Train Epoch:  22 [ 12800/ 60000 (21%)]\tLoss: 0.008281\n",
      "Train Epoch:  22 [ 19200/ 60000 (32%)]\tLoss: 0.004254\n",
      "Train Epoch:  22 [ 25600/ 60000 (43%)]\tLoss: 0.000747\n",
      "Train Epoch:  22 [ 32000/ 60000 (53%)]\tLoss: 0.002202\n",
      "Train Epoch:  22 [ 38400/ 60000 (64%)]\tLoss: 0.005459\n",
      "Train Epoch:  22 [ 44800/ 60000 (75%)]\tLoss: 0.024326\n",
      "Train Epoch:  22 [ 51200/ 60000 (85%)]\tLoss: 0.002780\n",
      "Train Epoch:  22 [ 57600/ 60000 (96%)]\tLoss: 0.005988\n",
      "\n",
      "Test set: Average loss: 0.0663, Accuracy:   9805/ 10000 (98%)\n",
      "\n",
      "Train Epoch:  23 [     0/ 60000 (0%)]\tLoss: 0.001062\n",
      "Train Epoch:  23 [  6400/ 60000 (11%)]\tLoss: 0.001511\n",
      "Train Epoch:  23 [ 12800/ 60000 (21%)]\tLoss: 0.000663\n",
      "Train Epoch:  23 [ 19200/ 60000 (32%)]\tLoss: 0.012608\n",
      "Train Epoch:  23 [ 25600/ 60000 (43%)]\tLoss: 0.005075\n",
      "Train Epoch:  23 [ 32000/ 60000 (53%)]\tLoss: 0.002197\n",
      "Train Epoch:  23 [ 38400/ 60000 (64%)]\tLoss: 0.002921\n",
      "Train Epoch:  23 [ 44800/ 60000 (75%)]\tLoss: 0.003837\n",
      "Train Epoch:  23 [ 51200/ 60000 (85%)]\tLoss: 0.003663\n",
      "Train Epoch:  23 [ 57600/ 60000 (96%)]\tLoss: 0.001568\n",
      "\n",
      "Test set: Average loss: 0.0655, Accuracy:   9814/ 10000 (98%)\n",
      "\n",
      "Train Epoch:  24 [     0/ 60000 (0%)]\tLoss: 0.001865\n",
      "Train Epoch:  24 [  6400/ 60000 (11%)]\tLoss: 0.005521\n",
      "Train Epoch:  24 [ 12800/ 60000 (21%)]\tLoss: 0.002692\n",
      "Train Epoch:  24 [ 19200/ 60000 (32%)]\tLoss: 0.001658\n",
      "Train Epoch:  24 [ 25600/ 60000 (43%)]\tLoss: 0.000576\n",
      "Train Epoch:  24 [ 32000/ 60000 (53%)]\tLoss: 0.000424\n",
      "Train Epoch:  24 [ 38400/ 60000 (64%)]\tLoss: 0.009375\n",
      "Train Epoch:  24 [ 44800/ 60000 (75%)]\tLoss: 0.003214\n",
      "Train Epoch:  24 [ 51200/ 60000 (85%)]\tLoss: 0.002447\n",
      "Train Epoch:  24 [ 57600/ 60000 (96%)]\tLoss: 0.002787\n",
      "\n",
      "Test set: Average loss: 0.0669, Accuracy:   9815/ 10000 (98%)\n",
      "\n",
      "Train Epoch:  25 [     0/ 60000 (0%)]\tLoss: 0.004830\n",
      "Train Epoch:  25 [  6400/ 60000 (11%)]\tLoss: 0.001499\n",
      "Train Epoch:  25 [ 12800/ 60000 (21%)]\tLoss: 0.008503\n",
      "Train Epoch:  25 [ 19200/ 60000 (32%)]\tLoss: 0.003234\n",
      "Train Epoch:  25 [ 25600/ 60000 (43%)]\tLoss: 0.002359\n",
      "Train Epoch:  25 [ 32000/ 60000 (53%)]\tLoss: 0.001538\n",
      "Train Epoch:  25 [ 38400/ 60000 (64%)]\tLoss: 0.001594\n",
      "Train Epoch:  25 [ 44800/ 60000 (75%)]\tLoss: 0.002058\n",
      "Train Epoch:  25 [ 51200/ 60000 (85%)]\tLoss: 0.012644\n",
      "Train Epoch:  25 [ 57600/ 60000 (96%)]\tLoss: 0.002734\n",
      "\n",
      "Test set: Average loss: 0.0664, Accuracy:   9817/ 10000 (98%)\n",
      "\n",
      "Train Epoch:  26 [     0/ 60000 (0%)]\tLoss: 0.001510\n",
      "Train Epoch:  26 [  6400/ 60000 (11%)]\tLoss: 0.002466\n",
      "Train Epoch:  26 [ 12800/ 60000 (21%)]\tLoss: 0.002956\n",
      "Train Epoch:  26 [ 19200/ 60000 (32%)]\tLoss: 0.002962\n",
      "Train Epoch:  26 [ 25600/ 60000 (43%)]\tLoss: 0.002754\n",
      "Train Epoch:  26 [ 32000/ 60000 (53%)]\tLoss: 0.001521\n",
      "Train Epoch:  26 [ 38400/ 60000 (64%)]\tLoss: 0.005375\n",
      "Train Epoch:  26 [ 44800/ 60000 (75%)]\tLoss: 0.000837\n",
      "Train Epoch:  26 [ 51200/ 60000 (85%)]\tLoss: 0.003374\n",
      "Train Epoch:  26 [ 57600/ 60000 (96%)]\tLoss: 0.005149\n",
      "\n",
      "Test set: Average loss: 0.0656, Accuracy:   9814/ 10000 (98%)\n",
      "\n",
      "Train Epoch:  27 [     0/ 60000 (0%)]\tLoss: 0.002862\n",
      "Train Epoch:  27 [  6400/ 60000 (11%)]\tLoss: 0.002979\n",
      "Train Epoch:  27 [ 12800/ 60000 (21%)]\tLoss: 0.000615\n",
      "Train Epoch:  27 [ 19200/ 60000 (32%)]\tLoss: 0.002624\n",
      "Train Epoch:  27 [ 25600/ 60000 (43%)]\tLoss: 0.000986\n",
      "Train Epoch:  27 [ 32000/ 60000 (53%)]\tLoss: 0.002148\n",
      "Train Epoch:  27 [ 38400/ 60000 (64%)]\tLoss: 0.002782\n",
      "Train Epoch:  27 [ 44800/ 60000 (75%)]\tLoss: 0.003297\n",
      "Train Epoch:  27 [ 51200/ 60000 (85%)]\tLoss: 0.002717\n",
      "Train Epoch:  27 [ 57600/ 60000 (96%)]\tLoss: 0.006989\n",
      "\n",
      "Test set: Average loss: 0.0677, Accuracy:   9813/ 10000 (98%)\n",
      "\n",
      "Train Epoch:  28 [     0/ 60000 (0%)]\tLoss: 0.000851\n",
      "Train Epoch:  28 [  6400/ 60000 (11%)]\tLoss: 0.000871\n"
     ]
    },
    {
     "name": "stdout",
     "output_type": "stream",
     "text": [
      "Train Epoch:  28 [ 12800/ 60000 (21%)]\tLoss: 0.001710\n",
      "Train Epoch:  28 [ 19200/ 60000 (32%)]\tLoss: 0.005970\n",
      "Train Epoch:  28 [ 25600/ 60000 (43%)]\tLoss: 0.001615\n",
      "Train Epoch:  28 [ 32000/ 60000 (53%)]\tLoss: 0.004596\n",
      "Train Epoch:  28 [ 38400/ 60000 (64%)]\tLoss: 0.001083\n",
      "Train Epoch:  28 [ 44800/ 60000 (75%)]\tLoss: 0.003696\n",
      "Train Epoch:  28 [ 51200/ 60000 (85%)]\tLoss: 0.000999\n",
      "Train Epoch:  28 [ 57600/ 60000 (96%)]\tLoss: 0.001077\n",
      "\n",
      "Test set: Average loss: 0.0674, Accuracy:   9814/ 10000 (98%)\n",
      "\n",
      "Train Epoch:  29 [     0/ 60000 (0%)]\tLoss: 0.001880\n",
      "Train Epoch:  29 [  6400/ 60000 (11%)]\tLoss: 0.001712\n",
      "Train Epoch:  29 [ 12800/ 60000 (21%)]\tLoss: 0.003225\n",
      "Train Epoch:  29 [ 19200/ 60000 (32%)]\tLoss: 0.001009\n",
      "Train Epoch:  29 [ 25600/ 60000 (43%)]\tLoss: 0.001965\n",
      "Train Epoch:  29 [ 32000/ 60000 (53%)]\tLoss: 0.001297\n",
      "Train Epoch:  29 [ 38400/ 60000 (64%)]\tLoss: 0.001730\n",
      "Train Epoch:  29 [ 44800/ 60000 (75%)]\tLoss: 0.003127\n",
      "Train Epoch:  29 [ 51200/ 60000 (85%)]\tLoss: 0.005316\n",
      "Train Epoch:  29 [ 57600/ 60000 (96%)]\tLoss: 0.007285\n",
      "\n",
      "Test set: Average loss: 0.0680, Accuracy:   9816/ 10000 (98%)\n",
      "\n",
      "Train Epoch:  30 [     0/ 60000 (0%)]\tLoss: 0.004652\n",
      "Train Epoch:  30 [  6400/ 60000 (11%)]\tLoss: 0.004566\n",
      "Train Epoch:  30 [ 12800/ 60000 (21%)]\tLoss: 0.003128\n",
      "Train Epoch:  30 [ 19200/ 60000 (32%)]\tLoss: 0.001458\n",
      "Train Epoch:  30 [ 25600/ 60000 (43%)]\tLoss: 0.004966\n",
      "Train Epoch:  30 [ 32000/ 60000 (53%)]\tLoss: 0.003047\n",
      "Train Epoch:  30 [ 38400/ 60000 (64%)]\tLoss: 0.001371\n",
      "Train Epoch:  30 [ 44800/ 60000 (75%)]\tLoss: 0.002766\n",
      "Train Epoch:  30 [ 51200/ 60000 (85%)]\tLoss: 0.002920\n",
      "Train Epoch:  30 [ 57600/ 60000 (96%)]\tLoss: 0.000846\n",
      "\n",
      "Test set: Average loss: 0.0686, Accuracy:   9822/ 10000 (98%)\n",
      "\n",
      "Train Epoch:  31 [     0/ 60000 (0%)]\tLoss: 0.002169\n",
      "Train Epoch:  31 [  6400/ 60000 (11%)]\tLoss: 0.003034\n",
      "Train Epoch:  31 [ 12800/ 60000 (21%)]\tLoss: 0.000476\n",
      "Train Epoch:  31 [ 19200/ 60000 (32%)]\tLoss: 0.003072\n",
      "Train Epoch:  31 [ 25600/ 60000 (43%)]\tLoss: 0.001334\n",
      "Train Epoch:  31 [ 32000/ 60000 (53%)]\tLoss: 0.002565\n",
      "Train Epoch:  31 [ 38400/ 60000 (64%)]\tLoss: 0.001125\n",
      "Train Epoch:  31 [ 44800/ 60000 (75%)]\tLoss: 0.000707\n",
      "Train Epoch:  31 [ 51200/ 60000 (85%)]\tLoss: 0.004469\n",
      "Train Epoch:  31 [ 57600/ 60000 (96%)]\tLoss: 0.001615\n",
      "\n",
      "Test set: Average loss: 0.0698, Accuracy:   9814/ 10000 (98%)\n",
      "\n",
      "Train Epoch:  32 [     0/ 60000 (0%)]\tLoss: 0.001502\n",
      "Train Epoch:  32 [  6400/ 60000 (11%)]\tLoss: 0.001828\n",
      "Train Epoch:  32 [ 12800/ 60000 (21%)]\tLoss: 0.000654\n",
      "Train Epoch:  32 [ 19200/ 60000 (32%)]\tLoss: 0.002056\n",
      "Train Epoch:  32 [ 25600/ 60000 (43%)]\tLoss: 0.001592\n",
      "Train Epoch:  32 [ 32000/ 60000 (53%)]\tLoss: 0.001025\n",
      "Train Epoch:  32 [ 38400/ 60000 (64%)]\tLoss: 0.003347\n",
      "Train Epoch:  32 [ 44800/ 60000 (75%)]\tLoss: 0.000969\n",
      "Train Epoch:  32 [ 51200/ 60000 (85%)]\tLoss: 0.000834\n",
      "Train Epoch:  32 [ 57600/ 60000 (96%)]\tLoss: 0.001250\n",
      "\n",
      "Test set: Average loss: 0.0689, Accuracy:   9818/ 10000 (98%)\n",
      "\n",
      "Train Epoch:  33 [     0/ 60000 (0%)]\tLoss: 0.000890\n",
      "Train Epoch:  33 [  6400/ 60000 (11%)]\tLoss: 0.001577\n",
      "Train Epoch:  33 [ 12800/ 60000 (21%)]\tLoss: 0.001243\n",
      "Train Epoch:  33 [ 19200/ 60000 (32%)]\tLoss: 0.001256\n",
      "Train Epoch:  33 [ 25600/ 60000 (43%)]\tLoss: 0.003631\n",
      "Train Epoch:  33 [ 32000/ 60000 (53%)]\tLoss: 0.001067\n",
      "Train Epoch:  33 [ 38400/ 60000 (64%)]\tLoss: 0.002125\n",
      "Train Epoch:  33 [ 44800/ 60000 (75%)]\tLoss: 0.001643\n",
      "Train Epoch:  33 [ 51200/ 60000 (85%)]\tLoss: 0.001014\n",
      "Train Epoch:  33 [ 57600/ 60000 (96%)]\tLoss: 0.001328\n",
      "\n",
      "Test set: Average loss: 0.0701, Accuracy:   9823/ 10000 (98%)\n",
      "\n",
      "Train Epoch:  34 [     0/ 60000 (0%)]\tLoss: 0.001889\n",
      "Train Epoch:  34 [  6400/ 60000 (11%)]\tLoss: 0.000672\n",
      "Train Epoch:  34 [ 12800/ 60000 (21%)]\tLoss: 0.001774\n",
      "Train Epoch:  34 [ 19200/ 60000 (32%)]\tLoss: 0.000637\n",
      "Train Epoch:  34 [ 25600/ 60000 (43%)]\tLoss: 0.002740\n",
      "Train Epoch:  34 [ 32000/ 60000 (53%)]\tLoss: 0.000796\n",
      "Train Epoch:  34 [ 38400/ 60000 (64%)]\tLoss: 0.002588\n",
      "Train Epoch:  34 [ 44800/ 60000 (75%)]\tLoss: 0.001167\n",
      "Train Epoch:  34 [ 51200/ 60000 (85%)]\tLoss: 0.000141\n",
      "Train Epoch:  34 [ 57600/ 60000 (96%)]\tLoss: 0.000485\n",
      "\n",
      "Test set: Average loss: 0.0702, Accuracy:   9820/ 10000 (98%)\n",
      "\n",
      "Train Epoch:  35 [     0/ 60000 (0%)]\tLoss: 0.002560\n",
      "Train Epoch:  35 [  6400/ 60000 (11%)]\tLoss: 0.001867\n",
      "Train Epoch:  35 [ 12800/ 60000 (21%)]\tLoss: 0.000669\n",
      "Train Epoch:  35 [ 19200/ 60000 (32%)]\tLoss: 0.001326\n",
      "Train Epoch:  35 [ 25600/ 60000 (43%)]\tLoss: 0.002541\n",
      "Train Epoch:  35 [ 32000/ 60000 (53%)]\tLoss: 0.000652\n",
      "Train Epoch:  35 [ 38400/ 60000 (64%)]\tLoss: 0.003035\n",
      "Train Epoch:  35 [ 44800/ 60000 (75%)]\tLoss: 0.001506\n",
      "Train Epoch:  35 [ 51200/ 60000 (85%)]\tLoss: 0.001900\n",
      "Train Epoch:  35 [ 57600/ 60000 (96%)]\tLoss: 0.000833\n",
      "\n",
      "Test set: Average loss: 0.0704, Accuracy:   9818/ 10000 (98%)\n",
      "\n",
      "Train Epoch:  36 [     0/ 60000 (0%)]\tLoss: 0.001367\n",
      "Train Epoch:  36 [  6400/ 60000 (11%)]\tLoss: 0.001537\n",
      "Train Epoch:  36 [ 12800/ 60000 (21%)]\tLoss: 0.000589\n",
      "Train Epoch:  36 [ 19200/ 60000 (32%)]\tLoss: 0.001368\n",
      "Train Epoch:  36 [ 25600/ 60000 (43%)]\tLoss: 0.000700\n",
      "Train Epoch:  36 [ 32000/ 60000 (53%)]\tLoss: 0.001351\n",
      "Train Epoch:  36 [ 38400/ 60000 (64%)]\tLoss: 0.004533\n",
      "Train Epoch:  36 [ 44800/ 60000 (75%)]\tLoss: 0.001189\n",
      "Train Epoch:  36 [ 51200/ 60000 (85%)]\tLoss: 0.002260\n",
      "Train Epoch:  36 [ 57600/ 60000 (96%)]\tLoss: 0.001889\n",
      "\n",
      "Test set: Average loss: 0.0703, Accuracy:   9822/ 10000 (98%)\n",
      "\n",
      "Train Epoch:  37 [     0/ 60000 (0%)]\tLoss: 0.001781\n",
      "Train Epoch:  37 [  6400/ 60000 (11%)]\tLoss: 0.000793\n",
      "Train Epoch:  37 [ 12800/ 60000 (21%)]\tLoss: 0.001701\n",
      "Train Epoch:  37 [ 19200/ 60000 (32%)]\tLoss: 0.001961\n",
      "Train Epoch:  37 [ 25600/ 60000 (43%)]\tLoss: 0.001673\n",
      "Train Epoch:  37 [ 32000/ 60000 (53%)]\tLoss: 0.001098\n",
      "Train Epoch:  37 [ 38400/ 60000 (64%)]\tLoss: 0.001912\n",
      "Train Epoch:  37 [ 44800/ 60000 (75%)]\tLoss: 0.001102\n",
      "Train Epoch:  37 [ 51200/ 60000 (85%)]\tLoss: 0.000811\n",
      "Train Epoch:  37 [ 57600/ 60000 (96%)]\tLoss: 0.000847\n",
      "\n",
      "Test set: Average loss: 0.0710, Accuracy:   9822/ 10000 (98%)\n",
      "\n",
      "Train Epoch:  38 [     0/ 60000 (0%)]\tLoss: 0.001505\n",
      "Train Epoch:  38 [  6400/ 60000 (11%)]\tLoss: 0.002582\n",
      "Train Epoch:  38 [ 12800/ 60000 (21%)]\tLoss: 0.000519\n",
      "Train Epoch:  38 [ 19200/ 60000 (32%)]\tLoss: 0.000588\n",
      "Train Epoch:  38 [ 25600/ 60000 (43%)]\tLoss: 0.000406\n",
      "Train Epoch:  38 [ 32000/ 60000 (53%)]\tLoss: 0.002610\n",
      "Train Epoch:  38 [ 38400/ 60000 (64%)]\tLoss: 0.001364\n",
      "Train Epoch:  38 [ 44800/ 60000 (75%)]\tLoss: 0.001355\n",
      "Train Epoch:  38 [ 51200/ 60000 (85%)]\tLoss: 0.001076\n",
      "Train Epoch:  38 [ 57600/ 60000 (96%)]\tLoss: 0.001246\n",
      "\n",
      "Test set: Average loss: 0.0709, Accuracy:   9821/ 10000 (98%)\n",
      "\n",
      "Train Epoch:  39 [     0/ 60000 (0%)]\tLoss: 0.001091\n",
      "Train Epoch:  39 [  6400/ 60000 (11%)]\tLoss: 0.000727\n",
      "Train Epoch:  39 [ 12800/ 60000 (21%)]\tLoss: 0.001622\n",
      "Train Epoch:  39 [ 19200/ 60000 (32%)]\tLoss: 0.001128\n",
      "Train Epoch:  39 [ 25600/ 60000 (43%)]\tLoss: 0.000554\n",
      "Train Epoch:  39 [ 32000/ 60000 (53%)]\tLoss: 0.002430\n",
      "Train Epoch:  39 [ 38400/ 60000 (64%)]\tLoss: 0.001112\n",
      "Train Epoch:  39 [ 44800/ 60000 (75%)]\tLoss: 0.001478\n",
      "Train Epoch:  39 [ 51200/ 60000 (85%)]\tLoss: 0.000616\n",
      "Train Epoch:  39 [ 57600/ 60000 (96%)]\tLoss: 0.000850\n",
      "\n",
      "Test set: Average loss: 0.0720, Accuracy:   9820/ 10000 (98%)\n",
      "\n",
      "Train Epoch:  40 [     0/ 60000 (0%)]\tLoss: 0.000606\n",
      "Train Epoch:  40 [  6400/ 60000 (11%)]\tLoss: 0.001919\n",
      "Train Epoch:  40 [ 12800/ 60000 (21%)]\tLoss: 0.001279\n",
      "Train Epoch:  40 [ 19200/ 60000 (32%)]\tLoss: 0.001434\n",
      "Train Epoch:  40 [ 25600/ 60000 (43%)]\tLoss: 0.000341\n",
      "Train Epoch:  40 [ 32000/ 60000 (53%)]\tLoss: 0.000262\n",
      "Train Epoch:  40 [ 38400/ 60000 (64%)]\tLoss: 0.000723\n",
      "Train Epoch:  40 [ 44800/ 60000 (75%)]\tLoss: 0.001580\n",
      "Train Epoch:  40 [ 51200/ 60000 (85%)]\tLoss: 0.000135\n",
      "Train Epoch:  40 [ 57600/ 60000 (96%)]\tLoss: 0.001535\n",
      "\n",
      "Test set: Average loss: 0.0718, Accuracy:   9820/ 10000 (98%)\n",
      "\n",
      "Train Epoch:  41 [     0/ 60000 (0%)]\tLoss: 0.001723\n",
      "Train Epoch:  41 [  6400/ 60000 (11%)]\tLoss: 0.000849\n",
      "Train Epoch:  41 [ 12800/ 60000 (21%)]\tLoss: 0.000762\n",
      "Train Epoch:  41 [ 19200/ 60000 (32%)]\tLoss: 0.001294\n",
      "Train Epoch:  41 [ 25600/ 60000 (43%)]\tLoss: 0.001093\n",
      "Train Epoch:  41 [ 32000/ 60000 (53%)]\tLoss: 0.000987\n",
      "Train Epoch:  41 [ 38400/ 60000 (64%)]\tLoss: 0.000471\n",
      "Train Epoch:  41 [ 44800/ 60000 (75%)]\tLoss: 0.001346\n",
      "Train Epoch:  41 [ 51200/ 60000 (85%)]\tLoss: 0.000064\n"
     ]
    },
    {
     "name": "stdout",
     "output_type": "stream",
     "text": [
      "Train Epoch:  41 [ 57600/ 60000 (96%)]\tLoss: 0.000620\n",
      "\n",
      "Test set: Average loss: 0.0723, Accuracy:   9822/ 10000 (98%)\n",
      "\n",
      "Train Epoch:  42 [     0/ 60000 (0%)]\tLoss: 0.000934\n",
      "Train Epoch:  42 [  6400/ 60000 (11%)]\tLoss: 0.000729\n",
      "Train Epoch:  42 [ 12800/ 60000 (21%)]\tLoss: 0.000921\n",
      "Train Epoch:  42 [ 19200/ 60000 (32%)]\tLoss: 0.000907\n",
      "Train Epoch:  42 [ 25600/ 60000 (43%)]\tLoss: 0.001151\n",
      "Train Epoch:  42 [ 32000/ 60000 (53%)]\tLoss: 0.000622\n",
      "Train Epoch:  42 [ 38400/ 60000 (64%)]\tLoss: 0.001053\n",
      "Train Epoch:  42 [ 44800/ 60000 (75%)]\tLoss: 0.000861\n",
      "Train Epoch:  42 [ 51200/ 60000 (85%)]\tLoss: 0.000481\n",
      "Train Epoch:  42 [ 57600/ 60000 (96%)]\tLoss: 0.000687\n",
      "\n",
      "Test set: Average loss: 0.0730, Accuracy:   9821/ 10000 (98%)\n",
      "\n",
      "Train Epoch:  43 [     0/ 60000 (0%)]\tLoss: 0.001083\n",
      "Train Epoch:  43 [  6400/ 60000 (11%)]\tLoss: 0.000644\n",
      "Train Epoch:  43 [ 12800/ 60000 (21%)]\tLoss: 0.000180\n",
      "Train Epoch:  43 [ 19200/ 60000 (32%)]\tLoss: 0.001373\n",
      "Train Epoch:  43 [ 25600/ 60000 (43%)]\tLoss: 0.001025\n",
      "Train Epoch:  43 [ 32000/ 60000 (53%)]\tLoss: 0.000841\n",
      "Train Epoch:  43 [ 38400/ 60000 (64%)]\tLoss: 0.001161\n",
      "Train Epoch:  43 [ 44800/ 60000 (75%)]\tLoss: 0.001426\n",
      "Train Epoch:  43 [ 51200/ 60000 (85%)]\tLoss: 0.000531\n",
      "Train Epoch:  43 [ 57600/ 60000 (96%)]\tLoss: 0.001427\n",
      "\n",
      "Test set: Average loss: 0.0733, Accuracy:   9820/ 10000 (98%)\n",
      "\n",
      "Train Epoch:  44 [     0/ 60000 (0%)]\tLoss: 0.000360\n",
      "Train Epoch:  44 [  6400/ 60000 (11%)]\tLoss: 0.000491\n",
      "Train Epoch:  44 [ 12800/ 60000 (21%)]\tLoss: 0.000888\n",
      "Train Epoch:  44 [ 19200/ 60000 (32%)]\tLoss: 0.000683\n",
      "Train Epoch:  44 [ 25600/ 60000 (43%)]\tLoss: 0.000647\n",
      "Train Epoch:  44 [ 32000/ 60000 (53%)]\tLoss: 0.001109\n",
      "Train Epoch:  44 [ 38400/ 60000 (64%)]\tLoss: 0.000281\n",
      "Train Epoch:  44 [ 44800/ 60000 (75%)]\tLoss: 0.000235\n",
      "Train Epoch:  44 [ 51200/ 60000 (85%)]\tLoss: 0.000914\n",
      "Train Epoch:  44 [ 57600/ 60000 (96%)]\tLoss: 0.000720\n",
      "\n",
      "Test set: Average loss: 0.0737, Accuracy:   9826/ 10000 (98%)\n",
      "\n",
      "Train Epoch:  45 [     0/ 60000 (0%)]\tLoss: 0.000432\n",
      "Train Epoch:  45 [  6400/ 60000 (11%)]\tLoss: 0.001056\n",
      "Train Epoch:  45 [ 12800/ 60000 (21%)]\tLoss: 0.000849\n",
      "Train Epoch:  45 [ 19200/ 60000 (32%)]\tLoss: 0.000774\n",
      "Train Epoch:  45 [ 25600/ 60000 (43%)]\tLoss: 0.000857\n",
      "Train Epoch:  45 [ 32000/ 60000 (53%)]\tLoss: 0.001020\n",
      "Train Epoch:  45 [ 38400/ 60000 (64%)]\tLoss: 0.000169\n",
      "Train Epoch:  45 [ 44800/ 60000 (75%)]\tLoss: 0.001446\n",
      "Train Epoch:  45 [ 51200/ 60000 (85%)]\tLoss: 0.001983\n",
      "Train Epoch:  45 [ 57600/ 60000 (96%)]\tLoss: 0.000397\n",
      "\n",
      "Test set: Average loss: 0.0745, Accuracy:   9821/ 10000 (98%)\n",
      "\n",
      "Train Epoch:  46 [     0/ 60000 (0%)]\tLoss: 0.001305\n",
      "Train Epoch:  46 [  6400/ 60000 (11%)]\tLoss: 0.000085\n",
      "Train Epoch:  46 [ 12800/ 60000 (21%)]\tLoss: 0.001594\n",
      "Train Epoch:  46 [ 19200/ 60000 (32%)]\tLoss: 0.001440\n",
      "Train Epoch:  46 [ 25600/ 60000 (43%)]\tLoss: 0.001994\n",
      "Train Epoch:  46 [ 32000/ 60000 (53%)]\tLoss: 0.000385\n",
      "Train Epoch:  46 [ 38400/ 60000 (64%)]\tLoss: 0.002228\n",
      "Train Epoch:  46 [ 44800/ 60000 (75%)]\tLoss: 0.001157\n",
      "Train Epoch:  46 [ 51200/ 60000 (85%)]\tLoss: 0.001964\n",
      "Train Epoch:  46 [ 57600/ 60000 (96%)]\tLoss: 0.000381\n",
      "\n",
      "Test set: Average loss: 0.0737, Accuracy:   9820/ 10000 (98%)\n",
      "\n",
      "Train Epoch:  47 [     0/ 60000 (0%)]\tLoss: 0.000590\n",
      "Train Epoch:  47 [  6400/ 60000 (11%)]\tLoss: 0.000522\n",
      "Train Epoch:  47 [ 12800/ 60000 (21%)]\tLoss: 0.000831\n",
      "Train Epoch:  47 [ 19200/ 60000 (32%)]\tLoss: 0.000986\n",
      "Train Epoch:  47 [ 25600/ 60000 (43%)]\tLoss: 0.000331\n",
      "Train Epoch:  47 [ 32000/ 60000 (53%)]\tLoss: 0.000186\n",
      "Train Epoch:  47 [ 38400/ 60000 (64%)]\tLoss: 0.002066\n",
      "Train Epoch:  47 [ 44800/ 60000 (75%)]\tLoss: 0.000888\n",
      "Train Epoch:  47 [ 51200/ 60000 (85%)]\tLoss: 0.000604\n",
      "Train Epoch:  47 [ 57600/ 60000 (96%)]\tLoss: 0.001110\n",
      "\n",
      "Test set: Average loss: 0.0737, Accuracy:   9820/ 10000 (98%)\n",
      "\n",
      "Train Epoch:  48 [     0/ 60000 (0%)]\tLoss: 0.000985\n",
      "Train Epoch:  48 [  6400/ 60000 (11%)]\tLoss: 0.000679\n",
      "Train Epoch:  48 [ 12800/ 60000 (21%)]\tLoss: 0.001225\n",
      "Train Epoch:  48 [ 19200/ 60000 (32%)]\tLoss: 0.001485\n",
      "Train Epoch:  48 [ 25600/ 60000 (43%)]\tLoss: 0.000985\n",
      "Train Epoch:  48 [ 32000/ 60000 (53%)]\tLoss: 0.000224\n",
      "Train Epoch:  48 [ 38400/ 60000 (64%)]\tLoss: 0.000721\n",
      "Train Epoch:  48 [ 44800/ 60000 (75%)]\tLoss: 0.001691\n",
      "Train Epoch:  48 [ 51200/ 60000 (85%)]\tLoss: 0.000927\n",
      "Train Epoch:  48 [ 57600/ 60000 (96%)]\tLoss: 0.001721\n",
      "\n",
      "Test set: Average loss: 0.0747, Accuracy:   9821/ 10000 (98%)\n",
      "\n",
      "Train Epoch:  49 [     0/ 60000 (0%)]\tLoss: 0.002804\n",
      "Train Epoch:  49 [  6400/ 60000 (11%)]\tLoss: 0.000711\n",
      "Train Epoch:  49 [ 12800/ 60000 (21%)]\tLoss: 0.000336\n",
      "Train Epoch:  49 [ 19200/ 60000 (32%)]\tLoss: 0.000447\n",
      "Train Epoch:  49 [ 25600/ 60000 (43%)]\tLoss: 0.001318\n",
      "Train Epoch:  49 [ 32000/ 60000 (53%)]\tLoss: 0.000403\n",
      "Train Epoch:  49 [ 38400/ 60000 (64%)]\tLoss: 0.000631\n",
      "Train Epoch:  49 [ 44800/ 60000 (75%)]\tLoss: 0.000385\n",
      "Train Epoch:  49 [ 51200/ 60000 (85%)]\tLoss: 0.000289\n",
      "Train Epoch:  49 [ 57600/ 60000 (96%)]\tLoss: 0.000453\n",
      "\n",
      "Test set: Average loss: 0.0745, Accuracy:   9823/ 10000 (98%)\n",
      "\n",
      "Train Epoch:  50 [     0/ 60000 (0%)]\tLoss: 0.000948\n",
      "Train Epoch:  50 [  6400/ 60000 (11%)]\tLoss: 0.000863\n",
      "Train Epoch:  50 [ 12800/ 60000 (21%)]\tLoss: 0.001431\n",
      "Train Epoch:  50 [ 19200/ 60000 (32%)]\tLoss: 0.000485\n",
      "Train Epoch:  50 [ 25600/ 60000 (43%)]\tLoss: 0.001016\n",
      "Train Epoch:  50 [ 32000/ 60000 (53%)]\tLoss: 0.000206\n",
      "Train Epoch:  50 [ 38400/ 60000 (64%)]\tLoss: 0.001261\n",
      "Train Epoch:  50 [ 44800/ 60000 (75%)]\tLoss: 0.000878\n",
      "Train Epoch:  50 [ 51200/ 60000 (85%)]\tLoss: 0.000673\n",
      "Train Epoch:  50 [ 57600/ 60000 (96%)]\tLoss: 0.000608\n",
      "\n",
      "Test set: Average loss: 0.0747, Accuracy:   9821/ 10000 (98%)\n",
      "\n",
      "Saved trained model to: out/models/LeNet_300_100_01-10-2019_10:13:45\n",
      "Saved validation accuracies to: out/metrics/LeNet_300_100_acc_50_01-10-2019_10:13:45.npy\n",
      "Saved frame potentials to: out/metrics/LeNet_300_100_fp_50_01-10-2019_10:13:45.npy\n"
     ]
    }
   ],
   "source": [
    "test_accuracies, frame_potentials = e.fit(epochs, criterion, optimizer, monitored=monitored, save_results=True)"
   ]
  },
  {
   "cell_type": "code",
   "execution_count": 10,
   "metadata": {},
   "outputs": [
    {
     "data": {
      "image/png": "[encoded data removed]",
      "text/plain": [
       "<Figure size 432x288 with 1 Axes>"
      ]
     },
     "metadata": {
      "needs_background": "light"
     },
     "output_type": "display_data"
    }
   ],
   "source": [
    "plt.plot(test_accuracies)\n",
    "plt.title('Testset accuracy')\n",
    "plt.xlabel('Epoch')\n",
    "plt.ylabel('Accuracy (%)')\n",
    "plt.show()"
   ]
  },
  {
   "cell_type": "code",
   "execution_count": 11,
   "metadata": {},
   "outputs": [
    {
     "data": {
      "text/plain": [
       "[Text(0, 0.5, 'FP'), Text(0.5, 0, 'epoch')]"
      ]
     },
     "execution_count": 11,
     "metadata": {},
     "output_type": "execute_result"
    },
    {
     "data": {
      "image/png": "[encoded data removed]",
      "text/plain": [
       "<Figure size 1440x360 with 3 Axes>"
      ]
     },
     "metadata": {
      "needs_background": "light"
     },
     "output_type": "display_data"
    }
   ],
   "source": [
    "fig, ((ax1, ax2, ax3)) = plt.subplots(1, 3, sharex=True, figsize=(20,5))\n",
    "ax1.plot(frame_potentials['fc1'])\n",
    "ax1.set_title('Frame potential of first layer')\n",
    "ax1.set(xlabel='epoch', ylabel='FP')\n",
    "ax2.plot(frame_potentials['fc2'])\n",
    "ax2.set_title('Frame potential of second layer')\n",
    "ax2.set(xlabel='epoch', ylabel='FP')\n",
    "ax3.plot(frame_potentials['fc3'])\n",
    "ax3.set_title('Frame potential of third layer')\n",
    "ax3.set(xlabel='epoch', ylabel='FP')"
   ]
  },
  {
   "cell_type": "code",
   "execution_count": 33,
   "metadata": {},
   "outputs": [],
   "source": [
    "model_name = \"LeNet_300_100_01-10-2019_10:13:45\"\n",
    "criterion = nn.CrossEntropyLoss()\n",
    "layer = \"fc1\"\n",
    "n_rounds = 4\n",
    "pruning_ratio = 0.02"
   ]
  },
  {
   "cell_type": "code",
   "execution_count": 34,
   "metadata": {},
   "outputs": [
    {
     "name": "stdout",
     "output_type": "stream",
     "text": [
      "Random pruning experiment:\n",
      "\n",
      "Random pruning experiment N° 1\n",
      "\n",
      "Test set: Average loss: 0.0747, Accuracy:   9821/ 10000 (98%)\n",
      "\n",
      "\n",
      "Test set: Average loss: 0.0750, Accuracy:   9816/ 10000 (98%)\n",
      "\n",
      "\n",
      "Test set: Average loss: 0.0768, Accuracy:   9810/ 10000 (98%)\n",
      "\n",
      "\n",
      "Test set: Average loss: 0.0785, Accuracy:   9801/ 10000 (98%)\n",
      "\n",
      "\n",
      "Test set: Average loss: 0.0780, Accuracy:   9799/ 10000 (98%)\n",
      "\n",
      "\n",
      "Test set: Average loss: 0.0776, Accuracy:   9798/ 10000 (98%)\n",
      "\n",
      "\n",
      "Test set: Average loss: 0.0779, Accuracy:   9794/ 10000 (98%)\n",
      "\n",
      "Random pruning experiment N° 2\n",
      "\n",
      "Test set: Average loss: 0.0747, Accuracy:   9821/ 10000 (98%)\n",
      "\n",
      "\n",
      "Test set: Average loss: 0.0747, Accuracy:   9817/ 10000 (98%)\n",
      "\n",
      "\n",
      "Test set: Average loss: 0.0761, Accuracy:   9815/ 10000 (98%)\n",
      "\n",
      "\n",
      "Test set: Average loss: 0.0777, Accuracy:   9809/ 10000 (98%)\n",
      "\n",
      "\n",
      "Test set: Average loss: 0.0825, Accuracy:   9799/ 10000 (98%)\n",
      "\n",
      "\n",
      "Test set: Average loss: 0.0799, Accuracy:   9801/ 10000 (98%)\n",
      "\n",
      "\n",
      "Test set: Average loss: 0.0798, Accuracy:   9801/ 10000 (98%)\n",
      "\n",
      "Random pruning experiment N° 3\n",
      "\n",
      "Test set: Average loss: 0.0747, Accuracy:   9821/ 10000 (98%)\n",
      "\n",
      "\n",
      "Test set: Average loss: 0.0748, Accuracy:   9823/ 10000 (98%)\n",
      "\n",
      "\n",
      "Test set: Average loss: 0.0755, Accuracy:   9826/ 10000 (98%)\n",
      "\n",
      "\n",
      "Test set: Average loss: 0.0807, Accuracy:   9800/ 10000 (98%)\n",
      "\n",
      "\n",
      "Test set: Average loss: 0.0833, Accuracy:   9789/ 10000 (98%)\n",
      "\n",
      "\n",
      "Test set: Average loss: 0.0829, Accuracy:   9785/ 10000 (98%)\n",
      "\n",
      "\n",
      "Test set: Average loss: 0.0828, Accuracy:   9786/ 10000 (98%)\n",
      "\n",
      "Random pruning experiment N° 4\n",
      "\n",
      "Test set: Average loss: 0.0747, Accuracy:   9821/ 10000 (98%)\n",
      "\n",
      "\n",
      "Test set: Average loss: 0.0753, Accuracy:   9821/ 10000 (98%)\n",
      "\n",
      "\n",
      "Test set: Average loss: 0.0763, Accuracy:   9817/ 10000 (98%)\n",
      "\n",
      "\n",
      "Test set: Average loss: 0.0764, Accuracy:   9817/ 10000 (98%)\n",
      "\n",
      "\n",
      "Test set: Average loss: 0.0767, Accuracy:   9813/ 10000 (98%)\n",
      "\n",
      "\n",
      "Test set: Average loss: 0.0788, Accuracy:   9809/ 10000 (98%)\n",
      "\n",
      "\n",
      "Test set: Average loss: 0.0805, Accuracy:   9805/ 10000 (98%)\n",
      "\n",
      "\n",
      "Maximizing frame potential:\n",
      "\n",
      "\n",
      "Test set: Average loss: 0.0747, Accuracy:   9821/ 10000 (98%)\n",
      "\n",
      "\n",
      "Test set: Average loss: 0.0747, Accuracy:   9821/ 10000 (98%)\n",
      "\n",
      "\n",
      "Test set: Average loss: 0.0747, Accuracy:   9821/ 10000 (98%)\n",
      "\n",
      "\n",
      "Test set: Average loss: 0.0747, Accuracy:   9822/ 10000 (98%)\n",
      "\n",
      "\n",
      "Test set: Average loss: 0.0747, Accuracy:   9821/ 10000 (98%)\n",
      "\n",
      "\n",
      "Test set: Average loss: 0.0746, Accuracy:   9822/ 10000 (98%)\n",
      "\n",
      "\n",
      "Test set: Average loss: 0.0747, Accuracy:   9823/ 10000 (98%)\n",
      "\n",
      "\n",
      "Minimizing frame potential:\n",
      "\n",
      "\n",
      "Test set: Average loss: 0.0747, Accuracy:   9821/ 10000 (98%)\n",
      "\n",
      "\n",
      "Test set: Average loss: 0.0819, Accuracy:   9810/ 10000 (98%)\n",
      "\n",
      "\n",
      "Test set: Average loss: 0.0834, Accuracy:   9799/ 10000 (98%)\n",
      "\n",
      "\n",
      "Test set: Average loss: 0.0839, Accuracy:   9787/ 10000 (98%)\n",
      "\n",
      "\n",
      "Test set: Average loss: 0.0945, Accuracy:   9758/ 10000 (98%)\n",
      "\n",
      "\n",
      "Test set: Average loss: 0.0972, Accuracy:   9759/ 10000 (98%)\n",
      "\n",
      "\n",
      "Test set: Average loss: 0.0989, Accuracy:   9760/ 10000 (98%)\n",
      "\n"
     ]
    }
   ],
   "source": [
    "e = Experiment(trainloader, testloader, LeNet_300_100(), model_name=model_name)\n",
    "exp_acc, max_fp_acc, min_fp_acc = compare_pruning(e, criterion, layer, n_rounds, pruning_ratio, save_results=False)"
   ]
  },
  {
   "cell_type": "code",
   "execution_count": 38,
   "metadata": {},
   "outputs": [
    {
     "data": {
      "image/png": "[encoded data removed]",
      "text/plain": [
       "<Figure size 504x360 with 1 Axes>"
      ]
     },
     "metadata": {
      "needs_background": "light"
     },
     "output_type": "display_data"
    }
   ],
   "source": [
    "draw_plot(layer, exp_acc, max_fp_acc, min_fp_acc, figsize=(7,5), fig_name=\"\")"
   ]
  },
  {
   "cell_type": "code",
   "execution_count": 29,
   "metadata": {},
   "outputs": [
    {
     "data": {
      "image/png": "[encoded data removed]",
      "text/plain": [
       "<Figure size 432x288 with 1 Axes>"
      ]
     },
     "metadata": {
      "needs_background": "light"
     },
     "output_type": "display_data"
    }
   ],
   "source": [
    "plt.plot(frame_potentials['fc1'])\n",
    "plt.title('Frame potential after pruning to reduce FP')\n",
    "plt.xlabel('Pruned neurons')\n",
    "plt.ylabel('Frame potential')\n",
    "plt.show()"
   ]
  },
  {
   "cell_type": "markdown",
   "metadata": {},
   "source": [
    "#### Show images, compare class results"
   ]
  },
  {
   "cell_type": "code",
   "execution_count": null,
   "metadata": {
    "colab": {
     "base_uri": "https://localhost:8080/",
     "height": 174
    },
    "colab_type": "code",
    "id": "I8bBvx6fNb_B",
    "outputId": "e3f16b2e-6184-4ad0-9a02-2a283fd3725d"
   },
   "outputs": [],
   "source": [
    "def imshow(img):\n",
    "    #img = img / 2 + 0.5     # unnormalize\n",
    "    npimg = img.numpy()\n",
    "    plt.imshow(np.transpose(npimg, (1, 2, 0)))\n",
    "\n",
    "\n",
    "# get some random training images\n",
    "dataiter = iter(trainloader)\n",
    "images, labels = dataiter.next()\n",
    "\n",
    "# show images\n",
    "imshow(torchvision.utils.make_grid(images))\n",
    "# print labels\n",
    "print(' '.join('%9s' % classes[labels[j]] for j in range(4)))"
   ]
  },
  {
   "cell_type": "code",
   "execution_count": 7,
   "metadata": {
    "colab": {
     "base_uri": "https://localhost:8080/",
     "height": 52
    },
    "colab_type": "code",
    "id": "Dm4vzV_aSupO",
    "outputId": "40b52e4a-9ab1-4fed-dbe2-f6ed6b18b025"
   },
   "outputs": [
    {
     "name": "stdout",
     "output_type": "stream",
     "text": [
      "torch.Size([4, 1, 28, 28])\n",
      "torch.Size([4])\n"
     ]
    }
   ],
   "source": [
    "print(images.shape)\n",
    "print(labels.shape)"
   ]
  },
  {
   "cell_type": "code",
   "execution_count": null,
   "metadata": {
    "colab": {
     "base_uri": "https://localhost:8080/",
     "height": 191
    },
    "colab_type": "code",
    "id": "kHyTjOciUcrG",
    "outputId": "41748a2b-5940-4b79-e80c-01cdb4eb8aec"
   },
   "outputs": [],
   "source": [
    "dataiter = iter(testloader)\n",
    "images, labels = dataiter.next()\n",
    "\n",
    "# print images\n",
    "imshow(torchvision.utils.make_grid(images))\n",
    "print('GroundTruth: \\n', ' '.join('%9s' % classes[labels[j]] for j in range(4)))"
   ]
  },
  {
   "cell_type": "code",
   "execution_count": 0,
   "metadata": {
    "colab": {
     "base_uri": "https://localhost:8080/",
     "height": 52
    },
    "colab_type": "code",
    "id": "fgFtKpSMVFfY",
    "outputId": "8877399e-af19-4e44-c319-f5fb1eabbe1c"
   },
   "outputs": [
    {
     "name": "stdout",
     "output_type": "stream",
     "text": [
      "Predicted: \n",
      "         7         2         1         0\n"
     ]
    }
   ],
   "source": [
    "outputs = net(images.to(device))\n",
    "_, predicted = torch.max(outputs, 1)\n",
    "\n",
    "print('Predicted: \\n', ' '.join('%9s' % classes[predicted[j]]\n",
    "                              for j in range(4)))"
   ]
  },
  {
   "cell_type": "code",
   "execution_count": 0,
   "metadata": {
    "colab": {
     "base_uri": "https://localhost:8080/",
     "height": 34
    },
    "colab_type": "code",
    "id": "JCHBLuoZVZQY",
    "outputId": "5d9c4340-c0af-4a16-d8c0-b5ea1a696603"
   },
   "outputs": [
    {
     "name": "stdout",
     "output_type": "stream",
     "text": [
      "Accuracy of the network on the 10000 test images: 97 %\n"
     ]
    }
   ],
   "source": [
    "correct = 0\n",
    "total = 0\n",
    "with torch.no_grad():\n",
    "    for data in testloader:\n",
    "        images, labels = data[0].to(device), data[1].to(device)\n",
    "        outputs = net(images)\n",
    "        _, predicted = torch.max(outputs.data, 1)\n",
    "        total += labels.size(0)\n",
    "        correct += (predicted == labels).sum().item()\n",
    "\n",
    "print('Accuracy of the network on the 10000 test images: %d %%' % (\n",
    "    100 * correct / total))"
   ]
  },
  {
   "cell_type": "code",
   "execution_count": 0,
   "metadata": {
    "colab": {
     "base_uri": "https://localhost:8080/",
     "height": 191
    },
    "colab_type": "code",
    "id": "NEKHhTfFVzY9",
    "outputId": "60b77c43-f2e2-4088-d648-fcb517803739"
   },
   "outputs": [
    {
     "name": "stdout",
     "output_type": "stream",
     "text": [
      "Accuracy of 0 : 98 %\n",
      "Accuracy of 1 : 97 %\n",
      "Accuracy of 2 : 89 %\n",
      "Accuracy of 3 : 96 %\n",
      "Accuracy of 4 : 100 %\n",
      "Accuracy of 5 : 92 %\n",
      "Accuracy of 6 : 94 %\n",
      "Accuracy of 7 : 96 %\n",
      "Accuracy of 8 : 98 %\n",
      "Accuracy of 9 : 97 %\n"
     ]
    }
   ],
   "source": [
    "class_correct = list(0. for i in range(10))\n",
    "class_total = list(0. for i in range(10))\n",
    "with torch.no_grad():\n",
    "    for data in testloader:\n",
    "        images, labels = data[0].to(device), data[1].to(device)\n",
    "        outputs = net(images)\n",
    "        _, predicted = torch.max(outputs, 1)\n",
    "        c = (predicted == labels).squeeze()\n",
    "        for i in range(4):\n",
    "            label = labels[i]\n",
    "            class_correct[label] += c[i].item()\n",
    "            class_total[label] += 1\n",
    "\n",
    "\n",
    "for i in range(10):\n",
    "    print('Accuracy of %s : %2d %%' % (\n",
    "        classes[i], 100 * class_correct[i] / class_total[i]))"
   ]
  },
  {
   "cell_type": "markdown",
   "metadata": {
    "colab_type": "text",
    "id": "5xj4WASNfp0M"
   },
   "source": [
    "## CIFAR-10 / Conv-2"
   ]
  },
  {
   "cell_type": "code",
   "execution_count": 39,
   "metadata": {},
   "outputs": [],
   "source": [
    "train_batch_size = 64\n",
    "test_batch_size = 1000"
   ]
  },
  {
   "cell_type": "code",
   "execution_count": 40,
   "metadata": {
    "colab": {
     "base_uri": "https://localhost:8080/",
     "height": 52
    },
    "colab_type": "code",
    "id": "1Xykgg6ngQ-C",
    "outputId": "dc4364ba-a023-45d0-dbdd-fae5bd5e50c6"
   },
   "outputs": [
    {
     "name": "stdout",
     "output_type": "stream",
     "text": [
      "Files already downloaded and verified\n",
      "Files already downloaded and verified\n"
     ]
    }
   ],
   "source": [
    "# Move to data.py\n",
    "\n",
    "transform = transforms.Compose(\n",
    "    [transforms.ToTensor(),\n",
    "     transforms.Normalize((0.4914, 0.4822, 0.4465), (0.2023, 0.1994, 0.2010))])\n",
    "\n",
    "trainset = torchvision.datasets.CIFAR10(root='./data', train=True,\n",
    "                                        download=True, transform=transform)\n",
    "testset = torchvision.datasets.CIFAR10(root='./data', train=False,\n",
    "                                       download=True, transform=transform)\n",
    "\n",
    "kwargs = {'num_workers': 1, 'pin_memory': True} if torch.cuda.is_available() else {}  # necessary?\n",
    "\n",
    "trainloader = torch.utils.data.DataLoader(trainset, batch_size=train_batch_size,\n",
    "                                          shuffle=True, **kwargs)\n",
    "\n",
    "testloader = torch.utils.data.DataLoader(testset, batch_size=test_batch_size,\n",
    "                                         shuffle=True, **kwargs)\n",
    "\n",
    "classes = ('plane', 'car', 'bird', 'cat',\n",
    "           'deer', 'dog', 'frog', 'horse', 'ship', 'truck')"
   ]
  },
  {
   "cell_type": "code",
   "execution_count": 41,
   "metadata": {},
   "outputs": [],
   "source": [
    "epochs = 20\n",
    "lr = 0.0002"
   ]
  },
  {
   "cell_type": "code",
   "execution_count": 9,
   "metadata": {},
   "outputs": [],
   "source": [
    "model = Conv2()\n",
    "e = Experiment(trainloader, testloader, model)\n",
    "\n",
    "criterion = nn.CrossEntropyLoss()\n",
    "optimizer = optim.Adam(model.parameters(), lr=lr)\n",
    "monitored = ['conv1', 'conv2', 'fc1', 'fc2']"
   ]
  },
  {
   "cell_type": "code",
   "execution_count": 10,
   "metadata": {},
   "outputs": [
    {
     "name": "stdout",
     "output_type": "stream",
     "text": [
      "\n",
      "Test set: Average loss: 2.3042, Accuracy:    990/ 10000 (10%)\n",
      "\n",
      "Train Epoch:   1 [     0/ 50000 (0%)]\tLoss: 2.309030\n",
      "Train Epoch:   1 [  6400/ 50000 (13%)]\tLoss: 1.742888\n",
      "Train Epoch:   1 [ 12800/ 50000 (26%)]\tLoss: 1.389441\n",
      "Train Epoch:   1 [ 19200/ 50000 (38%)]\tLoss: 1.221832\n",
      "Train Epoch:   1 [ 25600/ 50000 (51%)]\tLoss: 1.265922\n",
      "Train Epoch:   1 [ 32000/ 50000 (64%)]\tLoss: 1.124998\n",
      "Train Epoch:   1 [ 38400/ 50000 (77%)]\tLoss: 1.327337\n",
      "Train Epoch:   1 [ 44800/ 50000 (90%)]\tLoss: 1.221110\n",
      "\n",
      "Test set: Average loss: 1.1754, Accuracy:   5812/ 10000 (58%)\n",
      "\n",
      "Train Epoch:   2 [     0/ 50000 (0%)]\tLoss: 1.117527\n",
      "Train Epoch:   2 [  6400/ 50000 (13%)]\tLoss: 0.990872\n",
      "Train Epoch:   2 [ 12800/ 50000 (26%)]\tLoss: 1.152403\n",
      "Train Epoch:   2 [ 19200/ 50000 (38%)]\tLoss: 0.908521\n",
      "Train Epoch:   2 [ 25600/ 50000 (51%)]\tLoss: 1.022519\n",
      "Train Epoch:   2 [ 32000/ 50000 (64%)]\tLoss: 0.883264\n",
      "Train Epoch:   2 [ 38400/ 50000 (77%)]\tLoss: 0.807983\n",
      "Train Epoch:   2 [ 44800/ 50000 (90%)]\tLoss: 0.735661\n",
      "\n",
      "Test set: Average loss: 1.0392, Accuracy:   6364/ 10000 (64%)\n",
      "\n"
     ]
    }
   ],
   "source": [
    "test_accuracies, frame_potentials = e.fit(epochs, criterion, optimizer, monitored=monitored, save_results=False)"
   ]
  },
  {
   "cell_type": "code",
   "execution_count": 11,
   "metadata": {
    "colab": {
     "base_uri": "https://localhost:8080/",
     "height": 367
    },
    "colab_type": "code",
    "id": "d9q8vZ8Pj4ig",
    "outputId": "614b1809-776c-4a59-8adf-7d098b1dcd90"
   },
   "outputs": [
    {
     "data": {
      "text/plain": [
       "[Text(0, 0.5, 'FP'), Text(0.5, 0, 'epoch')]"
      ]
     },
     "execution_count": 11,
     "metadata": {},
     "output_type": "execute_result"
    },
    {
     "data": {
      "image/png": "[encoded data removed]",
      "text/plain": [
       "<Figure size 864x360 with 2 Axes>"
      ]
     },
     "metadata": {
      "needs_background": "light"
     },
     "output_type": "display_data"
    }
   ],
   "source": [
    "fig, ((ax1, ax2)) = plt.subplots(1, 2, sharex=True, figsize=(12,5))\n",
    "ax1.plot(frame_potentials['conv1'])\n",
    "ax1.set_title('Frame potential of first convolutional layer')\n",
    "ax1.set(xlabel='epoch', ylabel='FP')\n",
    "ax2.plot(frame_potentials['conv2'])\n",
    "ax2.set_title('Frame potential of second convolutional layer')\n",
    "ax2.set(xlabel='epoch', ylabel='FP')"
   ]
  },
  {
   "cell_type": "code",
   "execution_count": 43,
   "metadata": {},
   "outputs": [],
   "source": [
    "model_name = \"Conv2_01-10-2019_12:37:35\"\n",
    "criterion = nn.CrossEntropyLoss()\n",
    "layer = \"conv1\"\n",
    "n_rounds = 4\n",
    "pruning_ratio = 0.1"
   ]
  },
  {
   "cell_type": "code",
   "execution_count": 44,
   "metadata": {},
   "outputs": [
    {
     "name": "stdout",
     "output_type": "stream",
     "text": [
      "Random pruning experiment:\n",
      "\n",
      "Random pruning experiment N° 1\n",
      "\n",
      "Test set: Average loss: 2.2412, Accuracy:   6966/ 10000 (70%)\n",
      "\n",
      "\n",
      "Test set: Average loss: 2.2180, Accuracy:   6930/ 10000 (69%)\n",
      "\n",
      "\n",
      "Test set: Average loss: 2.2054, Accuracy:   6889/ 10000 (69%)\n",
      "\n",
      "\n",
      "Test set: Average loss: 2.2518, Accuracy:   6807/ 10000 (68%)\n",
      "\n",
      "\n",
      "Test set: Average loss: 2.1670, Accuracy:   6840/ 10000 (68%)\n",
      "\n",
      "\n",
      "Test set: Average loss: 2.1055, Accuracy:   6837/ 10000 (68%)\n",
      "\n",
      "\n",
      "Test set: Average loss: 2.0967, Accuracy:   6821/ 10000 (68%)\n",
      "\n",
      "Random pruning experiment N° 2\n",
      "\n",
      "Test set: Average loss: 2.2412, Accuracy:   6966/ 10000 (70%)\n",
      "\n",
      "\n",
      "Test set: Average loss: 2.2146, Accuracy:   6960/ 10000 (70%)\n",
      "\n",
      "\n",
      "Test set: Average loss: 2.1606, Accuracy:   6946/ 10000 (69%)\n",
      "\n",
      "\n",
      "Test set: Average loss: 2.1307, Accuracy:   6931/ 10000 (69%)\n",
      "\n",
      "\n",
      "Test set: Average loss: 2.1125, Accuracy:   6882/ 10000 (69%)\n",
      "\n",
      "\n",
      "Test set: Average loss: 2.0602, Accuracy:   6858/ 10000 (69%)\n",
      "\n",
      "\n",
      "Test set: Average loss: 1.9941, Accuracy:   6848/ 10000 (68%)\n",
      "\n",
      "Random pruning experiment N° 3\n",
      "\n",
      "Test set: Average loss: 2.2412, Accuracy:   6966/ 10000 (70%)\n",
      "\n",
      "\n",
      "Test set: Average loss: 2.2142, Accuracy:   6954/ 10000 (70%)\n",
      "\n",
      "\n",
      "Test set: Average loss: 2.1641, Accuracy:   6910/ 10000 (69%)\n",
      "\n",
      "\n",
      "Test set: Average loss: 2.1900, Accuracy:   6845/ 10000 (68%)\n",
      "\n",
      "\n",
      "Test set: Average loss: 2.1568, Accuracy:   6786/ 10000 (68%)\n",
      "\n",
      "\n",
      "Test set: Average loss: 2.1386, Accuracy:   6788/ 10000 (68%)\n",
      "\n",
      "\n",
      "Test set: Average loss: 2.1385, Accuracy:   6769/ 10000 (68%)\n",
      "\n",
      "Random pruning experiment N° 4\n",
      "\n",
      "Test set: Average loss: 2.2412, Accuracy:   6966/ 10000 (70%)\n",
      "\n",
      "\n",
      "Test set: Average loss: 2.1995, Accuracy:   6957/ 10000 (70%)\n",
      "\n",
      "\n",
      "Test set: Average loss: 2.1479, Accuracy:   6939/ 10000 (69%)\n",
      "\n",
      "\n",
      "Test set: Average loss: 2.0679, Accuracy:   6923/ 10000 (69%)\n",
      "\n",
      "\n",
      "Test set: Average loss: 2.0465, Accuracy:   6936/ 10000 (69%)\n",
      "\n",
      "\n",
      "Test set: Average loss: 2.0788, Accuracy:   6931/ 10000 (69%)\n",
      "\n",
      "\n",
      "Test set: Average loss: 2.0540, Accuracy:   6908/ 10000 (69%)\n",
      "\n",
      "\n",
      "Maximizing frame potential:\n",
      "\n",
      "\n",
      "Test set: Average loss: 2.2412, Accuracy:   6966/ 10000 (70%)\n",
      "\n",
      "\n",
      "Test set: Average loss: 2.2868, Accuracy:   6934/ 10000 (69%)\n",
      "\n",
      "\n",
      "Test set: Average loss: 2.3405, Accuracy:   6895/ 10000 (69%)\n",
      "\n",
      "\n",
      "Test set: Average loss: 2.3090, Accuracy:   6904/ 10000 (69%)\n",
      "\n",
      "\n",
      "Test set: Average loss: 2.2556, Accuracy:   6907/ 10000 (69%)\n",
      "\n",
      "\n",
      "Test set: Average loss: 2.3023, Accuracy:   6868/ 10000 (69%)\n",
      "\n",
      "\n",
      "Test set: Average loss: 2.3194, Accuracy:   6851/ 10000 (69%)\n",
      "\n",
      "\n",
      "Minimizing frame potential:\n",
      "\n",
      "\n",
      "Test set: Average loss: 2.2412, Accuracy:   6966/ 10000 (70%)\n",
      "\n",
      "\n",
      "Test set: Average loss: 2.1578, Accuracy:   6925/ 10000 (69%)\n",
      "\n",
      "\n",
      "Test set: Average loss: 2.1417, Accuracy:   6878/ 10000 (69%)\n",
      "\n",
      "\n",
      "Test set: Average loss: 2.0840, Accuracy:   6871/ 10000 (69%)\n",
      "\n",
      "\n",
      "Test set: Average loss: 2.1445, Accuracy:   6762/ 10000 (68%)\n",
      "\n",
      "\n",
      "Test set: Average loss: 2.1072, Accuracy:   6721/ 10000 (67%)\n",
      "\n",
      "\n",
      "Test set: Average loss: 1.9498, Accuracy:   6760/ 10000 (68%)\n",
      "\n"
     ]
    }
   ],
   "source": [
    "e = Experiment(trainloader, testloader, Conv2(), model_name=model_name)\n",
    "exp_acc, max_fp_acc, min_fp_acc = compare_pruning(e, criterion, layer, n_rounds, pruning_ratio, save_results=False)"
   ]
  },
  {
   "cell_type": "code",
   "execution_count": 45,
   "metadata": {},
   "outputs": [
    {
     "data": {
      "image/png": "[encoded data removed]",
      "text/plain": [
       "<Figure size 720x360 with 1 Axes>"
      ]
     },
     "metadata": {
      "needs_background": "light"
     },
     "output_type": "display_data"
    }
   ],
   "source": [
    "draw_plot(layer, exp_acc, max_fp_acc, min_fp_acc, figsize=(10,5), fig_name=\"\")"
   ]
  },
  {
   "cell_type": "markdown",
   "metadata": {},
   "source": [
    "#### Show images, compare class results"
   ]
  },
  {
   "cell_type": "code",
   "execution_count": 6,
   "metadata": {
    "colab": {
     "base_uri": "https://localhost:8080/",
     "height": 156
    },
    "colab_type": "code",
    "id": "M52AskNuga6J",
    "outputId": "d90b8157-0f01-4411-c949-275fa56c7acd"
   },
   "outputs": [
    {
     "data": {
      "image/png": "[encoded data removed]",
      "text/plain": [
       "<Figure size 432x288 with 1 Axes>"
      ]
     },
     "metadata": {
      "needs_background": "light"
     },
     "output_type": "display_data"
    },
    {
     "name": "stdout",
     "output_type": "stream",
     "text": [
      " ship  bird  ship horse\n"
     ]
    }
   ],
   "source": [
    "def imshow(img):\n",
    "    img = img / 2 + 0.5     # unnormalize\n",
    "    npimg = img.numpy()\n",
    "    plt.imshow(np.transpose(npimg, (1, 2, 0)))\n",
    "    plt.show()\n",
    "\n",
    "\n",
    "# get some random training images\n",
    "dataiter = iter(trainloader)\n",
    "images, labels = dataiter.next()\n",
    "\n",
    "# show images\n",
    "imshow(torchvision.utils.make_grid(images))\n",
    "# print labels\n",
    "print(' '.join('%5s' % classes[labels[j]] for j in range(4)))"
   ]
  },
  {
   "cell_type": "code",
   "execution_count": 0,
   "metadata": {
    "colab": {
     "base_uri": "https://localhost:8080/",
     "height": 34
    },
    "colab_type": "code",
    "id": "TGzk2yAZm1Y8",
    "outputId": "ea40b94f-8e45-4491-9abf-53e7afb6a02e"
   },
   "outputs": [
    {
     "name": "stdout",
     "output_type": "stream",
     "text": [
      "Accuracy of the network on the 10000 test images: 69 %\n"
     ]
    }
   ],
   "source": [
    "correct = 0\n",
    "total = 0\n",
    "with torch.no_grad():\n",
    "    for data in testloader:\n",
    "        images, labels = data[0].to(device), data[1].to(device)\n",
    "        outputs = net(images)\n",
    "        _, predicted = torch.max(outputs.data, 1)\n",
    "        total += labels.size(0)\n",
    "        correct += (predicted == labels).sum().item()\n",
    "\n",
    "print('Accuracy of the network on the 10000 test images: %d %%' % (\n",
    "    100 * correct / total))\n"
   ]
  },
  {
   "cell_type": "code",
   "execution_count": 0,
   "metadata": {
    "colab": {
     "base_uri": "https://localhost:8080/",
     "height": 191
    },
    "colab_type": "code",
    "id": "ptmBv61vwxt2",
    "outputId": "b39d8d08-a5e3-40a5-e039-4984afdd154a"
   },
   "outputs": [
    {
     "name": "stdout",
     "output_type": "stream",
     "text": [
      "Accuracy of plane : 52 %\n",
      "Accuracy of   car : 65 %\n",
      "Accuracy of  bird : 51 %\n",
      "Accuracy of   cat : 46 %\n",
      "Accuracy of  deer : 53 %\n",
      "Accuracy of   dog : 20 %\n",
      "Accuracy of  frog : 49 %\n",
      "Accuracy of horse : 59 %\n",
      "Accuracy of  ship : 79 %\n",
      "Accuracy of truck : 57 %\n"
     ]
    }
   ],
   "source": [
    "class_correct = list(0. for i in range(10))\n",
    "class_total = list(0. for i in range(10))\n",
    "with torch.no_grad():\n",
    "    for data in testloader:\n",
    "        images, labels = data[0].to(device), data[1].to(device)\n",
    "        outputs = net(images)\n",
    "        _, predicted = torch.max(outputs, 1)\n",
    "        c = (predicted == labels).squeeze()\n",
    "        for i in range(4):\n",
    "            label = labels[i]\n",
    "            class_correct[label] += c[i].item()\n",
    "            class_total[label] += 1\n",
    "\n",
    "\n",
    "for i in range(10):\n",
    "    print('Accuracy of %5s : %2d %%' % (\n",
    "        classes[i], 100 * class_correct[i] / class_total[i]))"
   ]
  },
  {
   "cell_type": "code",
   "execution_count": 0,
   "metadata": {
    "colab": {},
    "colab_type": "code",
    "id": "0K7p1kRYw5LN"
   },
   "outputs": [],
   "source": []
  }
 ],
 "metadata": {
  "accelerator": "GPU",
  "colab": {
   "collapsed_sections": [],
   "name": "frame-potential.ipynb",
   "provenance": []
  },
  "kernelspec": {
   "display_name": "Python 3",
   "language": "python",
   "name": "python3"
  },
  "language_info": {
   "codemirror_mode": {
    "name": "ipython",
    "version": 3
   },
   "file_extension": ".py",
   "mimetype": "text/x-python",
   "name": "python",
   "nbconvert_exporter": "python",
   "pygments_lexer": "ipython3",
   "version": "3.7.4"
  }
 },
 "nbformat": 4,
 "nbformat_minor": 1
}
