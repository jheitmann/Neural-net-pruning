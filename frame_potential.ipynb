{
 "cells": [
  {
   "cell_type": "code",
   "execution_count": 1,
   "metadata": {
    "colab": {},
    "colab_type": "code",
    "id": "0RD6_n-QNE1H"
   },
   "outputs": [],
   "source": [
    "%matplotlib inline"
   ]
  },
  {
   "cell_type": "code",
   "execution_count": 2,
   "metadata": {
    "colab": {},
    "colab_type": "code",
    "id": "13-6rCuFNTxE"
   },
   "outputs": [],
   "source": [
    "import matplotlib.pyplot as plt\n",
    "import numpy as np\n",
    "import os\n",
    "import torch\n",
    "import torch.nn as nn\n",
    "import torchvision\n",
    "import torchvision.transforms as transforms\n",
    "import torch.optim as optim"
   ]
  },
  {
   "cell_type": "code",
   "execution_count": 3,
   "metadata": {},
   "outputs": [],
   "source": [
    "import common\n",
    "from models import LeNet_300_100, Conv2\n",
    "from experiment import Experiment"
   ]
  },
  {
   "cell_type": "code",
   "execution_count": 4,
   "metadata": {},
   "outputs": [
    {
     "data": {
      "text/plain": [
       "<torch._C.Generator at 0x7f7ff146a5d0>"
      ]
     },
     "execution_count": 4,
     "metadata": {},
     "output_type": "execute_result"
    }
   ],
   "source": [
    "np.random.seed(common.SEED)\n",
    "torch.manual_seed(common.SEED)"
   ]
  },
  {
   "cell_type": "code",
   "execution_count": 5,
   "metadata": {},
   "outputs": [],
   "source": [
    "def save_plot():\n",
    "    pass"
   ]
  },
  {
   "cell_type": "markdown",
   "metadata": {
    "colab_type": "text",
    "id": "9jgispLCfQqo"
   },
   "source": [
    "## MNIST / Lenet 300-100-10"
   ]
  },
  {
   "cell_type": "code",
   "execution_count": 6,
   "metadata": {},
   "outputs": [
    {
     "data": {
      "text/plain": [
       "\"\\ntransform = transforms.Compose(\\n    [transforms.ToTensor(),\\n     transforms.Normalize((0.5,), (0.5,))])\\n\\ntrainset = torchvision.datasets.MNIST(root='./data', train=True,\\n                                        download=True, transform=transform)\\ntrainloader = torch.utils.data.DataLoader(trainset, batch_size=64,\\n                                          shuffle=True, num_workers=2)\\n\\ntestset = torchvision.datasets.MNIST(root='./data', train=False,\\n                                       download=True, transform=transform)\\ntestloader = torch.utils.data.DataLoader(testset, batch_size=64,\\n                                         shuffle=False, num_workers=2)\\n\""
      ]
     },
     "execution_count": 6,
     "metadata": {},
     "output_type": "execute_result"
    }
   ],
   "source": [
    "\"\"\"\n",
    "transform = transforms.Compose(\n",
    "    [transforms.ToTensor(),\n",
    "     transforms.Normalize((0.5,), (0.5,))])\n",
    "\n",
    "trainset = torchvision.datasets.MNIST(root='./data', train=True,\n",
    "                                        download=True, transform=transform)\n",
    "trainloader = torch.utils.data.DataLoader(trainset, batch_size=64,\n",
    "                                          shuffle=True, num_workers=2)\n",
    "\n",
    "testset = torchvision.datasets.MNIST(root='./data', train=False,\n",
    "                                       download=True, transform=transform)\n",
    "testloader = torch.utils.data.DataLoader(testset, batch_size=64,\n",
    "                                         shuffle=False, num_workers=2)\n",
    "\"\"\""
   ]
  },
  {
   "cell_type": "code",
   "execution_count": 7,
   "metadata": {},
   "outputs": [],
   "source": [
    "train_batch_size = 64\n",
    "test_batch_size = 1000"
   ]
  },
  {
   "cell_type": "code",
   "execution_count": 8,
   "metadata": {
    "colab": {},
    "colab_type": "code",
    "id": "kSyjXtn_NYgk"
   },
   "outputs": [],
   "source": [
    "transform = transforms.Compose(\n",
    "    [transforms.ToTensor(),\n",
    "     transforms.Normalize((0.1307,), (0.3081,))])\n",
    "\n",
    "trainset = torchvision.datasets.MNIST(root='./data', train=True, \n",
    "                          download=True, transform=transform)\n",
    "\n",
    "testset = torchvision.datasets.MNIST(root='./data', train=False, \n",
    "                         download=True, transform=transform)\n",
    "\n",
    "kwargs = {'num_workers': 1, 'pin_memory': True} if torch.cuda.is_available() else {}  # necessary?\n",
    "\n",
    "trainloader = torch.utils.data.DataLoader(trainset, batch_size=train_batch_size,\n",
    "                                           shuffle=True, **kwargs)\n",
    "testloader = torch.utils.data.DataLoader(testset, batch_size=test_batch_size,\n",
    "                                          shuffle=True, **kwargs)\n",
    "\n",
    "\n",
    "classes = ('0', '1', '2', '3', '4', '5', '6', '7', '8', '9')"
   ]
  },
  {
   "cell_type": "code",
   "execution_count": 9,
   "metadata": {},
   "outputs": [],
   "source": [
    "epochs = 1\n",
    "lr = 0.003\n",
    "momentum = 0.9"
   ]
  },
  {
   "cell_type": "code",
   "execution_count": 10,
   "metadata": {},
   "outputs": [],
   "source": [
    "model = LeNet_300_100()\n",
    "e = Experiment(trainloader, testloader, model)\n",
    "\n",
    "criterion = nn.CrossEntropyLoss()\n",
    "optimizer = optim.SGD(model.parameters(), lr=lr, momentum=momentum)\n",
    "monitored = ['fc1', 'fc2', 'fc3']"
   ]
  },
  {
   "cell_type": "code",
   "execution_count": 11,
   "metadata": {
    "scrolled": true
   },
   "outputs": [
    {
     "name": "stdout",
     "output_type": "stream",
     "text": [
      "\n",
      "Test set: Average loss: 2.3126, Accuracy:    981/ 10000 (10%)\n",
      "\n",
      "Train Epoch:   1 [     0/ 60000 (0%)]\tLoss: 2.297517\n",
      "Train Epoch:   1 [  6400/ 60000 (11%)]\tLoss: 0.776636\n",
      "Train Epoch:   1 [ 12800/ 60000 (21%)]\tLoss: 0.371301\n",
      "Train Epoch:   1 [ 19200/ 60000 (32%)]\tLoss: 0.302402\n",
      "Train Epoch:   1 [ 25600/ 60000 (43%)]\tLoss: 0.183424\n",
      "Train Epoch:   1 [ 32000/ 60000 (53%)]\tLoss: 0.268265\n",
      "Train Epoch:   1 [ 38400/ 60000 (64%)]\tLoss: 0.229609\n",
      "Train Epoch:   1 [ 44800/ 60000 (75%)]\tLoss: 0.292853\n",
      "Train Epoch:   1 [ 51200/ 60000 (85%)]\tLoss: 0.223220\n",
      "Train Epoch:   1 [ 57600/ 60000 (96%)]\tLoss: 0.225943\n",
      "\n",
      "Test set: Average loss: 0.2305, Accuracy:   9294/ 10000 (93%)\n",
      "\n",
      "Saved trained model to: out/models/LeNet_300_100_30-09-2019_13:26:17\n",
      "Saved validation accuracies to: out/metrics/LeNet_300_100_acc_1_30-09-2019_13:26:17.npy\n",
      "Saved frame potentials to: out/metrics/LeNet_300_100_fp_1_30-09-2019_13:26:17.npy\n"
     ]
    }
   ],
   "source": [
    "test_accuracies, frame_potentials = e.fit(epochs, criterion, optimizer, monitored=monitored, save_results=True)"
   ]
  },
  {
   "cell_type": "code",
   "execution_count": 10,
   "metadata": {},
   "outputs": [
    {
     "data": {
      "image/png": "[encoded data removed]",
      "text/plain": [
       "<Figure size 432x288 with 1 Axes>"
      ]
     },
     "metadata": {
      "needs_background": "light"
     },
     "output_type": "display_data"
    }
   ],
   "source": [
    "plt.plot(test_accuracies)\n",
    "plt.title('Testset accuracy')\n",
    "plt.xlabel('Epoch')\n",
    "plt.ylabel('Accuracy (%)')\n",
    "plt.show()"
   ]
  },
  {
   "cell_type": "code",
   "execution_count": 13,
   "metadata": {},
   "outputs": [
    {
     "data": {
      "text/plain": [
       "[Text(0, 0.5, 'FP'), Text(0.5, 0, 'epoch')]"
      ]
     },
     "execution_count": 13,
     "metadata": {},
     "output_type": "execute_result"
    },
    {
     "data": {
      "image/png": "[encoded data removed]",
      "text/plain": [
       "<Figure size 1440x360 with 3 Axes>"
      ]
     },
     "metadata": {
      "needs_background": "light"
     },
     "output_type": "display_data"
    }
   ],
   "source": [
    "fig, ((ax1, ax2, ax3)) = plt.subplots(1, 3, sharex=True, figsize=(20,5))\n",
    "ax1.plot(frame_potentials['fc1'])\n",
    "ax1.set_title('Frame potential of first layer')\n",
    "ax1.set(xlabel='epoch', ylabel='FP')\n",
    "ax2.plot(frame_potentials['fc2'])\n",
    "ax2.set_title('Frame potential of second layer')\n",
    "ax2.set(xlabel='epoch', ylabel='FP')\n",
    "ax3.plot(frame_potentials['fc3'])\n",
    "ax3.set_title('Frame potential of third layer')\n",
    "ax3.set(xlabel='epoch', ylabel='FP')"
   ]
  },
  {
   "cell_type": "code",
   "execution_count": 25,
   "metadata": {},
   "outputs": [],
   "source": [
    "model = LeNet_300_100()\n",
    "model_name = \"LeNet_300_100_24-09-2019_17:46:38\"\n",
    "model.load_state_dict(torch.load(os.path.join(common.MODEL_PATH, model_name)))\n",
    "\n",
    "e = Experiment(trainloader, testloader, model)\n",
    "\n",
    "criterion = nn.CrossEntropyLoss()\n",
    "monitored = ['fc1', 'fc2', 'fc3']"
   ]
  },
  {
   "cell_type": "code",
   "execution_count": 26,
   "metadata": {},
   "outputs": [],
   "source": [
    "layers = ['fc1']\n",
    "pruning_iters = 65"
   ]
  },
  {
   "cell_type": "code",
   "execution_count": 12,
   "metadata": {
    "scrolled": true
   },
   "outputs": [
    {
     "name": "stdout",
     "output_type": "stream",
     "text": [
      "\n",
      "Test set: Average loss: 0.0686, Accuracy:   9822/ 10000 (98%)\n",
      "\n",
      "\n",
      "Test set: Average loss: 0.0686, Accuracy:   9822/ 10000 (98%)\n",
      "\n",
      "\n",
      "Test set: Average loss: 0.0686, Accuracy:   9822/ 10000 (98%)\n",
      "\n",
      "\n",
      "Test set: Average loss: 0.0685, Accuracy:   9819/ 10000 (98%)\n",
      "\n",
      "\n",
      "Test set: Average loss: 0.0685, Accuracy:   9820/ 10000 (98%)\n",
      "\n",
      "\n",
      "Test set: Average loss: 0.0685, Accuracy:   9820/ 10000 (98%)\n",
      "\n",
      "\n",
      "Test set: Average loss: 0.0685, Accuracy:   9820/ 10000 (98%)\n",
      "\n",
      "\n",
      "Test set: Average loss: 0.0685, Accuracy:   9818/ 10000 (98%)\n",
      "\n",
      "\n",
      "Test set: Average loss: 0.0685, Accuracy:   9818/ 10000 (98%)\n",
      "\n",
      "\n",
      "Test set: Average loss: 0.0685, Accuracy:   9818/ 10000 (98%)\n",
      "\n",
      "\n",
      "Test set: Average loss: 0.0685, Accuracy:   9822/ 10000 (98%)\n",
      "\n",
      "Pruning round: [ 10/200 (5%)]\n",
      "\n",
      "Test set: Average loss: 0.0684, Accuracy:   9822/ 10000 (98%)\n",
      "\n",
      "\n",
      "Test set: Average loss: 0.0683, Accuracy:   9820/ 10000 (98%)\n",
      "\n",
      "\n",
      "Test set: Average loss: 0.0684, Accuracy:   9819/ 10000 (98%)\n",
      "\n",
      "\n",
      "Test set: Average loss: 0.0683, Accuracy:   9819/ 10000 (98%)\n",
      "\n",
      "\n",
      "Test set: Average loss: 0.0682, Accuracy:   9819/ 10000 (98%)\n",
      "\n",
      "\n",
      "Test set: Average loss: 0.0684, Accuracy:   9818/ 10000 (98%)\n",
      "\n",
      "\n",
      "Test set: Average loss: 0.0682, Accuracy:   9819/ 10000 (98%)\n",
      "\n",
      "\n",
      "Test set: Average loss: 0.0681, Accuracy:   9821/ 10000 (98%)\n",
      "\n",
      "\n",
      "Test set: Average loss: 0.0680, Accuracy:   9819/ 10000 (98%)\n",
      "\n",
      "\n",
      "Test set: Average loss: 0.0682, Accuracy:   9819/ 10000 (98%)\n",
      "\n",
      "Pruning round: [ 20/200 (10%)]\n",
      "\n",
      "Test set: Average loss: 0.0682, Accuracy:   9820/ 10000 (98%)\n",
      "\n",
      "\n",
      "Test set: Average loss: 0.0682, Accuracy:   9820/ 10000 (98%)\n",
      "\n",
      "\n",
      "Test set: Average loss: 0.0680, Accuracy:   9819/ 10000 (98%)\n",
      "\n",
      "\n",
      "Test set: Average loss: 0.0685, Accuracy:   9822/ 10000 (98%)\n",
      "\n",
      "\n",
      "Test set: Average loss: 0.0686, Accuracy:   9820/ 10000 (98%)\n",
      "\n",
      "\n",
      "Test set: Average loss: 0.0684, Accuracy:   9821/ 10000 (98%)\n",
      "\n",
      "\n",
      "Test set: Average loss: 0.0686, Accuracy:   9820/ 10000 (98%)\n",
      "\n",
      "\n",
      "Test set: Average loss: 0.0689, Accuracy:   9821/ 10000 (98%)\n",
      "\n",
      "\n",
      "Test set: Average loss: 0.0692, Accuracy:   9821/ 10000 (98%)\n",
      "\n",
      "\n",
      "Test set: Average loss: 0.0695, Accuracy:   9821/ 10000 (98%)\n",
      "\n",
      "Pruning round: [ 30/200 (15%)]\n",
      "\n",
      "Test set: Average loss: 0.0701, Accuracy:   9822/ 10000 (98%)\n",
      "\n",
      "\n",
      "Test set: Average loss: 0.0700, Accuracy:   9824/ 10000 (98%)\n",
      "\n",
      "\n",
      "Test set: Average loss: 0.0701, Accuracy:   9822/ 10000 (98%)\n",
      "\n",
      "\n",
      "Test set: Average loss: 0.0705, Accuracy:   9820/ 10000 (98%)\n",
      "\n",
      "\n",
      "Test set: Average loss: 0.0710, Accuracy:   9822/ 10000 (98%)\n",
      "\n",
      "\n",
      "Test set: Average loss: 0.0711, Accuracy:   9820/ 10000 (98%)\n",
      "\n",
      "\n",
      "Test set: Average loss: 0.0717, Accuracy:   9819/ 10000 (98%)\n",
      "\n",
      "\n",
      "Test set: Average loss: 0.0717, Accuracy:   9818/ 10000 (98%)\n",
      "\n",
      "\n",
      "Test set: Average loss: 0.0717, Accuracy:   9816/ 10000 (98%)\n",
      "\n",
      "\n",
      "Test set: Average loss: 0.0718, Accuracy:   9815/ 10000 (98%)\n",
      "\n",
      "Pruning round: [ 40/200 (20%)]\n",
      "\n",
      "Test set: Average loss: 0.0719, Accuracy:   9821/ 10000 (98%)\n",
      "\n",
      "\n",
      "Test set: Average loss: 0.0720, Accuracy:   9821/ 10000 (98%)\n",
      "\n",
      "\n",
      "Test set: Average loss: 0.0718, Accuracy:   9819/ 10000 (98%)\n",
      "\n",
      "\n",
      "Test set: Average loss: 0.0727, Accuracy:   9818/ 10000 (98%)\n",
      "\n",
      "\n",
      "Test set: Average loss: 0.0730, Accuracy:   9817/ 10000 (98%)\n",
      "\n",
      "\n",
      "Test set: Average loss: 0.0731, Accuracy:   9818/ 10000 (98%)\n",
      "\n",
      "\n",
      "Test set: Average loss: 0.0740, Accuracy:   9810/ 10000 (98%)\n",
      "\n",
      "\n",
      "Test set: Average loss: 0.0742, Accuracy:   9810/ 10000 (98%)\n",
      "\n",
      "\n",
      "Test set: Average loss: 0.0739, Accuracy:   9812/ 10000 (98%)\n",
      "\n",
      "\n",
      "Test set: Average loss: 0.0734, Accuracy:   9807/ 10000 (98%)\n",
      "\n",
      "Pruning round: [ 50/200 (25%)]\n",
      "\n",
      "Test set: Average loss: 0.0762, Accuracy:   9796/ 10000 (98%)\n",
      "\n",
      "\n",
      "Test set: Average loss: 0.0773, Accuracy:   9795/ 10000 (98%)\n",
      "\n",
      "\n",
      "Test set: Average loss: 0.0787, Accuracy:   9788/ 10000 (98%)\n",
      "\n",
      "\n",
      "Test set: Average loss: 0.0780, Accuracy:   9789/ 10000 (98%)\n",
      "\n",
      "\n",
      "Test set: Average loss: 0.0784, Accuracy:   9788/ 10000 (98%)\n",
      "\n",
      "\n",
      "Test set: Average loss: 0.0796, Accuracy:   9784/ 10000 (98%)\n",
      "\n",
      "\n",
      "Test set: Average loss: 0.0821, Accuracy:   9779/ 10000 (98%)\n",
      "\n",
      "\n",
      "Test set: Average loss: 0.0854, Accuracy:   9773/ 10000 (98%)\n",
      "\n",
      "\n",
      "Test set: Average loss: 0.0859, Accuracy:   9773/ 10000 (98%)\n",
      "\n",
      "\n",
      "Test set: Average loss: 0.0862, Accuracy:   9773/ 10000 (98%)\n",
      "\n",
      "Pruning round: [ 60/200 (30%)]\n",
      "\n",
      "Test set: Average loss: 0.0879, Accuracy:   9772/ 10000 (98%)\n",
      "\n",
      "\n",
      "Test set: Average loss: 0.0893, Accuracy:   9765/ 10000 (98%)\n",
      "\n",
      "\n",
      "Test set: Average loss: 0.0890, Accuracy:   9764/ 10000 (98%)\n",
      "\n",
      "\n",
      "Test set: Average loss: 0.0892, Accuracy:   9761/ 10000 (98%)\n",
      "\n",
      "\n",
      "Test set: Average loss: 0.1006, Accuracy:   9731/ 10000 (97%)\n",
      "\n",
      "\n",
      "Test set: Average loss: 0.1003, Accuracy:   9734/ 10000 (97%)\n",
      "\n",
      "\n",
      "Test set: Average loss: 0.1102, Accuracy:   9701/ 10000 (97%)\n",
      "\n",
      "\n",
      "Test set: Average loss: 0.1229, Accuracy:   9669/ 10000 (97%)\n",
      "\n",
      "\n",
      "Test set: Average loss: 0.1264, Accuracy:   9663/ 10000 (97%)\n",
      "\n",
      "\n",
      "Test set: Average loss: 0.1305, Accuracy:   9656/ 10000 (97%)\n",
      "\n",
      "Pruning round: [ 70/200 (35%)]\n",
      "\n",
      "Test set: Average loss: 0.1304, Accuracy:   9655/ 10000 (97%)\n",
      "\n",
      "\n",
      "Test set: Average loss: 0.1343, Accuracy:   9650/ 10000 (96%)\n",
      "\n",
      "\n",
      "Test set: Average loss: 0.1398, Accuracy:   9638/ 10000 (96%)\n",
      "\n",
      "\n",
      "Test set: Average loss: 0.1495, Accuracy:   9612/ 10000 (96%)\n",
      "\n",
      "\n",
      "Test set: Average loss: 0.1551, Accuracy:   9596/ 10000 (96%)\n",
      "\n",
      "\n",
      "Test set: Average loss: 0.1604, Accuracy:   9582/ 10000 (96%)\n",
      "\n",
      "\n",
      "Test set: Average loss: 0.1628, Accuracy:   9578/ 10000 (96%)\n",
      "\n",
      "\n",
      "Test set: Average loss: 0.1720, Accuracy:   9554/ 10000 (96%)\n",
      "\n",
      "\n",
      "Test set: Average loss: 0.1717, Accuracy:   9547/ 10000 (95%)\n",
      "\n",
      "\n",
      "Test set: Average loss: 0.1757, Accuracy:   9535/ 10000 (95%)\n",
      "\n",
      "Pruning round: [ 80/200 (40%)]\n",
      "\n",
      "Test set: Average loss: 0.1795, Accuracy:   9528/ 10000 (95%)\n",
      "\n",
      "\n",
      "Test set: Average loss: 0.1794, Accuracy:   9526/ 10000 (95%)\n",
      "\n",
      "\n",
      "Test set: Average loss: 0.1876, Accuracy:   9497/ 10000 (95%)\n",
      "\n",
      "\n",
      "Test set: Average loss: 0.1855, Accuracy:   9504/ 10000 (95%)\n",
      "\n",
      "\n",
      "Test set: Average loss: 0.1876, Accuracy:   9503/ 10000 (95%)\n",
      "\n",
      "\n",
      "Test set: Average loss: 0.2103, Accuracy:   9441/ 10000 (94%)\n",
      "\n",
      "\n",
      "Test set: Average loss: 0.2061, Accuracy:   9452/ 10000 (95%)\n",
      "\n",
      "\n",
      "Test set: Average loss: 0.2044, Accuracy:   9455/ 10000 (95%)\n",
      "\n",
      "\n",
      "Test set: Average loss: 0.2019, Accuracy:   9465/ 10000 (95%)\n",
      "\n",
      "\n",
      "Test set: Average loss: 0.1987, Accuracy:   9476/ 10000 (95%)\n",
      "\n",
      "Pruning round: [ 90/200 (45%)]\n",
      "\n",
      "Test set: Average loss: 0.2048, Accuracy:   9462/ 10000 (95%)\n",
      "\n",
      "\n",
      "Test set: Average loss: 0.2052, Accuracy:   9458/ 10000 (95%)\n",
      "\n",
      "\n",
      "Test set: Average loss: 0.2042, Accuracy:   9460/ 10000 (95%)\n",
      "\n",
      "\n",
      "Test set: Average loss: 0.2035, Accuracy:   9461/ 10000 (95%)\n",
      "\n",
      "\n",
      "Test set: Average loss: 0.2005, Accuracy:   9465/ 10000 (95%)\n",
      "\n",
      "\n",
      "Test set: Average loss: 0.2016, Accuracy:   9464/ 10000 (95%)\n",
      "\n",
      "\n",
      "Test set: Average loss: 0.2022, Accuracy:   9459/ 10000 (95%)\n",
      "\n",
      "\n",
      "Test set: Average loss: 0.2150, Accuracy:   9438/ 10000 (94%)\n",
      "\n",
      "\n",
      "Test set: Average loss: 0.2311, Accuracy:   9399/ 10000 (94%)\n",
      "\n",
      "\n",
      "Test set: Average loss: 0.2440, Accuracy:   9368/ 10000 (94%)\n",
      "\n",
      "Pruning round: [100/200 (50%)]\n",
      "\n",
      "Test set: Average loss: 0.2755, Accuracy:   9302/ 10000 (93%)\n",
      "\n",
      "\n",
      "Test set: Average loss: 0.2871, Accuracy:   9278/ 10000 (93%)\n",
      "\n",
      "\n",
      "Test set: Average loss: 0.3052, Accuracy:   9234/ 10000 (92%)\n",
      "\n",
      "\n",
      "Test set: Average loss: 0.3053, Accuracy:   9227/ 10000 (92%)\n",
      "\n",
      "\n",
      "Test set: Average loss: 0.2965, Accuracy:   9248/ 10000 (92%)\n",
      "\n",
      "\n",
      "Test set: Average loss: 0.3056, Accuracy:   9221/ 10000 (92%)\n",
      "\n",
      "\n",
      "Test set: Average loss: 0.3338, Accuracy:   9162/ 10000 (92%)\n",
      "\n",
      "\n",
      "Test set: Average loss: 0.3476, Accuracy:   9127/ 10000 (91%)\n",
      "\n",
      "\n",
      "Test set: Average loss: 0.3488, Accuracy:   9122/ 10000 (91%)\n",
      "\n",
      "\n",
      "Test set: Average loss: 0.3805, Accuracy:   9053/ 10000 (91%)\n",
      "\n",
      "Pruning round: [110/200 (55%)]\n",
      "\n",
      "Test set: Average loss: 0.3873, Accuracy:   9042/ 10000 (90%)\n",
      "\n",
      "\n",
      "Test set: Average loss: 0.3800, Accuracy:   9059/ 10000 (91%)\n",
      "\n",
      "\n",
      "Test set: Average loss: 0.3759, Accuracy:   9079/ 10000 (91%)\n",
      "\n",
      "\n",
      "Test set: Average loss: 0.3844, Accuracy:   9043/ 10000 (90%)\n",
      "\n",
      "\n",
      "Test set: Average loss: 0.3832, Accuracy:   9045/ 10000 (90%)\n",
      "\n",
      "\n",
      "Test set: Average loss: 0.3732, Accuracy:   9061/ 10000 (91%)\n",
      "\n",
      "\n",
      "Test set: Average loss: 0.3747, Accuracy:   9053/ 10000 (91%)\n",
      "\n",
      "\n",
      "Test set: Average loss: 0.3396, Accuracy:   9110/ 10000 (91%)\n",
      "\n",
      "\n",
      "Test set: Average loss: 0.4293, Accuracy:   8924/ 10000 (89%)\n",
      "\n",
      "\n",
      "Test set: Average loss: 0.4598, Accuracy:   8880/ 10000 (89%)\n",
      "\n",
      "Pruning round: [120/200 (60%)]\n",
      "\n",
      "Test set: Average loss: 0.4936, Accuracy:   8801/ 10000 (88%)\n",
      "\n",
      "\n",
      "Test set: Average loss: 0.4863, Accuracy:   8806/ 10000 (88%)\n",
      "\n"
     ]
    },
    {
     "name": "stdout",
     "output_type": "stream",
     "text": [
      "\n",
      "Test set: Average loss: 0.4840, Accuracy:   8823/ 10000 (88%)\n",
      "\n",
      "\n",
      "Test set: Average loss: 0.4751, Accuracy:   8843/ 10000 (88%)\n",
      "\n",
      "\n",
      "Test set: Average loss: 0.4756, Accuracy:   8839/ 10000 (88%)\n",
      "\n",
      "\n",
      "Test set: Average loss: 0.5045, Accuracy:   8767/ 10000 (88%)\n",
      "\n",
      "\n",
      "Test set: Average loss: 0.5366, Accuracy:   8720/ 10000 (87%)\n",
      "\n",
      "\n",
      "Test set: Average loss: 0.5188, Accuracy:   8741/ 10000 (87%)\n",
      "\n",
      "\n",
      "Test set: Average loss: 0.5186, Accuracy:   8741/ 10000 (87%)\n",
      "\n",
      "\n",
      "Test set: Average loss: 0.5177, Accuracy:   8735/ 10000 (87%)\n",
      "\n",
      "Pruning round: [130/200 (65%)]\n",
      "\n",
      "Test set: Average loss: 0.5127, Accuracy:   8756/ 10000 (88%)\n",
      "\n",
      "\n",
      "Test set: Average loss: 0.5140, Accuracy:   8747/ 10000 (87%)\n",
      "\n",
      "\n",
      "Test set: Average loss: 0.5201, Accuracy:   8734/ 10000 (87%)\n",
      "\n",
      "\n",
      "Test set: Average loss: 0.5581, Accuracy:   8629/ 10000 (86%)\n",
      "\n",
      "\n",
      "Test set: Average loss: 0.5572, Accuracy:   8638/ 10000 (86%)\n",
      "\n",
      "\n",
      "Test set: Average loss: 0.5652, Accuracy:   8619/ 10000 (86%)\n",
      "\n",
      "\n",
      "Test set: Average loss: 0.5400, Accuracy:   8665/ 10000 (87%)\n",
      "\n",
      "\n",
      "Test set: Average loss: 0.5583, Accuracy:   8631/ 10000 (86%)\n",
      "\n",
      "\n",
      "Test set: Average loss: 0.5898, Accuracy:   8568/ 10000 (86%)\n",
      "\n",
      "\n",
      "Test set: Average loss: 0.5841, Accuracy:   8575/ 10000 (86%)\n",
      "\n",
      "Pruning round: [140/200 (70%)]\n",
      "\n",
      "Test set: Average loss: 0.5757, Accuracy:   8608/ 10000 (86%)\n",
      "\n",
      "\n",
      "Test set: Average loss: 0.5613, Accuracy:   8644/ 10000 (86%)\n",
      "\n",
      "\n",
      "Test set: Average loss: 0.5998, Accuracy:   8553/ 10000 (86%)\n",
      "\n",
      "\n",
      "Test set: Average loss: 0.6349, Accuracy:   8451/ 10000 (85%)\n",
      "\n",
      "\n",
      "Test set: Average loss: 0.6386, Accuracy:   8430/ 10000 (84%)\n",
      "\n",
      "\n",
      "Test set: Average loss: 0.6340, Accuracy:   8436/ 10000 (84%)\n",
      "\n",
      "\n",
      "Test set: Average loss: 0.6785, Accuracy:   8343/ 10000 (83%)\n",
      "\n",
      "\n",
      "Test set: Average loss: 0.7095, Accuracy:   8312/ 10000 (83%)\n",
      "\n",
      "\n",
      "Test set: Average loss: 0.7026, Accuracy:   8336/ 10000 (83%)\n",
      "\n",
      "\n",
      "Test set: Average loss: 0.7026, Accuracy:   8329/ 10000 (83%)\n",
      "\n",
      "Pruning round: [150/200 (75%)]\n",
      "\n",
      "Test set: Average loss: 0.7122, Accuracy:   8306/ 10000 (83%)\n",
      "\n",
      "\n",
      "Test set: Average loss: 0.7167, Accuracy:   8288/ 10000 (83%)\n",
      "\n",
      "\n",
      "Test set: Average loss: 0.7124, Accuracy:   8302/ 10000 (83%)\n",
      "\n",
      "\n",
      "Test set: Average loss: 0.7036, Accuracy:   8295/ 10000 (83%)\n",
      "\n",
      "\n",
      "Test set: Average loss: 0.7407, Accuracy:   8241/ 10000 (82%)\n",
      "\n",
      "\n",
      "Test set: Average loss: 0.7542, Accuracy:   8173/ 10000 (82%)\n",
      "\n",
      "\n",
      "Test set: Average loss: 0.7415, Accuracy:   8202/ 10000 (82%)\n",
      "\n",
      "\n",
      "Test set: Average loss: 0.7822, Accuracy:   8056/ 10000 (81%)\n",
      "\n",
      "\n",
      "Test set: Average loss: 0.8366, Accuracy:   7868/ 10000 (79%)\n",
      "\n",
      "\n",
      "Test set: Average loss: 0.9561, Accuracy:   7635/ 10000 (76%)\n",
      "\n",
      "Pruning round: [160/200 (80%)]\n",
      "\n",
      "Test set: Average loss: 0.9302, Accuracy:   7648/ 10000 (76%)\n",
      "\n",
      "\n",
      "Test set: Average loss: 0.9273, Accuracy:   7652/ 10000 (77%)\n",
      "\n",
      "\n",
      "Test set: Average loss: 0.9074, Accuracy:   7700/ 10000 (77%)\n",
      "\n",
      "\n",
      "Test set: Average loss: 0.8422, Accuracy:   7829/ 10000 (78%)\n",
      "\n",
      "\n",
      "Test set: Average loss: 0.8926, Accuracy:   7721/ 10000 (77%)\n",
      "\n",
      "\n",
      "Test set: Average loss: 0.9093, Accuracy:   7686/ 10000 (77%)\n",
      "\n",
      "\n",
      "Test set: Average loss: 0.9763, Accuracy:   7609/ 10000 (76%)\n",
      "\n",
      "\n",
      "Test set: Average loss: 1.0808, Accuracy:   7512/ 10000 (75%)\n",
      "\n",
      "\n",
      "Test set: Average loss: 1.0821, Accuracy:   7449/ 10000 (74%)\n",
      "\n",
      "\n",
      "Test set: Average loss: 1.1593, Accuracy:   7377/ 10000 (74%)\n",
      "\n",
      "Pruning round: [170/200 (85%)]\n",
      "\n",
      "Test set: Average loss: 1.2499, Accuracy:   7211/ 10000 (72%)\n",
      "\n",
      "\n",
      "Test set: Average loss: 1.3980, Accuracy:   6725/ 10000 (67%)\n",
      "\n",
      "\n",
      "Test set: Average loss: 1.4763, Accuracy:   6529/ 10000 (65%)\n",
      "\n",
      "\n",
      "Test set: Average loss: 1.4531, Accuracy:   6504/ 10000 (65%)\n",
      "\n",
      "\n",
      "Test set: Average loss: 1.4459, Accuracy:   6470/ 10000 (65%)\n",
      "\n",
      "\n",
      "Test set: Average loss: 1.4688, Accuracy:   6406/ 10000 (64%)\n",
      "\n",
      "\n",
      "Test set: Average loss: 1.5056, Accuracy:   6366/ 10000 (64%)\n",
      "\n",
      "\n",
      "Test set: Average loss: 1.6393, Accuracy:   6291/ 10000 (63%)\n",
      "\n",
      "\n",
      "Test set: Average loss: 1.7265, Accuracy:   6120/ 10000 (61%)\n",
      "\n",
      "\n",
      "Test set: Average loss: 1.8674, Accuracy:   5815/ 10000 (58%)\n",
      "\n",
      "Pruning round: [180/200 (90%)]\n",
      "\n",
      "Test set: Average loss: 1.8854, Accuracy:   5768/ 10000 (58%)\n",
      "\n",
      "\n",
      "Test set: Average loss: 1.8842, Accuracy:   5754/ 10000 (58%)\n",
      "\n",
      "\n",
      "Test set: Average loss: 1.9587, Accuracy:   5685/ 10000 (57%)\n",
      "\n",
      "\n",
      "Test set: Average loss: 1.9762, Accuracy:   5609/ 10000 (56%)\n",
      "\n",
      "\n",
      "Test set: Average loss: 1.9662, Accuracy:   5633/ 10000 (56%)\n",
      "\n",
      "\n",
      "Test set: Average loss: 2.1715, Accuracy:   5458/ 10000 (55%)\n",
      "\n",
      "\n",
      "Test set: Average loss: 2.2345, Accuracy:   5333/ 10000 (53%)\n",
      "\n",
      "\n",
      "Test set: Average loss: 2.2290, Accuracy:   5378/ 10000 (54%)\n",
      "\n",
      "\n",
      "Test set: Average loss: 2.3093, Accuracy:   5354/ 10000 (54%)\n",
      "\n",
      "\n",
      "Test set: Average loss: 2.4026, Accuracy:   5262/ 10000 (53%)\n",
      "\n",
      "Pruning round: [190/200 (95%)]\n",
      "\n",
      "Test set: Average loss: 2.3999, Accuracy:   5292/ 10000 (53%)\n",
      "\n",
      "\n",
      "Test set: Average loss: 2.4159, Accuracy:   5246/ 10000 (52%)\n",
      "\n",
      "\n",
      "Test set: Average loss: 2.4217, Accuracy:   5159/ 10000 (52%)\n",
      "\n",
      "\n",
      "Test set: Average loss: 2.4945, Accuracy:   5136/ 10000 (51%)\n",
      "\n",
      "\n",
      "Test set: Average loss: 2.5499, Accuracy:   5065/ 10000 (51%)\n",
      "\n",
      "\n",
      "Test set: Average loss: 2.6766, Accuracy:   4818/ 10000 (48%)\n",
      "\n",
      "\n",
      "Test set: Average loss: 2.7964, Accuracy:   4753/ 10000 (48%)\n",
      "\n",
      "\n",
      "Test set: Average loss: 2.7371, Accuracy:   4761/ 10000 (48%)\n",
      "\n",
      "\n",
      "Test set: Average loss: 2.7634, Accuracy:   4724/ 10000 (47%)\n",
      "\n",
      "\n",
      "Test set: Average loss: 2.8343, Accuracy:   4634/ 10000 (46%)\n",
      "\n",
      "Pruning round: [200/200 (100%)]\n"
     ]
    }
   ],
   "source": [
    "test_accuracies, frame_potentials = e.prune_and_test(criterion, layers, pruning_iters, prune_on_fp=True)"
   ]
  },
  {
   "cell_type": "code",
   "execution_count": 13,
   "metadata": {},
   "outputs": [
    {
     "data": {
      "image/png": "[encoded data removed]",
      "text/plain": [
       "<Figure size 432x288 with 1 Axes>"
      ]
     },
     "metadata": {
      "needs_background": "light"
     },
     "output_type": "display_data"
    }
   ],
   "source": [
    "plt.plot(test_accuracies)\n",
    "plt.title('Accuracy after pruning to increase FP')\n",
    "plt.xlabel('Pruned neurons')\n",
    "plt.ylabel('Accuracy (%)')\n",
    "plt.show()"
   ]
  },
  {
   "cell_type": "code",
   "execution_count": 14,
   "metadata": {},
   "outputs": [
    {
     "data": {
      "image/png": "[encoded data removed]",
      "text/plain": [
       "<Figure size 432x288 with 1 Axes>"
      ]
     },
     "metadata": {
      "needs_background": "light"
     },
     "output_type": "display_data"
    }
   ],
   "source": [
    "plt.plot(frame_potentials['fc1'])\n",
    "plt.title('Frame potential after pruning to increase FP')\n",
    "plt.xlabel('Pruned neurons')\n",
    "plt.ylabel('Frame potential')\n",
    "plt.show()"
   ]
  },
  {
   "cell_type": "code",
   "execution_count": 27,
   "metadata": {},
   "outputs": [
    {
     "name": "stdout",
     "output_type": "stream",
     "text": [
      "\n",
      "Test set: Average loss: 0.0686, Accuracy:   9822/ 10000 (98%)\n",
      "\n",
      "\n",
      "Test set: Average loss: 0.0748, Accuracy:   9803/ 10000 (98%)\n",
      "\n",
      "\n",
      "Test set: Average loss: 0.0758, Accuracy:   9798/ 10000 (98%)\n",
      "\n",
      "\n",
      "Test set: Average loss: 0.0763, Accuracy:   9782/ 10000 (98%)\n",
      "\n",
      "\n",
      "Test set: Average loss: 0.0861, Accuracy:   9755/ 10000 (98%)\n",
      "\n",
      "\n",
      "Test set: Average loss: 0.0880, Accuracy:   9755/ 10000 (98%)\n",
      "\n",
      "\n",
      "Test set: Average loss: 0.0887, Accuracy:   9752/ 10000 (98%)\n",
      "\n",
      "\n",
      "Test set: Average loss: 0.0927, Accuracy:   9742/ 10000 (97%)\n",
      "\n",
      "\n",
      "Test set: Average loss: 0.1067, Accuracy:   9718/ 10000 (97%)\n",
      "\n",
      "\n",
      "Test set: Average loss: 0.1212, Accuracy:   9677/ 10000 (97%)\n",
      "\n",
      "\n",
      "Test set: Average loss: 0.1382, Accuracy:   9634/ 10000 (96%)\n",
      "\n",
      "Pruning round: [ 10/ 65 (15%)]\n",
      "\n",
      "Test set: Average loss: 0.1376, Accuracy:   9640/ 10000 (96%)\n",
      "\n",
      "\n",
      "Test set: Average loss: 0.1449, Accuracy:   9613/ 10000 (96%)\n",
      "\n",
      "\n",
      "Test set: Average loss: 0.1464, Accuracy:   9606/ 10000 (96%)\n",
      "\n",
      "\n",
      "Test set: Average loss: 0.1533, Accuracy:   9590/ 10000 (96%)\n",
      "\n",
      "\n",
      "Test set: Average loss: 0.1541, Accuracy:   9586/ 10000 (96%)\n",
      "\n",
      "\n",
      "Test set: Average loss: 0.1628, Accuracy:   9570/ 10000 (96%)\n",
      "\n",
      "\n",
      "Test set: Average loss: 0.1881, Accuracy:   9529/ 10000 (95%)\n",
      "\n",
      "\n",
      "Test set: Average loss: 0.1948, Accuracy:   9512/ 10000 (95%)\n",
      "\n",
      "\n",
      "Test set: Average loss: 0.2132, Accuracy:   9451/ 10000 (95%)\n",
      "\n",
      "\n",
      "Test set: Average loss: 0.2261, Accuracy:   9422/ 10000 (94%)\n",
      "\n",
      "Pruning round: [ 20/ 65 (31%)]\n",
      "\n",
      "Test set: Average loss: 0.2323, Accuracy:   9407/ 10000 (94%)\n",
      "\n",
      "\n",
      "Test set: Average loss: 0.2548, Accuracy:   9332/ 10000 (93%)\n",
      "\n",
      "\n",
      "Test set: Average loss: 0.2553, Accuracy:   9323/ 10000 (93%)\n",
      "\n",
      "\n",
      "Test set: Average loss: 0.2485, Accuracy:   9354/ 10000 (94%)\n",
      "\n",
      "\n",
      "Test set: Average loss: 0.2705, Accuracy:   9285/ 10000 (93%)\n",
      "\n",
      "\n",
      "Test set: Average loss: 0.2492, Accuracy:   9348/ 10000 (93%)\n",
      "\n",
      "\n",
      "Test set: Average loss: 0.2475, Accuracy:   9338/ 10000 (93%)\n",
      "\n",
      "\n",
      "Test set: Average loss: 0.2640, Accuracy:   9295/ 10000 (93%)\n",
      "\n",
      "\n",
      "Test set: Average loss: 0.2983, Accuracy:   9215/ 10000 (92%)\n",
      "\n",
      "\n",
      "Test set: Average loss: 0.3881, Accuracy:   9030/ 10000 (90%)\n",
      "\n",
      "Pruning round: [ 30/ 65 (46%)]\n",
      "\n",
      "Test set: Average loss: 0.3707, Accuracy:   9064/ 10000 (91%)\n",
      "\n",
      "\n",
      "Test set: Average loss: 0.4181, Accuracy:   8951/ 10000 (90%)\n",
      "\n",
      "\n",
      "Test set: Average loss: 0.4738, Accuracy:   8807/ 10000 (88%)\n",
      "\n",
      "\n",
      "Test set: Average loss: 0.4876, Accuracy:   8787/ 10000 (88%)\n",
      "\n",
      "\n",
      "Test set: Average loss: 0.5857, Accuracy:   8564/ 10000 (86%)\n",
      "\n",
      "\n",
      "Test set: Average loss: 0.6671, Accuracy:   8389/ 10000 (84%)\n",
      "\n",
      "\n",
      "Test set: Average loss: 0.6665, Accuracy:   8383/ 10000 (84%)\n",
      "\n",
      "\n",
      "Test set: Average loss: 0.6529, Accuracy:   8404/ 10000 (84%)\n",
      "\n",
      "\n",
      "Test set: Average loss: 0.5145, Accuracy:   8659/ 10000 (87%)\n",
      "\n",
      "\n",
      "Test set: Average loss: 0.5196, Accuracy:   8647/ 10000 (86%)\n",
      "\n",
      "Pruning round: [ 40/ 65 (62%)]\n",
      "\n",
      "Test set: Average loss: 0.5246, Accuracy:   8620/ 10000 (86%)\n",
      "\n",
      "\n",
      "Test set: Average loss: 0.5431, Accuracy:   8568/ 10000 (86%)\n",
      "\n",
      "\n",
      "Test set: Average loss: 0.5914, Accuracy:   8461/ 10000 (85%)\n",
      "\n",
      "\n",
      "Test set: Average loss: 0.5815, Accuracy:   8466/ 10000 (85%)\n",
      "\n",
      "\n",
      "Test set: Average loss: 0.6099, Accuracy:   8387/ 10000 (84%)\n",
      "\n",
      "\n",
      "Test set: Average loss: 0.6492, Accuracy:   8312/ 10000 (83%)\n",
      "\n",
      "\n",
      "Test set: Average loss: 0.6660, Accuracy:   8303/ 10000 (83%)\n",
      "\n",
      "\n",
      "Test set: Average loss: 0.6950, Accuracy:   8228/ 10000 (82%)\n",
      "\n",
      "\n",
      "Test set: Average loss: 0.7145, Accuracy:   8168/ 10000 (82%)\n",
      "\n",
      "\n",
      "Test set: Average loss: 0.7801, Accuracy:   8045/ 10000 (80%)\n",
      "\n",
      "Pruning round: [ 50/ 65 (77%)]\n",
      "\n",
      "Test set: Average loss: 0.8013, Accuracy:   8005/ 10000 (80%)\n",
      "\n",
      "\n",
      "Test set: Average loss: 0.8586, Accuracy:   7827/ 10000 (78%)\n",
      "\n",
      "\n",
      "Test set: Average loss: 0.9628, Accuracy:   7681/ 10000 (77%)\n",
      "\n",
      "\n",
      "Test set: Average loss: 0.9952, Accuracy:   7590/ 10000 (76%)\n",
      "\n",
      "\n",
      "Test set: Average loss: 0.9295, Accuracy:   7705/ 10000 (77%)\n",
      "\n",
      "\n",
      "Test set: Average loss: 0.9194, Accuracy:   7721/ 10000 (77%)\n",
      "\n",
      "\n",
      "Test set: Average loss: 1.0158, Accuracy:   7570/ 10000 (76%)\n",
      "\n",
      "\n",
      "Test set: Average loss: 1.0263, Accuracy:   7541/ 10000 (75%)\n",
      "\n",
      "\n",
      "Test set: Average loss: 1.0391, Accuracy:   7528/ 10000 (75%)\n",
      "\n",
      "\n",
      "Test set: Average loss: 1.1919, Accuracy:   7246/ 10000 (72%)\n",
      "\n",
      "Pruning round: [ 60/ 65 (92%)]\n",
      "\n",
      "Test set: Average loss: 1.2918, Accuracy:   7065/ 10000 (71%)\n",
      "\n",
      "\n",
      "Test set: Average loss: 1.3060, Accuracy:   7028/ 10000 (70%)\n",
      "\n",
      "\n",
      "Test set: Average loss: 1.2133, Accuracy:   7125/ 10000 (71%)\n",
      "\n",
      "\n",
      "Test set: Average loss: 1.0944, Accuracy:   7379/ 10000 (74%)\n",
      "\n",
      "\n",
      "Test set: Average loss: 1.1320, Accuracy:   7282/ 10000 (73%)\n",
      "\n"
     ]
    }
   ],
   "source": [
    "test_accuracies, frame_potentials = e.prune_and_test(criterion, layers, pruning_iters, prune_on_fp=True, increase_fp=False)"
   ]
  },
  {
   "cell_type": "code",
   "execution_count": 28,
   "metadata": {},
   "outputs": [
    {
     "data": {
      "image/png": "[encoded data removed]",
      "text/plain": [
       "<Figure size 432x288 with 1 Axes>"
      ]
     },
     "metadata": {
      "needs_background": "light"
     },
     "output_type": "display_data"
    }
   ],
   "source": [
    "plt.plot(test_accuracies)\n",
    "plt.title('Accuracy after pruning to reduce FP')\n",
    "plt.xlabel('Pruned neurons')\n",
    "plt.ylabel('Accuracy (%)')\n",
    "plt.show()"
   ]
  },
  {
   "cell_type": "code",
   "execution_count": 29,
   "metadata": {},
   "outputs": [
    {
     "data": {
      "image/png": "[encoded data removed]",
      "text/plain": [
       "<Figure size 432x288 with 1 Axes>"
      ]
     },
     "metadata": {
      "needs_background": "light"
     },
     "output_type": "display_data"
    }
   ],
   "source": [
    "plt.plot(frame_potentials['fc1'])\n",
    "plt.title('Frame potential after pruning to reduce FP')\n",
    "plt.xlabel('Pruned neurons')\n",
    "plt.ylabel('Frame potential')\n",
    "plt.show()"
   ]
  },
  {
   "cell_type": "code",
   "execution_count": null,
   "metadata": {},
   "outputs": [],
   "source": [
    "plt.plot(max_fp_accuracies, label='Max-FP pruning')\n",
    "plt.plot(random_accuracies, label='Random pruning')\n",
    "plt.plot(min_fp_accuracies, label= 'Min-FP pruning')\n",
    "plt.title('Accuracy after pruning layers 1 and 2')\n",
    "plt.xlabel('Pruned neurons per layer')\n",
    "plt.ylabel('Accuracy (%)')\n",
    "plt.legend(loc='best')\n",
    "#plt.show()\n",
    "plt.savefig(fig_path)"
   ]
  },
  {
   "cell_type": "markdown",
   "metadata": {},
   "source": [
    "### Show images, compare class results"
   ]
  },
  {
   "cell_type": "code",
   "execution_count": null,
   "metadata": {
    "colab": {
     "base_uri": "https://localhost:8080/",
     "height": 174
    },
    "colab_type": "code",
    "id": "I8bBvx6fNb_B",
    "outputId": "e3f16b2e-6184-4ad0-9a02-2a283fd3725d"
   },
   "outputs": [],
   "source": [
    "def imshow(img):\n",
    "    #img = img / 2 + 0.5     # unnormalize\n",
    "    npimg = img.numpy()\n",
    "    plt.imshow(np.transpose(npimg, (1, 2, 0)))\n",
    "\n",
    "\n",
    "# get some random training images\n",
    "dataiter = iter(trainloader)\n",
    "images, labels = dataiter.next()\n",
    "\n",
    "# show images\n",
    "imshow(torchvision.utils.make_grid(images))\n",
    "# print labels\n",
    "print(' '.join('%9s' % classes[labels[j]] for j in range(4)))"
   ]
  },
  {
   "cell_type": "code",
   "execution_count": 7,
   "metadata": {
    "colab": {
     "base_uri": "https://localhost:8080/",
     "height": 52
    },
    "colab_type": "code",
    "id": "Dm4vzV_aSupO",
    "outputId": "40b52e4a-9ab1-4fed-dbe2-f6ed6b18b025"
   },
   "outputs": [
    {
     "name": "stdout",
     "output_type": "stream",
     "text": [
      "torch.Size([4, 1, 28, 28])\n",
      "torch.Size([4])\n"
     ]
    }
   ],
   "source": [
    "print(images.shape)\n",
    "print(labels.shape)"
   ]
  },
  {
   "cell_type": "code",
   "execution_count": null,
   "metadata": {
    "colab": {
     "base_uri": "https://localhost:8080/",
     "height": 191
    },
    "colab_type": "code",
    "id": "kHyTjOciUcrG",
    "outputId": "41748a2b-5940-4b79-e80c-01cdb4eb8aec"
   },
   "outputs": [],
   "source": [
    "dataiter = iter(testloader)\n",
    "images, labels = dataiter.next()\n",
    "\n",
    "# print images\n",
    "imshow(torchvision.utils.make_grid(images))\n",
    "print('GroundTruth: \\n', ' '.join('%9s' % classes[labels[j]] for j in range(4)))"
   ]
  },
  {
   "cell_type": "code",
   "execution_count": 0,
   "metadata": {
    "colab": {
     "base_uri": "https://localhost:8080/",
     "height": 52
    },
    "colab_type": "code",
    "id": "fgFtKpSMVFfY",
    "outputId": "8877399e-af19-4e44-c319-f5fb1eabbe1c"
   },
   "outputs": [
    {
     "name": "stdout",
     "output_type": "stream",
     "text": [
      "Predicted: \n",
      "         7         2         1         0\n"
     ]
    }
   ],
   "source": [
    "outputs = net(images.to(device))\n",
    "_, predicted = torch.max(outputs, 1)\n",
    "\n",
    "print('Predicted: \\n', ' '.join('%9s' % classes[predicted[j]]\n",
    "                              for j in range(4)))"
   ]
  },
  {
   "cell_type": "code",
   "execution_count": 0,
   "metadata": {
    "colab": {
     "base_uri": "https://localhost:8080/",
     "height": 34
    },
    "colab_type": "code",
    "id": "JCHBLuoZVZQY",
    "outputId": "5d9c4340-c0af-4a16-d8c0-b5ea1a696603"
   },
   "outputs": [
    {
     "name": "stdout",
     "output_type": "stream",
     "text": [
      "Accuracy of the network on the 10000 test images: 97 %\n"
     ]
    }
   ],
   "source": [
    "correct = 0\n",
    "total = 0\n",
    "with torch.no_grad():\n",
    "    for data in testloader:\n",
    "        images, labels = data[0].to(device), data[1].to(device)\n",
    "        outputs = net(images)\n",
    "        _, predicted = torch.max(outputs.data, 1)\n",
    "        total += labels.size(0)\n",
    "        correct += (predicted == labels).sum().item()\n",
    "\n",
    "print('Accuracy of the network on the 10000 test images: %d %%' % (\n",
    "    100 * correct / total))"
   ]
  },
  {
   "cell_type": "code",
   "execution_count": 0,
   "metadata": {
    "colab": {
     "base_uri": "https://localhost:8080/",
     "height": 191
    },
    "colab_type": "code",
    "id": "NEKHhTfFVzY9",
    "outputId": "60b77c43-f2e2-4088-d648-fcb517803739"
   },
   "outputs": [
    {
     "name": "stdout",
     "output_type": "stream",
     "text": [
      "Accuracy of 0 : 98 %\n",
      "Accuracy of 1 : 97 %\n",
      "Accuracy of 2 : 89 %\n",
      "Accuracy of 3 : 96 %\n",
      "Accuracy of 4 : 100 %\n",
      "Accuracy of 5 : 92 %\n",
      "Accuracy of 6 : 94 %\n",
      "Accuracy of 7 : 96 %\n",
      "Accuracy of 8 : 98 %\n",
      "Accuracy of 9 : 97 %\n"
     ]
    }
   ],
   "source": [
    "class_correct = list(0. for i in range(10))\n",
    "class_total = list(0. for i in range(10))\n",
    "with torch.no_grad():\n",
    "    for data in testloader:\n",
    "        images, labels = data[0].to(device), data[1].to(device)\n",
    "        outputs = net(images)\n",
    "        _, predicted = torch.max(outputs, 1)\n",
    "        c = (predicted == labels).squeeze()\n",
    "        for i in range(4):\n",
    "            label = labels[i]\n",
    "            class_correct[label] += c[i].item()\n",
    "            class_total[label] += 1\n",
    "\n",
    "\n",
    "for i in range(10):\n",
    "    print('Accuracy of %s : %2d %%' % (\n",
    "        classes[i], 100 * class_correct[i] / class_total[i]))"
   ]
  },
  {
   "cell_type": "markdown",
   "metadata": {
    "colab_type": "text",
    "id": "5xj4WASNfp0M"
   },
   "source": [
    "## CIFAR10 / Conv-2"
   ]
  },
  {
   "cell_type": "code",
   "execution_count": 5,
   "metadata": {},
   "outputs": [],
   "source": [
    "train_batch_size = 64\n",
    "test_batch_size = 1000"
   ]
  },
  {
   "cell_type": "code",
   "execution_count": 6,
   "metadata": {
    "colab": {
     "base_uri": "https://localhost:8080/",
     "height": 52
    },
    "colab_type": "code",
    "id": "1Xykgg6ngQ-C",
    "outputId": "dc4364ba-a023-45d0-dbdd-fae5bd5e50c6"
   },
   "outputs": [
    {
     "name": "stdout",
     "output_type": "stream",
     "text": [
      "Files already downloaded and verified\n",
      "Files already downloaded and verified\n"
     ]
    }
   ],
   "source": [
    "transform = transforms.Compose(\n",
    "    [transforms.ToTensor(),\n",
    "     transforms.Normalize((0.4914, 0.4822, 0.4465), (0.2023, 0.1994, 0.2010))])\n",
    "\n",
    "trainset = torchvision.datasets.CIFAR10(root='./data', train=True,\n",
    "                                        download=True, transform=transform)\n",
    "testset = torchvision.datasets.CIFAR10(root='./data', train=False,\n",
    "                                       download=True, transform=transform)\n",
    "\n",
    "kwargs = {'num_workers': 1, 'pin_memory': True} if torch.cuda.is_available() else {}  # necessary?\n",
    "\n",
    "trainloader = torch.utils.data.DataLoader(trainset, batch_size=train_batch_size,\n",
    "                                          shuffle=True, **kwargs)\n",
    "\n",
    "testloader = torch.utils.data.DataLoader(testset, batch_size=test_batch_size,\n",
    "                                         shuffle=True, **kwargs)\n",
    "\n",
    "classes = ('plane', 'car', 'bird', 'cat',\n",
    "           'deer', 'dog', 'frog', 'horse', 'ship', 'truck')"
   ]
  },
  {
   "cell_type": "code",
   "execution_count": 7,
   "metadata": {
    "colab": {},
    "colab_type": "code",
    "id": "Rk3ahST69iVp"
   },
   "outputs": [],
   "source": [
    "#criterion = nn.CrossEntropyLoss()\n",
    "#optimizer = optim.SGD(net.parameters(), lr=0.001, momentum=0.9)"
   ]
  },
  {
   "cell_type": "code",
   "execution_count": 8,
   "metadata": {},
   "outputs": [],
   "source": [
    "epochs = 2\n",
    "lr = 0.0002\n",
    "#momentum = 0.9"
   ]
  },
  {
   "cell_type": "code",
   "execution_count": 9,
   "metadata": {},
   "outputs": [],
   "source": [
    "model = Conv2()\n",
    "e = Experiment(trainloader, testloader, model)\n",
    "\n",
    "criterion = nn.CrossEntropyLoss()\n",
    "optimizer = optim.Adam(model.parameters(), lr=lr)\n",
    "monitored = ['conv1', 'conv2']"
   ]
  },
  {
   "cell_type": "code",
   "execution_count": 10,
   "metadata": {},
   "outputs": [
    {
     "name": "stdout",
     "output_type": "stream",
     "text": [
      "\n",
      "Test set: Average loss: 2.3042, Accuracy:    990/ 10000 (10%)\n",
      "\n",
      "Train Epoch:   1 [     0/ 50000 (0%)]\tLoss: 2.309030\n",
      "Train Epoch:   1 [  6400/ 50000 (13%)]\tLoss: 1.742888\n",
      "Train Epoch:   1 [ 12800/ 50000 (26%)]\tLoss: 1.389441\n",
      "Train Epoch:   1 [ 19200/ 50000 (38%)]\tLoss: 1.221832\n",
      "Train Epoch:   1 [ 25600/ 50000 (51%)]\tLoss: 1.265922\n",
      "Train Epoch:   1 [ 32000/ 50000 (64%)]\tLoss: 1.124998\n",
      "Train Epoch:   1 [ 38400/ 50000 (77%)]\tLoss: 1.327337\n",
      "Train Epoch:   1 [ 44800/ 50000 (90%)]\tLoss: 1.221110\n",
      "\n",
      "Test set: Average loss: 1.1754, Accuracy:   5812/ 10000 (58%)\n",
      "\n",
      "Train Epoch:   2 [     0/ 50000 (0%)]\tLoss: 1.117527\n",
      "Train Epoch:   2 [  6400/ 50000 (13%)]\tLoss: 0.990872\n",
      "Train Epoch:   2 [ 12800/ 50000 (26%)]\tLoss: 1.152403\n",
      "Train Epoch:   2 [ 19200/ 50000 (38%)]\tLoss: 0.908521\n",
      "Train Epoch:   2 [ 25600/ 50000 (51%)]\tLoss: 1.022519\n",
      "Train Epoch:   2 [ 32000/ 50000 (64%)]\tLoss: 0.883264\n",
      "Train Epoch:   2 [ 38400/ 50000 (77%)]\tLoss: 0.807983\n",
      "Train Epoch:   2 [ 44800/ 50000 (90%)]\tLoss: 0.735661\n",
      "\n",
      "Test set: Average loss: 1.0392, Accuracy:   6364/ 10000 (64%)\n",
      "\n"
     ]
    }
   ],
   "source": [
    "test_accuracies, frame_potentials = e.fit(epochs, criterion, optimizer, monitored=monitored, save_results=False)"
   ]
  },
  {
   "cell_type": "code",
   "execution_count": 11,
   "metadata": {
    "colab": {
     "base_uri": "https://localhost:8080/",
     "height": 367
    },
    "colab_type": "code",
    "id": "d9q8vZ8Pj4ig",
    "outputId": "614b1809-776c-4a59-8adf-7d098b1dcd90"
   },
   "outputs": [
    {
     "data": {
      "text/plain": [
       "[Text(0, 0.5, 'FP'), Text(0.5, 0, 'epoch')]"
      ]
     },
     "execution_count": 11,
     "metadata": {},
     "output_type": "execute_result"
    },
    {
     "data": {
      "image/png": "[encoded data removed]",
      "text/plain": [
       "<Figure size 864x360 with 2 Axes>"
      ]
     },
     "metadata": {
      "needs_background": "light"
     },
     "output_type": "display_data"
    }
   ],
   "source": [
    "fig, ((ax1, ax2)) = plt.subplots(1, 2, sharex=True, figsize=(12,5))\n",
    "ax1.plot(frame_potentials['conv1'])\n",
    "ax1.set_title('Frame potential of first convolutional layer')\n",
    "ax1.set(xlabel='epoch', ylabel='FP')\n",
    "ax2.plot(frame_potentials['conv2'])\n",
    "ax2.set_title('Frame potential of second convolutional layer')\n",
    "ax2.set(xlabel='epoch', ylabel='FP')"
   ]
  },
  {
   "cell_type": "code",
   "execution_count": 6,
   "metadata": {
    "colab": {
     "base_uri": "https://localhost:8080/",
     "height": 156
    },
    "colab_type": "code",
    "id": "M52AskNuga6J",
    "outputId": "d90b8157-0f01-4411-c949-275fa56c7acd"
   },
   "outputs": [
    {
     "data": {
      "image/png": "[encoded data removed]",
      "text/plain": [
       "<Figure size 432x288 with 1 Axes>"
      ]
     },
     "metadata": {
      "needs_background": "light"
     },
     "output_type": "display_data"
    },
    {
     "name": "stdout",
     "output_type": "stream",
     "text": [
      " ship  bird  ship horse\n"
     ]
    }
   ],
   "source": [
    "def imshow(img):\n",
    "    img = img / 2 + 0.5     # unnormalize\n",
    "    npimg = img.numpy()\n",
    "    plt.imshow(np.transpose(npimg, (1, 2, 0)))\n",
    "    plt.show()\n",
    "\n",
    "\n",
    "# get some random training images\n",
    "dataiter = iter(trainloader)\n",
    "images, labels = dataiter.next()\n",
    "\n",
    "# show images\n",
    "imshow(torchvision.utils.make_grid(images))\n",
    "# print labels\n",
    "print(' '.join('%5s' % classes[labels[j]] for j in range(4)))"
   ]
  },
  {
   "cell_type": "code",
   "execution_count": 0,
   "metadata": {
    "colab": {
     "base_uri": "https://localhost:8080/",
     "height": 34
    },
    "colab_type": "code",
    "id": "TGzk2yAZm1Y8",
    "outputId": "ea40b94f-8e45-4491-9abf-53e7afb6a02e"
   },
   "outputs": [
    {
     "name": "stdout",
     "output_type": "stream",
     "text": [
      "Accuracy of the network on the 10000 test images: 69 %\n"
     ]
    }
   ],
   "source": [
    "correct = 0\n",
    "total = 0\n",
    "with torch.no_grad():\n",
    "    for data in testloader:\n",
    "        images, labels = data[0].to(device), data[1].to(device)\n",
    "        outputs = net(images)\n",
    "        _, predicted = torch.max(outputs.data, 1)\n",
    "        total += labels.size(0)\n",
    "        correct += (predicted == labels).sum().item()\n",
    "\n",
    "print('Accuracy of the network on the 10000 test images: %d %%' % (\n",
    "    100 * correct / total))\n"
   ]
  },
  {
   "cell_type": "code",
   "execution_count": 0,
   "metadata": {
    "colab": {
     "base_uri": "https://localhost:8080/",
     "height": 191
    },
    "colab_type": "code",
    "id": "ptmBv61vwxt2",
    "outputId": "b39d8d08-a5e3-40a5-e039-4984afdd154a"
   },
   "outputs": [
    {
     "name": "stdout",
     "output_type": "stream",
     "text": [
      "Accuracy of plane : 52 %\n",
      "Accuracy of   car : 65 %\n",
      "Accuracy of  bird : 51 %\n",
      "Accuracy of   cat : 46 %\n",
      "Accuracy of  deer : 53 %\n",
      "Accuracy of   dog : 20 %\n",
      "Accuracy of  frog : 49 %\n",
      "Accuracy of horse : 59 %\n",
      "Accuracy of  ship : 79 %\n",
      "Accuracy of truck : 57 %\n"
     ]
    }
   ],
   "source": [
    "class_correct = list(0. for i in range(10))\n",
    "class_total = list(0. for i in range(10))\n",
    "with torch.no_grad():\n",
    "    for data in testloader:\n",
    "        images, labels = data[0].to(device), data[1].to(device)\n",
    "        outputs = net(images)\n",
    "        _, predicted = torch.max(outputs, 1)\n",
    "        c = (predicted == labels).squeeze()\n",
    "        for i in range(4):\n",
    "            label = labels[i]\n",
    "            class_correct[label] += c[i].item()\n",
    "            class_total[label] += 1\n",
    "\n",
    "\n",
    "for i in range(10):\n",
    "    print('Accuracy of %5s : %2d %%' % (\n",
    "        classes[i], 100 * class_correct[i] / class_total[i]))"
   ]
  },
  {
   "cell_type": "code",
   "execution_count": 0,
   "metadata": {
    "colab": {},
    "colab_type": "code",
    "id": "0K7p1kRYw5LN"
   },
   "outputs": [],
   "source": []
  }
 ],
 "metadata": {
  "accelerator": "GPU",
  "colab": {
   "collapsed_sections": [],
   "name": "frame-potential.ipynb",
   "provenance": []
  },
  "kernelspec": {
   "display_name": "Python 3",
   "language": "python",
   "name": "python3"
  },
  "language_info": {
   "codemirror_mode": {
    "name": "ipython",
    "version": 3
   },
   "file_extension": ".py",
   "mimetype": "text/x-python",
   "name": "python",
   "nbconvert_exporter": "python",
   "pygments_lexer": "ipython3",
   "version": "3.7.4"
  }
 },
 "nbformat": 4,
 "nbformat_minor": 1
}
